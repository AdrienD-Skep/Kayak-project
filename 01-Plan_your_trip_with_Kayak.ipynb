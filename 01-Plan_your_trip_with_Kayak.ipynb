{
 "cells": [
  {
   "cell_type": "code",
   "execution_count": 542,
   "metadata": {},
   "outputs": [],
   "source": [
    "import requests\n",
    "import json\n",
    "import pandas as pd\n",
    "import time\n",
    "import plotly.express as px\n",
    "import os\n",
    "import re\n",
    "import boto3\n",
    "from sqlalchemy import create_engine\n",
    "from sqlalchemy import Table, Column, Integer, String, Float, ForeignKey, JSON, MetaData, UniqueConstraint"
   ]
  },
  {
   "cell_type": "code",
   "execution_count": 310,
   "metadata": {},
   "outputs": [],
   "source": [
    "# Initialize an empty dictionary to store sensitive data\n",
    "sensitive_data = {}\n",
    "\n",
    "# Read the config file and populate the dictionary\n",
    "with open('config.txt', 'r') as file:\n",
    "    for line in file:\n",
    "        key, value = line.strip().split('=', 1)  # Split only on the first '='\n",
    "        sensitive_data[key.strip()] = value.strip()\n",
    "\n",
    "# Access your sensitive data\n",
    "\n",
    "WeatherApiKey = sensitive_data.get('WeatherApiKey')\n",
    "aws_access_key_id = sensitive_data.get('aws_access_key_id')\n",
    "aws_secret_access_key = sensitive_data.get('aws_secret_access_key')\n",
    "db_url = sensitive_data.get('db_url')"
   ]
  },
  {
   "cell_type": "code",
   "execution_count": null,
   "metadata": {},
   "outputs": [],
   "source": [
    "cities = [\"Mont Saint Michel\",\n",
    "\"St Malo\",\n",
    "\"Bayeux\",\n",
    "\"Le Havre\",\n",
    "\"Rouen\",\n",
    "\"Paris\",\n",
    "\"Amiens\",\n",
    "\"Lille\",\n",
    "\"Strasbourg\",\n",
    "\"Chateau du Haut Koenigsbourg\",\n",
    "\"Colmar\",\n",
    "\"Eguisheim\",\n",
    "\"Besancon\",\n",
    "\"Dijon\",\n",
    "\"Annecy\",\n",
    "\"Grenoble\",\n",
    "\"Lyon\",\n",
    "\"Gorges du Verdon\",\n",
    "\"Bormes les Mimosas\",\n",
    "\"Cassis\",\n",
    "\"Marseille\",\n",
    "\"Aix en Provence\",\n",
    "\"Avignon\",\n",
    "\"Uzes\",\n",
    "\"Nimes\",\n",
    "\"Aigues Mortes\",\n",
    "\"Saintes Maries de la mer\",\n",
    "\"Collioure\",\n",
    "\"Carcassonne\",\n",
    "\"Ariege\",\n",
    "\"Toulouse\",\n",
    "\"Montauban\",\n",
    "\"Biarritz\",\n",
    "\"Bayonne\",\n",
    "\"La Rochelle\"]\n",
    "\n",
    "headers = {\n",
    "    'User-Agent': 'MyApp (derop56705@adambra.com)'\n",
    "}\n",
    "df = pd.DataFrame(columns=['City', 'Coordinate'])\n",
    "\n",
    "for city in cities:\n",
    "    start_time = time.time()  # Record start time\n",
    "    r = requests.get(f'https://nominatim.openstreetmap.org/search?city={city}&country=France&format=json', headers=headers)\n",
    "    response = json.loads(r.text)\n",
    "    if response:  # Check if the response is not empty\n",
    "        coordinates = response[0]['lon'], response[0]['lat']\n",
    "        df.loc[len(df)] = {'City': city, 'Coordinate': coordinates}\n",
    "    else:\n",
    "        print(f\"No coordinates found for {city}\")\n",
    "\n",
    "    elapsed_time = time.time() - start_time  # Calculate elapsed time\n",
    "    if elapsed_time < 1.5:\n",
    "        time.sleep(1.5 - elapsed_time)  # Sleep for the remaining time / nominatim policy : No heavy uses (an absolute maximum of 1 request per second).\n"
   ]
  },
  {
   "cell_type": "code",
   "execution_count": 67,
   "metadata": {},
   "outputs": [],
   "source": [
    "df.to_json('cities_coordinates.json', orient='records', indent=4)"
   ]
  },
  {
   "cell_type": "code",
   "execution_count": 27,
   "metadata": {},
   "outputs": [],
   "source": [
    "\n",
    "# Separate coordinates into latitude and longitude columns\n",
    "df['lon'] = df['Coordinate'].apply(lambda x: float(x[0]))\n",
    "df['lat'] = df['Coordinate'].apply(lambda x: float(x[1]))\n",
    "\n"
   ]
  },
  {
   "cell_type": "code",
   "execution_count": 32,
   "metadata": {},
   "outputs": [
    {
     "data": {
      "text/html": [
       "<div>\n",
       "<style scoped>\n",
       "    .dataframe tbody tr th:only-of-type {\n",
       "        vertical-align: middle;\n",
       "    }\n",
       "\n",
       "    .dataframe tbody tr th {\n",
       "        vertical-align: top;\n",
       "    }\n",
       "\n",
       "    .dataframe thead th {\n",
       "        text-align: right;\n",
       "    }\n",
       "</style>\n",
       "<table border=\"1\" class=\"dataframe\">\n",
       "  <thead>\n",
       "    <tr style=\"text-align: right;\">\n",
       "      <th></th>\n",
       "      <th>City</th>\n",
       "      <th>Coordinate</th>\n",
       "      <th>lon</th>\n",
       "      <th>lat</th>\n",
       "    </tr>\n",
       "  </thead>\n",
       "  <tbody>\n",
       "    <tr>\n",
       "      <th>0</th>\n",
       "      <td>Mont Saint Michel</td>\n",
       "      <td>(-1.511459954959514, 48.6359541)</td>\n",
       "      <td>-1.511460</td>\n",
       "      <td>48.635954</td>\n",
       "    </tr>\n",
       "    <tr>\n",
       "      <th>1</th>\n",
       "      <td>St Malo</td>\n",
       "      <td>(-2.0260409, 48.649518)</td>\n",
       "      <td>-2.026041</td>\n",
       "      <td>48.649518</td>\n",
       "    </tr>\n",
       "    <tr>\n",
       "      <th>2</th>\n",
       "      <td>Bayeux</td>\n",
       "      <td>(-0.7024738, 49.2764624)</td>\n",
       "      <td>-0.702474</td>\n",
       "      <td>49.276462</td>\n",
       "    </tr>\n",
       "    <tr>\n",
       "      <th>3</th>\n",
       "      <td>Le Havre</td>\n",
       "      <td>(0.1079732, 49.4938975)</td>\n",
       "      <td>0.107973</td>\n",
       "      <td>49.493898</td>\n",
       "    </tr>\n",
       "    <tr>\n",
       "      <th>4</th>\n",
       "      <td>Rouen</td>\n",
       "      <td>(1.0939658, 49.4404591)</td>\n",
       "      <td>1.093966</td>\n",
       "      <td>49.440459</td>\n",
       "    </tr>\n",
       "  </tbody>\n",
       "</table>\n",
       "</div>"
      ],
      "text/plain": [
       "                City                        Coordinate       lon        lat\n",
       "0  Mont Saint Michel  (-1.511459954959514, 48.6359541) -1.511460  48.635954\n",
       "1            St Malo           (-2.0260409, 48.649518) -2.026041  48.649518\n",
       "2             Bayeux          (-0.7024738, 49.2764624) -0.702474  49.276462\n",
       "3           Le Havre           (0.1079732, 49.4938975)  0.107973  49.493898\n",
       "4              Rouen           (1.0939658, 49.4404591)  1.093966  49.440459"
      ]
     },
     "execution_count": 32,
     "metadata": {},
     "output_type": "execute_result"
    }
   ],
   "source": [
    "df.head()"
   ]
  },
  {
   "cell_type": "code",
   "execution_count": 46,
   "metadata": {},
   "outputs": [
    {
     "data": {
      "application/vnd.plotly.v1+json": {
       "config": {
        "plotlyServerURL": "https://plot.ly"
       },
       "data": [
        {
         "hovertemplate": "<b>%{hovertext}</b><br><br>lat=%{lat}<br>lon=%{lon}<extra></extra>",
         "hovertext": [
          "Mont Saint Michel",
          "St Malo",
          "Bayeux",
          "Le Havre",
          "Rouen",
          "Paris",
          "Amiens",
          "Lille",
          "Strasbourg",
          "Chateau du Haut Koenigsbourg",
          "Colmar",
          "Eguisheim",
          "Besancon",
          "Dijon",
          "Annecy",
          "Grenoble",
          "Lyon",
          "Gorges du Verdon",
          "Bormes les Mimosas",
          "Cassis",
          "Marseille",
          "Aix en Provence",
          "Avignon",
          "Uzes",
          "Nimes",
          "Aigues Mortes",
          "Saintes Maries de la mer",
          "Collioure",
          "Carcassonne",
          "Ariege",
          "Toulouse",
          "Montauban",
          "Biarritz",
          "Bayonne",
          "La Rochelle"
         ],
         "lat": [
          48.6359541,
          48.649518,
          49.2764624,
          49.4938975,
          49.4404591,
          48.8534951,
          49.8941708,
          50.6365654,
          48.584614,
          48.2495226,
          48.0777517,
          48.0447968,
          47.2380222,
          47.3215806,
          45.8992348,
          45.1875602,
          45.7578137,
          43.7496562,
          43.1506968,
          43.2140359,
          43.2961743,
          43.5298424,
          43.9492493,
          44.0121279,
          43.8374249,
          43.5661521,
          43.4515922,
          42.52505,
          43.2130358,
          42.8458016,
          43.6044622,
          44.0175835,
          43.4832523,
          43.4945144,
          46.1591126
         ],
         "legendgroup": "",
         "lon": [
          -1.511459955,
          -2.0260409,
          -0.7024737999999999,
          0.10797319999999999,
          1.0939658,
          2.3483915,
          2.2956951,
          3.0635282,
          7.7507127,
          7.3454923,
          7.3579641,
          7.3079618,
          6.0243622,
          5.0414701,
          6.1288847,
          5.7357819,
          4.8320114,
          6.3285616000000005,
          6.3419285,
          5.5396318,
          5.3699525,
          5.4474738,
          4.8059012,
          4.4196718,
          4.3600687,
          4.19154,
          4.4277201999999996,
          3.0831554,
          2.3491068999999998,
          1.6067586,
          1.4442469,
          1.3549991,
          -1.5592776,
          -1.4736657,
          -1.1520434
         ],
         "marker": {
          "color": "fuchsia"
         },
         "mode": "markers",
         "name": "",
         "showlegend": false,
         "subplot": "mapbox",
         "type": "scattermapbox"
        }
       ],
       "layout": {
        "height": 800,
        "legend": {
         "tracegroupgap": 0
        },
        "mapbox": {
         "center": {
          "lat": 45.8383195257143,
          "lon": 3.4022843041428574
         },
         "domain": {
          "x": [
           0,
           1
          ],
          "y": [
           0,
           1
          ]
         },
         "style": "open-street-map",
         "zoom": 5
        },
        "margin": {
         "b": 0,
         "l": 0,
         "r": 0,
         "t": 0
        },
        "template": {
         "data": {
          "bar": [
           {
            "error_x": {
             "color": "#2a3f5f"
            },
            "error_y": {
             "color": "#2a3f5f"
            },
            "marker": {
             "line": {
              "color": "#E5ECF6",
              "width": 0.5
             },
             "pattern": {
              "fillmode": "overlay",
              "size": 10,
              "solidity": 0.2
             }
            },
            "type": "bar"
           }
          ],
          "barpolar": [
           {
            "marker": {
             "line": {
              "color": "#E5ECF6",
              "width": 0.5
             },
             "pattern": {
              "fillmode": "overlay",
              "size": 10,
              "solidity": 0.2
             }
            },
            "type": "barpolar"
           }
          ],
          "carpet": [
           {
            "aaxis": {
             "endlinecolor": "#2a3f5f",
             "gridcolor": "white",
             "linecolor": "white",
             "minorgridcolor": "white",
             "startlinecolor": "#2a3f5f"
            },
            "baxis": {
             "endlinecolor": "#2a3f5f",
             "gridcolor": "white",
             "linecolor": "white",
             "minorgridcolor": "white",
             "startlinecolor": "#2a3f5f"
            },
            "type": "carpet"
           }
          ],
          "choropleth": [
           {
            "colorbar": {
             "outlinewidth": 0,
             "ticks": ""
            },
            "type": "choropleth"
           }
          ],
          "contour": [
           {
            "colorbar": {
             "outlinewidth": 0,
             "ticks": ""
            },
            "colorscale": [
             [
              0,
              "#0d0887"
             ],
             [
              0.1111111111111111,
              "#46039f"
             ],
             [
              0.2222222222222222,
              "#7201a8"
             ],
             [
              0.3333333333333333,
              "#9c179e"
             ],
             [
              0.4444444444444444,
              "#bd3786"
             ],
             [
              0.5555555555555556,
              "#d8576b"
             ],
             [
              0.6666666666666666,
              "#ed7953"
             ],
             [
              0.7777777777777778,
              "#fb9f3a"
             ],
             [
              0.8888888888888888,
              "#fdca26"
             ],
             [
              1,
              "#f0f921"
             ]
            ],
            "type": "contour"
           }
          ],
          "contourcarpet": [
           {
            "colorbar": {
             "outlinewidth": 0,
             "ticks": ""
            },
            "type": "contourcarpet"
           }
          ],
          "heatmap": [
           {
            "colorbar": {
             "outlinewidth": 0,
             "ticks": ""
            },
            "colorscale": [
             [
              0,
              "#0d0887"
             ],
             [
              0.1111111111111111,
              "#46039f"
             ],
             [
              0.2222222222222222,
              "#7201a8"
             ],
             [
              0.3333333333333333,
              "#9c179e"
             ],
             [
              0.4444444444444444,
              "#bd3786"
             ],
             [
              0.5555555555555556,
              "#d8576b"
             ],
             [
              0.6666666666666666,
              "#ed7953"
             ],
             [
              0.7777777777777778,
              "#fb9f3a"
             ],
             [
              0.8888888888888888,
              "#fdca26"
             ],
             [
              1,
              "#f0f921"
             ]
            ],
            "type": "heatmap"
           }
          ],
          "heatmapgl": [
           {
            "colorbar": {
             "outlinewidth": 0,
             "ticks": ""
            },
            "colorscale": [
             [
              0,
              "#0d0887"
             ],
             [
              0.1111111111111111,
              "#46039f"
             ],
             [
              0.2222222222222222,
              "#7201a8"
             ],
             [
              0.3333333333333333,
              "#9c179e"
             ],
             [
              0.4444444444444444,
              "#bd3786"
             ],
             [
              0.5555555555555556,
              "#d8576b"
             ],
             [
              0.6666666666666666,
              "#ed7953"
             ],
             [
              0.7777777777777778,
              "#fb9f3a"
             ],
             [
              0.8888888888888888,
              "#fdca26"
             ],
             [
              1,
              "#f0f921"
             ]
            ],
            "type": "heatmapgl"
           }
          ],
          "histogram": [
           {
            "marker": {
             "pattern": {
              "fillmode": "overlay",
              "size": 10,
              "solidity": 0.2
             }
            },
            "type": "histogram"
           }
          ],
          "histogram2d": [
           {
            "colorbar": {
             "outlinewidth": 0,
             "ticks": ""
            },
            "colorscale": [
             [
              0,
              "#0d0887"
             ],
             [
              0.1111111111111111,
              "#46039f"
             ],
             [
              0.2222222222222222,
              "#7201a8"
             ],
             [
              0.3333333333333333,
              "#9c179e"
             ],
             [
              0.4444444444444444,
              "#bd3786"
             ],
             [
              0.5555555555555556,
              "#d8576b"
             ],
             [
              0.6666666666666666,
              "#ed7953"
             ],
             [
              0.7777777777777778,
              "#fb9f3a"
             ],
             [
              0.8888888888888888,
              "#fdca26"
             ],
             [
              1,
              "#f0f921"
             ]
            ],
            "type": "histogram2d"
           }
          ],
          "histogram2dcontour": [
           {
            "colorbar": {
             "outlinewidth": 0,
             "ticks": ""
            },
            "colorscale": [
             [
              0,
              "#0d0887"
             ],
             [
              0.1111111111111111,
              "#46039f"
             ],
             [
              0.2222222222222222,
              "#7201a8"
             ],
             [
              0.3333333333333333,
              "#9c179e"
             ],
             [
              0.4444444444444444,
              "#bd3786"
             ],
             [
              0.5555555555555556,
              "#d8576b"
             ],
             [
              0.6666666666666666,
              "#ed7953"
             ],
             [
              0.7777777777777778,
              "#fb9f3a"
             ],
             [
              0.8888888888888888,
              "#fdca26"
             ],
             [
              1,
              "#f0f921"
             ]
            ],
            "type": "histogram2dcontour"
           }
          ],
          "mesh3d": [
           {
            "colorbar": {
             "outlinewidth": 0,
             "ticks": ""
            },
            "type": "mesh3d"
           }
          ],
          "parcoords": [
           {
            "line": {
             "colorbar": {
              "outlinewidth": 0,
              "ticks": ""
             }
            },
            "type": "parcoords"
           }
          ],
          "pie": [
           {
            "automargin": true,
            "type": "pie"
           }
          ],
          "scatter": [
           {
            "fillpattern": {
             "fillmode": "overlay",
             "size": 10,
             "solidity": 0.2
            },
            "type": "scatter"
           }
          ],
          "scatter3d": [
           {
            "line": {
             "colorbar": {
              "outlinewidth": 0,
              "ticks": ""
             }
            },
            "marker": {
             "colorbar": {
              "outlinewidth": 0,
              "ticks": ""
             }
            },
            "type": "scatter3d"
           }
          ],
          "scattercarpet": [
           {
            "marker": {
             "colorbar": {
              "outlinewidth": 0,
              "ticks": ""
             }
            },
            "type": "scattercarpet"
           }
          ],
          "scattergeo": [
           {
            "marker": {
             "colorbar": {
              "outlinewidth": 0,
              "ticks": ""
             }
            },
            "type": "scattergeo"
           }
          ],
          "scattergl": [
           {
            "marker": {
             "colorbar": {
              "outlinewidth": 0,
              "ticks": ""
             }
            },
            "type": "scattergl"
           }
          ],
          "scattermapbox": [
           {
            "marker": {
             "colorbar": {
              "outlinewidth": 0,
              "ticks": ""
             }
            },
            "type": "scattermapbox"
           }
          ],
          "scatterpolar": [
           {
            "marker": {
             "colorbar": {
              "outlinewidth": 0,
              "ticks": ""
             }
            },
            "type": "scatterpolar"
           }
          ],
          "scatterpolargl": [
           {
            "marker": {
             "colorbar": {
              "outlinewidth": 0,
              "ticks": ""
             }
            },
            "type": "scatterpolargl"
           }
          ],
          "scatterternary": [
           {
            "marker": {
             "colorbar": {
              "outlinewidth": 0,
              "ticks": ""
             }
            },
            "type": "scatterternary"
           }
          ],
          "surface": [
           {
            "colorbar": {
             "outlinewidth": 0,
             "ticks": ""
            },
            "colorscale": [
             [
              0,
              "#0d0887"
             ],
             [
              0.1111111111111111,
              "#46039f"
             ],
             [
              0.2222222222222222,
              "#7201a8"
             ],
             [
              0.3333333333333333,
              "#9c179e"
             ],
             [
              0.4444444444444444,
              "#bd3786"
             ],
             [
              0.5555555555555556,
              "#d8576b"
             ],
             [
              0.6666666666666666,
              "#ed7953"
             ],
             [
              0.7777777777777778,
              "#fb9f3a"
             ],
             [
              0.8888888888888888,
              "#fdca26"
             ],
             [
              1,
              "#f0f921"
             ]
            ],
            "type": "surface"
           }
          ],
          "table": [
           {
            "cells": {
             "fill": {
              "color": "#EBF0F8"
             },
             "line": {
              "color": "white"
             }
            },
            "header": {
             "fill": {
              "color": "#C8D4E3"
             },
             "line": {
              "color": "white"
             }
            },
            "type": "table"
           }
          ]
         },
         "layout": {
          "annotationdefaults": {
           "arrowcolor": "#2a3f5f",
           "arrowhead": 0,
           "arrowwidth": 1
          },
          "autotypenumbers": "strict",
          "coloraxis": {
           "colorbar": {
            "outlinewidth": 0,
            "ticks": ""
           }
          },
          "colorscale": {
           "diverging": [
            [
             0,
             "#8e0152"
            ],
            [
             0.1,
             "#c51b7d"
            ],
            [
             0.2,
             "#de77ae"
            ],
            [
             0.3,
             "#f1b6da"
            ],
            [
             0.4,
             "#fde0ef"
            ],
            [
             0.5,
             "#f7f7f7"
            ],
            [
             0.6,
             "#e6f5d0"
            ],
            [
             0.7,
             "#b8e186"
            ],
            [
             0.8,
             "#7fbc41"
            ],
            [
             0.9,
             "#4d9221"
            ],
            [
             1,
             "#276419"
            ]
           ],
           "sequential": [
            [
             0,
             "#0d0887"
            ],
            [
             0.1111111111111111,
             "#46039f"
            ],
            [
             0.2222222222222222,
             "#7201a8"
            ],
            [
             0.3333333333333333,
             "#9c179e"
            ],
            [
             0.4444444444444444,
             "#bd3786"
            ],
            [
             0.5555555555555556,
             "#d8576b"
            ],
            [
             0.6666666666666666,
             "#ed7953"
            ],
            [
             0.7777777777777778,
             "#fb9f3a"
            ],
            [
             0.8888888888888888,
             "#fdca26"
            ],
            [
             1,
             "#f0f921"
            ]
           ],
           "sequentialminus": [
            [
             0,
             "#0d0887"
            ],
            [
             0.1111111111111111,
             "#46039f"
            ],
            [
             0.2222222222222222,
             "#7201a8"
            ],
            [
             0.3333333333333333,
             "#9c179e"
            ],
            [
             0.4444444444444444,
             "#bd3786"
            ],
            [
             0.5555555555555556,
             "#d8576b"
            ],
            [
             0.6666666666666666,
             "#ed7953"
            ],
            [
             0.7777777777777778,
             "#fb9f3a"
            ],
            [
             0.8888888888888888,
             "#fdca26"
            ],
            [
             1,
             "#f0f921"
            ]
           ]
          },
          "colorway": [
           "#636efa",
           "#EF553B",
           "#00cc96",
           "#ab63fa",
           "#FFA15A",
           "#19d3f3",
           "#FF6692",
           "#B6E880",
           "#FF97FF",
           "#FECB52"
          ],
          "font": {
           "color": "#2a3f5f"
          },
          "geo": {
           "bgcolor": "white",
           "lakecolor": "white",
           "landcolor": "#E5ECF6",
           "showlakes": true,
           "showland": true,
           "subunitcolor": "white"
          },
          "hoverlabel": {
           "align": "left"
          },
          "hovermode": "closest",
          "mapbox": {
           "style": "light"
          },
          "paper_bgcolor": "white",
          "plot_bgcolor": "#E5ECF6",
          "polar": {
           "angularaxis": {
            "gridcolor": "white",
            "linecolor": "white",
            "ticks": ""
           },
           "bgcolor": "#E5ECF6",
           "radialaxis": {
            "gridcolor": "white",
            "linecolor": "white",
            "ticks": ""
           }
          },
          "scene": {
           "xaxis": {
            "backgroundcolor": "#E5ECF6",
            "gridcolor": "white",
            "gridwidth": 2,
            "linecolor": "white",
            "showbackground": true,
            "ticks": "",
            "zerolinecolor": "white"
           },
           "yaxis": {
            "backgroundcolor": "#E5ECF6",
            "gridcolor": "white",
            "gridwidth": 2,
            "linecolor": "white",
            "showbackground": true,
            "ticks": "",
            "zerolinecolor": "white"
           },
           "zaxis": {
            "backgroundcolor": "#E5ECF6",
            "gridcolor": "white",
            "gridwidth": 2,
            "linecolor": "white",
            "showbackground": true,
            "ticks": "",
            "zerolinecolor": "white"
           }
          },
          "shapedefaults": {
           "line": {
            "color": "#2a3f5f"
           }
          },
          "ternary": {
           "aaxis": {
            "gridcolor": "white",
            "linecolor": "white",
            "ticks": ""
           },
           "baxis": {
            "gridcolor": "white",
            "linecolor": "white",
            "ticks": ""
           },
           "bgcolor": "#E5ECF6",
           "caxis": {
            "gridcolor": "white",
            "linecolor": "white",
            "ticks": ""
           }
          },
          "title": {
           "x": 0.05
          },
          "xaxis": {
           "automargin": true,
           "gridcolor": "white",
           "linecolor": "white",
           "ticks": "",
           "title": {
            "standoff": 15
           },
           "zerolinecolor": "white",
           "zerolinewidth": 2
          },
          "yaxis": {
           "automargin": true,
           "gridcolor": "white",
           "linecolor": "white",
           "ticks": "",
           "title": {
            "standoff": 15
           },
           "zerolinecolor": "white",
           "zerolinewidth": 2
          }
         }
        }
       }
      }
     },
     "metadata": {},
     "output_type": "display_data"
    }
   ],
   "source": [
    "# Create a scatter mapbox plot\n",
    "fig = px.scatter_mapbox(df, lat=\"lat\", lon=\"lon\", hover_name=\"City\", color_discrete_sequence=[\"fuchsia\"], zoom=5, height=800)\n",
    "\n",
    "fig.update_layout(mapbox_style=\"open-street-map\")\n",
    "fig.update_layout(margin={\"r\":0,\"t\":0,\"l\":0,\"b\":0})\n",
    "\n",
    "fig.show()"
   ]
  },
  {
   "cell_type": "code",
   "execution_count": 74,
   "metadata": {},
   "outputs": [
    {
     "data": {
      "text/html": [
       "<div>\n",
       "<style scoped>\n",
       "    .dataframe tbody tr th:only-of-type {\n",
       "        vertical-align: middle;\n",
       "    }\n",
       "\n",
       "    .dataframe tbody tr th {\n",
       "        vertical-align: top;\n",
       "    }\n",
       "\n",
       "    .dataframe thead th {\n",
       "        text-align: right;\n",
       "    }\n",
       "</style>\n",
       "<table border=\"1\" class=\"dataframe\">\n",
       "  <thead>\n",
       "    <tr style=\"text-align: right;\">\n",
       "      <th></th>\n",
       "      <th>city</th>\n",
       "      <th>lat</th>\n",
       "      <th>lon</th>\n",
       "      <th>datetime</th>\n",
       "      <th>temp</th>\n",
       "      <th>feels_like</th>\n",
       "      <th>temp_min</th>\n",
       "      <th>temp_max</th>\n",
       "      <th>pressure</th>\n",
       "      <th>sea_level</th>\n",
       "      <th>...</th>\n",
       "      <th>weather_icon</th>\n",
       "      <th>clouds</th>\n",
       "      <th>wind_speed</th>\n",
       "      <th>wind_deg</th>\n",
       "      <th>wind_gust</th>\n",
       "      <th>visibility</th>\n",
       "      <th>pop</th>\n",
       "      <th>rain</th>\n",
       "      <th>snow</th>\n",
       "      <th>pod</th>\n",
       "    </tr>\n",
       "  </thead>\n",
       "  <tbody>\n",
       "    <tr>\n",
       "      <th>0</th>\n",
       "      <td>Mont Saint Michel</td>\n",
       "      <td>48.635954</td>\n",
       "      <td>-1.51146</td>\n",
       "      <td>2024-10-11 00:00:00</td>\n",
       "      <td>10.17</td>\n",
       "      <td>9.72</td>\n",
       "      <td>9.12</td>\n",
       "      <td>10.17</td>\n",
       "      <td>1013</td>\n",
       "      <td>1013</td>\n",
       "      <td>...</td>\n",
       "      <td>10n</td>\n",
       "      <td>70</td>\n",
       "      <td>2.52</td>\n",
       "      <td>68</td>\n",
       "      <td>2.82</td>\n",
       "      <td>10000</td>\n",
       "      <td>0.25</td>\n",
       "      <td>0.17</td>\n",
       "      <td>0</td>\n",
       "      <td>n</td>\n",
       "    </tr>\n",
       "    <tr>\n",
       "      <th>1</th>\n",
       "      <td>Mont Saint Michel</td>\n",
       "      <td>48.635954</td>\n",
       "      <td>-1.51146</td>\n",
       "      <td>2024-10-11 03:00:00</td>\n",
       "      <td>9.55</td>\n",
       "      <td>8.49</td>\n",
       "      <td>8.32</td>\n",
       "      <td>9.55</td>\n",
       "      <td>1013</td>\n",
       "      <td>1013</td>\n",
       "      <td>...</td>\n",
       "      <td>03n</td>\n",
       "      <td>47</td>\n",
       "      <td>2.22</td>\n",
       "      <td>103</td>\n",
       "      <td>2.26</td>\n",
       "      <td>10000</td>\n",
       "      <td>0.00</td>\n",
       "      <td>0.00</td>\n",
       "      <td>0</td>\n",
       "      <td>n</td>\n",
       "    </tr>\n",
       "    <tr>\n",
       "      <th>2</th>\n",
       "      <td>Mont Saint Michel</td>\n",
       "      <td>48.635954</td>\n",
       "      <td>-1.51146</td>\n",
       "      <td>2024-10-11 06:00:00</td>\n",
       "      <td>8.64</td>\n",
       "      <td>7.23</td>\n",
       "      <td>7.87</td>\n",
       "      <td>8.64</td>\n",
       "      <td>1014</td>\n",
       "      <td>1014</td>\n",
       "      <td>...</td>\n",
       "      <td>02n</td>\n",
       "      <td>23</td>\n",
       "      <td>2.48</td>\n",
       "      <td>105</td>\n",
       "      <td>2.76</td>\n",
       "      <td>10000</td>\n",
       "      <td>0.00</td>\n",
       "      <td>0.00</td>\n",
       "      <td>0</td>\n",
       "      <td>n</td>\n",
       "    </tr>\n",
       "    <tr>\n",
       "      <th>3</th>\n",
       "      <td>Mont Saint Michel</td>\n",
       "      <td>48.635954</td>\n",
       "      <td>-1.51146</td>\n",
       "      <td>2024-10-11 09:00:00</td>\n",
       "      <td>11.77</td>\n",
       "      <td>11.04</td>\n",
       "      <td>11.77</td>\n",
       "      <td>11.77</td>\n",
       "      <td>1016</td>\n",
       "      <td>1016</td>\n",
       "      <td>...</td>\n",
       "      <td>01d</td>\n",
       "      <td>3</td>\n",
       "      <td>2.58</td>\n",
       "      <td>114</td>\n",
       "      <td>4.20</td>\n",
       "      <td>10000</td>\n",
       "      <td>0.00</td>\n",
       "      <td>0.00</td>\n",
       "      <td>0</td>\n",
       "      <td>d</td>\n",
       "    </tr>\n",
       "    <tr>\n",
       "      <th>4</th>\n",
       "      <td>Mont Saint Michel</td>\n",
       "      <td>48.635954</td>\n",
       "      <td>-1.51146</td>\n",
       "      <td>2024-10-11 12:00:00</td>\n",
       "      <td>15.35</td>\n",
       "      <td>14.48</td>\n",
       "      <td>15.35</td>\n",
       "      <td>15.35</td>\n",
       "      <td>1015</td>\n",
       "      <td>1015</td>\n",
       "      <td>...</td>\n",
       "      <td>01d</td>\n",
       "      <td>4</td>\n",
       "      <td>3.89</td>\n",
       "      <td>108</td>\n",
       "      <td>4.30</td>\n",
       "      <td>10000</td>\n",
       "      <td>0.00</td>\n",
       "      <td>0.00</td>\n",
       "      <td>0</td>\n",
       "      <td>d</td>\n",
       "    </tr>\n",
       "  </tbody>\n",
       "</table>\n",
       "<p>5 rows × 24 columns</p>\n",
       "</div>"
      ],
      "text/plain": [
       "                city        lat      lon             datetime   temp  \\\n",
       "0  Mont Saint Michel  48.635954 -1.51146  2024-10-11 00:00:00  10.17   \n",
       "1  Mont Saint Michel  48.635954 -1.51146  2024-10-11 03:00:00   9.55   \n",
       "2  Mont Saint Michel  48.635954 -1.51146  2024-10-11 06:00:00   8.64   \n",
       "3  Mont Saint Michel  48.635954 -1.51146  2024-10-11 09:00:00  11.77   \n",
       "4  Mont Saint Michel  48.635954 -1.51146  2024-10-11 12:00:00  15.35   \n",
       "\n",
       "   feels_like  temp_min  temp_max  pressure  sea_level  ...  weather_icon  \\\n",
       "0        9.72      9.12     10.17      1013       1013  ...           10n   \n",
       "1        8.49      8.32      9.55      1013       1013  ...           03n   \n",
       "2        7.23      7.87      8.64      1014       1014  ...           02n   \n",
       "3       11.04     11.77     11.77      1016       1016  ...           01d   \n",
       "4       14.48     15.35     15.35      1015       1015  ...           01d   \n",
       "\n",
       "   clouds wind_speed wind_deg wind_gust  visibility   pop  rain  snow  pod  \n",
       "0      70       2.52       68      2.82       10000  0.25  0.17     0    n  \n",
       "1      47       2.22      103      2.26       10000  0.00  0.00     0    n  \n",
       "2      23       2.48      105      2.76       10000  0.00  0.00     0    n  \n",
       "3       3       2.58      114      4.20       10000  0.00  0.00     0    d  \n",
       "4       4       3.89      108      4.30       10000  0.00  0.00     0    d  \n",
       "\n",
       "[5 rows x 24 columns]"
      ]
     },
     "execution_count": 74,
     "metadata": {},
     "output_type": "execute_result"
    }
   ],
   "source": [
    "flattened_data = []\n",
    "cities_data = df[['City', 'lat', 'lon']].to_dict(orient='records')\n",
    "\n",
    "for city_data in cities_data:\n",
    "    start_time = time.time()  # Record start time\n",
    "    params = {\n",
    "        'lat': city_data[\"lat\"],\n",
    "        'lon': city_data[\"lon\"],\n",
    "        'appid': WeatherApiKey,\n",
    "        'units': 'metric'\n",
    "    }\n",
    "    response = requests.get(f'https://api.openweathermap.org/data/2.5/forecast', params=params).json()\n",
    "    if 'list' in response:  # Check if the response contains 'list'\n",
    "        flattened_json = [\n",
    "        {\n",
    "            'city': city_data[\"City\"],\n",
    "            'lat': city_data[\"lat\"],\n",
    "            'lon': city_data[\"lon\"],\n",
    "            'datetime': item['dt_txt'],\n",
    "            'temp': item['main']['temp'],\n",
    "            'feels_like': item['main']['feels_like'],\n",
    "            'temp_min': item['main']['temp_min'],\n",
    "            'temp_max': item['main']['temp_max'],\n",
    "            'pressure': item['main']['pressure'],\n",
    "            'sea_level': item['main']['sea_level'],\n",
    "            'grnd_level': item['main']['grnd_level'],\n",
    "            'humidity': item['main']['humidity'],\n",
    "            'weather_main': item['weather'][0]['main'],\n",
    "            'weather_description': item['weather'][0]['description'],\n",
    "            'weather_icon': item['weather'][0]['icon'],\n",
    "            'clouds': item['clouds']['all'],\n",
    "            'wind_speed': item['wind']['speed'],\n",
    "            'wind_deg': item['wind']['deg'],\n",
    "            'wind_gust': item['wind']['gust'],\n",
    "            'visibility': item['visibility'],\n",
    "            'pop': item['pop'],\n",
    "            'rain': item.get('rain', {}).get('3h', 0),\n",
    "            'snow': item.get('snow', {}).get('3h', 0),\n",
    "            'pod': item['sys']['pod']\n",
    "        } for item in response['list']]\n",
    "\n",
    "        flattened_data.extend(flattened_json)  # Extend the list directly\n",
    "    else:\n",
    "        print(f\"No weather forecast found for {city_data['City']}\")\n",
    "\n",
    "    elapsed_time = time.time() - start_time  # Calculate elapsed time\n",
    "    if elapsed_time < 1.5:\n",
    "        time.sleep(1.5 - elapsed_time)  # Sleep for the remaining time / openweathermap Free collection: 60 calls/minute\n",
    "\n",
    "weatherdf = pd.DataFrame(flattened_data)\n",
    "\n",
    "\n",
    "weatherdf.head()"
   ]
  },
  {
   "cell_type": "code",
   "execution_count": 219,
   "metadata": {},
   "outputs": [],
   "source": [
    "weatherdf.to_json('cities_weather_rating.json', orient='records', indent=4)"
   ]
  },
  {
   "cell_type": "code",
   "execution_count": 218,
   "metadata": {},
   "outputs": [],
   "source": [
    "\n",
    "# Normalize factors (feels_like, rain, snow) with highest importance\n",
    "weights = {\n",
    "    'feels_like': 4,\n",
    "    'humidity': 2,\n",
    "    'clouds': 3,\n",
    "    'wind_speed': 3,\n",
    "    'visibility': 2,\n",
    "    'rain': 5,\n",
    "    'snow': 5\n",
    "}\n",
    "\n",
    "def normalize(series):\n",
    "    return (series - series.min()) / (series.max() - series.min())\n",
    "\n",
    "weatherdf['feels_like_norm'] = normalize(abs(weatherdf['feels_like'] - 25)) * weights['feels_like']\n",
    "weatherdf['humidity_norm'] = normalize(abs(weatherdf['humidity'] - 50)) * weights['humidity']\n",
    "weatherdf['clouds_norm'] = normalize(abs(weatherdf['clouds'] - 0)) * weights['clouds']\n",
    "weatherdf['wind_speed_norm'] = normalize(abs(weatherdf['wind_speed'] - 0)) * weights['wind_speed']\n",
    "weatherdf['visibility_norm'] = normalize(abs(weatherdf['visibility'] - 10000)) * weights['visibility']\n",
    "weatherdf['rain_norm'] = normalize(abs(weatherdf['rain'] - 0)) * weights['rain']\n",
    "weatherdf['snow_norm'] = normalize(abs(weatherdf['snow'] - 0)) * weights['snow']\n",
    "\n",
    "# Compute the Rating\n",
    "weatherdf['weather_rating'] = weatherdf[\n",
    "    ['feels_like_norm', 'humidity_norm', 'clouds_norm', \n",
    "     'wind_speed_norm', 'visibility_norm', 'rain_norm', 'snow_norm']\n",
    "].sum(axis=1)\n",
    "\n"
   ]
  },
  {
   "cell_type": "code",
   "execution_count": 217,
   "metadata": {},
   "outputs": [],
   "source": [
    "weatherdf = pd.read_json('src/cities_weather.json')"
   ]
  },
  {
   "cell_type": "code",
   "execution_count": 299,
   "metadata": {},
   "outputs": [
    {
     "name": "stdout",
     "output_type": "stream",
     "text": [
      "                        city  weather_rating        lat       lon\n",
      "1            Aix en Provence        4.071522  43.529842  5.447474\n",
      "24                 Marseille        4.211053  43.296174  5.369953\n",
      "12                    Cassis        4.375003  43.214036  5.539632\n",
      "27                     Nimes        4.533238  43.837425  4.360069\n",
      "30  Saintes Maries de la mer        4.900959  43.451592  4.427720\n"
     ]
    }
   ],
   "source": [
    "# Group by city and calculate the median rating\n",
    "city_grouped = weatherdf.groupby('city')['weather_rating'].median().reset_index()\n",
    "# Include lat and lon by taking the first occurrence (since they are constant per city)\n",
    "city_grouped['lat'] = weatherdf.groupby('city')['lat'].first().values\n",
    "city_grouped['lon'] = weatherdf.groupby('city')['lon'].first().values\n",
    "# Get the top 7 cities with the best median weather rating\n",
    "top_5_cities = city_grouped.nsmallest(5, 'weather_rating')\n",
    "\n",
    "print(top_5_cities)\n"
   ]
  },
  {
   "cell_type": "code",
   "execution_count": 223,
   "metadata": {},
   "outputs": [],
   "source": [
    "weatherdf['city_id'] = pd.factorize(weatherdf['city'])[0]"
   ]
  },
  {
   "cell_type": "code",
   "execution_count": 224,
   "metadata": {},
   "outputs": [],
   "source": [
    "weatherdf.to_csv('src/cities_weather_rating.csv')"
   ]
  },
  {
   "cell_type": "code",
   "execution_count": 227,
   "metadata": {},
   "outputs": [
    {
     "data": {
      "application/vnd.plotly.v1+json": {
       "config": {
        "plotlyServerURL": "https://plot.ly"
       },
       "data": [
        {
         "hovertemplate": "<b>%{hovertext}</b><br><br>lat=%{lat}<br>lon=%{lon}<br>weather_rating=%{marker.color}<extra></extra>",
         "hovertext": [
          "Aigues Mortes",
          "Aix en Provence",
          "Amiens",
          "Annecy",
          "Ariege",
          "Avignon",
          "Bayeux",
          "Bayonne",
          "Besancon",
          "Biarritz",
          "Bormes les Mimosas",
          "Carcassonne",
          "Cassis",
          "Chateau du Haut Koenigsbourg",
          "Collioure",
          "Colmar",
          "Dijon",
          "Eguisheim",
          "Gorges du Verdon",
          "Grenoble",
          "La Rochelle",
          "Le Havre",
          "Lille",
          "Lyon",
          "Marseille",
          "Mont Saint Michel",
          "Montauban",
          "Nimes",
          "Paris",
          "Rouen",
          "Saintes Maries de la mer",
          "St Malo",
          "Strasbourg",
          "Toulouse",
          "Uzes"
         ],
         "lat": [
          43.5661521,
          43.5298424,
          49.8941708,
          45.8992348,
          42.8458016,
          43.9492493,
          49.2764624,
          43.4945144,
          47.2380222,
          43.4832523,
          43.1506968,
          43.2130358,
          43.2140359,
          48.2495226,
          42.52505,
          48.0777517,
          47.3215806,
          48.0447968,
          43.7496562,
          45.1875602,
          46.1591126,
          49.4938975,
          50.6365654,
          45.7578137,
          43.2961743,
          48.6359541,
          44.0175835,
          43.8374249,
          48.8534951,
          49.4404591,
          43.4515922,
          48.649518,
          48.584614,
          43.6044622,
          44.0121279
         ],
         "legendgroup": "",
         "lon": [
          4.19154,
          5.4474738,
          2.2956951,
          6.1288847,
          1.6067586,
          4.8059012,
          -0.7024737999999999,
          -1.4736657,
          6.0243622,
          -1.5592776,
          6.3419285,
          2.3491068999999998,
          5.5396318,
          7.3454923,
          3.0831554,
          7.3579641,
          5.0414701,
          7.3079618,
          6.3285616000000005,
          5.7357819,
          -1.1520434,
          0.10797319999999999,
          3.0635282,
          4.8320114,
          5.3699525,
          -1.511459955,
          1.3549991,
          4.3600687,
          2.3483915,
          1.0939658,
          4.4277201999999996,
          -2.0260409,
          7.7507127,
          1.4442469,
          4.4196718
         ],
         "marker": {
          "color": [
           5.10115671583718,
           4.071521666049311,
           7.521675325200848,
           6.722545017633527,
           5.034495133270871,
           5.170895948179528,
           7.473986849928006,
           5.648524153108201,
           6.970963177283671,
           5.6290691582908705,
           4.941007336668088,
           5.800913114800023,
           4.375003050460215,
           7.73029145902267,
           5.036283341063241,
           7.105107092191668,
           6.602683471174707,
           6.999301760387496,
           6.063299306175937,
           5.749204872643286,
           5.979860052355859,
           7.204043032308721,
           7.10199367807684,
           5.413886115114407,
           4.211053358152043,
           7.390001717726925,
           5.430784295110237,
           4.533237689992312,
           6.616510647039965,
           7.233846287932317,
           4.9009593074832765,
           7.346130133255308,
           7.287202665728702,
           5.329554990770801,
           5.142792276110226
          ],
          "coloraxis": "coloraxis",
          "size": 15
         },
         "mode": "markers",
         "name": "",
         "showlegend": false,
         "subplot": "mapbox",
         "type": "scattermapbox"
        }
       ],
       "layout": {
        "coloraxis": {
         "cmax": 7.73029145902267,
         "cmin": 4.071521666049311,
         "colorbar": {
          "title": {
           "text": "weather_rating"
          }
         },
         "colorscale": [
          [
           0,
           "rgb(0, 147, 146)"
          ],
          [
           0.16666666666666666,
           "rgb(57, 177, 133)"
          ],
          [
           0.3333333333333333,
           "rgb(156, 203, 134)"
          ],
          [
           0.5,
           "rgb(233, 226, 156)"
          ],
          [
           0.6666666666666666,
           "rgb(238, 180, 121)"
          ],
          [
           0.8333333333333334,
           "rgb(232, 132, 113)"
          ],
          [
           1,
           "rgb(207, 89, 126)"
          ]
         ]
        },
        "height": 800,
        "legend": {
         "tracegroupgap": 0
        },
        "mapbox": {
         "center": {
          "lat": 45.83831952571429,
          "lon": 3.402284304142857
         },
         "domain": {
          "x": [
           0,
           1
          ],
          "y": [
           0,
           1
          ]
         },
         "style": "open-street-map",
         "zoom": 5
        },
        "margin": {
         "b": 0,
         "l": 0,
         "r": 0,
         "t": 0
        },
        "template": {
         "data": {
          "bar": [
           {
            "error_x": {
             "color": "#2a3f5f"
            },
            "error_y": {
             "color": "#2a3f5f"
            },
            "marker": {
             "line": {
              "color": "#E5ECF6",
              "width": 0.5
             },
             "pattern": {
              "fillmode": "overlay",
              "size": 10,
              "solidity": 0.2
             }
            },
            "type": "bar"
           }
          ],
          "barpolar": [
           {
            "marker": {
             "line": {
              "color": "#E5ECF6",
              "width": 0.5
             },
             "pattern": {
              "fillmode": "overlay",
              "size": 10,
              "solidity": 0.2
             }
            },
            "type": "barpolar"
           }
          ],
          "carpet": [
           {
            "aaxis": {
             "endlinecolor": "#2a3f5f",
             "gridcolor": "white",
             "linecolor": "white",
             "minorgridcolor": "white",
             "startlinecolor": "#2a3f5f"
            },
            "baxis": {
             "endlinecolor": "#2a3f5f",
             "gridcolor": "white",
             "linecolor": "white",
             "minorgridcolor": "white",
             "startlinecolor": "#2a3f5f"
            },
            "type": "carpet"
           }
          ],
          "choropleth": [
           {
            "colorbar": {
             "outlinewidth": 0,
             "ticks": ""
            },
            "type": "choropleth"
           }
          ],
          "contour": [
           {
            "colorbar": {
             "outlinewidth": 0,
             "ticks": ""
            },
            "colorscale": [
             [
              0,
              "#0d0887"
             ],
             [
              0.1111111111111111,
              "#46039f"
             ],
             [
              0.2222222222222222,
              "#7201a8"
             ],
             [
              0.3333333333333333,
              "#9c179e"
             ],
             [
              0.4444444444444444,
              "#bd3786"
             ],
             [
              0.5555555555555556,
              "#d8576b"
             ],
             [
              0.6666666666666666,
              "#ed7953"
             ],
             [
              0.7777777777777778,
              "#fb9f3a"
             ],
             [
              0.8888888888888888,
              "#fdca26"
             ],
             [
              1,
              "#f0f921"
             ]
            ],
            "type": "contour"
           }
          ],
          "contourcarpet": [
           {
            "colorbar": {
             "outlinewidth": 0,
             "ticks": ""
            },
            "type": "contourcarpet"
           }
          ],
          "heatmap": [
           {
            "colorbar": {
             "outlinewidth": 0,
             "ticks": ""
            },
            "colorscale": [
             [
              0,
              "#0d0887"
             ],
             [
              0.1111111111111111,
              "#46039f"
             ],
             [
              0.2222222222222222,
              "#7201a8"
             ],
             [
              0.3333333333333333,
              "#9c179e"
             ],
             [
              0.4444444444444444,
              "#bd3786"
             ],
             [
              0.5555555555555556,
              "#d8576b"
             ],
             [
              0.6666666666666666,
              "#ed7953"
             ],
             [
              0.7777777777777778,
              "#fb9f3a"
             ],
             [
              0.8888888888888888,
              "#fdca26"
             ],
             [
              1,
              "#f0f921"
             ]
            ],
            "type": "heatmap"
           }
          ],
          "heatmapgl": [
           {
            "colorbar": {
             "outlinewidth": 0,
             "ticks": ""
            },
            "colorscale": [
             [
              0,
              "#0d0887"
             ],
             [
              0.1111111111111111,
              "#46039f"
             ],
             [
              0.2222222222222222,
              "#7201a8"
             ],
             [
              0.3333333333333333,
              "#9c179e"
             ],
             [
              0.4444444444444444,
              "#bd3786"
             ],
             [
              0.5555555555555556,
              "#d8576b"
             ],
             [
              0.6666666666666666,
              "#ed7953"
             ],
             [
              0.7777777777777778,
              "#fb9f3a"
             ],
             [
              0.8888888888888888,
              "#fdca26"
             ],
             [
              1,
              "#f0f921"
             ]
            ],
            "type": "heatmapgl"
           }
          ],
          "histogram": [
           {
            "marker": {
             "pattern": {
              "fillmode": "overlay",
              "size": 10,
              "solidity": 0.2
             }
            },
            "type": "histogram"
           }
          ],
          "histogram2d": [
           {
            "colorbar": {
             "outlinewidth": 0,
             "ticks": ""
            },
            "colorscale": [
             [
              0,
              "#0d0887"
             ],
             [
              0.1111111111111111,
              "#46039f"
             ],
             [
              0.2222222222222222,
              "#7201a8"
             ],
             [
              0.3333333333333333,
              "#9c179e"
             ],
             [
              0.4444444444444444,
              "#bd3786"
             ],
             [
              0.5555555555555556,
              "#d8576b"
             ],
             [
              0.6666666666666666,
              "#ed7953"
             ],
             [
              0.7777777777777778,
              "#fb9f3a"
             ],
             [
              0.8888888888888888,
              "#fdca26"
             ],
             [
              1,
              "#f0f921"
             ]
            ],
            "type": "histogram2d"
           }
          ],
          "histogram2dcontour": [
           {
            "colorbar": {
             "outlinewidth": 0,
             "ticks": ""
            },
            "colorscale": [
             [
              0,
              "#0d0887"
             ],
             [
              0.1111111111111111,
              "#46039f"
             ],
             [
              0.2222222222222222,
              "#7201a8"
             ],
             [
              0.3333333333333333,
              "#9c179e"
             ],
             [
              0.4444444444444444,
              "#bd3786"
             ],
             [
              0.5555555555555556,
              "#d8576b"
             ],
             [
              0.6666666666666666,
              "#ed7953"
             ],
             [
              0.7777777777777778,
              "#fb9f3a"
             ],
             [
              0.8888888888888888,
              "#fdca26"
             ],
             [
              1,
              "#f0f921"
             ]
            ],
            "type": "histogram2dcontour"
           }
          ],
          "mesh3d": [
           {
            "colorbar": {
             "outlinewidth": 0,
             "ticks": ""
            },
            "type": "mesh3d"
           }
          ],
          "parcoords": [
           {
            "line": {
             "colorbar": {
              "outlinewidth": 0,
              "ticks": ""
             }
            },
            "type": "parcoords"
           }
          ],
          "pie": [
           {
            "automargin": true,
            "type": "pie"
           }
          ],
          "scatter": [
           {
            "fillpattern": {
             "fillmode": "overlay",
             "size": 10,
             "solidity": 0.2
            },
            "type": "scatter"
           }
          ],
          "scatter3d": [
           {
            "line": {
             "colorbar": {
              "outlinewidth": 0,
              "ticks": ""
             }
            },
            "marker": {
             "colorbar": {
              "outlinewidth": 0,
              "ticks": ""
             }
            },
            "type": "scatter3d"
           }
          ],
          "scattercarpet": [
           {
            "marker": {
             "colorbar": {
              "outlinewidth": 0,
              "ticks": ""
             }
            },
            "type": "scattercarpet"
           }
          ],
          "scattergeo": [
           {
            "marker": {
             "colorbar": {
              "outlinewidth": 0,
              "ticks": ""
             }
            },
            "type": "scattergeo"
           }
          ],
          "scattergl": [
           {
            "marker": {
             "colorbar": {
              "outlinewidth": 0,
              "ticks": ""
             }
            },
            "type": "scattergl"
           }
          ],
          "scattermapbox": [
           {
            "marker": {
             "colorbar": {
              "outlinewidth": 0,
              "ticks": ""
             }
            },
            "type": "scattermapbox"
           }
          ],
          "scatterpolar": [
           {
            "marker": {
             "colorbar": {
              "outlinewidth": 0,
              "ticks": ""
             }
            },
            "type": "scatterpolar"
           }
          ],
          "scatterpolargl": [
           {
            "marker": {
             "colorbar": {
              "outlinewidth": 0,
              "ticks": ""
             }
            },
            "type": "scatterpolargl"
           }
          ],
          "scatterternary": [
           {
            "marker": {
             "colorbar": {
              "outlinewidth": 0,
              "ticks": ""
             }
            },
            "type": "scatterternary"
           }
          ],
          "surface": [
           {
            "colorbar": {
             "outlinewidth": 0,
             "ticks": ""
            },
            "colorscale": [
             [
              0,
              "#0d0887"
             ],
             [
              0.1111111111111111,
              "#46039f"
             ],
             [
              0.2222222222222222,
              "#7201a8"
             ],
             [
              0.3333333333333333,
              "#9c179e"
             ],
             [
              0.4444444444444444,
              "#bd3786"
             ],
             [
              0.5555555555555556,
              "#d8576b"
             ],
             [
              0.6666666666666666,
              "#ed7953"
             ],
             [
              0.7777777777777778,
              "#fb9f3a"
             ],
             [
              0.8888888888888888,
              "#fdca26"
             ],
             [
              1,
              "#f0f921"
             ]
            ],
            "type": "surface"
           }
          ],
          "table": [
           {
            "cells": {
             "fill": {
              "color": "#EBF0F8"
             },
             "line": {
              "color": "white"
             }
            },
            "header": {
             "fill": {
              "color": "#C8D4E3"
             },
             "line": {
              "color": "white"
             }
            },
            "type": "table"
           }
          ]
         },
         "layout": {
          "annotationdefaults": {
           "arrowcolor": "#2a3f5f",
           "arrowhead": 0,
           "arrowwidth": 1
          },
          "autotypenumbers": "strict",
          "coloraxis": {
           "colorbar": {
            "outlinewidth": 0,
            "ticks": ""
           }
          },
          "colorscale": {
           "diverging": [
            [
             0,
             "#8e0152"
            ],
            [
             0.1,
             "#c51b7d"
            ],
            [
             0.2,
             "#de77ae"
            ],
            [
             0.3,
             "#f1b6da"
            ],
            [
             0.4,
             "#fde0ef"
            ],
            [
             0.5,
             "#f7f7f7"
            ],
            [
             0.6,
             "#e6f5d0"
            ],
            [
             0.7,
             "#b8e186"
            ],
            [
             0.8,
             "#7fbc41"
            ],
            [
             0.9,
             "#4d9221"
            ],
            [
             1,
             "#276419"
            ]
           ],
           "sequential": [
            [
             0,
             "#0d0887"
            ],
            [
             0.1111111111111111,
             "#46039f"
            ],
            [
             0.2222222222222222,
             "#7201a8"
            ],
            [
             0.3333333333333333,
             "#9c179e"
            ],
            [
             0.4444444444444444,
             "#bd3786"
            ],
            [
             0.5555555555555556,
             "#d8576b"
            ],
            [
             0.6666666666666666,
             "#ed7953"
            ],
            [
             0.7777777777777778,
             "#fb9f3a"
            ],
            [
             0.8888888888888888,
             "#fdca26"
            ],
            [
             1,
             "#f0f921"
            ]
           ],
           "sequentialminus": [
            [
             0,
             "#0d0887"
            ],
            [
             0.1111111111111111,
             "#46039f"
            ],
            [
             0.2222222222222222,
             "#7201a8"
            ],
            [
             0.3333333333333333,
             "#9c179e"
            ],
            [
             0.4444444444444444,
             "#bd3786"
            ],
            [
             0.5555555555555556,
             "#d8576b"
            ],
            [
             0.6666666666666666,
             "#ed7953"
            ],
            [
             0.7777777777777778,
             "#fb9f3a"
            ],
            [
             0.8888888888888888,
             "#fdca26"
            ],
            [
             1,
             "#f0f921"
            ]
           ]
          },
          "colorway": [
           "#636efa",
           "#EF553B",
           "#00cc96",
           "#ab63fa",
           "#FFA15A",
           "#19d3f3",
           "#FF6692",
           "#B6E880",
           "#FF97FF",
           "#FECB52"
          ],
          "font": {
           "color": "#2a3f5f"
          },
          "geo": {
           "bgcolor": "white",
           "lakecolor": "white",
           "landcolor": "#E5ECF6",
           "showlakes": true,
           "showland": true,
           "subunitcolor": "white"
          },
          "hoverlabel": {
           "align": "left"
          },
          "hovermode": "closest",
          "mapbox": {
           "style": "light"
          },
          "paper_bgcolor": "white",
          "plot_bgcolor": "#E5ECF6",
          "polar": {
           "angularaxis": {
            "gridcolor": "white",
            "linecolor": "white",
            "ticks": ""
           },
           "bgcolor": "#E5ECF6",
           "radialaxis": {
            "gridcolor": "white",
            "linecolor": "white",
            "ticks": ""
           }
          },
          "scene": {
           "xaxis": {
            "backgroundcolor": "#E5ECF6",
            "gridcolor": "white",
            "gridwidth": 2,
            "linecolor": "white",
            "showbackground": true,
            "ticks": "",
            "zerolinecolor": "white"
           },
           "yaxis": {
            "backgroundcolor": "#E5ECF6",
            "gridcolor": "white",
            "gridwidth": 2,
            "linecolor": "white",
            "showbackground": true,
            "ticks": "",
            "zerolinecolor": "white"
           },
           "zaxis": {
            "backgroundcolor": "#E5ECF6",
            "gridcolor": "white",
            "gridwidth": 2,
            "linecolor": "white",
            "showbackground": true,
            "ticks": "",
            "zerolinecolor": "white"
           }
          },
          "shapedefaults": {
           "line": {
            "color": "#2a3f5f"
           }
          },
          "ternary": {
           "aaxis": {
            "gridcolor": "white",
            "linecolor": "white",
            "ticks": ""
           },
           "baxis": {
            "gridcolor": "white",
            "linecolor": "white",
            "ticks": ""
           },
           "bgcolor": "#E5ECF6",
           "caxis": {
            "gridcolor": "white",
            "linecolor": "white",
            "ticks": ""
           }
          },
          "title": {
           "x": 0.05
          },
          "xaxis": {
           "automargin": true,
           "gridcolor": "white",
           "linecolor": "white",
           "ticks": "",
           "title": {
            "standoff": 15
           },
           "zerolinecolor": "white",
           "zerolinewidth": 2
          },
          "yaxis": {
           "automargin": true,
           "gridcolor": "white",
           "linecolor": "white",
           "ticks": "",
           "title": {
            "standoff": 15
           },
           "zerolinecolor": "white",
           "zerolinewidth": 2
          }
         }
        }
       }
      }
     },
     "metadata": {},
     "output_type": "display_data"
    }
   ],
   "source": [
    "fig = px.scatter_mapbox(city_grouped, lat=\"lat\", lon=\"lon\", hover_name=\"city\", color=\"weather_rating\", color_continuous_scale=\"temps\",range_color=[city_grouped['weather_rating'].min(), city_grouped['weather_rating'].max() ], zoom=5, height=800)\n",
    "\n",
    "fig.update_layout(mapbox_style=\"open-street-map\")\n",
    "fig.update_layout(margin={\"r\":0,\"t\":0,\"l\":0,\"b\":0})\n",
    "fig.update_traces(marker=dict(size=15))  \n",
    "fig.show()\n",
    "fig.write_html(\"src/cities_map_plotly.html\")"
   ]
  },
  {
   "cell_type": "code",
   "execution_count": 91,
   "metadata": {},
   "outputs": [
    {
     "name": "stderr",
     "output_type": "stream",
     "text": [
      "2024-10-11 20:10:50 [scrapy.utils.log] INFO: Scrapy 2.11.1 started (bot: scrapybot)\n",
      "2024-10-11 20:10:50 [scrapy.utils.log] INFO: Versions: lxml 5.2.1.0, libxml2 2.10.4, cssselect 1.2.0, parsel 1.8.1, w3lib 2.1.2, Twisted 23.10.0, Python 3.12.4 | packaged by Anaconda, Inc. | (main, Jun 18 2024, 15:03:56) [MSC v.1929 64 bit (AMD64)], pyOpenSSL 24.0.0 (OpenSSL 3.0.14 4 Jun 2024), cryptography 42.0.5, Platform Windows-11-10.0.22631-SP0\n",
      "2024-10-11 20:10:51 [scrapy.addons] INFO: Enabled addons:\n",
      "[]\n",
      "2024-10-11 20:10:51 [py.warnings] WARNING: c:\\Users\\ad98\\anaconda3\\Lib\\site-packages\\scrapy\\utils\\request.py:254: ScrapyDeprecationWarning: '2.6' is a deprecated value for the 'REQUEST_FINGERPRINTER_IMPLEMENTATION' setting.\n",
      "\n",
      "It is also the default value. In other words, it is normal to get this warning if you have not defined a value for the 'REQUEST_FINGERPRINTER_IMPLEMENTATION' setting. This is so for backward compatibility reasons, but it will change in a future version of Scrapy.\n",
      "\n",
      "See the documentation of the 'REQUEST_FINGERPRINTER_IMPLEMENTATION' setting for information on how to handle this deprecation.\n",
      "  return cls(crawler)\n",
      "\n",
      "2024-10-11 20:10:51 [scrapy.extensions.telnet] INFO: Telnet Password: 41b1208b01b4fc80\n",
      "2024-10-11 20:10:51 [scrapy.middleware] INFO: Enabled extensions:\n",
      "['scrapy.extensions.corestats.CoreStats',\n",
      " 'scrapy.extensions.telnet.TelnetConsole',\n",
      " 'scrapy.extensions.feedexport.FeedExporter',\n",
      " 'scrapy.extensions.logstats.LogStats']\n",
      "2024-10-11 20:10:51 [scrapy.crawler] INFO: Overridden settings:\n",
      "{'LOG_LEVEL': 20, 'USER_AGENT': 'Chrome/129.0.6668.101'}\n",
      "2024-10-11 20:10:52 [scrapy.middleware] INFO: Enabled downloader middlewares:\n",
      "['scrapy.downloadermiddlewares.httpauth.HttpAuthMiddleware',\n",
      " 'scrapy.downloadermiddlewares.downloadtimeout.DownloadTimeoutMiddleware',\n",
      " 'scrapy.downloadermiddlewares.defaultheaders.DefaultHeadersMiddleware',\n",
      " 'scrapy.downloadermiddlewares.useragent.UserAgentMiddleware',\n",
      " 'scrapy.downloadermiddlewares.retry.RetryMiddleware',\n",
      " 'scrapy.downloadermiddlewares.redirect.MetaRefreshMiddleware',\n",
      " 'scrapy.downloadermiddlewares.httpcompression.HttpCompressionMiddleware',\n",
      " 'scrapy.downloadermiddlewares.redirect.RedirectMiddleware',\n",
      " 'scrapy.downloadermiddlewares.cookies.CookiesMiddleware',\n",
      " 'scrapy.downloadermiddlewares.httpproxy.HttpProxyMiddleware',\n",
      " 'scrapy.downloadermiddlewares.stats.DownloaderStats']\n",
      "2024-10-11 20:10:52 [scrapy.middleware] INFO: Enabled spider middlewares:\n",
      "['scrapy.spidermiddlewares.httperror.HttpErrorMiddleware',\n",
      " 'scrapy.spidermiddlewares.offsite.OffsiteMiddleware',\n",
      " 'scrapy.spidermiddlewares.referer.RefererMiddleware',\n",
      " 'scrapy.spidermiddlewares.urllength.UrlLengthMiddleware',\n",
      " 'scrapy.spidermiddlewares.depth.DepthMiddleware']\n",
      "2024-10-11 20:10:52 [scrapy.middleware] INFO: Enabled item pipelines:\n",
      "[]\n",
      "2024-10-11 20:10:52 [scrapy.core.engine] INFO: Spider opened\n",
      "2024-10-11 20:10:52 [scrapy.extensions.logstats] INFO: Crawled 0 pages (at 0 pages/min), scraped 0 items (at 0 items/min)\n",
      "2024-10-11 20:10:52 [scrapy.extensions.telnet] INFO: Telnet console listening on 127.0.0.1:6023\n",
      "2024-10-11 20:10:53 [BookingSpider1] INFO: Processing city: Mont Saint Michel\n",
      "2024-10-11 20:11:31 [BookingSpider1] INFO: Processing city: St Malo\n",
      "2024-10-11 20:12:08 [scrapy.extensions.logstats] INFO: Crawled 1 pages (at 1 pages/min), scraped 117 items (at 117 items/min)\n",
      "2024-10-11 20:12:08 [BookingSpider1] INFO: Processing city: Bayeux\n",
      "2024-10-11 20:12:36 [BookingSpider1] INFO: Processing city: Le Havre\n",
      "2024-10-11 20:13:14 [BookingSpider1] INFO: Processing city: Rouen\n",
      "2024-10-11 20:13:51 [scrapy.extensions.logstats] INFO: Crawled 1 pages (at 0 pages/min), scraped 247 items (at 130 items/min)\n",
      "2024-10-11 20:13:51 [BookingSpider1] INFO: Processing city: Paris\n",
      "2024-10-11 20:20:18 [scrapy.extensions.logstats] INFO: Crawled 1 pages (at 0 pages/min), scraped 363 items (at 116 items/min)\n",
      "2024-10-11 20:20:19 [BookingSpider1] INFO: Processing city: Amiens\n",
      "2024-10-11 20:20:53 [BookingSpider1] INFO: Processing city: Lille\n",
      "2024-10-11 20:21:31 [scrapy.extensions.logstats] INFO: Crawled 1 pages (at 0 pages/min), scraped 1311 items (at 948 items/min)\n",
      "2024-10-11 20:21:31 [BookingSpider1] INFO: Processing city: Strasbourg\n",
      "2024-10-11 20:22:26 [scrapy.extensions.logstats] INFO: Crawled 1 pages (at 0 pages/min), scraped 1462 items (at 151 items/min)\n",
      "2024-10-11 20:22:26 [BookingSpider1] INFO: Processing city: Chateau du Haut Koenigsbourg\n",
      "2024-10-11 20:23:04 [BookingSpider1] INFO: Processing city: Colmar\n",
      "2024-10-11 20:23:41 [scrapy.extensions.logstats] INFO: Crawled 1 pages (at 0 pages/min), scraped 1557 items (at 95 items/min)\n",
      "2024-10-11 20:23:41 [BookingSpider1] INFO: Processing city: Eguisheim\n",
      "2024-10-11 20:24:09 [scrapy.extensions.logstats] INFO: Crawled 1 pages (at 0 pages/min), scraped 1669 items (at 112 items/min)\n",
      "2024-10-11 20:24:09 [BookingSpider1] INFO: Processing city: Besancon\n",
      "2024-10-11 20:24:47 [BookingSpider1] INFO: Processing city: Dijon\n",
      "2024-10-11 20:25:24 [BookingSpider1] INFO: Processing city: Annecy\n",
      "2024-10-11 20:26:01 [scrapy.extensions.logstats] INFO: Crawled 1 pages (at 0 pages/min), scraped 1773 items (at 104 items/min)\n",
      "2024-10-11 20:26:01 [BookingSpider1] INFO: Processing city: Grenoble\n",
      "2024-10-11 20:26:38 [BookingSpider1] INFO: Processing city: Lyon\n",
      "2024-10-11 20:27:52 [scrapy.extensions.logstats] INFO: Crawled 1 pages (at 0 pages/min), scraped 1933 items (at 160 items/min)\n",
      "2024-10-11 20:27:52 [BookingSpider1] INFO: Processing city: Gorges du Verdon\n",
      "2024-10-11 20:28:29 [BookingSpider1] INFO: Processing city: Bormes les Mimosas\n",
      "2024-10-11 20:28:58 [scrapy.extensions.logstats] INFO: Crawled 1 pages (at 0 pages/min), scraped 2133 items (at 200 items/min)\n",
      "2024-10-11 20:28:58 [BookingSpider1] INFO: Processing city: Cassis\n",
      "2024-10-11 20:29:26 [BookingSpider1] INFO: Processing city: Marseille\n",
      "2024-10-11 20:30:31 [scrapy.extensions.logstats] INFO: Crawled 1 pages (at 0 pages/min), scraped 2272 items (at 139 items/min)\n",
      "2024-10-11 20:30:31 [BookingSpider1] INFO: Processing city: Aix en Provence\n",
      "2024-10-11 20:31:09 [scrapy.extensions.logstats] INFO: Crawled 1 pages (at 0 pages/min), scraped 2433 items (at 161 items/min)\n",
      "2024-10-11 20:31:09 [BookingSpider1] INFO: Processing city: Avignon\n",
      "2024-10-11 20:31:46 [BookingSpider1] INFO: Processing city: Uzes\n",
      "2024-10-11 20:32:15 [BookingSpider1] INFO: Processing city: Nimes\n",
      "2024-10-11 20:32:52 [scrapy.extensions.logstats] INFO: Crawled 1 pages (at 0 pages/min), scraped 2568 items (at 135 items/min)\n",
      "2024-10-11 20:32:52 [BookingSpider1] INFO: Processing city: Aigues Mortes\n",
      "2024-10-11 20:33:20 [scrapy.extensions.logstats] INFO: Crawled 1 pages (at 0 pages/min), scraped 2673 items (at 105 items/min)\n",
      "2024-10-11 20:33:20 [BookingSpider1] INFO: Processing city: Saintes Maries de la mer\n",
      "2024-10-11 20:33:57 [BookingSpider1] INFO: Processing city: Collioure\n",
      "2024-10-11 20:34:26 [scrapy.extensions.logstats] INFO: Crawled 1 pages (at 0 pages/min), scraped 2728 items (at 55 items/min)\n",
      "2024-10-11 20:34:26 [BookingSpider1] INFO: Processing city: Carcassonne\n",
      "2024-10-11 20:35:03 [BookingSpider1] INFO: Processing city: Ariege\n",
      "2024-10-11 20:35:40 [scrapy.extensions.logstats] INFO: Crawled 1 pages (at 0 pages/min), scraped 2847 items (at 119 items/min)\n",
      "2024-10-11 20:35:40 [BookingSpider1] INFO: Processing city: Toulouse\n",
      "2024-10-11 20:36:36 [scrapy.extensions.logstats] INFO: Crawled 1 pages (at 0 pages/min), scraped 2959 items (at 112 items/min)\n",
      "2024-10-11 20:36:36 [BookingSpider1] INFO: Processing city: Montauban\n",
      "2024-10-11 20:37:13 [BookingSpider1] INFO: Processing city: Biarritz\n",
      "2024-10-11 20:37:51 [scrapy.extensions.logstats] INFO: Crawled 1 pages (at 0 pages/min), scraped 3056 items (at 97 items/min)\n",
      "2024-10-11 20:37:51 [BookingSpider1] INFO: Processing city: Bayonne\n",
      "2024-10-11 20:38:19 [scrapy.extensions.logstats] INFO: Crawled 1 pages (at 0 pages/min), scraped 3179 items (at 123 items/min)\n",
      "2024-10-11 20:38:19 [BookingSpider1] INFO: Processing city: La Rochelle\n",
      "2024-10-11 20:38:56 [scrapy.extensions.logstats] INFO: Crawled 1 pages (at 0 pages/min), scraped 3238 items (at 59 items/min)\n",
      "2024-10-11 20:38:56 [scrapy.core.engine] INFO: Closing spider (finished)\n",
      "2024-10-11 20:38:58 [scrapy.extensions.feedexport] INFO: Stored json feed (3238 items) in: src/BookingInfo.json\n",
      "2024-10-11 20:38:58 [scrapy.statscollectors] INFO: Dumping Scrapy stats:\n",
      "{'downloader/request_bytes': 1336,\n",
      " 'downloader/request_count': 2,\n",
      " 'downloader/request_method_count/GET': 2,\n",
      " 'downloader/response_bytes': 166778,\n",
      " 'downloader/response_count': 2,\n",
      " 'downloader/response_status_count/200': 1,\n",
      " 'downloader/response_status_count/302': 1,\n",
      " 'elapsed_time_seconds': 1686.776623,\n",
      " 'feedexport/success_count/FileFeedStorage': 1,\n",
      " 'finish_reason': 'finished',\n",
      " 'finish_time': datetime.datetime(2024, 10, 11, 18, 38, 58, 983528, tzinfo=datetime.timezone.utc),\n",
      " 'httpcompression/response_bytes': 694491,\n",
      " 'httpcompression/response_count': 1,\n",
      " 'item_scraped_count': 3238,\n",
      " 'log_count/INFO': 66,\n",
      " 'log_count/WARNING': 1,\n",
      " 'response_received_count': 1,\n",
      " 'scheduler/dequeued': 2,\n",
      " 'scheduler/dequeued/memory': 2,\n",
      " 'scheduler/enqueued': 2,\n",
      " 'scheduler/enqueued/memory': 2,\n",
      " 'start_time': datetime.datetime(2024, 10, 11, 18, 10, 52, 206905, tzinfo=datetime.timezone.utc)}\n",
      "2024-10-11 20:38:58 [scrapy.core.engine] INFO: Spider closed (finished)\n"
     ]
    }
   ],
   "source": [
    "!python src/BookingSpider.py"
   ]
  },
  {
   "cell_type": "code",
   "execution_count": 52,
   "metadata": {},
   "outputs": [],
   "source": [
    "os.chdir(\"src\")"
   ]
  },
  {
   "cell_type": "code",
   "execution_count": 411,
   "metadata": {},
   "outputs": [
    {
     "data": {
      "text/plain": [
       "['https://www.booking.com/hotel/fr/hotel-saint-aubert.fr.html',\n",
       " 'https://www.booking.com/hotel/fr/mont-saint-michel.fr.html',\n",
       " 'https://www.booking.com/hotel/fr/le-relais-saint-michel.fr.html',\n",
       " 'https://www.booking.com/hotel/fr/la-mere-poulard.fr.html',\n",
       " 'https://www.booking.com/hotel/fr/les-terrasses-poulard.fr.html',\n",
       " 'https://www.booking.com/hotel/fr/la-vieille-auberge-le-mont-saint-michel.fr.html',\n",
       " 'https://www.booking.com/hotel/fr/le-relais-du-roy.fr.html',\n",
       " 'https://www.booking.com/hotel/fr/vert.fr.html',\n",
       " 'https://www.booking.com/hotel/fr/le-mouton-blanc-le-mont-saint-michel.fr.html',\n",
       " 'https://www.booking.com/hotel/fr/ha-el-la-croix-blanche.fr.html',\n",
       " 'https://www.booking.com/hotel/fr/hotel-gabriel.fr.html',\n",
       " 'https://www.booking.com/hotel/fr/auberge-saint-pierre.fr.html',\n",
       " 'https://www.booking.com/hotel/fr/auberge-de-la-baie.fr.html',\n",
       " 'https://www.booking.com/hotel/fr/ermitage-mont-saint-michel-beauvoir.fr.html',\n",
       " 'https://www.booking.com/hotel/fr/vacanceole-les-chambres-de-la-baie.fr.html',\n",
       " 'https://www.booking.com/hotel/fr/le-manoir-de-la-roche-torin.fr.html',\n",
       " 'https://www.booking.com/hotel/fr/et-residence-club-mmv-le-domaine-du-mont.fr.html',\n",
       " 'https://www.booking.com/hotel/fr/le-lithana.fr.html',\n",
       " 'https://www.booking.com/hotel/fr/le-xiv.fr.html',\n",
       " 'https://www.booking.com/hotel/fr/ariane-pontorson.fr.html',\n",
       " 'https://www.booking.com/hotel/fr/de-france-vauban.fr.html',\n",
       " 'https://www.booking.com/hotel/fr/eugenie-pontorson.fr.html',\n",
       " 'https://www.booking.com/hotel/fr/ibis-pontorson-baie-du-mont-saint-michel.fr.html',\n",
       " 'https://www.booking.com/hotel/fr/montgomery.fr.html',\n",
       " 'https://www.booking.com/hotel/fr/lessalines.fr.html',\n",
       " 'https://www.booking.com/hotel/fr/la-tour-brette.fr.html',\n",
       " 'https://www.booking.com/hotel/fr/victor-hugo-pontorson.fr.html',\n",
       " 'https://www.booking.com/hotel/fr/le-grillon-pontorson.fr.html',\n",
       " 'https://www.booking.com/hotel/fr/b-amp-b-avranches.fr.html',\n",
       " 'https://www.booking.com/hotel/fr/formule-1-avranches-baie-du-mont-saint-michel.fr.html',\n",
       " 'https://www.booking.com/hotel/fr/assiettes.fr.html',\n",
       " 'https://www.booking.com/hotel/fr/des-bains-saint-jean-le-thomas.fr.html',\n",
       " 'https://www.booking.com/hotel/fr/la-ramade.fr.html',\n",
       " 'https://www.booking.com/hotel/fr/le-pommeray.fr.html',\n",
       " 'https://www.booking.com/hotel/fr/le-gue-du-holme.fr.html',\n",
       " 'https://www.booking.com/hotel/fr/ibis-avranches-baie-du-mont-st-michel.fr.html',\n",
       " 'https://www.booking.com/hotel/fr/hotellepatton.fr.html',\n",
       " 'https://www.booking.com/hotel/fr/ha-tel-de-la-coix-d-or.fr.html',\n",
       " 'https://www.booking.com/hotel/fr/altos.fr.html',\n",
       " 'https://www.booking.com/hotel/fr/logis-auberge-de-carolles.fr.html',\n",
       " 'https://www.booking.com/hotel/fr/les-hermelles.fr.html',\n",
       " 'https://www.booking.com/hotel/fr/ducey-appart-les-rivieres.fr.html',\n",
       " 'https://www.booking.com/hotel/fr/des-pins-jullouville.fr.html',\n",
       " 'https://www.booking.com/hotel/fr/kyriad-dol-de-bretagn.fr.html',\n",
       " 'https://www.booking.com/hotel/fr/lemoulindeducey.fr.html',\n",
       " 'https://www.booking.com/hotel/fr/le-bretagne-le-vivier-sur-mer.fr.html',\n",
       " 'https://www.booking.com/hotel/fr/le-duguesclin-la-haye-pesnel.fr.html',\n",
       " 'https://www.booking.com/hotel/fr/hotel-beau-rivage.fr.html',\n",
       " 'https://www.booking.com/hotel/fr/auberge-de-la-selune.fr.html',\n",
       " 'https://www.booking.com/hotel/fr/ibis-budget-granville.fr.html',\n",
       " 'https://www.booking.com/hotel/fr/le-pra-c-vithal.fr.html',\n",
       " 'https://www.booking.com/hotel/fr/ibis-granville-port-de-plaisance.fr.html',\n",
       " 'https://www.booking.com/hotel/fr/les-ormes-domaine-et-resort.fr.html',\n",
       " 'https://www.booking.com/hotel/fr/au-bout-du-quai.fr.html',\n",
       " 'https://www.booking.com/hotel/fr/des-bains-granville.fr.html',\n",
       " 'https://www.booking.com/hotel/fr/hotel-le-grand-large.fr.html',\n",
       " 'https://www.booking.com/hotel/fr/brit-hotel-essentiel-de-granville.fr.html',\n",
       " 'https://www.booking.com/hotel/fr/de-la-gare-dol-de-bretagne.fr.html',\n",
       " 'https://www.booking.com/hotel/fr/de-bretagne-dol-de-bretagne.fr.html',\n",
       " 'https://www.booking.com/hotel/fr/chateau-de-la-ballue.fr.html',\n",
       " 'https://www.booking.com/hotel/fr/du-tertre.fr.html',\n",
       " 'https://www.booking.com/hotel/fr/l-39-arrivee.fr.html',\n",
       " 'https://www.booking.com/hotel/fr/ar-iniz.fr.html',\n",
       " 'https://www.booking.com/hotel/fr/alba-saint-malo.fr.html',\n",
       " 'https://www.booking.com/hotel/fr/san-pedro.fr.html',\n",
       " 'https://www.booking.com/hotel/fr/bristol-union.fr.html',\n",
       " 'https://www.booking.com/hotel/fr/la-cote-d-39-emeraude.fr.html',\n",
       " 'https://www.booking.com/hotel/fr/kyriad-prestige-saint-malo-xml.fr.html',\n",
       " 'https://www.booking.com/hotel/fr/de-la-gare-saint-malo.fr.html',\n",
       " 'https://www.booking.com/hotel/fr/de-la-cite.fr.html',\n",
       " 'https://www.booking.com/hotel/fr/mascottesaintmalo.fr.html',\n",
       " 'https://www.booking.com/hotel/fr/b-b-saint-malo.fr.html',\n",
       " 'https://www.booking.com/hotel/fr/de-france-et-chateaubriand.fr.html',\n",
       " 'https://www.booking.com/hotel/fr/le-nautilus.fr.html',\n",
       " 'https://www.booking.com/hotel/fr/oceaniasaintmalo.fr.html',\n",
       " 'https://www.booking.com/hotel/fr/ar-terra-nova.fr.html',\n",
       " 'https://www.booking.com/hotel/fr/bleumarinesaintmalo.fr.html',\n",
       " 'https://www.booking.com/hotel/fr/des-abers.fr.html',\n",
       " 'https://www.booking.com/hotel/fr/desthermessaintmalo.fr.html',\n",
       " 'https://www.booking.com/hotel/fr/cartier.fr.html',\n",
       " 'https://www.booking.com/hotel/fr/ker-annick.fr.html',\n",
       " 'https://www.booking.com/hotel/fr/ambassadeurs.fr.html',\n",
       " 'https://www.booking.com/hotel/fr/les-charmettes.fr.html',\n",
       " 'https://www.booking.com/hotel/fr/maevatymat.fr.html',\n",
       " 'https://www.booking.com/hotel/fr/manoir-du-cunningham.fr.html',\n",
       " 'https://www.booking.com/hotel/fr/les-chiens-du-guet.fr.html',\n",
       " 'https://www.booking.com/hotel/fr/palais.fr.html',\n",
       " 'https://www.booking.com/hotel/fr/la-rotonde-st-malo.fr.html',\n",
       " 'https://www.booking.com/hotel/fr/sarl-porte-saint-pierre.fr.html',\n",
       " 'https://www.booking.com/hotel/fr/dulouvresaintmalo.fr.html',\n",
       " 'https://www.booking.com/hotel/fr/de-l-europe-appartements.fr.html',\n",
       " 'https://www.booking.com/hotel/fr/la-maison-des-armateurs.fr.html',\n",
       " 'https://www.booking.com/hotel/fr/brasserie-armoricaine.fr.html',\n",
       " 'https://www.booking.com/hotel/fr/lavillefromoysainmalo.fr.html',\n",
       " 'https://www.booking.com/hotel/fr/hotelf1-saint-malo.fr.html',\n",
       " 'https://www.booking.com/hotel/fr/ibis-styles-saint-malo-port.fr.html',\n",
       " 'https://www.booking.com/hotel/fr/le-cocktail-bar.fr.html',\n",
       " 'https://www.booking.com/hotel/fr/best-western-alexandra.fr.html',\n",
       " 'https://www.booking.com/hotel/fr/ha-tel-le-nouveau-monde.fr.html',\n",
       " 'https://www.booking.com/hotel/fr/ascott.fr.html',\n",
       " 'https://www.booking.com/hotel/fr/elizabeth.fr.html',\n",
       " 'https://www.booking.com/hotel/fr/aux-voyageurs.fr.html',\n",
       " 'https://www.booking.com/hotel/fr/ibis-saint-malo-plage.fr.html',\n",
       " 'https://www.booking.com/hotel/fr/belem.fr.html',\n",
       " 'https://www.booking.com/hotel/fr/aubade.fr.html',\n",
       " 'https://www.booking.com/hotel/fr/eden-saint-malo.fr.html',\n",
       " 'https://www.booking.com/hotel/fr/etap-saint-malo-centre.fr.html',\n",
       " 'https://www.booking.com/hotel/fr/le-croiseur.fr.html',\n",
       " 'https://www.booking.com/hotel/fr/all-seasons-saint-malo-centre-historique.fr.html',\n",
       " 'https://www.booking.com/hotel/fr/quic-en-groigne-saint-malo.fr.html',\n",
       " 'https://www.booking.com/hotel/fr/le-surcouf.fr.html',\n",
       " 'https://www.booking.com/hotel/fr/adresse.fr.html',\n",
       " 'https://www.booking.com/hotel/fr/ajoncsdor.fr.html',\n",
       " 'https://www.booking.com/hotel/fr/ibis-saint-malo-madeleine.fr.html',\n",
       " 'https://www.booking.com/hotel/fr/ha-tel-le-jersey-saint-malo.fr.html',\n",
       " 'https://www.booking.com/hotel/fr/beaufort.fr.html',\n",
       " 'https://www.booking.com/hotel/fr/arcantis-la-grassinais.fr.html',\n",
       " 'https://www.booking.com/hotel/fr/brit-le-transat.fr.html',\n",
       " 'https://www.booking.com/hotel/fr/chateau-du-colombie.fr.html',\n",
       " 'https://www.booking.com/hotel/fr/residence-reine-marine.fr.html',\n",
       " 'https://www.booking.com/hotel/fr/d-aleth.fr.html',\n",
       " 'https://www.booking.com/hotel/fr/golden-tulip-saint-malo.fr.html',\n",
       " 'https://www.booking.com/hotel/fr/st-malo-front-de-mer.fr.html',\n",
       " 'https://www.booking.com/hotel/fr/le-valmarin-malouiniere-du-18eme-siecl.fr.html',\n",
       " 'https://www.booking.com/hotel/fr/best-western-balmoral.fr.html',\n",
       " 'https://www.booking.com/hotel/fr/domaine-de-la-barbinais.fr.html',\n",
       " 'https://www.booking.com/hotel/fr/antinea.fr.html',\n",
       " 'https://www.booking.com/hotel/fr/anne-de-bretagne.fr.html',\n",
       " 'https://www.booking.com/hotel/fr/de-l-univers.fr.html',\n",
       " 'https://www.booking.com/hotel/fr/le-britannic.fr.html',\n",
       " 'https://www.booking.com/hotel/fr/residence-neptunia.fr.html',\n",
       " 'https://www.booking.com/hotel/fr/le-port-malo.fr.html',\n",
       " 'https://www.booking.com/hotel/fr/artimont-by-les-ambassadeurs.fr.html',\n",
       " 'https://www.booking.com/hotel/fr/residence-le-rochebonne.fr.html',\n",
       " 'https://www.booking.com/hotel/fr/appartements-des-marins.fr.html',\n",
       " 'https://www.booking.com/hotel/fr/villa-des-thermes.fr.html',\n",
       " 'https://www.booking.com/hotel/fr/domaine-de-bayeux.fr.html',\n",
       " 'https://www.booking.com/hotel/fr/hoteldebrunville.fr.html',\n",
       " 'https://www.booking.com/hotel/fr/premiere-classe-bayeux.fr.html',\n",
       " 'https://www.booking.com/hotel/fr/la-maison-de-mathilde.fr.html',\n",
       " 'https://www.booking.com/hotel/fr/le-lion-d-or-bayeux.fr.html',\n",
       " 'https://www.booking.com/hotel/fr/reine-mathilde-bayeux.fr.html',\n",
       " 'https://www.booking.com/hotel/fr/au-loup-historic-apartments-bayeux.fr.html',\n",
       " 'https://www.booking.com/hotel/fr/chateau-de-bellefontaine.fr.html',\n",
       " 'https://www.booking.com/hotel/fr/domitys-les-falaises-blanches.fr.html',\n",
       " 'https://www.booking.com/hotel/fr/churchill-bayeux.fr.html',\n",
       " 'https://www.booking.com/hotel/fr/campanile-bayeux.fr.html',\n",
       " 'https://www.booking.com/hotel/fr/hotelduluxembourg.fr.html',\n",
       " 'https://www.booking.com/hotel/fr/le-bayeux.fr.html',\n",
       " 'https://www.booking.com/hotel/fr/novotel.fr.html',\n",
       " 'https://www.booking.com/hotel/fr/d-argouges.fr.html',\n",
       " 'https://www.booking.com/hotel/fr/saint-patrice.fr.html',\n",
       " 'https://www.booking.com/hotel/fr/appart-saint-patrice.fr.html',\n",
       " 'https://www.booking.com/hotel/fr/villa-lara-ha-tel.fr.html',\n",
       " 'https://www.booking.com/hotel/fr/le-mogador-bayeux.fr.html',\n",
       " 'https://www.booking.com/hotel/fr/le-relais-des-3-pommes.fr.html',\n",
       " 'https://www.booking.com/hotel/fr/domaine-du-grand-caugy.fr.html',\n",
       " 'https://www.booking.com/hotel/fr/etap-bayeux.fr.html',\n",
       " 'https://www.booking.com/hotel/fr/chateau-saint-gilles.fr.html',\n",
       " 'https://www.booking.com/hotel/fr/chateau-de-sully.fr.html',\n",
       " 'https://www.booking.com/hotel/fr/la-clos-de-l-39-ancien-pressoir.fr.html',\n",
       " 'https://www.booking.com/hotel/fr/residence-pierre-vacances-omaha-beach.fr.html',\n",
       " 'https://www.booking.com/hotel/fr/de-normandie-arromanches.fr.html',\n",
       " 'https://www.booking.com/hotel/fr/ha-tel-le-mountbatten.fr.html',\n",
       " 'https://www.booking.com/hotel/fr/ibis-bayeux-port-en-bessin.fr.html',\n",
       " 'https://www.booking.com/hotel/fr/le-chanteclair.fr.html',\n",
       " 'https://www.booking.com/hotel/fr/de-la-marine-port-en-bessin-huppain.fr.html',\n",
       " 'https://www.booking.com/hotel/fr/la-rosiere.fr.html',\n",
       " 'https://www.booking.com/hotel/fr/kinghotel.fr.html',\n",
       " 'https://www.booking.com/hotel/fr/de-la-marine.fr.html',\n",
       " 'https://www.booking.com/hotel/fr/omaha-beach.fr.html',\n",
       " 'https://www.booking.com/hotel/fr/le-mulberry.fr.html',\n",
       " 'https://www.booking.com/hotel/fr/chateau-la-cheneviere.fr.html',\n",
       " 'https://www.booking.com/hotel/fr/c2a-residence-gold-beach.fr.html',\n",
       " 'https://www.booking.com/hotel/fr/hostellerie-saint-martin-creully.fr.html',\n",
       " 'https://www.booking.com/hotel/fr/domaine-de-l-hostreiere.fr.html',\n",
       " 'https://www.booking.com/hotel/fr/chateau-d-audrieu.fr.html',\n",
       " 'https://www.booking.com/hotel/fr/chateau-de-grand-tonne.fr.html',\n",
       " 'https://www.booking.com/hotel/fr/le-manoir-de-mathan.fr.html',\n",
       " 'https://www.booking.com/hotel/fr/club-belambra-location-colleville-sur-mer-omaha-beach.fr.html',\n",
       " 'https://www.booking.com/hotel/fr/ferme-de-la-ranconniere.fr.html',\n",
       " 'https://www.booking.com/hotel/fr/la-grande-ferme-maison-de-maitre.fr.html',\n",
       " 'https://www.booking.com/hotel/fr/manoir-de-mathan-appartement-prestige-residentiel.fr.html',\n",
       " 'https://www.booking.com/hotel/fr/manoir-de-mathan-chambre-junior-suite-pmr-residentielle.fr.html',\n",
       " 'https://www.booking.com/hotel/fr/de-la-plage-courseulles-sur-mer.fr.html',\n",
       " 'https://www.booking.com/hotel/fr/la-cremaillere-le-gytan.fr.html',\n",
       " 'https://www.booking.com/hotel/fr/chateau-de-bernesq-sarona-farm.fr.html',\n",
       " 'https://www.booking.com/hotel/fr/domaine-de-coeurmandie.fr.html',\n",
       " 'https://www.booking.com/hotel/fr/maeva-ra-c-sidence-le-chant-des-oiseaux.fr.html',\n",
       " 'https://www.booking.com/hotel/fr/chateau-du-bu-anctoville.fr.html',\n",
       " 'https://www.booking.com/hotel/fr/la-sapiniere-saint-laurent-sur-mer.fr.html',\n",
       " 'https://www.booking.com/hotel/fr/du-casino-vierville-sur-mer.fr.html',\n",
       " 'https://www.booking.com/hotel/fr/domitys-la-plage-de-nacre.fr.html',\n",
       " 'https://www.booking.com/hotel/fr/la-pecherie.fr.html',\n",
       " 'https://www.booking.com/hotel/fr/le-clos-normand.fr.html',\n",
       " 'https://www.booking.com/hotel/fr/ace-caen-nord-memorial.fr.html',\n",
       " 'https://www.booking.com/hotel/fr/b-amp-b-caen-memorial.fr.html',\n",
       " 'https://www.booking.com/hotel/fr/kyriad-direct-caen-nord-memorial.fr.html',\n",
       " 'https://www.booking.com/hotel/fr/le-poisson-dans-tous-ses-etats.fr.html',\n",
       " 'https://www.booking.com/hotel/fr/balladins-caen-memorial.fr.html',\n",
       " 'https://www.booking.com/hotel/fr/etap-bretteville-sur-odon.fr.html',\n",
       " 'https://www.booking.com/hotel/fr/au-vieux-puits.fr.html',\n",
       " 'https://www.booking.com/hotel/fr/hotelcrocus.fr.html',\n",
       " 'https://www.booking.com/hotel/fr/premiere-classe-caen-nord-ma-c-morial-xml.fr.html',\n",
       " 'https://www.booking.com/hotel/fr/les-3-rois-by-yy.fr.html',\n",
       " 'https://www.booking.com/hotel/fr/le-saint-aubin.fr.html',\n",
       " 'https://www.booking.com/hotel/fr/ibis-budget-caen-memorial.fr.html',\n",
       " 'https://www.booking.com/hotel/fr/the-originals-city-hotel-otelinn-caen.fr.html',\n",
       " 'https://www.booking.com/hotel/fr/auberge-de-la-luzerne.fr.html',\n",
       " 'https://www.booking.com/hotel/fr/caen-porte-de-bretagne.fr.html',\n",
       " 'https://www.booking.com/hotel/fr/de-normandie-saint-aubin-sur-mer.fr.html',\n",
       " 'https://www.booking.com/hotel/fr/hilton-garden-inn-le-havre-centre.fr.html',\n",
       " 'https://www.booking.com/hotel/fr/comfort-d-angleterre.fr.html',\n",
       " 'https://www.booking.com/hotel/fr/all-suites-appart-le-havre.fr.html',\n",
       " 'https://www.booking.com/hotel/fr/pasino.fr.html',\n",
       " 'https://www.booking.com/hotel/fr/carmin.fr.html',\n",
       " 'https://www.booking.com/hotel/fr/campanile-le-havre-centre.fr.html',\n",
       " 'https://www.booking.com/hotel/fr/la-baraka.fr.html',\n",
       " 'https://www.booking.com/hotel/fr/odalys-city-le-havre-centre-les-docks.fr.html',\n",
       " 'https://www.booking.com/hotel/fr/arthur-residency-luxury-apartment-gare-le-havre.fr.html',\n",
       " 'https://www.booking.com/hotel/fr/des-phares.fr.html',\n",
       " 'https://www.booking.com/hotel/fr/kyriadlehavrecentre.fr.html',\n",
       " 'https://www.booking.com/hotel/fr/nomad-le-havre.fr.html',\n",
       " 'https://www.booking.com/hotel/fr/vent-d-ouest-le-havre.fr.html',\n",
       " 'https://www.booking.com/hotel/fr/art.fr.html',\n",
       " 'https://www.booking.com/hotel/fr/jost-le-havre.fr.html',\n",
       " 'https://www.booking.com/hotel/fr/hotelterminuslehavre.fr.html',\n",
       " 'https://www.booking.com/hotel/fr/celtic.fr.html',\n",
       " 'https://www.booking.com/hotel/fr/appart-city-cap-affaires-le-havre.fr.html',\n",
       " 'https://www.booking.com/hotel/fr/odalys-city-le-havre-centre-gare.fr.html',\n",
       " 'https://www.booking.com/hotel/fr/hotelibislehavre.fr.html',\n",
       " 'https://www.booking.com/hotel/fr/ibis-budget-le-havre-centre.fr.html',\n",
       " 'https://www.booking.com/hotel/fr/premiere-classe-le-havre-centre.fr.html',\n",
       " 'https://www.booking.com/hotel/fr/eklo-hotels-le-havre.fr.html',\n",
       " 'https://www.booking.com/hotel/fr/residence-hoteliere-de-l-estuaire.fr.html',\n",
       " 'https://www.booking.com/hotel/fr/adagio-access-le-havre-les-docks.fr.html',\n",
       " 'https://www.booking.com/hotel/fr/mondial-le-havre123.fr.html',\n",
       " 'https://www.booking.com/hotel/fr/mercure-bassin-du-commerce.fr.html',\n",
       " 'https://www.booking.com/hotel/fr/smart-appart-le-havre.fr.html',\n",
       " 'https://www.booking.com/hotel/fr/la-grande-ecole-le-havre.fr.html',\n",
       " 'https://www.booking.com/hotel/fr/citotel-le-marly.fr.html',\n",
       " 'https://www.booking.com/hotel/fr/smart-appart-le-havre-105.fr.html',\n",
       " 'https://www.booking.com/hotel/fr/les-voiles-sur-le-front-de-mer.fr.html',\n",
       " 'https://www.booking.com/hotel/fr/novotellehavre.fr.html',\n",
       " 'https://www.booking.com/hotel/fr/le-green.fr.html',\n",
       " 'https://www.booking.com/hotel/fr/lh-rooms-location.fr.html',\n",
       " 'https://www.booking.com/hotel/fr/le-vieux-carre.fr.html',\n",
       " 'https://www.booking.com/hotel/fr/rouencentre.fr.html',\n",
       " 'https://www.booking.com/hotel/fr/radisson-blu-rouen-centre.fr.html',\n",
       " 'https://www.booking.com/hotel/fr/les-inities-rouen.fr.html',\n",
       " 'https://www.booking.com/hotel/fr/ibis-rouen-centre-rive-droite.fr.html',\n",
       " 'https://www.booking.com/hotel/fr/domitys-les-mosaiques.fr.html',\n",
       " 'https://www.booking.com/hotel/fr/de-la-cathedrale.fr.html',\n",
       " 'https://www.booking.com/hotel/fr/alive-hotel-de-quebec.fr.html',\n",
       " 'https://www.booking.com/hotel/fr/hotellitterairegustaveflaubert.fr.html',\n",
       " 'https://www.booking.com/hotel/fr/lemorand.fr.html',\n",
       " 'https://www.booking.com/hotel/fr/novotel-rouen-centre-cathedrale.fr.html',\n",
       " 'https://www.booking.com/hotel/fr/dandy.fr.html',\n",
       " 'https://www.booking.com/hotel/fr/aparthotel-adagio-access-rouen-centre-cathedrale.fr.html',\n",
       " 'https://www.booking.com/hotel/fr/mercure-rouen-champ-de-mars.fr.html',\n",
       " 'https://www.booking.com/hotel/fr/comforthotelrouencentre.fr.html',\n",
       " 'https://www.booking.com/hotel/fr/le-relais-des-2-rivieres.fr.html',\n",
       " 'https://www.booking.com/hotel/fr/ibis-rouen-champ-de-mars.fr.html',\n",
       " 'https://www.booking.com/hotel/fr/cenntre-rouen.fr.html',\n",
       " 'https://www.booking.com/hotel/fr/hyatt-place-rouen.fr.html',\n",
       " 'https://www.booking.com/hotel/fr/hotel-de-paris-rouen.fr.html',\n",
       " 'https://www.booking.com/hotel/fr/hotel-notre-dame.fr.html',\n",
       " 'https://www.booking.com/hotel/fr/ibis-rouen-centre-rive-gauche-st-sever.fr.html',\n",
       " 'https://www.booking.com/hotel/fr/ibis-styles-rouen-centre-cathedrale.fr.html',\n",
       " 'https://www.booking.com/hotel/fr/brit-versan.fr.html',\n",
       " 'https://www.booking.com/hotel/fr/holiday-inn-express-rouen-centre-rive-gauche.fr.html',\n",
       " 'https://www.booking.com/hotel/fr/residhome-rouen-normandie.fr.html',\n",
       " 'https://www.booking.com/hotel/fr/mercure-rouen-centre.fr.html',\n",
       " 'https://www.booking.com/hotel/fr/cardinal-rouen.fr.html',\n",
       " 'https://www.booking.com/hotel/fr/ibis-budget-rouen-centre-rive-gauche.fr.html',\n",
       " 'https://www.booking.com/hotel/fr/albarouen.fr.html',\n",
       " 'https://www.booking.com/hotel/fr/campanile-rouen-mermoz.fr.html',\n",
       " 'https://www.booking.com/hotel/fr/orion-rouen1.fr.html',\n",
       " 'https://www.booking.com/hotel/fr/astrid-rouen1.fr.html',\n",
       " 'https://www.booking.com/hotel/fr/kyriad-rouen-sud.fr.html',\n",
       " 'https://www.booking.com/hotel/fr/d-angleterre-rouen.fr.html',\n",
       " 'https://www.booking.com/hotel/fr/bestwesternhoteldedieppe.fr.html',\n",
       " 'https://www.booking.com/hotel/fr/suitehotel-rouen-normandie.fr.html',\n",
       " 'https://www.booking.com/hotel/fr/de-bourgtheroulde.fr.html',\n",
       " 'https://www.booking.com/hotel/fr/ibis-rouen-centre-rive-droite-pasteur.fr.html',\n",
       " 'https://www.booking.com/hotel/fr/ibis-styles-rouen-centre-rive-gauche.fr.html',\n",
       " 'https://www.booking.com/hotel/fr/de-l-europe-rouen.fr.html',\n",
       " 'https://www.booking.com/hotel/fr/les-boreales.fr.html',\n",
       " 'https://www.booking.com/hotel/fr/green-park-paris.fr.html',\n",
       " 'https://www.booking.com/hotel/fr/luxelthe.fr.html',\n",
       " 'https://www.booking.com/hotel/fr/verlain.fr.html',\n",
       " 'https://www.booking.com/hotel/fr/avenir-jonquiere.fr.html',\n",
       " 'https://www.booking.com/hotel/fr/secret-de-paris-design-boutique.fr.html',\n",
       " 'https://www.booking.com/hotel/fr/yuna-montmartre-aparthotel.fr.html',\n",
       " 'https://www.booking.com/hotel/fr/puy-dome.fr.html',\n",
       " 'https://www.booking.com/hotel/fr/timmontmartre.fr.html',\n",
       " 'https://www.booking.com/hotel/fr/comfort-paris-la-fayette.fr.html',\n",
       " 'https://www.booking.com/hotel/fr/hotel-artemisia-montmartre.fr.html',\n",
       " 'https://www.booking.com/hotel/fr/b-amp-b-porte-des-lilas.fr.html',\n",
       " 'https://www.booking.com/hotel/fr/hoteldesminesparis.fr.html',\n",
       " 'https://www.booking.com/hotel/fr/select-paris.fr.html',\n",
       " 'https://www.booking.com/hotel/fr/grand-de-france.fr.html',\n",
       " 'https://www.booking.com/hotel/fr/le-paris-saint-ouen.fr.html',\n",
       " 'https://www.booking.com/hotel/fr/motel-one-paris-porte-doree.fr.html',\n",
       " 'https://www.booking.com/hotel/fr/le-katorze.fr.html',\n",
       " 'https://www.booking.com/hotel/fr/hotel-le-mathurin.fr.html',\n",
       " 'https://www.booking.com/hotel/fr/des-vosges-paris.fr.html',\n",
       " 'https://www.booking.com/hotel/fr/lejardindecluny.fr.html',\n",
       " 'https://www.booking.com/hotel/fr/au-pacific.fr.html',\n",
       " 'https://www.booking.com/hotel/fr/parisboulevardberthier.fr.html',\n",
       " 'https://www.booking.com/hotel/fr/zora.fr.html',\n",
       " 'https://www.booking.com/hotel/fr/rivoli-paris.fr.html',\n",
       " 'https://www.booking.com/hotel/fr/grand-hotel-de-paris.fr.html',\n",
       " 'https://www.booking.com/hotel/fr/paris-rooms-amp-dreams.fr.html',\n",
       " 'https://www.booking.com/hotel/fr/saintpetersbourg.fr.html',\n",
       " 'https://www.booking.com/hotel/fr/gerando.fr.html',\n",
       " 'https://www.booking.com/hotel/fr/de-reims.fr.html',\n",
       " 'https://www.booking.com/hotel/fr/tinah-paris-aboukir.fr.html',\n",
       " 'https://www.booking.com/hotel/fr/aris-nord.fr.html',\n",
       " 'https://www.booking.com/hotel/fr/de-l-39-esperance.fr.html',\n",
       " 'https://www.booking.com/hotel/fr/tipi.fr.html',\n",
       " 'https://www.booking.com/hotel/fr/armoni-paris.fr.html',\n",
       " 'https://www.booking.com/hotel/fr/timhotel-blanche-fontaine.fr.html',\n",
       " 'https://www.booking.com/hotel/fr/aix-europe.fr.html',\n",
       " 'https://www.booking.com/hotel/fr/ha-tel-fabric.fr.html',\n",
       " 'https://www.booking.com/hotel/fr/lenox-montparnasse.fr.html',\n",
       " 'https://www.booking.com/hotel/fr/chatillon.fr.html',\n",
       " 'https://www.booking.com/hotel/fr/ra-c-sidence-cisp-kellermann.fr.html',\n",
       " 'https://www.booking.com/hotel/fr/hotelkyriaditaliegobelins.fr.html',\n",
       " 'https://www.booking.com/hotel/fr/de-bordeaux-paris.fr.html',\n",
       " 'https://www.booking.com/hotel/fr/bresil-opera.fr.html',\n",
       " 'https://www.booking.com/hotel/fr/flor-rivoli-paris.fr.html',\n",
       " 'https://www.booking.com/hotel/fr/luna-park.fr.html',\n",
       " 'https://www.booking.com/hotel/fr/courcelles-etoile.fr.html',\n",
       " 'https://www.booking.com/hotel/fr/de-flore-paris.fr.html',\n",
       " 'https://www.booking.com/hotel/fr/des-arts-paris.fr.html',\n",
       " 'https://www.booking.com/hotel/fr/villa-romantic.fr.html',\n",
       " 'https://www.booking.com/hotel/fr/de-bellevue.fr.html',\n",
       " 'https://www.booking.com/hotel/fr/relaislyonbastille.fr.html',\n",
       " 'https://www.booking.com/hotel/fr/des-pyrenees.fr.html',\n",
       " 'https://www.booking.com/hotel/fr/rose-bourbon.fr.html',\n",
       " 'https://www.booking.com/hotel/fr/hotelauroremontmartre.fr.html',\n",
       " 'https://www.booking.com/hotel/fr/comfort-hotel-lamarck-caulaincourt.fr.html',\n",
       " 'https://www.booking.com/hotel/fr/hotel-chateau-d-eau.fr.html',\n",
       " 'https://www.booking.com/hotel/fr/plazatoureiffel.fr.html',\n",
       " 'https://www.booking.com/hotel/fr/ha-tel-mimosa.fr.html',\n",
       " 'https://www.booking.com/hotel/fr/ub-paris.fr.html',\n",
       " 'https://www.booking.com/hotel/fr/le-patio-st-antoine.fr.html',\n",
       " 'https://www.booking.com/hotel/fr/hippodrome.fr.html',\n",
       " 'https://www.booking.com/hotel/fr/restaurant-au-boeuf-couronne.fr.html',\n",
       " 'https://www.booking.com/hotel/fr/virgina.fr.html',\n",
       " 'https://www.booking.com/hotel/fr/viator.fr.html',\n",
       " 'https://www.booking.com/hotel/fr/appart-city-cap-affaires-paris.fr.html',\n",
       " 'https://www.booking.com/hotel/fr/opera-batignolles.fr.html',\n",
       " 'https://www.booking.com/hotel/fr/le-relais-du-marais.fr.html',\n",
       " 'https://www.booking.com/hotel/fr/studia.fr.html',\n",
       " 'https://www.booking.com/hotel/fr/hotel-du-mont-dore.fr.html',\n",
       " 'https://www.booking.com/hotel/fr/paris-louis-blanc.fr.html',\n",
       " 'https://www.booking.com/hotel/fr/anya.fr.html',\n",
       " 'https://www.booking.com/hotel/fr/paris-ronceray-opera.fr.html',\n",
       " 'https://www.booking.com/hotel/fr/ha-tel-du-roussillon-paris.fr.html',\n",
       " 'https://www.booking.com/hotel/fr/ibis-paris-bercy-village.fr.html',\n",
       " 'https://www.booking.com/hotel/fr/hoteldesecoles.fr.html',\n",
       " 'https://www.booking.com/hotel/fr/de-paris-montmartre.fr.html',\n",
       " 'https://www.booking.com/hotel/fr/citotel-sport-hotel.fr.html',\n",
       " 'https://www.booking.com/hotel/fr/austin-s-saint-lazare.fr.html',\n",
       " 'https://www.booking.com/hotel/fr/comfort-inn-mouffetard-quartier-latin.fr.html',\n",
       " 'https://www.booking.com/hotel/fr/nouvel-hotel-eiffel.fr.html',\n",
       " 'https://www.booking.com/hotel/fr/gavarni.fr.html',\n",
       " 'https://www.booking.com/hotel/fr/les-jardins-du-marais.fr.html',\n",
       " 'https://www.booking.com/hotel/fr/terminus-montparnasse.fr.html',\n",
       " 'https://www.booking.com/hotel/fr/littlehotel.fr.html',\n",
       " 'https://www.booking.com/hotel/fr/bellevue-paris.fr.html',\n",
       " 'https://www.booking.com/hotel/fr/best-western-sydney-opera-paris1.fr.html',\n",
       " 'https://www.booking.com/hotel/fr/garden-paris.fr.html',\n",
       " 'https://www.booking.com/hotel/fr/welcome-paris.fr.html',\n",
       " 'https://www.booking.com/hotel/fr/hotel-montparnasse.fr.html',\n",
       " 'https://www.booking.com/hotel/fr/splendor.fr.html',\n",
       " 'https://www.booking.com/hotel/fr/am.fr.html',\n",
       " 'https://www.booking.com/hotel/fr/original-paris.fr.html',\n",
       " 'https://www.booking.com/hotel/fr/ha-tel-prince-montmartre.fr.html',\n",
       " 'https://www.booking.com/hotel/fr/modernestgermain.fr.html',\n",
       " 'https://www.booking.com/hotel/fr/gotty-opera.fr.html',\n",
       " 'https://www.booking.com/hotel/fr/citadines-aparthotel-austerlitz.fr.html',\n",
       " 'https://www.booking.com/hotel/fr/best-western-de-weha.fr.html',\n",
       " 'https://www.booking.com/hotel/fr/batignollesvilliers.fr.html',\n",
       " 'https://www.booking.com/hotel/fr/star-etoile-paris.fr.html',\n",
       " 'https://www.booking.com/hotel/fr/de-venise.fr.html',\n",
       " 'https://www.booking.com/hotel/fr/hotel-the-playce-by-happyculture.fr.html',\n",
       " 'https://www.booking.com/hotel/fr/flaubert.fr.html',\n",
       " 'https://www.booking.com/hotel/fr/amadeus-hotel.fr.html',\n",
       " 'https://www.booking.com/hotel/fr/prince-albert-gare-de-lyon.fr.html',\n",
       " 'https://www.booking.com/hotel/fr/park-lane-paris.fr.html',\n",
       " 'https://www.booking.com/hotel/fr/royal-saint-michel.fr.html',\n",
       " 'https://www.booking.com/hotel/fr/paris-voltaire.fr.html',\n",
       " 'https://www.booking.com/hotel/fr/appart-39-odalys-paris-xvii.fr.html',\n",
       " 'https://www.booking.com/hotel/fr/hoteldelille.fr.html',\n",
       " 'https://www.booking.com/hotel/fr/comforthotelsaintmartin.fr.html',\n",
       " 'https://www.booking.com/hotel/fr/kyriad-paris-18-porte-de-clignancourt-montmartre-xml.fr.html',\n",
       " 'https://www.booking.com/hotel/fr/du-cygne-paris.fr.html',\n",
       " 'https://www.booking.com/hotel/fr/ibis-gare-du-nord-chateau-landon.fr.html',\n",
       " 'https://www.booking.com/hotel/fr/choiseul-opera.fr.html',\n",
       " 'https://www.booking.com/hotel/fr/best-western-empire-elysees.fr.html',\n",
       " 'https://www.booking.com/hotel/fr/family-residence.fr.html',\n",
       " 'https://www.booking.com/hotel/fr/bwdebretagne.fr.html',\n",
       " 'https://www.booking.com/hotel/fr/altona-paris.fr.html',\n",
       " 'https://www.booking.com/hotel/fr/edenparis.fr.html',\n",
       " 'https://www.booking.com/hotel/fr/trianongaredulyon.fr.html',\n",
       " 'https://www.booking.com/hotel/fr/mary-s.fr.html',\n",
       " 'https://www.booking.com/hotel/fr/hotelpavillonmonceau.fr.html',\n",
       " 'https://www.booking.com/hotel/fr/pavillon-de-paris.fr.html',\n",
       " 'https://www.booking.com/hotel/fr/terminus-vaugirard.fr.html',\n",
       " 'https://www.booking.com/hotel/fr/aiglon.fr.html',\n",
       " 'https://www.booking.com/hotel/fr/hoteldesgrandsvoyageurs.fr.html',\n",
       " 'https://www.booking.com/hotel/fr/parisianer.fr.html',\n",
       " 'https://www.booking.com/hotel/fr/des-pavillons.fr.html',\n",
       " 'https://www.booking.com/hotel/fr/le-regent-paris.fr.html',\n",
       " 'https://www.booking.com/hotel/fr/saint-louis-pigalle.fr.html',\n",
       " 'https://www.booking.com/hotel/fr/aston-paris.fr.html',\n",
       " 'https://www.booking.com/hotel/fr/absolute.fr.html',\n",
       " 'https://www.booking.com/hotel/fr/grand-du-bel-air.fr.html',\n",
       " 'https://www.booking.com/hotel/fr/aqueduc.fr.html',\n",
       " 'https://www.booking.com/hotel/fr/stella-paris.fr.html',\n",
       " 'https://www.booking.com/hotel/fr/prince-albert-lyon-bercy.fr.html',\n",
       " 'https://www.booking.com/hotel/fr/peyris-opera.fr.html',\n",
       " 'https://www.booking.com/hotel/fr/comfort-paris-18eme-saint-pierre.fr.html',\n",
       " 'https://www.booking.com/hotel/fr/miss-fuller.fr.html',\n",
       " 'https://www.booking.com/hotel/fr/ambassadeurparis.fr.html',\n",
       " 'https://www.booking.com/hotel/fr/hoteledenmontmartre.fr.html',\n",
       " 'https://www.booking.com/hotel/fr/mogador-paris.fr.html',\n",
       " 'https://www.booking.com/hotel/fr/mirabeau-eiffel.fr.html',\n",
       " 'https://www.booking.com/hotel/fr/timjardindesplantes.fr.html',\n",
       " 'https://www.booking.com/hotel/fr/saintchristophe-closed.fr.html',\n",
       " 'https://www.booking.com/hotel/fr/emile-paris.fr.html',\n",
       " 'https://www.booking.com/hotel/fr/paris-saint-honore.fr.html',\n",
       " 'https://www.booking.com/hotel/fr/hotelfrancealbion.fr.html',\n",
       " 'https://www.booking.com/hotel/fr/residencerichemont.fr.html',\n",
       " 'https://www.booking.com/hotel/fr/des-deux-continents.fr.html',\n",
       " 'https://www.booking.com/hotel/fr/hor-les-lumieres.fr.html',\n",
       " 'https://www.booking.com/hotel/fr/prince-albert-wagram.fr.html',\n",
       " 'https://www.booking.com/hotel/fr/des-arts-paris1.fr.html',\n",
       " 'https://www.booking.com/hotel/fr/district-republique.fr.html',\n",
       " 'https://www.booking.com/hotel/fr/citotel-de-la-place-des-alpes.fr.html',\n",
       " 'https://www.booking.com/hotel/fr/terminus-orleans-paris.fr.html',\n",
       " 'https://www.booking.com/hotel/fr/grand-amelot-paris4.fr.html',\n",
       " 'https://www.booking.com/hotel/fr/hoteldeneuville.fr.html',\n",
       " 'https://www.booking.com/hotel/fr/ra-c-sidence-cisp-ravel.fr.html',\n",
       " 'https://www.booking.com/hotel/fr/home-latin.fr.html',\n",
       " 'https://www.booking.com/hotel/fr/hotel-de-lalma-pari.fr.html',\n",
       " 'https://www.booking.com/hotel/fr/eiffel-xv-paris.fr.html',\n",
       " 'https://www.booking.com/hotel/fr/marena.fr.html',\n",
       " 'https://www.booking.com/hotel/fr/liege-strasbourg.fr.html',\n",
       " 'https://www.booking.com/hotel/fr/vendome-saint-germain-paris.fr.html',\n",
       " 'https://www.booking.com/hotel/fr/d-espagne-paris.fr.html',\n",
       " 'https://www.booking.com/hotel/fr/formio.fr.html',\n",
       " 'https://www.booking.com/hotel/fr/manufacture.fr.html',\n",
       " 'https://www.booking.com/hotel/fr/tilsitt-etoile-paris.fr.html',\n",
       " 'https://www.booking.com/hotel/fr/la-nouvelle-republique.fr.html',\n",
       " 'https://www.booking.com/hotel/fr/america.fr.html',\n",
       " 'https://www.booking.com/hotel/fr/chopin-paris.fr.html',\n",
       " 'https://www.booking.com/hotel/fr/kyriad-pere-lachaise.fr.html',\n",
       " 'https://www.booking.com/hotel/fr/london.fr.html',\n",
       " 'https://www.booking.com/hotel/fr/royalsaintgermainparis.fr.html',\n",
       " 'https://www.booking.com/hotel/fr/hoteldaguerre.fr.html',\n",
       " 'https://www.booking.com/hotel/fr/hoteldalila.fr.html',\n",
       " 'https://www.booking.com/hotel/fr/beauvoir.fr.html',\n",
       " 'https://www.booking.com/hotel/fr/westside-arc-de-triomphe.fr.html',\n",
       " 'https://www.booking.com/hotel/fr/des-batignolles.fr.html',\n",
       " 'https://www.booking.com/hotel/fr/hotelistria.fr.html',\n",
       " 'https://www.booking.com/hotel/fr/la-parizienne.fr.html',\n",
       " 'https://www.booking.com/hotel/fr/citadines-aparthotel-maine-montparnasse.fr.html',\n",
       " 'https://www.booking.com/hotel/fr/best-western-aurore.fr.html',\n",
       " 'https://www.booking.com/hotel/fr/moris-grands-boulevards.fr.html',\n",
       " 'https://www.booking.com/hotel/fr/montparnasse-saint-germain.fr.html',\n",
       " 'https://www.booking.com/hotel/fr/angleterre-paris.fr.html',\n",
       " 'https://www.booking.com/hotel/fr/off-paris-seine.fr.html',\n",
       " 'https://www.booking.com/hotel/fr/hotel-brady-gare-de-l-est.fr.html',\n",
       " 'https://www.booking.com/hotel/fr/des-belges.fr.html',\n",
       " 'https://www.booking.com/hotel/fr/relais-du-pre.fr.html',\n",
       " 'https://www.booking.com/hotel/fr/le-bastille-by-sweett.fr.html',\n",
       " 'https://www.booking.com/hotel/fr/ha-tel-atlantis.fr.html',\n",
       " 'https://www.booking.com/hotel/fr/desaintgermain.fr.html',\n",
       " 'https://www.booking.com/hotel/fr/eden.fr.html',\n",
       " 'https://www.booking.com/hotel/fr/chabrol-opera.fr.html',\n",
       " 'https://www.booking.com/hotel/fr/hotel-elysees-paris-france.fr.html',\n",
       " 'https://www.booking.com/hotel/fr/hotel-nude-paris.fr.html',\n",
       " 'https://www.booking.com/hotel/fr/studio.fr.html',\n",
       " 'https://www.booking.com/hotel/fr/le-robinet-d-or.fr.html',\n",
       " 'https://www.booking.com/hotel/fr/all-suites-appart-paris-13-porte-d-italie.fr.html',\n",
       " 'https://www.booking.com/hotel/fr/brit-parisiana.fr.html',\n",
       " 'https://www.booking.com/hotel/fr/community-of-quality.fr.html',\n",
       " 'https://www.booking.com/hotel/fr/sejours-affaires-paris-davout.fr.html',\n",
       " 'https://www.booking.com/hotel/fr/aberotel.fr.html',\n",
       " 'https://www.booking.com/hotel/fr/monceauwagram.fr.html',\n",
       " 'https://www.booking.com/hotel/fr/pavillonbastille.fr.html',\n",
       " 'https://www.booking.com/hotel/fr/prony.fr.html',\n",
       " 'https://www.booking.com/hotel/fr/imperial-paris.fr.html',\n",
       " 'https://www.booking.com/hotel/fr/le-clery-paris.fr.html',\n",
       " 'https://www.booking.com/hotel/fr/lilas-blanc.fr.html',\n",
       " 'https://www.booking.com/hotel/fr/royal-opera.fr.html',\n",
       " 'https://www.booking.com/hotel/fr/maison-du-pre.fr.html',\n",
       " 'https://www.booking.com/hotel/fr/riboutte-lafayette.fr.html',\n",
       " 'https://www.booking.com/hotel/fr/saint-louis-marais.fr.html',\n",
       " 'https://www.booking.com/hotel/fr/victoria-palace.fr.html',\n",
       " 'https://www.booking.com/hotel/fr/le-fabe.fr.html',\n",
       " 'https://www.booking.com/hotel/fr/lehameaudepassy.fr.html',\n",
       " 'https://www.booking.com/hotel/fr/regyn-s-montmartre.fr.html',\n",
       " 'https://www.booking.com/hotel/fr/quality-hotel-abaca-paris-15eme.fr.html',\n",
       " 'https://www.booking.com/hotel/fr/carladez-cambronne.fr.html',\n",
       " 'https://www.booking.com/hotel/fr/bestwesternautrocaderoparis.fr.html',\n",
       " 'https://www.booking.com/hotel/fr/heliosopera.fr.html',\n",
       " 'https://www.booking.com/hotel/fr/glasgowmonceauparis.fr.html',\n",
       " 'https://www.booking.com/hotel/fr/jardinvilliersp.fr.html',\n",
       " 'https://www.booking.com/hotel/fr/beaumarchais.fr.html',\n",
       " 'https://www.booking.com/hotel/fr/tivoli-etoile.fr.html',\n",
       " 'https://www.booking.com/hotel/fr/hotelinnova.fr.html',\n",
       " 'https://www.booking.com/hotel/fr/princesse-caroline.fr.html',\n",
       " 'https://www.booking.com/hotel/fr/des-canettes.fr.html',\n",
       " 'https://www.booking.com/hotel/fr/coypel.fr.html',\n",
       " 'https://www.booking.com/hotel/fr/alfa-paris-nation.fr.html',\n",
       " 'https://www.booking.com/hotel/fr/denfert-montparnasse.fr.html',\n",
       " 'https://www.booking.com/hotel/fr/hoteldefrance-invalides.fr.html',\n",
       " 'https://www.booking.com/hotel/fr/acaciasetoile.fr.html',\n",
       " 'https://www.booking.com/hotel/fr/parisbercyvillage.fr.html',\n",
       " 'https://www.booking.com/hotel/fr/alhambra-paris.fr.html',\n",
       " 'https://www.booking.com/hotel/fr/bestwesternmontcalmparis.fr.html',\n",
       " 'https://www.booking.com/hotel/fr/idfo.fr.html',\n",
       " 'https://www.booking.com/hotel/fr/athenes.fr.html',\n",
       " 'https://www.booking.com/hotel/fr/lautrec-opera.fr.html',\n",
       " 'https://www.booking.com/hotel/fr/driud-opera.fr.html',\n",
       " 'https://www.booking.com/hotel/fr/diana-paris.fr.html',\n",
       " 'https://www.booking.com/hotel/fr/libertel-villette.fr.html',\n",
       " 'https://www.booking.com/hotel/fr/bwalbert1er.fr.html',\n",
       " 'https://www.booking.com/hotel/fr/cosmos-paris.fr.html',\n",
       " 'https://www.booking.com/hotel/fr/eiffel-segur.fr.html',\n",
       " 'https://www.booking.com/hotel/fr/hotel-lena.fr.html',\n",
       " 'https://www.booking.com/hotel/fr/lodeon.fr.html',\n",
       " 'https://www.booking.com/hotel/fr/hoteldupre.fr.html',\n",
       " 'https://www.booking.com/hotel/fr/le-cardinal-paris.fr.html',\n",
       " 'https://www.booking.com/hotel/fr/ibis-porte-doree.fr.html',\n",
       " 'https://www.booking.com/hotel/fr/relais-monceau.fr.html',\n",
       " 'https://www.booking.com/hotel/fr/residencefoch.fr.html',\n",
       " 'https://www.booking.com/hotel/fr/icone.fr.html',\n",
       " 'https://www.booking.com/hotel/fr/favart.fr.html',\n",
       " 'https://www.booking.com/hotel/fr/ha-tel-cervantes.fr.html',\n",
       " 'https://www.booking.com/hotel/fr/charingcross.fr.html',\n",
       " 'https://www.booking.com/hotel/fr/7eiffel.fr.html',\n",
       " 'https://www.booking.com/hotel/fr/le-relais-madeleine.fr.html',\n",
       " 'https://www.booking.com/hotel/fr/hotelf1-paris-porte-de-chatillon-paris.fr.html',\n",
       " 'https://www.booking.com/hotel/fr/hotel-lucien-et-marinette.fr.html',\n",
       " 'https://www.booking.com/hotel/fr/des-bains-paris.fr.html',\n",
       " 'https://www.booking.com/hotel/fr/apostrophe.fr.html',\n",
       " 'https://www.booking.com/hotel/fr/le-clos-d-ala-c-sia.fr.html',\n",
       " 'https://www.booking.com/hotel/fr/national-arts-et-metiers.fr.html',\n",
       " 'https://www.booking.com/hotel/fr/paris-massena-olympiades.fr.html',\n",
       " 'https://www.booking.com/hotel/fr/mattle.fr.html',\n",
       " 'https://www.booking.com/hotel/fr/les-degra-c-s-de-notre-dame.fr.html',\n",
       " 'https://www.booking.com/hotel/fr/vingtneuf-lepic.fr.html',\n",
       " 'https://www.booking.com/hotel/fr/le-malown.fr.html',\n",
       " 'https://www.booking.com/hotel/fr/ha-tel-magenta.fr.html',\n",
       " 'https://www.booking.com/hotel/fr/les-jardins-du-luxembourg.fr.html',\n",
       " 'https://www.booking.com/hotel/fr/ibis-paris-la-villette-cita-c-des-sciences.fr.html',\n",
       " 'https://www.booking.com/hotel/fr/de-france-paris.fr.html',\n",
       " 'https://www.booking.com/hotel/fr/jack-s.fr.html',\n",
       " 'https://www.booking.com/hotel/fr/aviatic.fr.html',\n",
       " 'https://www.booking.com/hotel/fr/du-prince-eugene.fr.html',\n",
       " 'https://www.booking.com/hotel/fr/jules.fr.html',\n",
       " 'https://www.booking.com/hotel/fr/best-western-premier-faubourg-88.fr.html',\n",
       " 'https://www.booking.com/hotel/fr/soft.fr.html',\n",
       " 'https://www.booking.com/hotel/fr/paris-la-villette.fr.html',\n",
       " 'https://www.booking.com/hotel/fr/danemark-paris.fr.html',\n",
       " 'https://www.booking.com/hotel/fr/timelysees.fr.html',\n",
       " 'https://www.booking.com/hotel/fr/hotelauteuiltoureiffel.fr.html',\n",
       " 'https://www.booking.com/hotel/fr/beaugrenelletoureiffel.fr.html',\n",
       " 'https://www.booking.com/hotel/fr/the-originals-paris-montmatre.fr.html',\n",
       " 'https://www.booking.com/hotel/fr/tingis.fr.html',\n",
       " 'https://www.booking.com/hotel/fr/hotel-elysee-niel.fr.html',\n",
       " 'https://www.booking.com/hotel/fr/residencejasmin.fr.html',\n",
       " 'https://www.booking.com/hotel/fr/clauzel.fr.html',\n",
       " 'https://www.booking.com/hotel/fr/tonic-saint-germain-des-pres.fr.html',\n",
       " 'https://www.booking.com/hotel/fr/trema.fr.html',\n",
       " 'https://www.booking.com/hotel/fr/caron.fr.html',\n",
       " 'https://www.booking.com/hotel/fr/damremont.fr.html',\n",
       " 'https://www.booking.com/hotel/fr/bachaumont.fr.html',\n",
       " 'https://www.booking.com/hotel/fr/babel-hotels-belleville.fr.html',\n",
       " 'https://www.booking.com/hotel/fr/saint-hubert.fr.html',\n",
       " 'https://www.booking.com/hotel/fr/lavillasaintgermaindespres.fr.html',\n",
       " 'https://www.booking.com/hotel/fr/ha-tel-volney-opa-c-ra.fr.html',\n",
       " 'https://www.booking.com/hotel/fr/hotelcorail.fr.html',\n",
       " 'https://www.booking.com/hotel/fr/hotel-toujours.fr.html',\n",
       " 'https://www.booking.com/hotel/fr/ha-tel-la-c-onard-de-vinci-ii.fr.html',\n",
       " 'https://www.booking.com/hotel/fr/de-l-orchidee.fr.html',\n",
       " 'https://www.booking.com/hotel/fr/paris-marriott-rive-gauche-conference-center.fr.html',\n",
       " 'https://www.booking.com/hotel/fr/montecristo-paris.fr.html',\n",
       " 'https://www.booking.com/hotel/fr/opera-cyrano.fr.html',\n",
       " 'https://www.booking.com/hotel/fr/lutece-paris.fr.html',\n",
       " 'https://www.booking.com/hotel/fr/sorbonne.fr.html',\n",
       " 'https://www.booking.com/hotel/fr/citizenm-paris-gare-de-lyon.fr.html',\n",
       " 'https://www.booking.com/hotel/fr/simon-39-s-boutique.fr.html',\n",
       " 'https://www.booking.com/hotel/fr/des-carmes-paris.fr.html',\n",
       " 'https://www.booking.com/hotel/fr/paix-republique.fr.html',\n",
       " 'https://www.booking.com/hotel/fr/mondial-paris.fr.html',\n",
       " 'https://www.booking.com/hotel/fr/quartier-libre-opera.fr.html',\n",
       " 'https://www.booking.com/hotel/fr/austin-s-arts-et-metiers.fr.html',\n",
       " 'https://www.booking.com/hotel/fr/ha-tel-mazagran.fr.html',\n",
       " 'https://www.booking.com/hotel/fr/de-nice.fr.html',\n",
       " 'https://www.booking.com/hotel/fr/hotel-pastel-paris.fr.html',\n",
       " 'https://www.booking.com/hotel/fr/beausejour-ranelagh.fr.html',\n",
       " 'https://www.booking.com/hotel/fr/hotel-inn-design-paris-place-ditalie.fr.html',\n",
       " 'https://www.booking.com/hotel/fr/arotel.fr.html',\n",
       " 'https://www.booking.com/hotel/fr/raspail-montparnasse.fr.html',\n",
       " 'https://www.booking.com/hotel/fr/libertel-austerlitz.fr.html',\n",
       " 'https://www.booking.com/hotel/fr/belfort-paris.fr.html',\n",
       " 'https://www.booking.com/hotel/fr/vignon.fr.html',\n",
       " 'https://www.booking.com/hotel/fr/ha-tel-magellan.fr.html',\n",
       " 'https://www.booking.com/hotel/fr/de-roubaix.fr.html',\n",
       " 'https://www.booking.com/hotel/fr/des-arenes.fr.html',\n",
       " 'https://www.booking.com/hotel/fr/victoria-chatelet.fr.html',\n",
       " 'https://www.booking.com/hotel/fr/jardindeparismaraisbastille.fr.html',\n",
       " 'https://www.booking.com/hotel/fr/victoire-paris.fr.html',\n",
       " 'https://www.booking.com/hotel/fr/charma.fr.html',\n",
       " 'https://www.booking.com/hotel/fr/de-france-quartier-latin.fr.html',\n",
       " 'https://www.booking.com/hotel/fr/bestwesternfranceeurope.fr.html',\n",
       " 'https://www.booking.com/hotel/fr/taylor.fr.html',\n",
       " 'https://www.booking.com/hotel/fr/royal-mansart.fr.html',\n",
       " 'https://www.booking.com/hotel/fr/de-paris-montparnasse.fr.html',\n",
       " 'https://www.booking.com/hotel/fr/josephine.fr.html',\n",
       " 'https://www.booking.com/hotel/fr/alyss-saphir-cambronne-eiffel.fr.html',\n",
       " 'https://www.booking.com/hotel/fr/belambra-city-magendie.fr.html',\n",
       " 'https://www.booking.com/hotel/fr/meslay-republique.fr.html',\n",
       " 'https://www.booking.com/hotel/fr/amiral.fr.html',\n",
       " 'https://www.booking.com/hotel/fr/idealhotel.fr.html',\n",
       " 'https://www.booking.com/hotel/fr/legend.fr.html',\n",
       " 'https://www.booking.com/hotel/fr/neptune-paris.fr.html',\n",
       " 'https://www.booking.com/hotel/fr/le-20-prieure.fr.html',\n",
       " 'https://www.booking.com/hotel/fr/louisa-hotel.fr.html',\n",
       " 'https://www.booking.com/hotel/fr/holiday-inn-paris-montparnasse-maine.fr.html',\n",
       " 'https://www.booking.com/hotel/fr/esthotelparis.fr.html',\n",
       " 'https://www.booking.com/hotel/fr/sophie-germain.fr.html',\n",
       " 'https://www.booking.com/hotel/fr/elyseesregencia.fr.html',\n",
       " 'https://www.booking.com/hotel/fr/solar.fr.html',\n",
       " 'https://www.booking.com/hotel/fr/suitehotel-paris-porte-de-montreuil.fr.html',\n",
       " 'https://www.booking.com/hotel/fr/hotel-rosalie.fr.html',\n",
       " 'https://www.booking.com/hotel/fr/elysee-montparnasse.fr.html',\n",
       " 'https://www.booking.com/hotel/fr/blc-design.fr.html',\n",
       " 'https://www.booking.com/hotel/fr/victorhugo.fr.html',\n",
       " 'https://www.booking.com/hotel/fr/provinces-opera.fr.html',\n",
       " 'https://www.booking.com/hotel/fr/bob-by-elegancia.fr.html',\n",
       " 'https://www.booking.com/hotel/fr/hotelterminuslyon.fr.html',\n",
       " 'https://www.booking.com/hotel/fr/les-jardins-du-trocadero.fr.html',\n",
       " 'https://www.booking.com/hotel/fr/ibis-canal-saint-martin.fr.html',\n",
       " 'https://www.booking.com/hotel/fr/bonne-nouvelle.fr.html',\n",
       " 'https://www.booking.com/hotel/fr/opera-diamond.fr.html',\n",
       " 'https://www.booking.com/hotel/fr/grand-hotel-de-lunivers.fr.html',\n",
       " 'https://www.booking.com/hotel/fr/paris-orleans.fr.html',\n",
       " 'https://www.booking.com/hotel/fr/l-39-antoine.fr.html',\n",
       " 'https://www.booking.com/hotel/fr/tinah.fr.html',\n",
       " 'https://www.booking.com/hotel/fr/hoteldesarts.fr.html',\n",
       " 'https://www.booking.com/hotel/fr/anjou.fr.html',\n",
       " 'https://www.booking.com/hotel/fr/hotel-du-leman.fr.html',\n",
       " 'https://www.booking.com/hotel/fr/mercure-terminus-est.fr.html',\n",
       " 'https://www.booking.com/hotel/fr/yuna-porte-maillot-aparthotel.fr.html',\n",
       " 'https://www.booking.com/hotel/fr/d-argentine.fr.html',\n",
       " 'https://www.booking.com/hotel/fr/cujas.fr.html',\n",
       " 'https://www.booking.com/hotel/fr/atlantic-paris.fr.html',\n",
       " 'https://www.booking.com/hotel/fr/de-mericourt.fr.html',\n",
       " 'https://www.booking.com/hotel/fr/bellevue-et-du-chariot-d-39-or-paris2.fr.html',\n",
       " 'https://www.booking.com/hotel/fr/au-nouvel-hotel-lyon.fr.html',\n",
       " 'https://www.booking.com/hotel/fr/la-maison-montparnasse.fr.html',\n",
       " 'https://www.booking.com/hotel/fr/aramis.fr.html',\n",
       " 'https://www.booking.com/hotel/fr/inter-lecourbe.fr.html',\n",
       " 'https://www.booking.com/hotel/fr/josephine-bonaparte.fr.html',\n",
       " 'https://www.booking.com/hotel/fr/drawing-house.fr.html',\n",
       " 'https://www.booking.com/hotel/fr/all-seasons-paris-gare-du-nord.fr.html',\n",
       " 'https://www.booking.com/hotel/fr/jenner.fr.html',\n",
       " 'https://www.booking.com/hotel/fr/excelsior-opera.fr.html',\n",
       " 'https://www.booking.com/hotel/fr/ra-c-sidence-nell.fr.html',\n",
       " 'https://www.booking.com/hotel/fr/timhotel-paris-gar.fr.html',\n",
       " 'https://www.booking.com/hotel/fr/ha-tel-hor.fr.html',\n",
       " 'https://www.booking.com/hotel/fr/port-royal-paris1.fr.html',\n",
       " 'https://www.booking.com/hotel/fr/maison-hamelin-paris-handwritten-collection.fr.html',\n",
       " 'https://www.booking.com/hotel/fr/scarlett.fr.html',\n",
       " 'https://www.booking.com/hotel/fr/win.fr.html',\n",
       " 'https://www.booking.com/hotel/fr/abba-montparnasse.fr.html',\n",
       " 'https://www.booking.com/hotel/fr/relaiseiffelgrenelle.fr.html',\n",
       " 'https://www.booking.com/hotel/fr/louesthotelparis.fr.html',\n",
       " 'https://www.booking.com/hotel/fr/la-belle-ville.fr.html',\n",
       " 'https://www.booking.com/hotel/fr/sunny.fr.html',\n",
       " 'https://www.booking.com/hotel/fr/de-l-exposition-tour-eiffel.fr.html',\n",
       " 'https://www.booking.com/hotel/fr/hotel-belle-epoque-paris.fr.html',\n",
       " 'https://www.booking.com/hotel/fr/lux-picpus-paris.fr.html',\n",
       " 'https://www.booking.com/hotel/fr/hotelpaixmadeleine.fr.html',\n",
       " 'https://www.booking.com/hotel/fr/royal-garden-champs-elysees.fr.html',\n",
       " 'https://www.booking.com/hotel/fr/paris-j-39-adore-amp-spa.fr.html',\n",
       " 'https://www.booking.com/hotel/fr/zaziehotel-paris.fr.html',\n",
       " 'https://www.booking.com/hotel/fr/bestwesternaxelopera.fr.html',\n",
       " 'https://www.booking.com/hotel/fr/nouvel-paris1234567.fr.html',\n",
       " 'https://www.booking.com/hotel/fr/du-printemps.fr.html',\n",
       " 'https://www.booking.com/hotel/fr/fred.fr.html',\n",
       " 'https://www.booking.com/hotel/fr/pavillon-opera-lafayette.fr.html',\n",
       " 'https://www.booking.com/hotel/fr/amiral-fondary.fr.html',\n",
       " 'https://www.booking.com/hotel/fr/bestwesternfr.fr.html',\n",
       " 'https://www.booking.com/hotel/fr/hotelfrancais.fr.html',\n",
       " 'https://www.booking.com/hotel/fr/villaeugenie.fr.html',\n",
       " 'https://www.booking.com/hotel/fr/rendez-vous-batignolles.fr.html',\n",
       " 'https://www.booking.com/hotel/fr/nestay-sentier.fr.html',\n",
       " 'https://www.booking.com/hotel/fr/centralsaintgermain.fr.html',\n",
       " 'https://www.booking.com/hotel/fr/best-western-premier-61-paris-nation-hotel.fr.html',\n",
       " 'https://www.booking.com/hotel/fr/baba.fr.html',\n",
       " 'https://www.booking.com/hotel/fr/arvor.fr.html',\n",
       " 'https://www.booking.com/hotel/fr/hoteljardinseiffel.fr.html',\n",
       " 'https://www.booking.com/hotel/fr/hotelastrid.fr.html',\n",
       " 'https://www.booking.com/hotel/fr/edgar-suites-bouchardon.fr.html',\n",
       " 'https://www.booking.com/hotel/fr/lyric-ha-tel-paris.fr.html',\n",
       " 'https://www.booking.com/hotel/fr/residence-voltaire.fr.html',\n",
       " 'https://www.booking.com/hotel/fr/libertel-amiral-duperre.fr.html',\n",
       " 'https://www.booking.com/hotel/fr/modern-est.fr.html',\n",
       " 'https://www.booking.com/hotel/fr/best-western-nouvel-orleans.fr.html',\n",
       " 'https://www.booking.com/hotel/fr/le-compostelle.fr.html',\n",
       " 'https://www.booking.com/hotel/fr/saintaugustin.fr.html',\n",
       " 'https://www.booking.com/hotel/fr/des-buttes-chaumont.fr.html',\n",
       " 'https://www.booking.com/hotel/fr/lademeure_paris.fr.html',\n",
       " 'https://www.booking.com/hotel/fr/edouardvi.fr.html',\n",
       " 'https://www.booking.com/hotel/fr/de-la-paix-paris1.fr.html',\n",
       " 'https://www.booking.com/hotel/fr/etap-paris-porte-de-montmartre.fr.html',\n",
       " 'https://www.booking.com/hotel/fr/miramar-paris.fr.html',\n",
       " 'https://www.booking.com/hotel/fr/de-suez.fr.html',\n",
       " 'https://www.booking.com/hotel/fr/phileas-hotel.fr.html',\n",
       " 'https://www.booking.com/hotel/fr/derby-eiffel-hotel.fr.html',\n",
       " 'https://www.booking.com/hotel/fr/alesiamontparnasse.fr.html',\n",
       " 'https://www.booking.com/hotel/fr/verneuil.fr.html',\n",
       " 'https://www.booking.com/hotel/fr/abbatial-st-germain.fr.html',\n",
       " 'https://www.booking.com/hotel/fr/hotel-oceania-porte-de-versailles.fr.html',\n",
       " 'https://www.booking.com/hotel/fr/suites-fl-by-sweett-paris.fr.html',\n",
       " 'https://www.booking.com/hotel/fr/du-midi-paris1.fr.html',\n",
       " 'https://www.booking.com/hotel/fr/holiday-inn-paris-bastille.fr.html',\n",
       " 'https://www.booking.com/hotel/fr/gtcayre.fr.html',\n",
       " 'https://www.booking.com/hotel/fr/ascot.fr.html',\n",
       " 'https://www.booking.com/hotel/fr/reginaop.fr.html',\n",
       " 'https://www.booking.com/hotel/fr/excelsior-latin.fr.html',\n",
       " 'https://www.booking.com/hotel/fr/bastille-de-launay.fr.html',\n",
       " 'https://www.booking.com/hotel/fr/joke-astotel.fr.html',\n",
       " 'https://www.booking.com/hotel/fr/le-glams-hotel.fr.html',\n",
       " 'https://www.booking.com/hotel/fr/des-trois-gares.fr.html',\n",
       " 'https://www.booking.com/hotel/fr/du-midi-paris.fr.html',\n",
       " 'https://www.booking.com/hotel/fr/maison-barbes.fr.html',\n",
       " 'https://www.booking.com/hotel/fr/nord-est.fr.html',\n",
       " 'https://www.booking.com/hotel/fr/hotel-murat.fr.html',\n",
       " 'https://www.booking.com/hotel/fr/gaillon123.fr.html',\n",
       " 'https://www.booking.com/hotel/fr/inter-du-calvados.fr.html',\n",
       " 'https://www.booking.com/hotel/fr/beaugrenelle-saint-charles.fr.html',\n",
       " 'https://www.booking.com/hotel/fr/montpensier-paris.fr.html',\n",
       " 'https://www.booking.com/hotel/fr/hotelf1-paris-porte-de-montmartre.fr.html',\n",
       " 'https://www.booking.com/hotel/fr/sublim.fr.html',\n",
       " 'https://www.booking.com/hotel/fr/ibisstylesparismontmartrebatignolles.fr.html',\n",
       " 'https://www.booking.com/hotel/fr/the-five.fr.html',\n",
       " 'https://www.booking.com/hotel/fr/marcel-paris.fr.html',\n",
       " 'https://www.booking.com/hotel/fr/de-la-cite-rougemont.fr.html',\n",
       " 'https://www.booking.com/hotel/fr/best-western-eiffel-cambronne.fr.html',\n",
       " 'https://www.booking.com/hotel/fr/de-seine.fr.html',\n",
       " 'https://www.booking.com/hotel/fr/de-milan-paris.fr.html',\n",
       " 'https://www.booking.com/hotel/fr/stmichel.fr.html',\n",
       " 'https://www.booking.com/hotel/fr/timoperamadeleine.fr.html',\n",
       " 'https://www.booking.com/hotel/fr/holiday-villa-lafayette-paris.fr.html',\n",
       " 'https://www.booking.com/hotel/fr/34b-astotel.fr.html',\n",
       " 'https://www.booking.com/hotel/fr/ibisparisnationdavout.fr.html',\n",
       " 'https://www.booking.com/hotel/fr/hotel-plat-etain.fr.html',\n",
       " 'https://www.booking.com/hotel/fr/moxy-paris-bastille.fr.html',\n",
       " 'https://www.booking.com/hotel/fr/paris-haussmann-st-augustin.fr.html',\n",
       " 'https://www.booking.com/hotel/fr/l-amiral.fr.html',\n",
       " 'https://www.booking.com/hotel/fr/kyriad-prestige-paris-le-209.fr.html',\n",
       " 'https://www.booking.com/hotel/fr/adriatic.fr.html',\n",
       " 'https://www.booking.com/hotel/fr/hotelcentralparis.fr.html',\n",
       " 'https://www.booking.com/hotel/fr/antin-trinite.fr.html',\n",
       " 'https://www.booking.com/hotel/fr/avia-ha-tel.fr.html',\n",
       " 'https://www.booking.com/hotel/fr/mercure-paris-17-batignolles.fr.html',\n",
       " 'https://www.booking.com/hotel/fr/moulin-plaza.fr.html',\n",
       " 'https://www.booking.com/hotel/fr/grand-dore.fr.html',\n",
       " 'https://www.booking.com/hotel/fr/hotel-des-arts-bastille.fr.html',\n",
       " 'https://www.booking.com/hotel/fr/le-meurice-paris.fr.html',\n",
       " 'https://www.booking.com/hotel/fr/duquesneeiffel.fr.html',\n",
       " 'https://www.booking.com/hotel/fr/helussi.fr.html',\n",
       " 'https://www.booking.com/hotel/fr/hotelparishotel.fr.html',\n",
       " 'https://www.booking.com/hotel/fr/berkeley.fr.html',\n",
       " 'https://www.booking.com/hotel/fr/le-marceau-bastille.fr.html',\n",
       " 'https://www.booking.com/hotel/fr/hotelbelgrand.fr.html',\n",
       " 'https://www.booking.com/hotel/fr/aida-marais.fr.html',\n",
       " 'https://www.booking.com/hotel/fr/du-quai-de-seine.fr.html',\n",
       " 'https://www.booking.com/hotel/fr/mederic-paris.fr.html',\n",
       " 'https://www.booking.com/hotel/fr/alexandrie.fr.html',\n",
       " 'https://www.booking.com/hotel/fr/home-business-grande-bibliotheque.fr.html',\n",
       " 'https://www.booking.com/hotel/fr/lilasgambetta.fr.html',\n",
       " 'https://www.booking.com/hotel/fr/villa-m-paris.fr.html',\n",
       " 'https://www.booking.com/hotel/fr/grand-ha-tel-la-c-vaaque.fr.html',\n",
       " 'https://www.booking.com/hotel/fr/de-l-europe-paris2.fr.html',\n",
       " 'https://www.booking.com/hotel/fr/zoku-paris.fr.html',\n",
       " 'https://www.booking.com/hotel/fr/le-monsieur-by-sweett.fr.html',\n",
       " 'https://www.booking.com/hotel/fr/hotelsaintgeorgeslafayette.fr.html',\n",
       " 'https://www.booking.com/hotel/fr/saint-louis-en-l-isle.fr.html',\n",
       " 'https://www.booking.com/hotel/fr/pierrearcdetriomphe.fr.html',\n",
       " 'https://www.booking.com/hotel/fr/tilde.fr.html',\n",
       " 'https://www.booking.com/hotel/fr/hotel-monterosa.fr.html',\n",
       " 'https://www.booking.com/hotel/fr/seven.fr.html',\n",
       " 'https://www.booking.com/hotel/fr/hotelgaston.fr.html',\n",
       " 'https://www.booking.com/hotel/fr/best-western-plus-litteraire-marcel.fr.html',\n",
       " 'https://www.booking.com/hotel/fr/pavillonlouvrerivoli.fr.html',\n",
       " 'https://www.booking.com/hotel/fr/convention-montparnasse.fr.html',\n",
       " 'https://www.booking.com/hotel/fr/hotelcameliaprestige.fr.html',\n",
       " 'https://www.booking.com/hotel/fr/hotel-ohm-by-happyculture.fr.html',\n",
       " 'https://www.booking.com/hotel/fr/eiffel-rive-gauche.fr.html',\n",
       " 'https://www.booking.com/hotel/fr/madeleine-plaza.fr.html',\n",
       " 'https://www.booking.com/hotel/fr/splendid-paris.fr.html',\n",
       " 'https://www.booking.com/hotel/fr/appart-39-odalys-paris-montmartre.fr.html',\n",
       " 'https://www.booking.com/hotel/fr/la-conversation.fr.html',\n",
       " 'https://www.booking.com/hotel/fr/palym.fr.html',\n",
       " 'https://www.booking.com/hotel/fr/vice-versa.fr.html',\n",
       " 'https://www.booking.com/hotel/fr/apollinaire-paris.fr.html',\n",
       " 'https://www.booking.com/hotel/fr/francais-paris.fr.html',\n",
       " 'https://www.booking.com/hotel/fr/collectionneur.fr.html',\n",
       " 'https://www.booking.com/hotel/fr/de-fleurie.fr.html',\n",
       " 'https://www.booking.com/hotel/fr/villa-modigliani.fr.html',\n",
       " 'https://www.booking.com/hotel/fr/emeraude-louvre-montana.fr.html',\n",
       " 'https://www.booking.com/hotel/fr/auliviaopera.fr.html',\n",
       " 'https://www.booking.com/hotel/fr/hotel-jacques-de-molay.fr.html',\n",
       " 'https://www.booking.com/hotel/fr/le-michel-montparnasse.fr.html',\n",
       " 'https://www.booking.com/hotel/fr/first.fr.html',\n",
       " 'https://www.booking.com/hotel/fr/de-nesle.fr.html',\n",
       " 'https://www.booking.com/hotel/fr/r-kipling.fr.html',\n",
       " 'https://www.booking.com/hotel/fr/mercure-paris-gare-de-lyon.fr.html',\n",
       " 'https://www.booking.com/hotel/fr/residence-a-la-butte-aux-cailles.fr.html',\n",
       " 'https://www.booking.com/hotel/fr/hotelparisvillette.fr.html',\n",
       " 'https://www.booking.com/hotel/fr/residence-du-pre.fr.html',\n",
       " 'https://www.booking.com/hotel/fr/hotel-charonne-paris.fr.html',\n",
       " 'https://www.booking.com/hotel/fr/hotel-horset-opera.fr.html',\n",
       " 'https://www.booking.com/hotel/fr/du-printemps-paris.fr.html',\n",
       " 'https://www.booking.com/hotel/fr/pantheon.fr.html',\n",
       " 'https://www.booking.com/hotel/fr/ha-tel-oca-c-anic.fr.html',\n",
       " 'https://www.booking.com/hotel/fr/grand-de-clermont.fr.html',\n",
       " 'https://www.booking.com/hotel/fr/ha-tel-plaza-atha-c-na-c-e-paris.fr.html',\n",
       " 'https://www.booking.com/hotel/fr/des-coma-c-dies.fr.html',\n",
       " 'https://www.booking.com/hotel/fr/libertel-suede-gare-du-nord.fr.html',\n",
       " 'https://www.booking.com/hotel/fr/carina-tour-eiffel.fr.html',\n",
       " 'https://www.booking.com/hotel/fr/agate.fr.html',\n",
       " 'https://www.booking.com/hotel/fr/odessa-montparnasse.fr.html',\n",
       " 'https://www.booking.com/hotel/fr/marceau-champs-elysees.fr.html',\n",
       " 'https://www.booking.com/hotel/fr/pax-opera.fr.html',\n",
       " 'https://www.booking.com/hotel/fr/park-and-suites-grande-bibliotheque.fr.html',\n",
       " 'https://www.booking.com/hotel/fr/palm-opera.fr.html',\n",
       " 'https://www.booking.com/hotel/fr/saint-honore.fr.html',\n",
       " 'https://www.booking.com/hotel/fr/de-notre-dame-paris.fr.html',\n",
       " 'https://www.booking.com/hotel/fr/perreyve.fr.html',\n",
       " 'https://www.booking.com/hotel/fr/americain-paris.fr.html',\n",
       " 'https://www.booking.com/hotel/fr/le-bellechasse.fr.html',\n",
       " 'https://www.booking.com/hotel/fr/hotel-cordelia.fr.html',\n",
       " 'https://www.booking.com/hotel/fr/mercure-paris-suffren-tour-eiffel.fr.html',\n",
       " 'https://www.booking.com/hotel/fr/little-regina.fr.html',\n",
       " 'https://www.booking.com/hotel/fr/citadines-aparthotel-bastillemarais.fr.html',\n",
       " 'https://www.booking.com/hotel/fr/new-le-voltaire.fr.html',\n",
       " 'https://www.booking.com/hotel/fr/relaislafayette.fr.html',\n",
       " 'https://www.booking.com/hotel/fr/beaubourg.fr.html',\n",
       " 'https://www.booking.com/hotel/fr/hotel-la-villa-des-ternes.fr.html',\n",
       " 'https://www.booking.com/hotel/fr/elysee-gare-de-lyon.fr.html',\n",
       " 'https://www.booking.com/hotel/fr/grand-de-turin.fr.html',\n",
       " 'https://www.booking.com/hotel/fr/residence-internationale-de-paris.fr.html',\n",
       " 'https://www.booking.com/hotel/fr/pilgrim-paris1.fr.html',\n",
       " 'https://www.booking.com/hotel/fr/hoteldereuillyparis.fr.html',\n",
       " 'https://www.booking.com/hotel/fr/du-lys.fr.html',\n",
       " 'https://www.booking.com/hotel/fr/eiffel-atlantique.fr.html',\n",
       " 'https://www.booking.com/hotel/fr/kopster-paris-porte-de-versailles.fr.html',\n",
       " 'https://www.booking.com/hotel/fr/novotel-paris-pte-versailles.fr.html',\n",
       " 'https://www.booking.com/hotel/fr/hotel-chenier.fr.html',\n",
       " 'https://www.booking.com/hotel/fr/saint-charles-paris.fr.html',\n",
       " 'https://www.booking.com/hotel/fr/mode-paris-aparthotel.fr.html',\n",
       " 'https://www.booking.com/hotel/fr/tonic-du-louvre.fr.html',\n",
       " 'https://www.booking.com/hotel/fr/hotelorpheeparis.fr.html',\n",
       " 'https://www.booking.com/hotel/fr/31-paris-tour-eiffel.fr.html',\n",
       " 'https://www.booking.com/hotel/fr/handsome-by-elegancia.fr.html',\n",
       " 'https://www.booking.com/hotel/fr/hotel-opera-liege.fr.html',\n",
       " 'https://www.booking.com/hotel/fr/stgeorges.fr.html',\n",
       " 'https://www.booking.com/hotel/fr/trinite.fr.html',\n",
       " 'https://www.booking.com/hotel/fr/cosy.fr.html',\n",
       " 'https://www.booking.com/hotel/fr/d-alsace.fr.html',\n",
       " 'https://www.booking.com/hotel/fr/avalon-cosy.fr.html',\n",
       " 'https://www.booking.com/hotel/fr/montebello-paris1.fr.html',\n",
       " 'https://www.booking.com/hotel/fr/timmontparnasse.fr.html',\n",
       " 'https://www.booking.com/hotel/fr/citadines-aparthotel-place-italie.fr.html',\n",
       " 'https://www.booking.com/hotel/fr/du-continent.fr.html',\n",
       " 'https://www.booking.com/hotel/fr/relaisgaredelyon.fr.html',\n",
       " 'https://www.booking.com/hotel/fr/des-victoires.fr.html',\n",
       " 'https://www.booking.com/hotel/fr/mirific.fr.html',\n",
       " 'https://www.booking.com/hotel/fr/bedford.fr.html',\n",
       " 'https://www.booking.com/hotel/fr/source.fr.html',\n",
       " 'https://www.booking.com/hotel/fr/hotelduparc_paris.fr.html',\n",
       " 'https://www.booking.com/hotel/fr/villa-des-pres.fr.html',\n",
       " 'https://www.booking.com/hotel/fr/ha-tel-plaza-la-fayette.fr.html',\n",
       " 'https://www.booking.com/hotel/fr/paris-legendre.fr.html',\n",
       " 'https://www.booking.com/hotel/fr/louvresainthonore.fr.html',\n",
       " 'https://www.booking.com/hotel/fr/arc-de-triomphe-etoile.fr.html',\n",
       " 'https://www.booking.com/hotel/fr/residhome-paris-rosa-parks.fr.html',\n",
       " 'https://www.booking.com/hotel/fr/corona.fr.html',\n",
       " 'https://www.booking.com/hotel/fr/monceauetoileparis.fr.html',\n",
       " 'https://www.booking.com/hotel/fr/comfort-andre-latin.fr.html',\n",
       " 'https://www.booking.com/hotel/fr/eiffelkennedy.fr.html',\n",
       " 'https://www.booking.com/hotel/fr/villa-mademoiselle.fr.html',\n",
       " 'https://www.booking.com/hotel/fr/basile.fr.html',\n",
       " 'https://www.booking.com/hotel/fr/hotel-gabriel-paris.fr.html',\n",
       " 'https://www.booking.com/hotel/fr/france-louvre.fr.html',\n",
       " 'https://www.booking.com/hotel/fr/hotelwaldorf.fr.html',\n",
       " 'https://www.booking.com/hotel/fr/pointe-rivoli.fr.html',\n",
       " 'https://www.booking.com/hotel/fr/hotel-le-relais-saint-charles.fr.html',\n",
       " 'https://www.booking.com/hotel/fr/gilden-magenta.fr.html',\n",
       " 'https://www.booking.com/hotel/fr/elysee-etoile.fr.html',\n",
       " 'https://www.booking.com/hotel/fr/du-danube-saint-germain.fr.html',\n",
       " 'https://www.booking.com/hotel/fr/tulipinnlittlepalace.fr.html',\n",
       " 'https://www.booking.com/hotel/fr/joyce.fr.html',\n",
       " 'https://www.booking.com/hotel/fr/du-vieux-saule.fr.html',\n",
       " 'https://www.booking.com/hotel/fr/duc-de-st-simon.fr.html',\n",
       " 'https://www.booking.com/hotel/fr/eurotel-paris.fr.html',\n",
       " 'https://www.booking.com/hotel/fr/relais-bergson.fr.html',\n",
       " 'https://www.booking.com/hotel/fr/123paris-city.fr.html',\n",
       " 'https://www.booking.com/hotel/fr/la-lanterne-paris.fr.html',\n",
       " 'https://www.booking.com/hotel/fr/petit-palace.fr.html',\n",
       " 'https://www.booking.com/hotel/fr/tourisme-ha-tel.fr.html',\n",
       " 'https://www.booking.com/hotel/fr/des-beaux-arts-paris.fr.html',\n",
       " 'https://www.booking.com/hotel/fr/grand-des-gobelins.fr.html',\n",
       " 'https://www.booking.com/hotel/fr/hotel-le-12.fr.html',\n",
       " 'https://www.booking.com/hotel/fr/portedeversailles.fr.html',\n",
       " 'https://www.booking.com/hotel/fr/doisy-etoile.fr.html',\n",
       " 'https://www.booking.com/hotel/fr/dress-code-amp-spa.fr.html',\n",
       " 'https://www.booking.com/hotel/fr/de-l-39-union.fr.html',\n",
       " 'https://www.booking.com/hotel/fr/quartier-libre-marais.fr.html',\n",
       " 'https://www.booking.com/hotel/fr/elysa-c-e-secret.fr.html',\n",
       " 'https://www.booking.com/hotel/fr/louvre-sainte-anne.fr.html',\n",
       " 'https://www.booking.com/hotel/fr/ha-tel-ambre.fr.html',\n",
       " 'https://www.booking.com/hotel/fr/lafayette-paris123.fr.html',\n",
       " 'https://www.booking.com/hotel/fr/dream-opera.fr.html',\n",
       " 'https://www.booking.com/hotel/fr/hotelopal.fr.html',\n",
       " 'https://www.booking.com/hotel/fr/citizenm-paris-champs-elysees.fr.html',\n",
       " 'https://www.booking.com/hotel/fr/gat-folies.fr.html',\n",
       " 'https://www.booking.com/hotel/fr/appart-city-collection-paris-gare-de-lyon.fr.html',\n",
       " 'https://www.booking.com/hotel/fr/relais-saint-jacques.fr.html',\n",
       " 'https://www.booking.com/hotel/fr/mercure-voltaire-bastille.fr.html',\n",
       " 'https://www.booking.com/hotel/fr/hotelalane.fr.html',\n",
       " 'https://www.booking.com/hotel/fr/les-bulles-de-paris.fr.html',\n",
       " 'https://www.booking.com/hotel/fr/des-marronniers.fr.html',\n",
       " 'https://www.booking.com/hotel/fr/holiday-inn-express-paris-canal-de-la-villette.fr.html',\n",
       " 'https://www.booking.com/hotel/fr/le-marianne.fr.html',\n",
       " 'https://www.booking.com/hotel/fr/dupantheon.fr.html',\n",
       " 'https://www.booking.com/hotel/fr/ha-tel-langlois.fr.html',\n",
       " 'https://www.booking.com/hotel/fr/le-trente.fr.html',\n",
       " 'https://www.booking.com/hotel/fr/hilton-paris-opera.fr.html',\n",
       " 'https://www.booking.com/hotel/fr/normandyhotel.fr.html',\n",
       " 'https://www.booking.com/hotel/fr/timquartierlatinpantheo.fr.html',\n",
       " 'https://www.booking.com/hotel/fr/auberge-flora.fr.html',\n",
       " 'https://www.booking.com/hotel/fr/hotel-du-beaumont.fr.html',\n",
       " 'https://www.booking.com/hotel/fr/arioso.fr.html',\n",
       " 'https://www.booking.com/hotel/fr/hidden.fr.html',\n",
       " 'https://www.booking.com/hotel/fr/hotel-du-triangle-dor.fr.html',\n",
       " 'https://www.booking.com/hotel/fr/desnations.fr.html',\n",
       " 'https://www.booking.com/hotel/fr/ha-tel-st-pierre.fr.html',\n",
       " 'https://www.booking.com/hotel/fr/exe-paris-centre.fr.html',\n",
       " 'https://www.booking.com/hotel/fr/ha-tel-georgette.fr.html',\n",
       " 'https://www.booking.com/hotel/fr/au-coeur-de-republique.fr.html',\n",
       " 'https://www.booking.com/hotel/fr/lesenatparis.fr.html',\n",
       " 'https://www.booking.com/hotel/fr/hotel-alesia-montparnasse.fr.html',\n",
       " 'https://www.booking.com/hotel/fr/odeon-paris.fr.html',\n",
       " 'https://www.booking.com/hotel/fr/opera-maintenon.fr.html',\n",
       " 'https://www.booking.com/hotel/fr/le-mareuil.fr.html',\n",
       " 'https://www.booking.com/hotel/fr/jk-place-paris.fr.html',\n",
       " 'https://www.booking.com/hotel/fr/nicolo.fr.html',\n",
       " 'https://www.booking.com/hotel/fr/meyerhold-amp-spa.fr.html',\n",
       " 'https://www.booking.com/hotel/fr/mistral-paris.fr.html',\n",
       " 'https://www.booking.com/hotel/fr/yooma-urban-lodge.fr.html',\n",
       " 'https://www.booking.com/hotel/fr/des-grandes-ecoles.fr.html',\n",
       " 'https://www.booking.com/hotel/fr/etap-paris-porte-de-la-chapelle.fr.html',\n",
       " 'https://www.booking.com/hotel/fr/helderopera.fr.html',\n",
       " 'https://www.booking.com/hotel/fr/prince-albert-opera.fr.html',\n",
       " 'https://www.booking.com/hotel/fr/ibis-paris-gare-de-l-est.fr.html',\n",
       " 'https://www.booking.com/hotel/fr/academie.fr.html',\n",
       " 'https://www.booking.com/hotel/fr/legeneral.fr.html',\n",
       " 'https://www.booking.com/hotel/fr/citadines-aparthotel-montmartre.fr.html',\n",
       " 'https://www.booking.com/hotel/fr/le-grand-quartier.fr.html',\n",
       " 'https://www.booking.com/hotel/fr/le-narcisse-blanc.fr.html',\n",
       " 'https://www.booking.com/hotel/fr/okko-hotels-paris-gare-de-l-39-est.fr.html',\n",
       " 'https://www.booking.com/hotel/fr/claude-bernard-saint-germain.fr.html',\n",
       " 'https://www.booking.com/hotel/fr/hoteldecastiglione.fr.html',\n",
       " 'https://www.booking.com/hotel/fr/maison-cassandre-paris.fr.html',\n",
       " 'https://www.booking.com/hotel/fr/des-ducs-de-bourgogne.fr.html',\n",
       " 'https://www.booking.com/hotel/fr/delambre-paris.fr.html',\n",
       " 'https://www.booking.com/hotel/fr/de-seze-paris.fr.html',\n",
       " 'https://www.booking.com/hotel/fr/ha-tel-edgar.fr.html',\n",
       " 'https://www.booking.com/hotel/fr/astraopera.fr.html',\n",
       " 'https://www.booking.com/hotel/fr/hotelbeige.fr.html',\n",
       " 'https://www.booking.com/hotel/fr/champerretelysees.fr.html',\n",
       " 'https://www.booking.com/hotel/fr/andrea-paris.fr.html',\n",
       " 'https://www.booking.com/hotel/fr/de-l-europe-paris1.fr.html',\n",
       " 'https://www.booking.com/hotel/fr/ha-tel-saint-roch-paris1.fr.html',\n",
       " 'https://www.booking.com/hotel/fr/pavillonroyalemontsouris.fr.html',\n",
       " 'https://www.booking.com/hotel/fr/drawinghotel.fr.html',\n",
       " 'https://www.booking.com/hotel/fr/novotel-paris-tour-eiffel.fr.html',\n",
       " ...]"
      ]
     },
     "execution_count": 411,
     "metadata": {},
     "output_type": "execute_result"
    }
   ],
   "source": [
    "data = json.load(open('BookingInfo.json', 'r'))\n",
    "df = pd.DataFrame(data)\n",
    "urlList = df['url'].tolist()\n",
    "\n",
    "urlList"
   ]
  },
  {
   "cell_type": "code",
   "execution_count": 3,
   "metadata": {},
   "outputs": [
    {
     "name": "stdout",
     "output_type": "stream",
     "text": [
      "New Scrapy project 'hotel_data_scraping', using template directory 'C:\\Users\\ad98\\anaconda3\\Lib\\site-packages\\scrapy\\templates\\project', created in:\n",
      "    C:\\Users\\ad98\\Desktop\\Jedha\\kayak\\src\\hotel_data_scraping\n",
      "\n",
      "You can start your first spider with:\n",
      "    cd hotel_data_scraping\n",
      "    scrapy genspider example example.com\n"
     ]
    }
   ],
   "source": [
    "!scrapy startproject hotel_data_scraping"
   ]
  },
  {
   "cell_type": "code",
   "execution_count": 53,
   "metadata": {},
   "outputs": [],
   "source": [
    "os.chdir(\"hotel_data_scraping\")"
   ]
  },
  {
   "cell_type": "code",
   "execution_count": 11,
   "metadata": {},
   "outputs": [],
   "source": [
    "with open(\"Hotel_url_list.txt\", 'w') as file:\n",
    "    for url in urlList:\n",
    "        file.write(url + '\\n')"
   ]
  },
  {
   "cell_type": "code",
   "execution_count": 36,
   "metadata": {},
   "outputs": [
    {
     "name": "stderr",
     "output_type": "stream",
     "text": [
      "2024-10-12 18:38:50 [scrapy.utils.log] INFO: Scrapy 2.11.1 started (bot: hotel_data_scraping)\n",
      "2024-10-12 18:38:50 [scrapy.utils.log] INFO: Versions: lxml 5.2.1.0, libxml2 2.10.4, cssselect 1.2.0, parsel 1.8.1, w3lib 2.1.2, Twisted 23.10.0, Python 3.12.4 | packaged by Anaconda, Inc. | (main, Jun 18 2024, 15:03:56) [MSC v.1929 64 bit (AMD64)], pyOpenSSL 24.0.0 (OpenSSL 3.0.14 4 Jun 2024), cryptography 42.0.5, Platform Windows-11-10.0.22631-SP0\n",
      "2024-10-12 18:38:50 [scrapy.addons] INFO: Enabled addons:\n",
      "[]\n",
      "2024-10-12 18:38:50 [scrapy.extensions.telnet] INFO: Telnet Password: 14c21db588f3c1d1\n",
      "2024-10-12 18:38:50 [scrapy.middleware] INFO: Enabled extensions:\n",
      "['scrapy.extensions.corestats.CoreStats',\n",
      " 'scrapy.extensions.telnet.TelnetConsole',\n",
      " 'scrapy.extensions.feedexport.FeedExporter',\n",
      " 'scrapy.extensions.logstats.LogStats',\n",
      " 'scrapy.extensions.throttle.AutoThrottle']\n",
      "2024-10-12 18:38:50 [scrapy.crawler] INFO: Overridden settings:\n",
      "{'AUTOTHROTTLE_ENABLED': True,\n",
      " 'AUTOTHROTTLE_START_DELAY': 1,\n",
      " 'BOT_NAME': 'hotel_data_scraping',\n",
      " 'FEED_EXPORT_ENCODING': 'utf-8',\n",
      " 'LOG_LEVEL': 'INFO',\n",
      " 'NEWSPIDER_MODULE': 'hotel_data_scraping.spiders',\n",
      " 'REQUEST_FINGERPRINTER_IMPLEMENTATION': '2.7',\n",
      " 'ROBOTSTXT_OBEY': True,\n",
      " 'SPIDER_MODULES': ['hotel_data_scraping.spiders'],\n",
      " 'TWISTED_REACTOR': 'twisted.internet.asyncioreactor.AsyncioSelectorReactor',\n",
      " 'USER_AGENT': 'Chrome/129.0.6668.101'}\n",
      "2024-10-12 18:38:50 [scrapy.middleware] INFO: Enabled downloader middlewares:\n",
      "['scrapy.downloadermiddlewares.robotstxt.RobotsTxtMiddleware',\n",
      " 'scrapy.downloadermiddlewares.httpauth.HttpAuthMiddleware',\n",
      " 'scrapy.downloadermiddlewares.downloadtimeout.DownloadTimeoutMiddleware',\n",
      " 'scrapy.downloadermiddlewares.defaultheaders.DefaultHeadersMiddleware',\n",
      " 'scrapy.downloadermiddlewares.useragent.UserAgentMiddleware',\n",
      " 'scrapy.downloadermiddlewares.retry.RetryMiddleware',\n",
      " 'scrapy.downloadermiddlewares.redirect.MetaRefreshMiddleware',\n",
      " 'scrapy.downloadermiddlewares.httpcompression.HttpCompressionMiddleware',\n",
      " 'scrapy.downloadermiddlewares.redirect.RedirectMiddleware',\n",
      " 'scrapy.downloadermiddlewares.cookies.CookiesMiddleware',\n",
      " 'scrapy.downloadermiddlewares.httpproxy.HttpProxyMiddleware',\n",
      " 'scrapy.downloadermiddlewares.stats.DownloaderStats']\n",
      "2024-10-12 18:38:50 [scrapy.middleware] INFO: Enabled spider middlewares:\n",
      "['scrapy.spidermiddlewares.httperror.HttpErrorMiddleware',\n",
      " 'scrapy.spidermiddlewares.offsite.OffsiteMiddleware',\n",
      " 'scrapy.spidermiddlewares.referer.RefererMiddleware',\n",
      " 'scrapy.spidermiddlewares.urllength.UrlLengthMiddleware',\n",
      " 'scrapy.spidermiddlewares.depth.DepthMiddleware']\n",
      "2024-10-12 18:38:50 [scrapy.middleware] INFO: Enabled item pipelines:\n",
      "[]\n",
      "2024-10-12 18:38:50 [scrapy.core.engine] INFO: Spider opened\n",
      "2024-10-12 18:38:50 [scrapy.extensions.logstats] INFO: Crawled 0 pages (at 0 pages/min), scraped 0 items (at 0 items/min)\n",
      "2024-10-12 18:38:50 [scrapy.extensions.telnet] INFO: Telnet console listening on 127.0.0.1:6023\n",
      "2024-10-12 18:38:52 [root] INFO: Scraping Le Saint Aubert at https://www.booking.com/hotel/fr/hotel-saint-aubert.fr.html\n",
      "2024-10-12 18:38:53 [root] INFO: Scraping Mercure Mont Saint Michel at https://www.booking.com/hotel/fr/mont-saint-michel.fr.html\n",
      "2024-10-12 18:38:54 [root] INFO: Scraping Le Relais Saint Michel at https://www.booking.com/hotel/fr/le-relais-saint-michel.fr.html\n",
      "2024-10-12 18:38:54 [root] INFO: Scraping La Mère Poulard at https://www.booking.com/hotel/fr/la-mere-poulard.fr.html\n",
      "2024-10-12 18:38:55 [root] INFO: Scraping Les Terrasses Poulard at https://www.booking.com/hotel/fr/les-terrasses-poulard.fr.html\n",
      "2024-10-12 18:38:56 [root] INFO: Scraping La Vieille Auberge at https://www.booking.com/hotel/fr/la-vieille-auberge-le-mont-saint-michel.fr.html\n",
      "2024-10-12 18:38:57 [root] INFO: Scraping Le Relais Du Roy at https://www.booking.com/hotel/fr/le-relais-du-roy.fr.html\n",
      "2024-10-12 18:38:57 [root] INFO: Scraping Hôtel Vert at https://www.booking.com/hotel/fr/vert.fr.html\n",
      "2024-10-12 18:38:58 [root] INFO: Scraping Le Mouton Blanc at https://www.booking.com/hotel/fr/le-mouton-blanc-le-mont-saint-michel.fr.html\n",
      "2024-10-12 18:38:59 [root] INFO: Scraping Hôtel la Croix Blanche at https://www.booking.com/hotel/fr/ha-el-la-croix-blanche.fr.html\n",
      "2024-10-12 18:39:00 [root] INFO: Scraping Hotel Gabriel at https://www.booking.com/hotel/fr/hotel-gabriel.fr.html\n",
      "2024-10-12 18:39:01 [root] INFO: Scraping Auberge Saint Pierre at https://www.booking.com/hotel/fr/auberge-saint-pierre.fr.html\n",
      "2024-10-12 18:39:01 [root] INFO: Scraping Auberge de la Baie at https://www.booking.com/hotel/fr/auberge-de-la-baie.fr.html\n",
      "2024-10-12 18:39:02 [root] INFO: Scraping Ermitage - Mont-Saint-Michel at https://www.booking.com/hotel/fr/ermitage-mont-saint-michel-beauvoir.fr.html\n",
      "2024-10-12 18:39:03 [root] INFO: Scraping Vacancéole - Les Chambres de la Baie at https://www.booking.com/hotel/fr/vacanceole-les-chambres-de-la-baie.fr.html\n",
      "2024-10-12 18:39:04 [root] INFO: Scraping Manoir de la Roche Torin, The Originals Relais at https://www.booking.com/hotel/fr/le-manoir-de-la-roche-torin.fr.html\n",
      "2024-10-12 18:39:04 [root] INFO: Scraping Vacancéole - Le Domaine du Mont - Mont St Michel at https://www.booking.com/hotel/fr/et-residence-club-mmv-le-domaine-du-mont.fr.html\n",
      "2024-10-12 18:39:05 [root] INFO: Scraping Hôtel Le Lithana at https://www.booking.com/hotel/fr/le-lithana.fr.html\n",
      "2024-10-12 18:39:05 [root] INFO: Scraping Hotel Le XIV at https://www.booking.com/hotel/fr/le-xiv.fr.html\n",
      "2024-10-12 18:39:06 [root] INFO: Scraping Hôtel Ariane & SPA at https://www.booking.com/hotel/fr/ariane-pontorson.fr.html\n",
      "2024-10-12 18:39:07 [root] INFO: Scraping Hotel De France at https://www.booking.com/hotel/fr/de-france-vauban.fr.html\n",
      "2024-10-12 18:39:07 [root] INFO: Scraping Hôtel - Restaurant Eugenie at https://www.booking.com/hotel/fr/eugenie-pontorson.fr.html\n",
      "2024-10-12 18:39:08 [root] INFO: Scraping ibis Pontorson Baie Du Mont Saint Michel at https://www.booking.com/hotel/fr/ibis-pontorson-baie-du-mont-saint-michel.fr.html\n",
      "2024-10-12 18:39:08 [root] INFO: Scraping Best Western Hôtel Montgomery at https://www.booking.com/hotel/fr/montgomery.fr.html\n",
      "2024-10-12 18:39:09 [root] INFO: Scraping The Originals Boutique, Hôtel Les Quatre Salines, Le Mont Saint-Michel Sud at https://www.booking.com/hotel/fr/lessalines.fr.html\n",
      "2024-10-12 18:39:10 [root] INFO: Scraping Logis Hôtel et Restaurant La Tour Brette at https://www.booking.com/hotel/fr/la-tour-brette.fr.html\n",
      "2024-10-12 18:39:11 [root] INFO: Scraping Hôtel Victor Hugo at https://www.booking.com/hotel/fr/victor-hugo-pontorson.fr.html\n",
      "2024-10-12 18:39:12 [root] INFO: Scraping Le Grillon at https://www.booking.com/hotel/fr/le-grillon-pontorson.fr.html\n",
      "2024-10-12 18:39:12 [root] INFO: Scraping B&B HOTEL AVRANCHES Baie du Mont St-Michel at https://www.booking.com/hotel/fr/b-amp-b-avranches.fr.html\n",
      "2024-10-12 18:39:12 [root] INFO: Scraping hotelF1 Avranches Baie Du Mont Saint Michel at https://www.booking.com/hotel/fr/formule-1-avranches-baie-du-mont-saint-michel.fr.html\n",
      "2024-10-12 18:39:14 [root] INFO: Scraping Hôtel les 13 Assiettes at https://www.booking.com/hotel/fr/assiettes.fr.html\n",
      "2024-10-12 18:39:14 [root] INFO: Scraping Hotel Des Bains at https://www.booking.com/hotel/fr/des-bains-saint-jean-le-thomas.fr.html\n",
      "2024-10-12 18:39:15 [root] INFO: Scraping La Ramade - Teritoria at https://www.booking.com/hotel/fr/la-ramade.fr.html\n",
      "2024-10-12 18:39:16 [root] INFO: Scraping Hotel Les Montois at https://www.booking.com/hotel/fr/le-pommeray.fr.html\n",
      "2024-10-12 18:39:17 [root] INFO: Scraping Hôtel Le Gue Du Holme at https://www.booking.com/hotel/fr/le-gue-du-holme.fr.html\n",
      "2024-10-12 18:39:18 [root] INFO: Scraping ibis Avranches Mont St Michel at https://www.booking.com/hotel/fr/ibis-avranches-baie-du-mont-st-michel.fr.html\n",
      "2024-10-12 18:39:18 [root] INFO: Scraping Hôtel Patton at https://www.booking.com/hotel/fr/hotellepatton.fr.html\n",
      "2024-10-12 18:39:18 [root] INFO: Scraping Hôtel de La Croix d'Or at https://www.booking.com/hotel/fr/ha-tel-de-la-coix-d-or.fr.html\n",
      "2024-10-12 18:39:19 [root] INFO: Scraping Altos Hotel & Spa at https://www.booking.com/hotel/fr/altos.fr.html\n",
      "2024-10-12 18:39:20 [root] INFO: Scraping Logis Auberge de Carolles at https://www.booking.com/hotel/fr/logis-auberge-de-carolles.fr.html\n",
      "2024-10-12 18:39:20 [root] INFO: Scraping Les Hermelles at https://www.booking.com/hotel/fr/les-hermelles.fr.html\n",
      "2024-10-12 18:39:21 [root] INFO: Scraping Ducey Appart'Hôtel - Les Rivières at https://www.booking.com/hotel/fr/ducey-appart-les-rivieres.fr.html\n",
      "2024-10-12 18:39:22 [root] INFO: Scraping Hôtel des Pins at https://www.booking.com/hotel/fr/des-pins-jullouville.fr.html\n",
      "2024-10-12 18:39:23 [root] INFO: Scraping Kyriad Dol-de-Bretagne at https://www.booking.com/hotel/fr/kyriad-dol-de-bretagn.fr.html\n",
      "2024-10-12 18:39:24 [root] INFO: Scraping Best Western Le Moulin de Ducey at https://www.booking.com/hotel/fr/lemoulindeducey.fr.html\n",
      "2024-10-12 18:39:24 [root] INFO: Scraping Logis Hôtel Le Bretagne at https://www.booking.com/hotel/fr/le-bretagne-le-vivier-sur-mer.fr.html\n",
      "2024-10-12 18:39:25 [root] INFO: Scraping Hôtel Duguesclin at https://www.booking.com/hotel/fr/le-duguesclin-la-haye-pesnel.fr.html\n",
      "2024-10-12 18:39:26 [root] INFO: Scraping Hotel Beau Rivage at https://www.booking.com/hotel/fr/hotel-beau-rivage.fr.html\n",
      "2024-10-12 18:39:27 [root] INFO: Scraping Logis Auberge De La Sélune at https://www.booking.com/hotel/fr/auberge-de-la-selune.fr.html\n",
      "2024-10-12 18:39:28 [root] INFO: Scraping ibis budget Granville at https://www.booking.com/hotel/fr/ibis-budget-granville.fr.html\n",
      "2024-10-12 18:39:28 [root] INFO: Scraping Hôtel de la Baie - Thalassothérapie PREVITHAL at https://www.booking.com/hotel/fr/le-pra-c-vithal.fr.html\n",
      "2024-10-12 18:39:29 [root] INFO: Scraping ibis Granville Port De Plaisance at https://www.booking.com/hotel/fr/ibis-granville-port-de-plaisance.fr.html\n",
      "2024-10-12 18:39:29 [root] INFO: Scraping Les Ormes Domaine et Resort at https://www.booking.com/hotel/fr/les-ormes-domaine-et-resort.fr.html\n",
      "2024-10-12 18:39:30 [root] INFO: Scraping Au Bout Du Quai at https://www.booking.com/hotel/fr/au-bout-du-quai.fr.html\n",
      "2024-10-12 18:39:31 [root] INFO: Scraping Hotel Des Bains at https://www.booking.com/hotel/fr/des-bains-granville.fr.html\n",
      "2024-10-12 18:39:31 [root] INFO: Scraping Mercure Granville Le Grand Large at https://www.booking.com/hotel/fr/hotel-le-grand-large.fr.html\n",
      "2024-10-12 18:39:32 [root] INFO: Scraping Brit Hotel Essentiel de Granville at https://www.booking.com/hotel/fr/brit-hotel-essentiel-de-granville.fr.html\n",
      "2024-10-12 18:39:33 [root] INFO: Scraping Hotel de la Gare at https://www.booking.com/hotel/fr/de-la-gare-dol-de-bretagne.fr.html\n",
      "2024-10-12 18:39:33 [root] INFO: Scraping Hôtel de Bretagne Dol centre ville at https://www.booking.com/hotel/fr/de-bretagne-dol-de-bretagne.fr.html\n",
      "2024-10-12 18:39:34 [root] INFO: Scraping Château de La Ballue - Teritoria at https://www.booking.com/hotel/fr/chateau-de-la-ballue.fr.html\n",
      "2024-10-12 18:39:34 [root] INFO: Scraping Hotel Du Tertre at https://www.booking.com/hotel/fr/du-tertre.fr.html\n",
      "2024-10-12 18:39:35 [root] INFO: Scraping Hôtel du Musée at https://www.booking.com/hotel/fr/l-39-arrivee.fr.html\n",
      "2024-10-12 18:39:36 [root] INFO: Scraping Hôtel Ar Iniz at https://www.booking.com/hotel/fr/ar-iniz.fr.html\n",
      "2024-10-12 18:39:37 [root] INFO: Scraping Alba hotel at https://www.booking.com/hotel/fr/alba-saint-malo.fr.html\n",
      "2024-10-12 18:39:37 [root] INFO: Scraping Hôtel San Pedro at https://www.booking.com/hotel/fr/san-pedro.fr.html\n",
      "2024-10-12 18:39:38 [root] INFO: Scraping Hôtel Bristol Union Intra Muros at https://www.booking.com/hotel/fr/bristol-union.fr.html\n",
      "2024-10-12 18:39:39 [root] INFO: Scraping Hotel De La Mer at https://www.booking.com/hotel/fr/la-cote-d-39-emeraude.fr.html\n",
      "2024-10-12 18:39:39 [root] INFO: Scraping Kyriad Prestige Saint-Malo at https://www.booking.com/hotel/fr/kyriad-prestige-saint-malo-xml.fr.html\n",
      "2024-10-12 18:39:39 [root] INFO: Scraping Hôtel de la Gare at https://www.booking.com/hotel/fr/de-la-gare-saint-malo.fr.html\n",
      "2024-10-12 18:39:40 [root] INFO: Scraping Hôtel de la Cité at https://www.booking.com/hotel/fr/de-la-cite.fr.html\n",
      "2024-10-12 18:39:41 [root] INFO: Scraping Escale Oceania Saint Malo at https://www.booking.com/hotel/fr/mascottesaintmalo.fr.html\n",
      "2024-10-12 18:39:42 [root] INFO: Scraping B&B HOTEL Saint-Malo Centre at https://www.booking.com/hotel/fr/b-b-saint-malo.fr.html\n",
      "2024-10-12 18:39:42 [root] INFO: Scraping Hôtel France et Chateaubriand at https://www.booking.com/hotel/fr/de-france-et-chateaubriand.fr.html\n",
      "2024-10-12 18:39:43 [root] INFO: Scraping Hôtel Le Nautilus at https://www.booking.com/hotel/fr/le-nautilus.fr.html\n",
      "2024-10-12 18:39:44 [root] INFO: Scraping Oceania Saint Malo at https://www.booking.com/hotel/fr/oceaniasaintmalo.fr.html\n",
      "2024-10-12 18:39:45 [root] INFO: Scraping Hotel Ar Terra Nova at https://www.booking.com/hotel/fr/ar-terra-nova.fr.html\n",
      "2024-10-12 18:39:46 [root] INFO: Scraping Hotel Kyriad Saint Malo Centre Plage at https://www.booking.com/hotel/fr/bleumarinesaintmalo.fr.html\n",
      "2024-10-12 18:39:47 [root] INFO: Scraping Grand Hôtel Des Thermes at https://www.booking.com/hotel/fr/desthermessaintmalo.fr.html\n",
      "2024-10-12 18:39:48 [root] INFO: Scraping Hôtel Cartier at https://www.booking.com/hotel/fr/cartier.fr.html\n",
      "2024-10-12 18:39:48 [root] INFO: Scraping Ker Annick at https://www.booking.com/hotel/fr/ker-annick.fr.html\n",
      "2024-10-12 18:39:49 [root] INFO: Scraping Ambassadeurs Logis Hotel at https://www.booking.com/hotel/fr/ambassadeurs.fr.html\n",
      "2024-10-12 18:39:50 [root] INFO: Scraping Hotel des Abers at https://www.booking.com/hotel/fr/des-abers.fr.html\n",
      "2024-10-12 18:39:50 [scrapy.extensions.logstats] INFO: Crawled 84 pages (at 84 pages/min), scraped 82 items (at 82 items/min)\n",
      "2024-10-12 18:39:50 [root] INFO: Scraping Les Charmettes at https://www.booking.com/hotel/fr/les-charmettes.fr.html\n",
      "2024-10-12 18:39:51 [root] INFO: Scraping Résidence Pierre & Vacances Ty Mat at https://www.booking.com/hotel/fr/maevatymat.fr.html\n",
      "2024-10-12 18:39:55 [root] INFO: Scraping Manoir Du Cunningham at https://www.booking.com/hotel/fr/manoir-du-cunningham.fr.html\n",
      "2024-10-12 18:39:56 [root] INFO: Scraping Les Chiens du Guet at https://www.booking.com/hotel/fr/les-chiens-du-guet.fr.html\n",
      "2024-10-12 18:39:57 [root] INFO: Scraping Logis Maison Vauban - Hotel St Malo at https://www.booking.com/hotel/fr/palais.fr.html\n",
      "2024-10-12 18:39:58 [root] INFO: Scraping La Rotonde at https://www.booking.com/hotel/fr/la-rotonde-st-malo.fr.html\n",
      "2024-10-12 18:39:59 [root] INFO: Scraping Hôtel La Porte Saint Pierre-Logis Hôtel Intra Muros at https://www.booking.com/hotel/fr/sarl-porte-saint-pierre.fr.html\n",
      "2024-10-12 18:40:00 [root] INFO: Scraping The Originals Boutique, Hôtel des Marins, Saint-Malo at https://www.booking.com/hotel/fr/dulouvresaintmalo.fr.html\n",
      "2024-10-12 18:40:01 [root] INFO: Scraping Sézam-Appart-Hôtel at https://www.booking.com/hotel/fr/de-l-europe-appartements.fr.html\n",
      "2024-10-12 18:40:02 [root] INFO: Scraping La Maison des Armateurs at https://www.booking.com/hotel/fr/la-maison-des-armateurs.fr.html\n",
      "2024-10-12 18:40:03 [root] INFO: Scraping Hotel Brasserie Armoricaine at https://www.booking.com/hotel/fr/brasserie-armoricaine.fr.html\n",
      "2024-10-12 18:40:03 [root] INFO: Scraping Hôtel La Villefromoy at https://www.booking.com/hotel/fr/lavillefromoysainmalo.fr.html\n",
      "2024-10-12 18:40:04 [root] INFO: Scraping hotelF1 Saint Malo at https://www.booking.com/hotel/fr/hotelf1-saint-malo.fr.html\n",
      "2024-10-12 18:40:05 [root] INFO: Scraping ibis Styles Saint Malo Port at https://www.booking.com/hotel/fr/ibis-styles-saint-malo-port.fr.html\n",
      "2024-10-12 18:40:06 [root] INFO: Scraping Hotel & Restaurant Hanoï Station at https://www.booking.com/hotel/fr/le-cocktail-bar.fr.html\n",
      "2024-10-12 18:40:07 [root] INFO: Scraping Best Western Alexandra at https://www.booking.com/hotel/fr/best-western-alexandra.fr.html\n",
      "2024-10-12 18:40:07 [root] INFO: Scraping Hôtel Le Nouveau Monde at https://www.booking.com/hotel/fr/ha-tel-le-nouveau-monde.fr.html\n",
      "2024-10-12 18:40:08 [root] INFO: Scraping L'Hôtel Particulier Ascott at https://www.booking.com/hotel/fr/ascott.fr.html\n",
      "2024-10-12 18:40:09 [root] INFO: Scraping Hotel Elizabeth - Intra Muros at https://www.booking.com/hotel/fr/elizabeth.fr.html\n",
      "2024-10-12 18:40:09 [root] INFO: Scraping La Marinière Hôtel Restaurant at https://www.booking.com/hotel/fr/aux-voyageurs.fr.html\n",
      "2024-10-12 18:40:10 [root] INFO: Scraping ibis Saint Malo Plage at https://www.booking.com/hotel/fr/ibis-saint-malo-plage.fr.html\n",
      "2024-10-12 18:40:11 [root] INFO: Scraping Hôtel Oré, Saint-Malo at https://www.booking.com/hotel/fr/belem.fr.html\n",
      "2024-10-12 18:40:11 [root] INFO: Scraping Otonali Hôtel by Breizh Café at https://www.booking.com/hotel/fr/aubade.fr.html\n",
      "2024-10-12 18:40:13 [root] INFO: Scraping Hotel Eden at https://www.booking.com/hotel/fr/eden-saint-malo.fr.html\n",
      "2024-10-12 18:40:13 [root] INFO: Scraping ibis budget Saint Malo Centre at https://www.booking.com/hotel/fr/etap-saint-malo-centre.fr.html\n",
      "2024-10-12 18:40:14 [root] INFO: Scraping Hotel Le Croiseur Ginette Intra Muros at https://www.booking.com/hotel/fr/le-croiseur.fr.html\n",
      "2024-10-12 18:40:15 [root] INFO: Scraping ibis Styles Saint Malo Centre Historique at https://www.booking.com/hotel/fr/all-seasons-saint-malo-centre-historique.fr.html\n",
      "2024-10-12 18:40:16 [root] INFO: Scraping Quic En Groigne at https://www.booking.com/hotel/fr/quic-en-groigne-saint-malo.fr.html\n",
      "2024-10-12 18:40:16 [root] INFO: Scraping Brit Hotel Le Surcouf at https://www.booking.com/hotel/fr/le-surcouf.fr.html\n",
      "2024-10-12 18:40:17 [root] INFO: Scraping Hôtel L'Adresse at https://www.booking.com/hotel/fr/adresse.fr.html\n",
      "2024-10-12 18:40:18 [root] INFO: Scraping Hotel Ajoncs d'Or at https://www.booking.com/hotel/fr/ajoncsdor.fr.html\n",
      "2024-10-12 18:40:19 [root] INFO: Scraping ibis Saint-Malo Madeleine at https://www.booking.com/hotel/fr/ibis-saint-malo-madeleine.fr.html\n",
      "2024-10-12 18:40:19 [root] INFO: Scraping Hôtel Le Jersey at https://www.booking.com/hotel/fr/ha-tel-le-jersey-saint-malo.fr.html\n",
      "2024-10-12 18:40:20 [root] INFO: Scraping Hôtel Le Beaufort at https://www.booking.com/hotel/fr/beaufort.fr.html\n",
      "2024-10-12 18:40:21 [root] INFO: Scraping Logis Hôtel la Grassinais Saint-Malo at https://www.booking.com/hotel/fr/arcantis-la-grassinais.fr.html\n",
      "2024-10-12 18:40:22 [root] INFO: Scraping Brit Hotel Saint Malo – Le Transat at https://www.booking.com/hotel/fr/brit-le-transat.fr.html\n",
      "2024-10-12 18:40:22 [root] INFO: Scraping Château Hôtel Du Colombier at https://www.booking.com/hotel/fr/chateau-du-colombie.fr.html\n",
      "2024-10-12 18:40:23 [root] INFO: Scraping Residence Reine Marine at https://www.booking.com/hotel/fr/residence-reine-marine.fr.html\n",
      "2024-10-12 18:40:24 [root] INFO: Scraping Hotel d'Aleth at https://www.booking.com/hotel/fr/d-aleth.fr.html\n",
      "2024-10-12 18:40:24 [root] INFO: Scraping Golden Tulip Saint Malo– Le Grand Bé at https://www.booking.com/hotel/fr/golden-tulip-saint-malo.fr.html\n",
      "2024-10-12 18:40:25 [root] INFO: Scraping Mercure St Malo Front de Mer at https://www.booking.com/hotel/fr/st-malo-front-de-mer.fr.html\n",
      "2024-10-12 18:40:25 [root] INFO: Scraping Malouinière Le Valmarin at https://www.booking.com/hotel/fr/le-valmarin-malouiniere-du-18eme-siecl.fr.html\n",
      "2024-10-12 18:40:26 [root] INFO: Scraping Mercure Saint Malo Balmoral at https://www.booking.com/hotel/fr/best-western-balmoral.fr.html\n",
      "2024-10-12 18:40:27 [root] INFO: Scraping Domaine de la Barbinais at https://www.booking.com/hotel/fr/domaine-de-la-barbinais.fr.html\n",
      "2024-10-12 18:40:28 [root] INFO: Scraping Antinéa at https://www.booking.com/hotel/fr/antinea.fr.html\n",
      "2024-10-12 18:40:28 [root] INFO: Scraping Hôtel Anne de Bretagne - Réouverture 2024 après travaux at https://www.booking.com/hotel/fr/anne-de-bretagne.fr.html\n",
      "2024-10-12 18:40:29 [root] INFO: Scraping Hotel De L'univers at https://www.booking.com/hotel/fr/de-l-univers.fr.html\n",
      "2024-10-12 18:40:29 [root] INFO: Scraping Hôtel Le Britannic - centre gare- at https://www.booking.com/hotel/fr/le-britannic.fr.html\n",
      "2024-10-12 18:40:30 [root] INFO: Scraping Résidence Neptunia at https://www.booking.com/hotel/fr/residence-neptunia.fr.html\n",
      "2024-10-12 18:40:30 [root] INFO: Scraping Le Port Malo at https://www.booking.com/hotel/fr/le-port-malo.fr.html\n",
      "2024-10-12 18:40:31 [root] INFO: Scraping Artimon By Les Ambassadeurs at https://www.booking.com/hotel/fr/artimont-by-les-ambassadeurs.fr.html\n",
      "2024-10-12 18:40:32 [root] INFO: Scraping Résidence Le Rochebonne at https://www.booking.com/hotel/fr/residence-le-rochebonne.fr.html\n",
      "2024-10-12 18:40:32 [root] INFO: Scraping Appartements des Marins at https://www.booking.com/hotel/fr/appartements-des-marins.fr.html\n",
      "2024-10-12 18:40:33 [root] INFO: Scraping Villa des Thermes at https://www.booking.com/hotel/fr/villa-des-thermes.fr.html\n",
      "2024-10-12 18:40:34 [root] INFO: Scraping Domaine de Bayeux at https://www.booking.com/hotel/fr/domaine-de-bayeux.fr.html\n",
      "2024-10-12 18:40:34 [root] INFO: Scraping Hôtel De Brunville & Spa at https://www.booking.com/hotel/fr/hoteldebrunville.fr.html\n",
      "2024-10-12 18:40:35 [root] INFO: Scraping Premiere Classe Bayeux at https://www.booking.com/hotel/fr/premiere-classe-bayeux.fr.html\n",
      "2024-10-12 18:40:36 [root] INFO: Scraping La Maison de Mathilde at https://www.booking.com/hotel/fr/la-maison-de-mathilde.fr.html\n",
      "2024-10-12 18:40:37 [root] INFO: Scraping Hotel Le Lion D'Or et Restaurant La Table Du Lion at https://www.booking.com/hotel/fr/le-lion-d-or-bayeux.fr.html\n",
      "2024-10-12 18:40:38 [root] INFO: Scraping Hotel Reine Mathilde at https://www.booking.com/hotel/fr/reine-mathilde-bayeux.fr.html\n",
      "2024-10-12 18:40:38 [root] INFO: Scraping Au Loup Historic Apartments at https://www.booking.com/hotel/fr/au-loup-historic-apartments-bayeux.fr.html\n",
      "2024-10-12 18:40:39 [root] INFO: Scraping Château de Bellefontaine - Teritoria at https://www.booking.com/hotel/fr/chateau-de-bellefontaine.fr.html\n",
      "2024-10-12 18:40:39 [root] INFO: Scraping Domitys Les Falaises Blanches at https://www.booking.com/hotel/fr/domitys-les-falaises-blanches.fr.html\n",
      "2024-10-12 18:40:40 [root] INFO: Scraping Churchill Hotel Bayeux Centre at https://www.booking.com/hotel/fr/churchill-bayeux.fr.html\n",
      "2024-10-12 18:40:41 [root] INFO: Scraping Campanile Bayeux at https://www.booking.com/hotel/fr/campanile-bayeux.fr.html\n",
      "2024-10-12 18:40:42 [root] INFO: Scraping Grand Hôtel du Luxembourg & Spa at https://www.booking.com/hotel/fr/hotelduluxembourg.fr.html\n",
      "2024-10-12 18:40:42 [root] INFO: Scraping Hôtel Le Bayeux at https://www.booking.com/hotel/fr/le-bayeux.fr.html\n",
      "2024-10-12 18:40:43 [root] INFO: Scraping Novotel Bayeux at https://www.booking.com/hotel/fr/novotel.fr.html\n",
      "2024-10-12 18:40:44 [root] INFO: Scraping Hôtel d'Argouges at https://www.booking.com/hotel/fr/d-argouges.fr.html\n",
      "2024-10-12 18:40:44 [root] INFO: Scraping Hôtel Le Saint Patrice at https://www.booking.com/hotel/fr/saint-patrice.fr.html\n",
      "2024-10-12 18:40:45 [root] INFO: Scraping Appart’hôtel saint patrice at https://www.booking.com/hotel/fr/appart-saint-patrice.fr.html\n",
      "2024-10-12 18:40:46 [root] INFO: Scraping Villa Lara Hotel at https://www.booking.com/hotel/fr/villa-lara-ha-tel.fr.html\n",
      "2024-10-12 18:40:46 [root] INFO: Scraping Le Mogador at https://www.booking.com/hotel/fr/le-mogador-bayeux.fr.html\n",
      "2024-10-12 18:40:47 [root] INFO: Scraping Relais des 3 Pommes at https://www.booking.com/hotel/fr/le-relais-des-3-pommes.fr.html\n",
      "2024-10-12 18:40:48 [root] INFO: Scraping Domaine du Grand Caugy at https://www.booking.com/hotel/fr/domaine-du-grand-caugy.fr.html\n",
      "2024-10-12 18:40:48 [root] INFO: Scraping Ibis Budget Bayeux at https://www.booking.com/hotel/fr/etap-bayeux.fr.html\n",
      "2024-10-12 18:40:49 [root] INFO: Scraping Château Saint Gilles - Bayeux at https://www.booking.com/hotel/fr/chateau-saint-gilles.fr.html\n",
      "2024-10-12 18:40:50 [root] INFO: Scraping Grand Hôtel \"Château de Sully\" - Piscine & Spa at https://www.booking.com/hotel/fr/chateau-de-sully.fr.html\n",
      "2024-10-12 18:40:50 [scrapy.extensions.logstats] INFO: Crawled 161 pages (at 77 pages/min), scraped 160 items (at 78 items/min)\n",
      "2024-10-12 18:40:51 [root] INFO: Scraping Hôtel Restaurant le clos de l 'Ancien Pressoir at https://www.booking.com/hotel/fr/la-clos-de-l-39-ancien-pressoir.fr.html\n",
      "2024-10-12 18:40:51 [root] INFO: Scraping Résidence Pierre & Vacances Green Beach at https://www.booking.com/hotel/fr/residence-pierre-vacances-omaha-beach.fr.html\n",
      "2024-10-12 18:40:52 [root] INFO: Scraping Hotel De Normandie at https://www.booking.com/hotel/fr/de-normandie-arromanches.fr.html\n",
      "2024-10-12 18:40:53 [root] INFO: Scraping Hôtel L'ideal le Mountbatten at https://www.booking.com/hotel/fr/ha-tel-le-mountbatten.fr.html\n",
      "2024-10-12 18:40:54 [root] INFO: Scraping ibis Bayeux Port En Bessin at https://www.booking.com/hotel/fr/ibis-bayeux-port-en-bessin.fr.html\n",
      "2024-10-12 18:40:55 [root] INFO: Scraping Les Villas d'Arromanches, Teritoria at https://www.booking.com/hotel/fr/le-chanteclair.fr.html\n",
      "2024-10-12 18:40:55 [root] INFO: Scraping Le Grand Hôtel de la Marine at https://www.booking.com/hotel/fr/de-la-marine-port-en-bessin-huppain.fr.html\n",
      "2024-10-12 18:40:56 [root] INFO: Scraping Logis Hôtel La Rosière at https://www.booking.com/hotel/fr/la-rosiere.fr.html\n",
      "2024-10-12 18:40:57 [root] INFO: Scraping Hotel Eisenhower (ex King Hôtel) at https://www.booking.com/hotel/fr/kinghotel.fr.html\n",
      "2024-10-12 18:40:58 [root] INFO: Scraping Hôtel De La Marine at https://www.booking.com/hotel/fr/de-la-marine.fr.html\n",
      "2024-10-12 18:40:59 [root] INFO: Scraping Mercure Bayeux Omaha Beach at https://www.booking.com/hotel/fr/omaha-beach.fr.html\n",
      "2024-10-12 18:40:59 [root] INFO: Scraping Hôtel Restaurant Le Mulberry Arromanches at https://www.booking.com/hotel/fr/le-mulberry.fr.html\n",
      "2024-10-12 18:41:00 [root] INFO: Scraping Chateau La Cheneviere at https://www.booking.com/hotel/fr/chateau-la-cheneviere.fr.html\n",
      "2024-10-12 18:41:01 [root] INFO: Scraping Gold Beach Hotel & RESIDENCE at https://www.booking.com/hotel/fr/c2a-residence-gold-beach.fr.html\n",
      "2024-10-12 18:41:01 [root] INFO: Scraping Hostellerie Saint Martin- Logis Hôtel et Restaurant at https://www.booking.com/hotel/fr/hostellerie-saint-martin-creully.fr.html\n",
      "2024-10-12 18:41:02 [root] INFO: Scraping Résidence L'Hostreiere at https://www.booking.com/hotel/fr/domaine-de-l-hostreiere.fr.html\n",
      "2024-10-12 18:41:03 [root] INFO: Scraping Chateau d'Audrieu at https://www.booking.com/hotel/fr/chateau-d-audrieu.fr.html\n",
      "2024-10-12 18:41:03 [root] INFO: Scraping Chateau des Chevaliers de Grand Tonne at https://www.booking.com/hotel/fr/chateau-de-grand-tonne.fr.html\n",
      "2024-10-12 18:41:04 [root] INFO: Scraping Hôtel Le Manoir De Mathan Crépon à la campagne 5 mn d'Arromanches et 10 mn de Bayeux at https://www.booking.com/hotel/fr/le-manoir-de-mathan.fr.html\n",
      "2024-10-12 18:41:04 [root] INFO: Scraping Belambra Clubs Colleville-sur-Mer - Omaha Beach at https://www.booking.com/hotel/fr/club-belambra-location-colleville-sur-mer-omaha-beach.fr.html\n",
      "2024-10-12 18:41:05 [root] INFO: Scraping Ferme de la Rançonnière - Hôtel & Restaurant at https://www.booking.com/hotel/fr/ferme-de-la-ranconniere.fr.html\n",
      "2024-10-12 18:41:06 [root] INFO: Scraping Gîtes La Grande Ferme Crépon - à la campagne 5mn d'Arromanches et 10mn de Bayeux at https://www.booking.com/hotel/fr/la-grande-ferme-maison-de-maitre.fr.html\n",
      "2024-10-12 18:41:07 [root] INFO: Scraping Appartement Prestige Résidentiel 3 chambres 3 salles de bain au Manoir de Mathan à Crépon 5 mn d'Arromanches et 10 mn de Bayeux at https://www.booking.com/hotel/fr/manoir-de-mathan-appartement-prestige-residentiel.fr.html\n",
      "2024-10-12 18:41:07 [root] INFO: Scraping Junior Suite Triple PMR Résidentielle avec cuisine au Manoir de Mathan à Crépon 5mn d'Arromanches et 10 mn de Bayeux at https://www.booking.com/hotel/fr/manoir-de-mathan-chambre-junior-suite-pmr-residentielle.fr.html\n",
      "2024-10-12 18:41:08 [root] INFO: Scraping Hôtel De La Plage at https://www.booking.com/hotel/fr/de-la-plage-courseulles-sur-mer.fr.html\n",
      "2024-10-12 18:41:09 [root] INFO: Scraping La Cremaillere at https://www.booking.com/hotel/fr/la-cremaillere-le-gytan.fr.html\n",
      "2024-10-12 18:41:09 [root] INFO: Scraping Château de Bernesq at https://www.booking.com/hotel/fr/chateau-de-bernesq-sarona-farm.fr.html\n",
      "2024-10-12 18:41:10 [root] INFO: Scraping Hôtel 4 étoiles Château - Domaine de Coeurmandie at https://www.booking.com/hotel/fr/domaine-de-coeurmandie.fr.html\n",
      "2024-10-12 18:41:11 [root] INFO: Scraping Pierre & Vacances Résidence Le Chant des Oiseaux at https://www.booking.com/hotel/fr/maeva-ra-c-sidence-le-chant-des-oiseaux.fr.html\n",
      "2024-10-12 18:41:11 [root] INFO: Scraping Château du Bû at https://www.booking.com/hotel/fr/chateau-du-bu-anctoville.fr.html\n",
      "2024-10-12 18:41:12 [root] INFO: Scraping La Sapinière at https://www.booking.com/hotel/fr/la-sapiniere-saint-laurent-sur-mer.fr.html\n",
      "2024-10-12 18:41:13 [root] INFO: Scraping Logis Hotel Du Casino Restaurant Le Mathelia at https://www.booking.com/hotel/fr/du-casino-vierville-sur-mer.fr.html\n",
      "2024-10-12 18:41:14 [root] INFO: Scraping Domitys La Plage de Nacre at https://www.booking.com/hotel/fr/domitys-la-plage-de-nacre.fr.html\n",
      "2024-10-12 18:41:15 [root] INFO: Scraping La Pêcherie at https://www.booking.com/hotel/fr/la-pecherie.fr.html\n",
      "2024-10-12 18:41:16 [root] INFO: Scraping Le Clos Normand at https://www.booking.com/hotel/fr/le-clos-normand.fr.html\n",
      "2024-10-12 18:41:16 [root] INFO: Scraping Ace Hôtel Caen Nord Mémorial at https://www.booking.com/hotel/fr/ace-caen-nord-memorial.fr.html\n",
      "2024-10-12 18:41:17 [root] INFO: Scraping B&B HOTEL Caen Mémorial at https://www.booking.com/hotel/fr/b-amp-b-caen-memorial.fr.html\n",
      "2024-10-12 18:41:17 [root] INFO: Scraping Kyriad Direct Caen Nord Memorial at https://www.booking.com/hotel/fr/kyriad-direct-caen-nord-memorial.fr.html\n",
      "2024-10-12 18:41:18 [root] INFO: Scraping Papagayo at https://www.booking.com/hotel/fr/le-poisson-dans-tous-ses-etats.fr.html\n",
      "2024-10-12 18:41:19 [root] INFO: Scraping The Originals City, Hôtel Caen Mémorial at https://www.booking.com/hotel/fr/balladins-caen-memorial.fr.html\n",
      "2024-10-12 18:41:19 [root] INFO: Scraping ibis budget Caen Porte de Bretagne at https://www.booking.com/hotel/fr/etap-bretteville-sur-odon.fr.html\n",
      "2024-10-12 18:41:20 [root] INFO: Scraping Au Vieux Puits at https://www.booking.com/hotel/fr/au-vieux-puits.fr.html\n",
      "2024-10-12 18:41:21 [root] INFO: Scraping Hôtel Crocus Caen Mémorial at https://www.booking.com/hotel/fr/hotelcrocus.fr.html\n",
      "2024-10-12 18:41:21 [root] INFO: Scraping Premiere Classe Caen Nord - Mémorial at https://www.booking.com/hotel/fr/premiere-classe-caen-nord-ma-c-morial-xml.fr.html\n",
      "2024-10-12 18:41:22 [root] INFO: Scraping Les 3 rois by YY at https://www.booking.com/hotel/fr/les-3-rois-by-yy.fr.html\n",
      "2024-10-12 18:41:23 [root] INFO: Scraping Saint Aubin Logis Hôtel & Restaurant at https://www.booking.com/hotel/fr/le-saint-aubin.fr.html\n",
      "2024-10-12 18:41:24 [root] INFO: Scraping ibis Budget Caen Memorial at https://www.booking.com/hotel/fr/ibis-budget-caen-memorial.fr.html\n",
      "2024-10-12 18:41:25 [root] INFO: Scraping Sure Hotel by Best Western Caen Memorial at https://www.booking.com/hotel/fr/the-originals-city-hotel-otelinn-caen.fr.html\n",
      "2024-10-12 18:41:25 [root] INFO: Scraping Auberge De La Luzerne at https://www.booking.com/hotel/fr/auberge-de-la-luzerne.fr.html\n",
      "2024-10-12 18:41:25 [root] INFO: Scraping ibis Caen Porte De Bretagne at https://www.booking.com/hotel/fr/caen-porte-de-bretagne.fr.html\n",
      "2024-10-12 18:41:26 [root] INFO: Scraping Hotel de Normandie at https://www.booking.com/hotel/fr/de-normandie-saint-aubin-sur-mer.fr.html\n",
      "2024-10-12 18:41:27 [root] INFO: Scraping Hilton Garden Inn Le Havre Centre at https://www.booking.com/hotel/fr/hilton-garden-inn-le-havre-centre.fr.html\n",
      "2024-10-12 18:41:27 [root] INFO: Scraping The Originals Boutique, Hôtel d'Angleterre, Le Havre, centre, plage at https://www.booking.com/hotel/fr/comfort-d-angleterre.fr.html\n",
      "2024-10-12 18:41:28 [root] INFO: Scraping All Suites Appart Hotel Le Havre at https://www.booking.com/hotel/fr/all-suites-appart-le-havre.fr.html\n",
      "2024-10-12 18:41:28 [root] INFO: Scraping Hotel Spa Le Pasino at https://www.booking.com/hotel/fr/pasino.fr.html\n",
      "2024-10-12 18:41:29 [root] INFO: Scraping Hôtel Carmin at https://www.booking.com/hotel/fr/carmin.fr.html\n",
      "2024-10-12 18:41:30 [root] INFO: Scraping Holiday Inn Express - Le Havre Centre at https://www.booking.com/hotel/fr/campanile-le-havre-centre.fr.html\n",
      "2024-10-12 18:41:31 [root] INFO: Scraping The Originals Boutique, Hôtel Le Marignan,Le Havre Centre Gare at https://www.booking.com/hotel/fr/la-baraka.fr.html\n",
      "2024-10-12 18:41:32 [root] INFO: Scraping Arthur Residency - Luxury Apartment - Gare Le Havre at https://www.booking.com/hotel/fr/arthur-residency-luxury-apartment-gare-le-havre.fr.html\n",
      "2024-10-12 18:41:33 [root] INFO: Scraping Odalys City Le Havre Centre Les Docks at https://www.booking.com/hotel/fr/odalys-city-le-havre-centre-les-docks.fr.html\n",
      "2024-10-12 18:41:33 [root] INFO: Scraping Hotel de Charme La Bonne Adresse - Logis de France at https://www.booking.com/hotel/fr/des-phares.fr.html\n",
      "2024-10-12 18:41:34 [root] INFO: Scraping Birgit Hôtel Le Havre Centre at https://www.booking.com/hotel/fr/kyriadlehavrecentre.fr.html\n",
      "2024-10-12 18:41:35 [root] INFO: Scraping Nomad Hotel le Havre at https://www.booking.com/hotel/fr/nomad-le-havre.fr.html\n",
      "2024-10-12 18:41:35 [root] INFO: Scraping Hôtel Spa Vent d'Ouest at https://www.booking.com/hotel/fr/vent-d-ouest-le-havre.fr.html\n",
      "2024-10-12 18:41:36 [root] INFO: Scraping Best Western ARThotel at https://www.booking.com/hotel/fr/art.fr.html\n",
      "2024-10-12 18:41:37 [root] INFO: Scraping JOST Hôtel Le Havre Centre Gare at https://www.booking.com/hotel/fr/jost-le-havre.fr.html\n",
      "2024-10-12 18:41:37 [root] INFO: Scraping Best Western Plus Le Havre Centre Gare at https://www.booking.com/hotel/fr/hotelterminuslehavre.fr.html\n",
      "2024-10-12 18:41:38 [root] INFO: Scraping Oscar Hôtel Le Havre Centre at https://www.booking.com/hotel/fr/celtic.fr.html\n",
      "2024-10-12 18:41:38 [root] INFO: Scraping Zenitude Hôtel-Résidences Le Havre at https://www.booking.com/hotel/fr/appart-city-cap-affaires-le-havre.fr.html\n",
      "2024-10-12 18:41:39 [root] INFO: Scraping Odalys City Le Havre Centre Gare at https://www.booking.com/hotel/fr/odalys-city-le-havre-centre-gare.fr.html\n",
      "2024-10-12 18:41:40 [root] INFO: Scraping ibis Le Havre Centre at https://www.booking.com/hotel/fr/hotelibislehavre.fr.html\n",
      "2024-10-12 18:41:41 [root] INFO: Scraping Ibis Budget Le Havre Les Docks at https://www.booking.com/hotel/fr/ibis-budget-le-havre-centre.fr.html\n",
      "2024-10-12 18:41:41 [root] INFO: Scraping Premiere Classe Le Havre Centre-LES DOCKS at https://www.booking.com/hotel/fr/premiere-classe-le-havre-centre.fr.html\n",
      "2024-10-12 18:41:42 [root] INFO: Scraping Eklo Hotels Le Havre at https://www.booking.com/hotel/fr/eklo-hotels-le-havre.fr.html\n",
      "2024-10-12 18:41:43 [root] INFO: Scraping Résidence Hôtelière de l'Estuaire at https://www.booking.com/hotel/fr/residence-hoteliere-de-l-estuaire.fr.html\n",
      "2024-10-12 18:41:44 [root] INFO: Scraping Aparthotel Adagio Access Le Havre Les Docks at https://www.booking.com/hotel/fr/adagio-access-le-havre-les-docks.fr.html\n",
      "2024-10-12 18:41:45 [root] INFO: Scraping hôtel mondial at https://www.booking.com/hotel/fr/mondial-le-havre123.fr.html\n",
      "2024-10-12 18:41:45 [root] INFO: Scraping Mercure Le Havre Centre Bassin Du Commerce at https://www.booking.com/hotel/fr/mercure-bassin-du-commerce.fr.html\n",
      "2024-10-12 18:41:46 [root] INFO: Scraping Smart Appart Le Havre 97 at https://www.booking.com/hotel/fr/smart-appart-le-havre.fr.html\n",
      "2024-10-12 18:41:47 [root] INFO: Scraping Hôtel Lilybloom at https://www.booking.com/hotel/fr/la-grande-ecole-le-havre.fr.html\n",
      "2024-10-12 18:41:48 [root] INFO: Scraping ibis Styles Le Havre Centre at https://www.booking.com/hotel/fr/citotel-le-marly.fr.html\n",
      "2024-10-12 18:41:49 [root] INFO: Scraping Smart Appart Le Havre 105 at https://www.booking.com/hotel/fr/smart-appart-le-havre-105.fr.html\n",
      "2024-10-12 18:41:50 [root] INFO: Scraping LOGIS HOTEL - La Petite Rade at https://www.booking.com/hotel/fr/les-voiles-sur-le-front-de-mer.fr.html\n",
      "2024-10-12 18:41:50 [scrapy.extensions.logstats] INFO: Crawled 244 pages (at 83 pages/min), scraped 243 items (at 83 items/min)\n",
      "2024-10-12 18:41:51 [root] INFO: Scraping Novotel Le Havre Centre Gare at https://www.booking.com/hotel/fr/novotellehavre.fr.html\n",
      "2024-10-12 18:41:51 [root] INFO: Scraping Hôtel Le Green at https://www.booking.com/hotel/fr/le-green.fr.html\n",
      "2024-10-12 18:41:52 [root] INFO: Scraping Lh Rooms Location at https://www.booking.com/hotel/fr/lh-rooms-location.fr.html\n",
      "2024-10-12 18:41:53 [root] INFO: Scraping Le Vieux Carré at https://www.booking.com/hotel/fr/le-vieux-carre.fr.html\n",
      "2024-10-12 18:41:53 [root] INFO: Scraping Grand Hôtel De La Seine at https://www.booking.com/hotel/fr/rouencentre.fr.html\n",
      "2024-10-12 18:41:55 [root] INFO: Scraping Radisson Blu Hotel, Rouen Centre at https://www.booking.com/hotel/fr/radisson-blu-rouen-centre.fr.html\n",
      "2024-10-12 18:41:55 [root] INFO: Scraping Les Initiés at https://www.booking.com/hotel/fr/les-inities-rouen.fr.html\n",
      "2024-10-12 18:41:55 [root] INFO: Scraping B&B HOTEL Rouen Centre Rive Droite at https://www.booking.com/hotel/fr/ibis-rouen-centre-rive-droite.fr.html\n",
      "2024-10-12 18:41:56 [root] INFO: Scraping DOMITYS Les Mosaïques at https://www.booking.com/hotel/fr/domitys-les-mosaiques.fr.html\n",
      "2024-10-12 18:41:57 [root] INFO: Scraping Hôtel De La Cathédrale at https://www.booking.com/hotel/fr/de-la-cathedrale.fr.html\n",
      "2024-10-12 18:41:58 [root] INFO: Scraping Hotel De Quebec at https://www.booking.com/hotel/fr/alive-hotel-de-quebec.fr.html\n",
      "2024-10-12 18:41:59 [root] INFO: Scraping Hôtel Littéraire Gustave Flaubert, BW Signature Collection at https://www.booking.com/hotel/fr/hotellitterairegustaveflaubert.fr.html\n",
      "2024-10-12 18:42:00 [root] INFO: Scraping Hotel Morand at https://www.booking.com/hotel/fr/lemorand.fr.html\n",
      "2024-10-12 18:42:01 [root] INFO: Scraping Novotel Rouen Centre Cathédrale at https://www.booking.com/hotel/fr/novotel-rouen-centre-cathedrale.fr.html\n",
      "2024-10-12 18:42:02 [root] INFO: Scraping Hotel Dandy Rouen centre at https://www.booking.com/hotel/fr/dandy.fr.html\n",
      "2024-10-12 18:42:03 [root] INFO: Scraping Aparthotel Adagio Access Rouen Centre Cathédrale at https://www.booking.com/hotel/fr/aparthotel-adagio-access-rouen-centre-cathedrale.fr.html\n",
      "2024-10-12 18:42:03 [root] INFO: Scraping Mercure Rouen Centre Champ de Mars at https://www.booking.com/hotel/fr/mercure-rouen-champ-de-mars.fr.html\n",
      "2024-10-12 18:42:04 [root] INFO: Scraping B&B HOTEL Rouen Centre at https://www.booking.com/hotel/fr/comforthotelrouencentre.fr.html\n",
      "2024-10-12 18:42:05 [root] INFO: Scraping Brit Hotel Confort Rouen Centre at https://www.booking.com/hotel/fr/le-relais-des-2-rivieres.fr.html\n",
      "2024-10-12 18:42:05 [root] INFO: Scraping ibis Rouen Centre Champ de Mars at https://www.booking.com/hotel/fr/ibis-rouen-champ-de-mars.fr.html\n",
      "2024-10-12 18:42:06 [root] INFO: Scraping Hotel centre Rouen VT at https://www.booking.com/hotel/fr/cenntre-rouen.fr.html\n",
      "2024-10-12 18:42:06 [root] INFO: Scraping Hyatt Place Rouen at https://www.booking.com/hotel/fr/hyatt-place-rouen.fr.html\n",
      "2024-10-12 18:42:06 [root] INFO: Scraping Hôtel Paulette Rouen Centre Cathédrale at https://www.booking.com/hotel/fr/hotel-de-paris-rouen.fr.html\n",
      "2024-10-12 18:42:07 [root] INFO: Scraping The Originals City, Hôtel Notre Dame, Rouen at https://www.booking.com/hotel/fr/hotel-notre-dame.fr.html\n",
      "2024-10-12 18:42:08 [root] INFO: Scraping B&B HOTEL Rouen Centre Rive Gauche at https://www.booking.com/hotel/fr/ibis-rouen-centre-rive-gauche-st-sever.fr.html\n",
      "2024-10-12 18:42:08 [root] INFO: Scraping Ibis Styles Rouen Centre Cathédrale at https://www.booking.com/hotel/fr/ibis-styles-rouen-centre-cathedrale.fr.html\n",
      "2024-10-12 18:42:09 [root] INFO: Scraping Hôtel 1er Consul Rouen at https://www.booking.com/hotel/fr/brit-versan.fr.html\n",
      "2024-10-12 18:42:10 [root] INFO: Scraping Holiday Inn Express - Rouen Centre - Rive Gauche, an IHG Hotel at https://www.booking.com/hotel/fr/holiday-inn-express-rouen-centre-rive-gauche.fr.html\n",
      "2024-10-12 18:42:11 [root] INFO: Scraping Séjours & Affaires Rouen Normandie at https://www.booking.com/hotel/fr/residhome-rouen-normandie.fr.html\n",
      "2024-10-12 18:42:12 [root] INFO: Scraping Mercure Rouen Centre Cathédrale at https://www.booking.com/hotel/fr/mercure-rouen-centre.fr.html\n",
      "2024-10-12 18:42:13 [root] INFO: Scraping Hotel cardinal at https://www.booking.com/hotel/fr/cardinal-rouen.fr.html\n",
      "2024-10-12 18:42:14 [root] INFO: Scraping ibis budget Rouen Centre Rive Gauche at https://www.booking.com/hotel/fr/ibis-budget-rouen-centre-rive-gauche.fr.html\n",
      "2024-10-12 18:42:15 [root] INFO: Scraping Comfort Hotel Rouen Alba at https://www.booking.com/hotel/fr/albarouen.fr.html\n",
      "2024-10-12 18:42:15 [root] INFO: Scraping Ibis Rouen Centre Rive Gauche Mermoz at https://www.booking.com/hotel/fr/campanile-rouen-mermoz.fr.html\n",
      "2024-10-12 18:42:16 [root] INFO: Scraping HÔTEL ORION at https://www.booking.com/hotel/fr/orion-rouen1.fr.html\n",
      "2024-10-12 18:42:16 [root] INFO: Scraping Hôtel Astrid at https://www.booking.com/hotel/fr/astrid-rouen1.fr.html\n",
      "2024-10-12 18:42:17 [root] INFO: Scraping KYRIAD ROUEN SUD - Sotteville les Rouen at https://www.booking.com/hotel/fr/kyriad-rouen-sud.fr.html\n",
      "2024-10-12 18:42:18 [root] INFO: Scraping Hôtel d'Angleterre Rouen Centre Gare at https://www.booking.com/hotel/fr/d-angleterre-rouen.fr.html\n",
      "2024-10-12 18:42:19 [root] INFO: Scraping Best Western Plus Hotel de Dieppe 1880 at https://www.booking.com/hotel/fr/bestwesternhoteldedieppe.fr.html\n",
      "2024-10-12 18:42:19 [root] INFO: Scraping Novotel Suites Rouen Normandie at https://www.booking.com/hotel/fr/suitehotel-rouen-normandie.fr.html\n",
      "2024-10-12 18:42:20 [root] INFO: Scraping Hôtel de Bourgtheroulde, Autograph Collection at https://www.booking.com/hotel/fr/de-bourgtheroulde.fr.html\n",
      "2024-10-12 18:42:21 [root] INFO: Scraping ibis Rouen Centre Rive Droite Pasteur at https://www.booking.com/hotel/fr/ibis-rouen-centre-rive-droite-pasteur.fr.html\n",
      "2024-10-12 18:42:22 [root] INFO: Scraping Ibis Styles Rouen Centre Rive Gauche at https://www.booking.com/hotel/fr/ibis-styles-rouen-centre-rive-gauche.fr.html\n",
      "2024-10-12 18:42:23 [root] INFO: Scraping Urban Style hotel de l'Europe at https://www.booking.com/hotel/fr/de-l-europe-rouen.fr.html\n",
      "2024-10-12 18:42:23 [root] INFO: Scraping Résidence Les Boréales at https://www.booking.com/hotel/fr/les-boreales.fr.html\n",
      "2024-10-12 18:42:24 [root] INFO: Scraping GREEN PARK HOTEL PARIS at https://www.booking.com/hotel/fr/green-park-paris.fr.html\n",
      "2024-10-12 18:42:25 [root] INFO: Scraping Luxelthe at https://www.booking.com/hotel/fr/luxelthe.fr.html\n",
      "2024-10-12 18:42:25 [root] INFO: Scraping Verlain at https://www.booking.com/hotel/fr/verlain.fr.html\n",
      "2024-10-12 18:42:26 [root] INFO: Scraping Hôtel Avenir Jonquière at https://www.booking.com/hotel/fr/avenir-jonquiere.fr.html\n",
      "2024-10-12 18:42:27 [root] INFO: Scraping Secret de Paris - Hotel & Spa at https://www.booking.com/hotel/fr/secret-de-paris-design-boutique.fr.html\n",
      "2024-10-12 18:42:28 [root] INFO: Scraping Yuna Montmartre - ApartHotel at https://www.booking.com/hotel/fr/yuna-montmartre-aparthotel.fr.html\n",
      "2024-10-12 18:42:28 [root] INFO: Scraping Hotel Puy De Dôme at https://www.booking.com/hotel/fr/puy-dome.fr.html\n",
      "2024-10-12 18:42:29 [root] INFO: Scraping Timhotel Montmartre at https://www.booking.com/hotel/fr/timmontmartre.fr.html\n",
      "2024-10-12 18:42:30 [root] INFO: Scraping Hôtel Paris La Fayette at https://www.booking.com/hotel/fr/comfort-paris-la-fayette.fr.html\n",
      "2024-10-12 18:42:31 [root] INFO: Scraping Artemisia Montmartre at https://www.booking.com/hotel/fr/hotel-artemisia-montmartre.fr.html\n",
      "2024-10-12 18:42:31 [root] INFO: Scraping B&B HOTEL Paris Porte des Lilas at https://www.booking.com/hotel/fr/b-amp-b-porte-des-lilas.fr.html\n",
      "2024-10-12 18:42:31 [root] INFO: Scraping Hôtel Des Mines at https://www.booking.com/hotel/fr/hoteldesminesparis.fr.html\n",
      "2024-10-12 18:42:32 [root] INFO: Scraping Select Hotel at https://www.booking.com/hotel/fr/select-paris.fr.html\n",
      "2024-10-12 18:42:33 [root] INFO: Scraping Hôtel de France Gare de Lyon Bastille at https://www.booking.com/hotel/fr/grand-de-france.fr.html\n",
      "2024-10-12 18:42:33 [root] INFO: Scraping le paris saint ouen at https://www.booking.com/hotel/fr/le-paris-saint-ouen.fr.html\n",
      "2024-10-12 18:42:34 [root] INFO: Scraping Motel One Paris-Porte Dorée at https://www.booking.com/hotel/fr/motel-one-paris-porte-doree.fr.html\n",
      "2024-10-12 18:42:35 [root] INFO: Scraping Le Katorze Hôtel at https://www.booking.com/hotel/fr/le-katorze.fr.html\n",
      "2024-10-12 18:42:36 [root] INFO: Scraping Le Mathurin Hotel & Spa at https://www.booking.com/hotel/fr/hotel-le-mathurin.fr.html\n",
      "2024-10-12 18:42:37 [root] INFO: Scraping Hotel des Vosges at https://www.booking.com/hotel/fr/des-vosges-paris.fr.html\n",
      "2024-10-12 18:42:38 [root] INFO: Scraping Hôtel Jardin de Cluny at https://www.booking.com/hotel/fr/lejardindecluny.fr.html\n",
      "2024-10-12 18:42:39 [root] INFO: Scraping Au Pacific Hotel at https://www.booking.com/hotel/fr/au-pacific.fr.html\n",
      "2024-10-12 18:42:40 [root] INFO: Scraping B&B HOTEL Paris 17 Batignolles at https://www.booking.com/hotel/fr/parisboulevardberthier.fr.html\n",
      "2024-10-12 18:42:40 [root] INFO: Scraping Hotel Zora at https://www.booking.com/hotel/fr/zora.fr.html\n",
      "2024-10-12 18:42:41 [root] INFO: Scraping Hotel Rivoli at https://www.booking.com/hotel/fr/rivoli-paris.fr.html\n",
      "2024-10-12 18:42:42 [root] INFO: Scraping Grand Hôtel De Paris at https://www.booking.com/hotel/fr/grand-hotel-de-paris.fr.html\n",
      "2024-10-12 18:42:42 [root] INFO: Scraping Paris Rooms & Dreams Hotel at https://www.booking.com/hotel/fr/paris-rooms-amp-dreams.fr.html\n",
      "2024-10-12 18:42:43 [root] INFO: Scraping Hôtel Saint-Pétersbourg Opéra & Spa at https://www.booking.com/hotel/fr/saintpetersbourg.fr.html\n",
      "2024-10-12 18:42:44 [root] INFO: Scraping Hôtel Gérando at https://www.booking.com/hotel/fr/gerando.fr.html\n",
      "2024-10-12 18:42:45 [root] INFO: Scraping 26 Faubourg - Ex-Hotel de Reims at https://www.booking.com/hotel/fr/de-reims.fr.html\n",
      "2024-10-12 18:42:45 [root] INFO: Scraping Tinah Paris, Aboukir at https://www.booking.com/hotel/fr/tinah-paris-aboukir.fr.html\n",
      "2024-10-12 18:42:46 [root] INFO: Scraping Midnight Hotel Paris at https://www.booking.com/hotel/fr/aris-nord.fr.html\n",
      "2024-10-12 18:42:47 [root] INFO: Scraping Hotel de L'Esperance at https://www.booking.com/hotel/fr/de-l-39-esperance.fr.html\n",
      "2024-10-12 18:42:47 [root] INFO: Scraping Tipi at https://www.booking.com/hotel/fr/tipi.fr.html\n",
      "2024-10-12 18:42:48 [root] INFO: Scraping Hotel Armoni Paris at https://www.booking.com/hotel/fr/armoni-paris.fr.html\n",
      "2024-10-12 18:42:49 [root] INFO: Scraping Timhotel Opéra Blanche Fontaine at https://www.booking.com/hotel/fr/timhotel-blanche-fontaine.fr.html\n",
      "2024-10-12 18:42:49 [root] INFO: Scraping Hotel Aix Europe at https://www.booking.com/hotel/fr/aix-europe.fr.html\n",
      "2024-10-12 18:42:50 [scrapy.extensions.logstats] INFO: Crawled 325 pages (at 81 pages/min), scraped 324 items (at 81 items/min)\n",
      "2024-10-12 18:42:50 [root] INFO: Scraping Hôtel Fabric at https://www.booking.com/hotel/fr/ha-tel-fabric.fr.html\n",
      "2024-10-12 18:42:51 [root] INFO: Scraping Lenox Montparnasse at https://www.booking.com/hotel/fr/lenox-montparnasse.fr.html\n",
      "2024-10-12 18:42:52 [root] INFO: Scraping Chatillon Paris Montparnasse at https://www.booking.com/hotel/fr/chatillon.fr.html\n",
      "2024-10-12 18:42:53 [root] INFO: Scraping Hotel CIS Paris Kellermann at https://www.booking.com/hotel/fr/ra-c-sidence-cisp-kellermann.fr.html\n",
      "2024-10-12 18:42:54 [root] INFO: Scraping Kyriad Hotel XIII Italie Gobelins at https://www.booking.com/hotel/fr/hotelkyriaditaliegobelins.fr.html\n",
      "2024-10-12 18:42:55 [root] INFO: Scraping Hôtel de Bordeaux at https://www.booking.com/hotel/fr/de-bordeaux-paris.fr.html\n",
      "2024-10-12 18:42:55 [root] INFO: Scraping Hôtel Brésil Opéra SPA at https://www.booking.com/hotel/fr/bresil-opera.fr.html\n",
      "2024-10-12 18:42:56 [root] INFO: Scraping Hôtel Flor Rivoli at https://www.booking.com/hotel/fr/flor-rivoli-paris.fr.html\n",
      "2024-10-12 18:42:57 [root] INFO: Scraping Hotel Luna Park at https://www.booking.com/hotel/fr/luna-park.fr.html\n",
      "2024-10-12 18:42:58 [root] INFO: Scraping Courcelles Etoile at https://www.booking.com/hotel/fr/courcelles-etoile.fr.html\n",
      "2024-10-12 18:42:58 [root] INFO: Scraping Hotel de Flore - Montmartre at https://www.booking.com/hotel/fr/de-flore-paris.fr.html\n",
      "2024-10-12 18:42:59 [root] INFO: Scraping Hôtel des Ecrivains at https://www.booking.com/hotel/fr/des-arts-paris.fr.html\n",
      "2024-10-12 18:43:00 [root] INFO: Scraping Hotel Villa Romantic & Spa at https://www.booking.com/hotel/fr/villa-romantic.fr.html\n",
      "2024-10-12 18:43:01 [root] INFO: Scraping Hôtel de Bellevue Paris Gare du Nord at https://www.booking.com/hotel/fr/de-bellevue.fr.html\n",
      "2024-10-12 18:43:02 [root] INFO: Scraping Color Design Hotel at https://www.booking.com/hotel/fr/relaislyonbastille.fr.html\n",
      "2024-10-12 18:43:02 [root] INFO: Scraping Hotel des Pyrénées at https://www.booking.com/hotel/fr/des-pyrenees.fr.html\n",
      "2024-10-12 18:43:03 [root] INFO: Scraping Rose Bourbon at https://www.booking.com/hotel/fr/rose-bourbon.fr.html\n",
      "2024-10-12 18:43:04 [root] INFO: Scraping Hotel Pilime at https://www.booking.com/hotel/fr/hotelauroremontmartre.fr.html\n",
      "2024-10-12 18:43:05 [root] INFO: Scraping Hotel Apolonia Paris Montmartre; Sure Hotel Collection by Best Western at https://www.booking.com/hotel/fr/comfort-hotel-lamarck-caulaincourt.fr.html\n",
      "2024-10-12 18:43:06 [root] INFO: Scraping Hôtel Château d'Eau at https://www.booking.com/hotel/fr/hotel-chateau-d-eau.fr.html\n",
      "2024-10-12 18:43:07 [root] INFO: Scraping Plaza Tour Eiffel at https://www.booking.com/hotel/fr/plazatoureiffel.fr.html\n",
      "2024-10-12 18:43:07 [root] INFO: Scraping Hotel Mimosa Paris at https://www.booking.com/hotel/fr/ha-tel-mimosa.fr.html\n",
      "2024-10-12 18:43:08 [root] INFO: Scraping Urban Bivouac Hotel at https://www.booking.com/hotel/fr/ub-paris.fr.html\n",
      "2024-10-12 18:43:09 [root] INFO: Scraping Le Patio Bastille at https://www.booking.com/hotel/fr/le-patio-st-antoine.fr.html\n",
      "2024-10-12 18:43:10 [root] INFO: Scraping Hotel Restaurant Au Boeuf Couronné at https://www.booking.com/hotel/fr/restaurant-au-boeuf-couronne.fr.html\n",
      "2024-10-12 18:43:11 [root] INFO: Scraping Virgina at https://www.booking.com/hotel/fr/virgina.fr.html\n",
      "2024-10-12 18:43:11 [root] INFO: Scraping Hotel Hippodrome at https://www.booking.com/hotel/fr/hippodrome.fr.html\n",
      "2024-10-12 18:43:11 [root] INFO: Scraping Hotel Viator - Gare de Lyon at https://www.booking.com/hotel/fr/viator.fr.html\n",
      "2024-10-12 18:43:12 [root] INFO: Scraping Appart'City Classic Paris La Villette at https://www.booking.com/hotel/fr/appart-city-cap-affaires-paris.fr.html\n",
      "2024-10-12 18:43:13 [root] INFO: Scraping Best Western Plus Opéra Batignolles at https://www.booking.com/hotel/fr/opera-batignolles.fr.html\n",
      "2024-10-12 18:43:14 [root] INFO: Scraping Le Relais du Marais at https://www.booking.com/hotel/fr/le-relais-du-marais.fr.html\n",
      "2024-10-12 18:43:14 [root] INFO: Scraping Hotel Studia at https://www.booking.com/hotel/fr/studia.fr.html\n",
      "2024-10-12 18:43:15 [root] INFO: Scraping Hôtel Du Mont Dore Batignolles at https://www.booking.com/hotel/fr/hotel-du-mont-dore.fr.html\n",
      "2024-10-12 18:43:16 [root] INFO: Scraping Hotel Paris Louis Blanc at https://www.booking.com/hotel/fr/paris-louis-blanc.fr.html\n",
      "2024-10-12 18:43:17 [root] INFO: Scraping Hotel Anya at https://www.booking.com/hotel/fr/anya.fr.html\n",
      "2024-10-12 18:43:18 [root] INFO: Scraping Best Western Ronceray Opéra at https://www.booking.com/hotel/fr/paris-ronceray-opera.fr.html\n",
      "2024-10-12 18:43:19 [root] INFO: Scraping Hôtel du Roussillon at https://www.booking.com/hotel/fr/ha-tel-du-roussillon-paris.fr.html\n",
      "2024-10-12 18:43:20 [root] INFO: Scraping ibis Paris Bercy Village at https://www.booking.com/hotel/fr/ibis-paris-bercy-village.fr.html\n",
      "2024-10-12 18:43:21 [root] INFO: Scraping Villa Des Princes at https://www.booking.com/hotel/fr/hoteldesecoles.fr.html\n",
      "2024-10-12 18:43:22 [root] INFO: Scraping Hotel de Paris Montmartre at https://www.booking.com/hotel/fr/de-paris-montmartre.fr.html\n",
      "2024-10-12 18:43:22 [root] INFO: Scraping Hôtel L'Interlude at https://www.booking.com/hotel/fr/citotel-sport-hotel.fr.html\n",
      "2024-10-12 18:43:22 [root] INFO: Scraping Austin's Saint Lazare Hotel at https://www.booking.com/hotel/fr/austin-s-saint-lazare.fr.html\n",
      "2024-10-12 18:43:24 [root] INFO: Scraping Hotel Apolonia Paris Mouffetard, Sure Hotel Collection by Best Western at https://www.booking.com/hotel/fr/comfort-inn-mouffetard-quartier-latin.fr.html\n",
      "2024-10-12 18:43:24 [root] INFO: Scraping Nouvel Hôtel Eiffel at https://www.booking.com/hotel/fr/nouvel-hotel-eiffel.fr.html\n",
      "2024-10-12 18:43:25 [root] INFO: Scraping Gavarni at https://www.booking.com/hotel/fr/gavarni.fr.html\n",
      "2024-10-12 18:43:25 [root] INFO: Scraping Les Jardins Du Marais at https://www.booking.com/hotel/fr/les-jardins-du-marais.fr.html\n",
      "2024-10-12 18:43:26 [root] INFO: Scraping Hotel Terminus Montparnasse at https://www.booking.com/hotel/fr/terminus-montparnasse.fr.html\n",
      "2024-10-12 18:43:26 [root] INFO: Scraping Little Hôtel at https://www.booking.com/hotel/fr/littlehotel.fr.html\n",
      "2024-10-12 18:43:27 [root] INFO: Scraping Hotel Bellevue Saint-Lazare at https://www.booking.com/hotel/fr/bellevue-paris.fr.html\n",
      "2024-10-12 18:43:28 [root] INFO: Scraping Best Western Plus Hotel Sydney Opera at https://www.booking.com/hotel/fr/best-western-sydney-opera-paris1.fr.html\n",
      "2024-10-12 18:43:29 [root] INFO: Scraping Gardette Park Hotel at https://www.booking.com/hotel/fr/garden-paris.fr.html\n",
      "2024-10-12 18:43:29 [root] INFO: Scraping Welcome Hotel at https://www.booking.com/hotel/fr/welcome-paris.fr.html\n",
      "2024-10-12 18:43:30 [root] INFO: Scraping 55 Hôtel Montparnasse at https://www.booking.com/hotel/fr/hotel-montparnasse.fr.html\n",
      "2024-10-12 18:43:31 [root] INFO: Scraping Hotel Splendor Elysées at https://www.booking.com/hotel/fr/splendor.fr.html\n",
      "2024-10-12 18:43:32 [root] INFO: Scraping AMHotel Italie at https://www.booking.com/hotel/fr/am.fr.html\n",
      "2024-10-12 18:43:33 [root] INFO: Scraping Le Petit Beaumarchais Hotel & Spa at https://www.booking.com/hotel/fr/original-paris.fr.html\n",
      "2024-10-12 18:43:34 [root] INFO: Scraping Prince Albert Montmartre at https://www.booking.com/hotel/fr/ha-tel-prince-montmartre.fr.html\n",
      "2024-10-12 18:43:34 [root] INFO: Scraping Hôtel WYLD Saint Germain ex Hotel Moderne Saint Germain at https://www.booking.com/hotel/fr/modernestgermain.fr.html\n",
      "2024-10-12 18:43:35 [root] INFO: Scraping Hôtel Diva Opera at https://www.booking.com/hotel/fr/gotty-opera.fr.html\n",
      "2024-10-12 18:43:36 [root] INFO: Scraping Citadines Austerlitz Paris at https://www.booking.com/hotel/fr/citadines-aparthotel-austerlitz.fr.html\n",
      "2024-10-12 18:43:36 [root] INFO: Scraping Hotel Paris Italie at https://www.booking.com/hotel/fr/best-western-de-weha.fr.html\n",
      "2024-10-12 18:43:37 [root] INFO: Scraping Hotel B Square at https://www.booking.com/hotel/fr/batignollesvilliers.fr.html\n",
      "2024-10-12 18:43:38 [root] INFO: Scraping Star Champs-Elysées at https://www.booking.com/hotel/fr/star-etoile-paris.fr.html\n",
      "2024-10-12 18:43:38 [root] INFO: Scraping Hôtel De Venise at https://www.booking.com/hotel/fr/de-venise.fr.html\n",
      "2024-10-12 18:43:39 [root] INFO: Scraping Hotel The Playce by Happyculture at https://www.booking.com/hotel/fr/hotel-the-playce-by-happyculture.fr.html\n",
      "2024-10-12 18:43:40 [root] INFO: Scraping Hôtel Elysées Flaubert at https://www.booking.com/hotel/fr/flaubert.fr.html\n",
      "2024-10-12 18:43:41 [root] INFO: Scraping Amadeus Hotel at https://www.booking.com/hotel/fr/amadeus-hotel.fr.html\n",
      "2024-10-12 18:43:41 [root] INFO: Scraping Hôtel Prince Albert Gare de Lyon Ex Concordia at https://www.booking.com/hotel/fr/prince-albert-gare-de-lyon.fr.html\n",
      "2024-10-12 18:43:42 [root] INFO: Scraping Hotel Park Lane Paris at https://www.booking.com/hotel/fr/park-lane-paris.fr.html\n",
      "2024-10-12 18:43:43 [root] INFO: Scraping Royal Saint Michel at https://www.booking.com/hotel/fr/royal-saint-michel.fr.html\n",
      "2024-10-12 18:43:44 [root] INFO: Scraping Hôtel Paris Voltaire at https://www.booking.com/hotel/fr/paris-voltaire.fr.html\n",
      "2024-10-12 18:43:45 [root] INFO: Scraping Odalys City Paris XVII at https://www.booking.com/hotel/fr/appart-39-odalys-paris-xvii.fr.html\n",
      "2024-10-12 18:43:45 [root] INFO: Scraping Hôtel de Lille - Saint-Germain des Près at https://www.booking.com/hotel/fr/hoteldelille.fr.html\n",
      "2024-10-12 18:43:46 [root] INFO: Scraping Hôtel Littéraire Arthur Rimbaud, BW Signature Collection at https://www.booking.com/hotel/fr/comforthotelsaintmartin.fr.html\n",
      "2024-10-12 18:43:47 [root] INFO: Scraping Kyriad Paris 18 - Porte de Clignancourt - Montmartre at https://www.booking.com/hotel/fr/kyriad-paris-18-porte-de-clignancourt-montmartre-xml.fr.html\n",
      "2024-10-12 18:43:47 [root] INFO: Scraping Hôtel du Cygne Paris at https://www.booking.com/hotel/fr/du-cygne-paris.fr.html\n",
      "2024-10-12 18:43:48 [root] INFO: Scraping ibis Paris Gare du Nord Château Landon 10ème at https://www.booking.com/hotel/fr/ibis-gare-du-nord-chateau-landon.fr.html\n",
      "2024-10-12 18:43:49 [root] INFO: Scraping Hotel Choiseul Opera at https://www.booking.com/hotel/fr/choiseul-opera.fr.html\n",
      "2024-10-12 18:43:50 [root] INFO: Scraping Best Western Empire Elysees at https://www.booking.com/hotel/fr/best-western-empire-elysees.fr.html\n",
      "2024-10-12 18:43:50 [scrapy.extensions.logstats] INFO: Crawled 404 pages (at 79 pages/min), scraped 403 items (at 79 items/min)\n",
      "2024-10-12 18:43:51 [root] INFO: Scraping Family Residence at https://www.booking.com/hotel/fr/family-residence.fr.html\n",
      "2024-10-12 18:43:52 [root] INFO: Scraping Best Western Bretagne Montparnasse at https://www.booking.com/hotel/fr/bwdebretagne.fr.html\n",
      "2024-10-12 18:43:52 [root] INFO: Scraping Altona at https://www.booking.com/hotel/fr/altona-paris.fr.html\n",
      "2024-10-12 18:43:53 [root] INFO: Scraping Hôtel Eden Opéra at https://www.booking.com/hotel/fr/edenparis.fr.html\n",
      "2024-10-12 18:43:54 [root] INFO: Scraping Trianon Gare de Lyon at https://www.booking.com/hotel/fr/trianongaredulyon.fr.html\n",
      "2024-10-12 18:43:54 [root] INFO: Scraping Mary's Hotel République at https://www.booking.com/hotel/fr/mary-s.fr.html\n",
      "2024-10-12 18:43:55 [root] INFO: Scraping Pavillon Monceau at https://www.booking.com/hotel/fr/hotelpavillonmonceau.fr.html\n",
      "2024-10-12 18:43:56 [root] INFO: Scraping Maison Nabis by HappyCulture at https://www.booking.com/hotel/fr/pavillon-de-paris.fr.html\n",
      "2024-10-12 18:43:57 [root] INFO: Scraping Hôtel Paris Vaugirard at https://www.booking.com/hotel/fr/terminus-vaugirard.fr.html\n",
      "2024-10-12 18:43:58 [root] INFO: Scraping Hôtel Aiglon at https://www.booking.com/hotel/fr/aiglon.fr.html\n",
      "2024-10-12 18:43:58 [root] INFO: Scraping Hôtel Des Grands Voyageurs at https://www.booking.com/hotel/fr/hoteldesgrandsvoyageurs.fr.html\n",
      "2024-10-12 18:43:59 [root] INFO: Scraping Hôtel Parisianer at https://www.booking.com/hotel/fr/parisianer.fr.html\n",
      "2024-10-12 18:43:59 [root] INFO: Scraping Hôtel des Pavillons at https://www.booking.com/hotel/fr/des-pavillons.fr.html\n",
      "2024-10-12 18:44:00 [root] INFO: Scraping Hôtel Le Regent Paris at https://www.booking.com/hotel/fr/le-regent-paris.fr.html\n",
      "2024-10-12 18:44:01 [root] INFO: Scraping Hotel Saint-Louis Pigalle at https://www.booking.com/hotel/fr/saint-louis-pigalle.fr.html\n",
      "2024-10-12 18:44:02 [root] INFO: Scraping Hôtel Aston Paris at https://www.booking.com/hotel/fr/aston-paris.fr.html\n",
      "2024-10-12 18:44:03 [root] INFO: Scraping Absolute Hotel Paris République at https://www.booking.com/hotel/fr/absolute.fr.html\n",
      "2024-10-12 18:44:04 [root] INFO: Scraping Grand Hôtel du Bel Air at https://www.booking.com/hotel/fr/grand-du-bel-air.fr.html\n",
      "2024-10-12 18:44:04 [root] INFO: Scraping Hotel de l'Aqueduc at https://www.booking.com/hotel/fr/aqueduc.fr.html\n",
      "2024-10-12 18:44:05 [root] INFO: Scraping Hôtel Stella at https://www.booking.com/hotel/fr/stella-paris.fr.html\n",
      "2024-10-12 18:44:06 [root] INFO: Scraping Prince Albert Lyon Bercy at https://www.booking.com/hotel/fr/prince-albert-lyon-bercy.fr.html\n",
      "2024-10-12 18:44:06 [root] INFO: Scraping Hotel Peyris Opera at https://www.booking.com/hotel/fr/peyris-opera.fr.html\n",
      "2024-10-12 18:44:07 [root] INFO: Scraping Best Western Le Montmartre – Saint Pierre at https://www.booking.com/hotel/fr/comfort-paris-18eme-saint-pierre.fr.html\n",
      "2024-10-12 18:44:08 [root] INFO: Scraping Miss Fuller at https://www.booking.com/hotel/fr/miss-fuller.fr.html\n",
      "2024-10-12 18:44:08 [root] INFO: Scraping Hôtel Ambassadeur at https://www.booking.com/hotel/fr/ambassadeurparis.fr.html\n",
      "2024-10-12 18:44:09 [root] INFO: Scraping Hotel Eden Montmartre at https://www.booking.com/hotel/fr/hoteledenmontmartre.fr.html\n",
      "2024-10-12 18:44:10 [root] INFO: Scraping Hotel Mogador at https://www.booking.com/hotel/fr/mogador-paris.fr.html\n",
      "2024-10-12 18:44:11 [root] INFO: Scraping Hotel Mirabeau Eiffel at https://www.booking.com/hotel/fr/mirabeau-eiffel.fr.html\n",
      "2024-10-12 18:44:11 [root] INFO: Scraping Hôtel du Jardin des Plantes at https://www.booking.com/hotel/fr/timjardindesplantes.fr.html\n",
      "2024-10-12 18:44:12 [root] INFO: Scraping Hotel Saint Christophe at https://www.booking.com/hotel/fr/saintchristophe-closed.fr.html\n",
      "2024-10-12 18:44:12 [root] INFO: Scraping Hôtel Emile Le Marais at https://www.booking.com/hotel/fr/emile-paris.fr.html\n",
      "2024-10-12 18:44:13 [root] INFO: Scraping Hôtel Petit Saint-Honoré at https://www.booking.com/hotel/fr/paris-saint-honore.fr.html\n",
      "2024-10-12 18:44:14 [root] INFO: Scraping Hotel France Albion at https://www.booking.com/hotel/fr/hotelfrancealbion.fr.html\n",
      "2024-10-12 18:44:15 [root] INFO: Scraping Hotel Le Richemont at https://www.booking.com/hotel/fr/residencerichemont.fr.html\n",
      "2024-10-12 18:44:16 [root] INFO: Scraping Hotel Des Deux Continents at https://www.booking.com/hotel/fr/des-deux-continents.fr.html\n",
      "2024-10-12 18:44:16 [root] INFO: Scraping Hôtel Hor Les Lumières at https://www.booking.com/hotel/fr/hor-les-lumieres.fr.html\n",
      "2024-10-12 18:44:17 [root] INFO: Scraping Prince Albert Wagram at https://www.booking.com/hotel/fr/prince-albert-wagram.fr.html\n",
      "2024-10-12 18:44:18 [root] INFO: Scraping Hotel des Arts - Cite Bergere at https://www.booking.com/hotel/fr/des-arts-paris1.fr.html\n",
      "2024-10-12 18:44:18 [root] INFO: Scraping District Republique at https://www.booking.com/hotel/fr/district-republique.fr.html\n",
      "2024-10-12 18:44:19 [root] INFO: Scraping Hôtel de la Place des Alpes at https://www.booking.com/hotel/fr/citotel-de-la-place-des-alpes.fr.html\n",
      "2024-10-12 18:44:20 [root] INFO: Scraping Terminus Orléans Paris at https://www.booking.com/hotel/fr/terminus-orleans-paris.fr.html\n",
      "2024-10-12 18:44:21 [root] INFO: Scraping Grand Hôtel Amelot at https://www.booking.com/hotel/fr/grand-amelot-paris4.fr.html\n",
      "2024-10-12 18:44:22 [root] INFO: Scraping Hotel de Neuville Arc de Triomphe at https://www.booking.com/hotel/fr/hoteldeneuville.fr.html\n",
      "2024-10-12 18:44:22 [root] INFO: Scraping Hotel CIS Paris Maurice Ravel at https://www.booking.com/hotel/fr/ra-c-sidence-cisp-ravel.fr.html\n",
      "2024-10-12 18:44:23 [root] INFO: Scraping Home Latin at https://www.booking.com/hotel/fr/home-latin.fr.html\n",
      "2024-10-12 18:44:24 [root] INFO: Scraping Hôtel de l'Alma by Malone at https://www.booking.com/hotel/fr/hotel-de-lalma-pari.fr.html\n",
      "2024-10-12 18:44:25 [root] INFO: Scraping Hôtel Eiffel XV at https://www.booking.com/hotel/fr/eiffel-xv-paris.fr.html\n",
      "2024-10-12 18:44:25 [root] INFO: Scraping Hotel Marena at https://www.booking.com/hotel/fr/marena.fr.html\n",
      "2024-10-12 18:44:26 [root] INFO: Scraping Hôtel Liège Strasbourg at https://www.booking.com/hotel/fr/liege-strasbourg.fr.html\n",
      "2024-10-12 18:44:27 [root] INFO: Scraping Hôtel Vendome Saint-Germain at https://www.booking.com/hotel/fr/vendome-saint-germain-paris.fr.html\n",
      "2024-10-12 18:44:28 [root] INFO: Scraping Hotel d'Espagne at https://www.booking.com/hotel/fr/d-espagne-paris.fr.html\n",
      "2024-10-12 18:44:28 [root] INFO: Scraping HOTEL FORMIO at https://www.booking.com/hotel/fr/formio.fr.html\n",
      "2024-10-12 18:44:29 [root] INFO: Scraping Hotel La Manufacture at https://www.booking.com/hotel/fr/manufacture.fr.html\n",
      "2024-10-12 18:44:30 [root] INFO: Scraping Tilsitt Etoile Paris at https://www.booking.com/hotel/fr/tilsitt-etoile-paris.fr.html\n",
      "2024-10-12 18:44:31 [root] INFO: Scraping Hôtel La Nouvelle République & Hammam at https://www.booking.com/hotel/fr/la-nouvelle-republique.fr.html\n",
      "2024-10-12 18:44:31 [root] INFO: Scraping Hotel Elysees Opera at https://www.booking.com/hotel/fr/america.fr.html\n",
      "2024-10-12 18:44:32 [root] INFO: Scraping Hôtel Chopin at https://www.booking.com/hotel/fr/chopin-paris.fr.html\n",
      "2024-10-12 18:44:33 [root] INFO: Scraping Hotel du Chemin Vert at https://www.booking.com/hotel/fr/kyriad-pere-lachaise.fr.html\n",
      "2024-10-12 18:44:33 [root] INFO: Scraping Hotel London at https://www.booking.com/hotel/fr/london.fr.html\n",
      "2024-10-12 18:44:34 [root] INFO: Scraping Royal Saint Germain at https://www.booking.com/hotel/fr/royalsaintgermainparis.fr.html\n",
      "2024-10-12 18:44:34 [root] INFO: Scraping Montparnasse Daguerre at https://www.booking.com/hotel/fr/hoteldaguerre.fr.html\n",
      "2024-10-12 18:44:35 [root] INFO: Scraping Hôtel Dalila at https://www.booking.com/hotel/fr/hoteldalila.fr.html\n",
      "2024-10-12 18:44:36 [root] INFO: Scraping Hotel Beauvoir at https://www.booking.com/hotel/fr/beauvoir.fr.html\n",
      "2024-10-12 18:44:37 [root] INFO: Scraping Westside Arc de Triomphe Hotel at https://www.booking.com/hotel/fr/westside-arc-de-triomphe.fr.html\n",
      "2024-10-12 18:44:37 [root] INFO: Scraping Hôtel Des Batignolles at https://www.booking.com/hotel/fr/des-batignolles.fr.html\n",
      "2024-10-12 18:44:38 [root] INFO: Scraping Hôtel Istria by Magna Arbor at https://www.booking.com/hotel/fr/hotelistria.fr.html\n",
      "2024-10-12 18:44:39 [root] INFO: Scraping Hôtel La Parizienne at https://www.booking.com/hotel/fr/la-parizienne.fr.html\n",
      "2024-10-12 18:44:40 [root] INFO: Scraping Citadines Montparnasse Paris at https://www.booking.com/hotel/fr/citadines-aparthotel-maine-montparnasse.fr.html\n",
      "2024-10-12 18:44:40 [root] INFO: Scraping Hôtel Aurore Paris Gare de Lyon at https://www.booking.com/hotel/fr/best-western-aurore.fr.html\n",
      "2024-10-12 18:44:41 [root] INFO: Scraping Moris Grands Boulevards at https://www.booking.com/hotel/fr/moris-grands-boulevards.fr.html\n",
      "2024-10-12 18:44:42 [root] INFO: Scraping Hôtel Montparnasse Saint Germain at https://www.booking.com/hotel/fr/montparnasse-saint-germain.fr.html\n",
      "2024-10-12 18:44:42 [root] INFO: Scraping Angleterre Hotel at https://www.booking.com/hotel/fr/angleterre-paris.fr.html\n",
      "2024-10-12 18:44:43 [root] INFO: Scraping Hotel OFF Paris Seine at https://www.booking.com/hotel/fr/off-paris-seine.fr.html\n",
      "2024-10-12 18:44:44 [root] INFO: Scraping Hotel Brady - Gare de l'Est at https://www.booking.com/hotel/fr/hotel-brady-gare-de-l-est.fr.html\n",
      "2024-10-12 18:44:45 [root] INFO: Scraping Hotel des Belges at https://www.booking.com/hotel/fr/des-belges.fr.html\n",
      "2024-10-12 18:44:45 [root] INFO: Scraping Relais du Pré at https://www.booking.com/hotel/fr/relais-du-pre.fr.html\n",
      "2024-10-12 18:44:46 [root] INFO: Scraping Le Bastille By Sweett at https://www.booking.com/hotel/fr/le-bastille-by-sweett.fr.html\n",
      "2024-10-12 18:44:47 [root] INFO: Scraping Hôtel Atlantis at https://www.booking.com/hotel/fr/ha-tel-atlantis.fr.html\n",
      "2024-10-12 18:44:48 [root] INFO: Scraping Hotel de Saint Germain - Saint-Germain-des-Pres at https://www.booking.com/hotel/fr/desaintgermain.fr.html\n",
      "2024-10-12 18:44:48 [root] INFO: Scraping Huni Hôtel at https://www.booking.com/hotel/fr/eden.fr.html\n",
      "2024-10-12 18:44:49 [root] INFO: Scraping Hotel Chabrol Opera at https://www.booking.com/hotel/fr/chabrol-opera.fr.html\n",
      "2024-10-12 18:44:50 [root] INFO: Scraping Hôtel Elysées Paris at https://www.booking.com/hotel/fr/hotel-elysees-paris-france.fr.html\n",
      "2024-10-12 18:44:50 [scrapy.extensions.logstats] INFO: Crawled 486 pages (at 82 pages/min), scraped 485 items (at 82 items/min)\n",
      "2024-10-12 18:44:51 [root] INFO: Scraping Hôtel Nude Paris - Color Vision at https://www.booking.com/hotel/fr/hotel-nude-paris.fr.html\n",
      "2024-10-12 18:44:51 [root] INFO: Scraping Hotel Auguste at https://www.booking.com/hotel/fr/studio.fr.html\n",
      "2024-10-12 18:44:53 [root] INFO: Scraping Le Robinet d'Or at https://www.booking.com/hotel/fr/le-robinet-d-or.fr.html\n",
      "2024-10-12 18:44:53 [root] INFO: Scraping All Suites Appart & Hotel Paris 13 Porte d'Italie at https://www.booking.com/hotel/fr/all-suites-appart-paris-13-porte-d-italie.fr.html\n",
      "2024-10-12 18:44:54 [root] INFO: Scraping Hôtel Kabanel by Happyculture at https://www.booking.com/hotel/fr/brit-parisiana.fr.html\n",
      "2024-10-12 18:44:54 [root] INFO: Scraping COQ Hotel Paris at https://www.booking.com/hotel/fr/community-of-quality.fr.html\n",
      "2024-10-12 18:44:56 [root] INFO: Scraping Sejours & Affaires Paris-Davout at https://www.booking.com/hotel/fr/sejours-affaires-paris-davout.fr.html\n",
      "2024-10-12 18:44:56 [root] INFO: Scraping VLH Montparnasse Eiffel at https://www.booking.com/hotel/fr/aberotel.fr.html\n",
      "2024-10-12 18:44:57 [root] INFO: Scraping Hotel Monceau Wagram at https://www.booking.com/hotel/fr/monceauwagram.fr.html\n",
      "2024-10-12 18:44:58 [root] INFO: Scraping Hôtel Pavillon Bastille at https://www.booking.com/hotel/fr/pavillonbastille.fr.html\n",
      "2024-10-12 18:44:59 [root] INFO: Scraping Hôtel Avama Prony at https://www.booking.com/hotel/fr/prony.fr.html\n",
      "2024-10-12 18:45:00 [root] INFO: Scraping Hotel Imperial Paris at https://www.booking.com/hotel/fr/imperial-paris.fr.html\n",
      "2024-10-12 18:45:01 [root] INFO: Scraping Hotel Le Clery at https://www.booking.com/hotel/fr/le-clery-paris.fr.html\n",
      "2024-10-12 18:45:02 [root] INFO: Scraping Hotel Lilas Blanc at https://www.booking.com/hotel/fr/lilas-blanc.fr.html\n",
      "2024-10-12 18:45:03 [root] INFO: Scraping Maison Du Pré at https://www.booking.com/hotel/fr/maison-du-pre.fr.html\n",
      "2024-10-12 18:45:03 [root] INFO: Scraping Hotel 10 Opéra by HappyCulture at https://www.booking.com/hotel/fr/royal-opera.fr.html\n",
      "2024-10-12 18:45:04 [root] INFO: Scraping Hôtel Veryste & Spa Paris at https://www.booking.com/hotel/fr/riboutte-lafayette.fr.html\n",
      "2024-10-12 18:45:05 [root] INFO: Scraping Hotel Saint-Louis Marais at https://www.booking.com/hotel/fr/saint-louis-marais.fr.html\n",
      "2024-10-12 18:45:06 [root] INFO: Scraping Victoria Palace Hotel at https://www.booking.com/hotel/fr/victoria-palace.fr.html\n",
      "2024-10-12 18:45:06 [root] INFO: Scraping Hôtel Le Fabe at https://www.booking.com/hotel/fr/le-fabe.fr.html\n",
      "2024-10-12 18:45:07 [root] INFO: Scraping Le Hameau de Passy at https://www.booking.com/hotel/fr/lehameaudepassy.fr.html\n",
      "2024-10-12 18:45:08 [root] INFO: Scraping Regyn's Montmartre at https://www.booking.com/hotel/fr/regyn-s-montmartre.fr.html\n",
      "2024-10-12 18:45:09 [root] INFO: Scraping Abaca Messidor by Happyculture at https://www.booking.com/hotel/fr/quality-hotel-abaca-paris-15eme.fr.html\n",
      "2024-10-12 18:45:09 [root] INFO: Scraping Carladez Cambronne at https://www.booking.com/hotel/fr/carladez-cambronne.fr.html\n",
      "2024-10-12 18:45:10 [root] INFO: Scraping Best Western Au Trocadéro at https://www.booking.com/hotel/fr/bestwesternautrocaderoparis.fr.html\n",
      "2024-10-12 18:45:11 [root] INFO: Scraping Hôtel Hélios Opéra at https://www.booking.com/hotel/fr/heliosopera.fr.html\n",
      "2024-10-12 18:45:11 [root] INFO: Scraping Hotel Glasgow Monceau by Patrick Hayat at https://www.booking.com/hotel/fr/glasgowmonceauparis.fr.html\n",
      "2024-10-12 18:45:12 [root] INFO: Scraping Logis hôtel Jardin de Villiers at https://www.booking.com/hotel/fr/jardinvilliersp.fr.html\n",
      "2024-10-12 18:45:13 [root] INFO: Scraping Le Petit Oberkampf Hotel & Spa at https://www.booking.com/hotel/fr/beaumarchais.fr.html\n",
      "2024-10-12 18:45:13 [root] INFO: Scraping Hôtel Hiro, New Hotel 2024 at https://www.booking.com/hotel/fr/tivoli-etoile.fr.html\n",
      "2024-10-12 18:45:14 [root] INFO: Scraping Madrigal at https://www.booking.com/hotel/fr/hotelinnova.fr.html\n",
      "2024-10-12 18:45:15 [root] INFO: Scraping Princesse Caroline at https://www.booking.com/hotel/fr/princesse-caroline.fr.html\n",
      "2024-10-12 18:45:16 [root] INFO: Scraping Trendy Canettes Hotel at https://www.booking.com/hotel/fr/des-canettes.fr.html\n",
      "2024-10-12 18:45:16 [root] INFO: Scraping Hôtel Coypel by Magna Arbor at https://www.booking.com/hotel/fr/coypel.fr.html\n",
      "2024-10-12 18:45:17 [root] INFO: Scraping District Nation at https://www.booking.com/hotel/fr/alfa-paris-nation.fr.html\n",
      "2024-10-12 18:45:18 [root] INFO: Scraping Denfert-Montparnasse at https://www.booking.com/hotel/fr/denfert-montparnasse.fr.html\n",
      "2024-10-12 18:45:19 [root] INFO: Scraping Hotel de France Invalides at https://www.booking.com/hotel/fr/hoteldefrance-invalides.fr.html\n",
      "2024-10-12 18:45:20 [root] INFO: Scraping Acacias Etoile at https://www.booking.com/hotel/fr/acaciasetoile.fr.html\n",
      "2024-10-12 18:45:20 [root] INFO: Scraping Hotel Campanile Paris-Bercy Village at https://www.booking.com/hotel/fr/parisbercyvillage.fr.html\n",
      "2024-10-12 18:45:21 [root] INFO: Scraping Hotel Alhambra at https://www.booking.com/hotel/fr/alhambra-paris.fr.html\n",
      "2024-10-12 18:45:22 [root] INFO: Scraping Best Western Montcalm at https://www.booking.com/hotel/fr/bestwesternmontcalmparis.fr.html\n",
      "2024-10-12 18:45:22 [root] INFO: Scraping Hotel Ile de France Opéra at https://www.booking.com/hotel/fr/idfo.fr.html\n",
      "2024-10-12 18:45:23 [root] INFO: Scraping ATN Hôtel at https://www.booking.com/hotel/fr/athenes.fr.html\n",
      "2024-10-12 18:45:23 [root] INFO: Scraping Lautrec Opera at https://www.booking.com/hotel/fr/lautrec-opera.fr.html\n",
      "2024-10-12 18:45:24 [root] INFO: Scraping Walled off Hotel Paris at https://www.booking.com/hotel/fr/driud-opera.fr.html\n",
      "2024-10-12 18:45:25 [root] INFO: Scraping Hotel Diana Paris at https://www.booking.com/hotel/fr/diana-paris.fr.html\n",
      "2024-10-12 18:45:25 [root] INFO: Scraping Libertel Canal Saint Martin at https://www.booking.com/hotel/fr/libertel-villette.fr.html\n"
     ]
    }
   ],
   "source": [
    "!scrapy crawl hotels"
   ]
  },
  {
   "cell_type": "code",
   "execution_count": 413,
   "metadata": {},
   "outputs": [],
   "source": [
    "df_reduced = df.groupby('city').head(20).reset_index(drop=True)\n",
    "urlList = df_reduced['url'].tolist()\n"
   ]
  },
  {
   "cell_type": "code",
   "execution_count": 6,
   "metadata": {},
   "outputs": [],
   "source": [
    "with open(\"Hotel_url_list_reduced.txt\", 'w') as file:\n",
    "    for url in urlList:\n",
    "        file.write(url + '\\n')"
   ]
  },
  {
   "cell_type": "code",
   "execution_count": 198,
   "metadata": {},
   "outputs": [
    {
     "name": "stderr",
     "output_type": "stream",
     "text": [
      "2024-10-14 15:17:09 [scrapy.utils.log] INFO: Scrapy 2.11.1 started (bot: hotel_data_scraping)\n",
      "2024-10-14 15:17:10 [scrapy.utils.log] INFO: Versions: lxml 5.2.1.0, libxml2 2.10.4, cssselect 1.2.0, parsel 1.8.1, w3lib 2.1.2, Twisted 23.10.0, Python 3.12.4 | packaged by Anaconda, Inc. | (main, Jun 18 2024, 15:03:56) [MSC v.1929 64 bit (AMD64)], pyOpenSSL 24.0.0 (OpenSSL 3.0.14 4 Jun 2024), cryptography 42.0.5, Platform Windows-11-10.0.22631-SP0\n",
      "2024-10-14 15:17:10 [scrapy.addons] INFO: Enabled addons:\n",
      "[]\n",
      "2024-10-14 15:17:10 [scrapy.extensions.telnet] INFO: Telnet Password: e65b9fab8aacac82\n",
      "2024-10-14 15:17:10 [scrapy.middleware] INFO: Enabled extensions:\n",
      "['scrapy.extensions.corestats.CoreStats',\n",
      " 'scrapy.extensions.telnet.TelnetConsole',\n",
      " 'scrapy.extensions.feedexport.FeedExporter',\n",
      " 'scrapy.extensions.logstats.LogStats',\n",
      " 'scrapy.extensions.throttle.AutoThrottle']\n",
      "2024-10-14 15:17:10 [scrapy.crawler] INFO: Overridden settings:\n",
      "{'AUTOTHROTTLE_ENABLED': True,\n",
      " 'AUTOTHROTTLE_START_DELAY': 1,\n",
      " 'BOT_NAME': 'hotel_data_scraping',\n",
      " 'FEED_EXPORT_ENCODING': 'utf-8',\n",
      " 'LOG_LEVEL': 'INFO',\n",
      " 'NEWSPIDER_MODULE': 'hotel_data_scraping.spiders',\n",
      " 'REQUEST_FINGERPRINTER_IMPLEMENTATION': '2.7',\n",
      " 'ROBOTSTXT_OBEY': True,\n",
      " 'SPIDER_MODULES': ['hotel_data_scraping.spiders'],\n",
      " 'TWISTED_REACTOR': 'twisted.internet.asyncioreactor.AsyncioSelectorReactor',\n",
      " 'USER_AGENT': 'Chrome/129.0.6668.101'}\n",
      "2024-10-14 15:17:10 [scrapy.middleware] INFO: Enabled downloader middlewares:\n",
      "['scrapy.downloadermiddlewares.robotstxt.RobotsTxtMiddleware',\n",
      " 'scrapy.downloadermiddlewares.httpauth.HttpAuthMiddleware',\n",
      " 'scrapy.downloadermiddlewares.downloadtimeout.DownloadTimeoutMiddleware',\n",
      " 'scrapy.downloadermiddlewares.defaultheaders.DefaultHeadersMiddleware',\n",
      " 'scrapy.downloadermiddlewares.useragent.UserAgentMiddleware',\n",
      " 'scrapy.downloadermiddlewares.retry.RetryMiddleware',\n",
      " 'scrapy.downloadermiddlewares.redirect.MetaRefreshMiddleware',\n",
      " 'scrapy.downloadermiddlewares.httpcompression.HttpCompressionMiddleware',\n",
      " 'scrapy.downloadermiddlewares.redirect.RedirectMiddleware',\n",
      " 'scrapy.downloadermiddlewares.cookies.CookiesMiddleware',\n",
      " 'scrapy.downloadermiddlewares.httpproxy.HttpProxyMiddleware',\n",
      " 'scrapy.downloadermiddlewares.stats.DownloaderStats']\n",
      "2024-10-14 15:17:10 [scrapy.middleware] INFO: Enabled spider middlewares:\n",
      "['scrapy.spidermiddlewares.httperror.HttpErrorMiddleware',\n",
      " 'scrapy.spidermiddlewares.offsite.OffsiteMiddleware',\n",
      " 'scrapy.spidermiddlewares.referer.RefererMiddleware',\n",
      " 'scrapy.spidermiddlewares.urllength.UrlLengthMiddleware',\n",
      " 'scrapy.spidermiddlewares.depth.DepthMiddleware']\n",
      "2024-10-14 15:17:10 [scrapy.middleware] INFO: Enabled item pipelines:\n",
      "[]\n",
      "2024-10-14 15:17:10 [scrapy.core.engine] INFO: Spider opened\n",
      "2024-10-14 15:17:10 [scrapy.extensions.logstats] INFO: Crawled 0 pages (at 0 pages/min), scraped 0 items (at 0 items/min)\n",
      "2024-10-14 15:17:10 [scrapy.extensions.telnet] INFO: Telnet console listening on 127.0.0.1:6023\n",
      "2024-10-14 15:17:12 [root] INFO: Scraping Le Saint Aubert at https://www.booking.com/hotel/fr/hotel-saint-aubert.fr.html\n",
      "2024-10-14 15:17:13 [root] INFO: Scraping Mercure Mont Saint Michel at https://www.booking.com/hotel/fr/mont-saint-michel.fr.html\n",
      "2024-10-14 15:17:13 [root] INFO: Scraping Le Relais Saint Michel at https://www.booking.com/hotel/fr/le-relais-saint-michel.fr.html\n",
      "2024-10-14 15:17:14 [root] INFO: Scraping La Mère Poulard at https://www.booking.com/hotel/fr/la-mere-poulard.fr.html\n",
      "2024-10-14 15:17:15 [root] INFO: Scraping Les Terrasses Poulard at https://www.booking.com/hotel/fr/les-terrasses-poulard.fr.html\n",
      "2024-10-14 15:17:16 [root] INFO: Scraping La Vieille Auberge at https://www.booking.com/hotel/fr/la-vieille-auberge-le-mont-saint-michel.fr.html\n",
      "2024-10-14 15:17:17 [root] INFO: Scraping Le Relais Du Roy at https://www.booking.com/hotel/fr/le-relais-du-roy.fr.html\n",
      "2024-10-14 15:17:18 [root] INFO: Scraping Hôtel Vert at https://www.booking.com/hotel/fr/vert.fr.html\n",
      "2024-10-14 15:17:19 [root] INFO: Scraping Le Mouton Blanc at https://www.booking.com/hotel/fr/le-mouton-blanc-le-mont-saint-michel.fr.html\n",
      "2024-10-14 15:17:20 [root] INFO: Scraping Hôtel la Croix Blanche at https://www.booking.com/hotel/fr/ha-el-la-croix-blanche.fr.html\n",
      "2024-10-14 15:17:21 [root] INFO: Scraping Hotel Gabriel at https://www.booking.com/hotel/fr/hotel-gabriel.fr.html\n",
      "2024-10-14 15:17:21 [root] INFO: Scraping Auberge Saint Pierre at https://www.booking.com/hotel/fr/auberge-saint-pierre.fr.html\n",
      "2024-10-14 15:17:22 [root] INFO: Scraping Auberge de la Baie at https://www.booking.com/hotel/fr/auberge-de-la-baie.fr.html\n",
      "2024-10-14 15:17:23 [root] INFO: Scraping Ermitage - Mont-Saint-Michel at https://www.booking.com/hotel/fr/ermitage-mont-saint-michel-beauvoir.fr.html\n",
      "2024-10-14 15:17:24 [root] INFO: Scraping Vacancéole - Les Chambres de la Baie at https://www.booking.com/hotel/fr/vacanceole-les-chambres-de-la-baie.fr.html\n",
      "2024-10-14 15:17:25 [root] INFO: Scraping Manoir de la Roche Torin, The Originals Relais at https://www.booking.com/hotel/fr/le-manoir-de-la-roche-torin.fr.html\n",
      "2024-10-14 15:17:25 [root] INFO: Scraping Vacancéole - Le Domaine du Mont - Mont St Michel at https://www.booking.com/hotel/fr/et-residence-club-mmv-le-domaine-du-mont.fr.html\n",
      "2024-10-14 15:17:26 [root] INFO: Scraping Hôtel Le Lithana at https://www.booking.com/hotel/fr/le-lithana.fr.html\n",
      "2024-10-14 15:17:27 [root] INFO: Scraping Hotel Le XIV at https://www.booking.com/hotel/fr/le-xiv.fr.html\n",
      "2024-10-14 15:17:27 [root] INFO: Scraping Hôtel Ariane & SPA at https://www.booking.com/hotel/fr/ariane-pontorson.fr.html\n",
      "2024-10-14 15:17:28 [root] INFO: Scraping Hôtel Ar Iniz at https://www.booking.com/hotel/fr/ar-iniz.fr.html\n",
      "2024-10-14 15:17:29 [root] INFO: Scraping Alba hotel at https://www.booking.com/hotel/fr/alba-saint-malo.fr.html\n",
      "2024-10-14 15:17:30 [root] INFO: Scraping Hôtel San Pedro at https://www.booking.com/hotel/fr/san-pedro.fr.html\n",
      "2024-10-14 15:17:30 [root] INFO: Scraping Hôtel Bristol Union Intra Muros at https://www.booking.com/hotel/fr/bristol-union.fr.html\n",
      "2024-10-14 15:17:31 [root] INFO: Scraping Hotel De La Mer at https://www.booking.com/hotel/fr/la-cote-d-39-emeraude.fr.html\n",
      "2024-10-14 15:17:32 [root] INFO: Scraping Kyriad Prestige Saint-Malo at https://www.booking.com/hotel/fr/kyriad-prestige-saint-malo-xml.fr.html\n",
      "2024-10-14 15:17:32 [root] INFO: Scraping Hôtel de la Gare at https://www.booking.com/hotel/fr/de-la-gare-saint-malo.fr.html\n",
      "2024-10-14 15:17:34 [root] INFO: Scraping Hôtel de la Cité at https://www.booking.com/hotel/fr/de-la-cite.fr.html\n",
      "2024-10-14 15:17:34 [root] INFO: Scraping Escale Oceania Saint Malo at https://www.booking.com/hotel/fr/mascottesaintmalo.fr.html\n",
      "2024-10-14 15:17:34 [root] INFO: Scraping B&B HOTEL Saint-Malo Centre at https://www.booking.com/hotel/fr/b-b-saint-malo.fr.html\n",
      "2024-10-14 15:17:35 [root] INFO: Scraping Hôtel France et Chateaubriand at https://www.booking.com/hotel/fr/de-france-et-chateaubriand.fr.html\n",
      "2024-10-14 15:17:36 [root] INFO: Scraping Hôtel Le Nautilus at https://www.booking.com/hotel/fr/le-nautilus.fr.html\n",
      "2024-10-14 15:17:36 [root] INFO: Scraping Oceania Saint Malo at https://www.booking.com/hotel/fr/oceaniasaintmalo.fr.html\n",
      "2024-10-14 15:17:37 [root] INFO: Scraping Hotel Ar Terra Nova at https://www.booking.com/hotel/fr/ar-terra-nova.fr.html\n",
      "2024-10-14 15:17:38 [root] INFO: Scraping Hotel Kyriad Saint Malo Centre Plage at https://www.booking.com/hotel/fr/bleumarinesaintmalo.fr.html\n",
      "2024-10-14 15:17:39 [root] INFO: Scraping Hotel des Abers at https://www.booking.com/hotel/fr/des-abers.fr.html\n",
      "2024-10-14 15:17:40 [root] INFO: Scraping Grand Hôtel Des Thermes at https://www.booking.com/hotel/fr/desthermessaintmalo.fr.html\n",
      "2024-10-14 15:17:40 [root] INFO: Scraping Hôtel Cartier at https://www.booking.com/hotel/fr/cartier.fr.html\n",
      "2024-10-14 15:17:41 [root] INFO: Scraping Ker Annick at https://www.booking.com/hotel/fr/ker-annick.fr.html\n",
      "2024-10-14 15:17:42 [root] INFO: Scraping Ambassadeurs Logis Hotel at https://www.booking.com/hotel/fr/ambassadeurs.fr.html\n",
      "2024-10-14 15:17:43 [root] INFO: Scraping Domaine de Bayeux at https://www.booking.com/hotel/fr/domaine-de-bayeux.fr.html\n",
      "2024-10-14 15:17:43 [root] INFO: Scraping Hôtel De Brunville & Spa at https://www.booking.com/hotel/fr/hoteldebrunville.fr.html\n",
      "2024-10-14 15:17:44 [root] INFO: Scraping Premiere Classe Bayeux at https://www.booking.com/hotel/fr/premiere-classe-bayeux.fr.html\n",
      "2024-10-14 15:17:45 [root] INFO: Scraping La Maison de Mathilde at https://www.booking.com/hotel/fr/la-maison-de-mathilde.fr.html\n",
      "2024-10-14 15:17:46 [root] INFO: Scraping Hotel Le Lion D'Or et Restaurant La Table Du Lion at https://www.booking.com/hotel/fr/le-lion-d-or-bayeux.fr.html\n",
      "2024-10-14 15:17:46 [root] INFO: Scraping Hotel Reine Mathilde at https://www.booking.com/hotel/fr/reine-mathilde-bayeux.fr.html\n",
      "2024-10-14 15:17:48 [root] INFO: Scraping Au Loup Historic Apartments at https://www.booking.com/hotel/fr/au-loup-historic-apartments-bayeux.fr.html\n",
      "2024-10-14 15:17:48 [root] INFO: Scraping Château de Bellefontaine - Teritoria at https://www.booking.com/hotel/fr/chateau-de-bellefontaine.fr.html\n",
      "2024-10-14 15:17:49 [root] INFO: Scraping Domitys Les Falaises Blanches at https://www.booking.com/hotel/fr/domitys-les-falaises-blanches.fr.html\n",
      "2024-10-14 15:17:50 [root] INFO: Scraping Churchill Hotel Bayeux Centre at https://www.booking.com/hotel/fr/churchill-bayeux.fr.html\n",
      "2024-10-14 15:17:51 [root] INFO: Scraping Campanile Bayeux at https://www.booking.com/hotel/fr/campanile-bayeux.fr.html\n",
      "2024-10-14 15:17:52 [root] INFO: Scraping Grand Hôtel du Luxembourg & Spa at https://www.booking.com/hotel/fr/hotelduluxembourg.fr.html\n",
      "2024-10-14 15:17:53 [root] INFO: Scraping Hôtel Le Bayeux at https://www.booking.com/hotel/fr/le-bayeux.fr.html\n",
      "2024-10-14 15:17:53 [root] INFO: Scraping Novotel Bayeux at https://www.booking.com/hotel/fr/novotel.fr.html\n",
      "2024-10-14 15:17:54 [root] INFO: Scraping Hôtel d'Argouges at https://www.booking.com/hotel/fr/d-argouges.fr.html\n",
      "2024-10-14 15:17:55 [root] INFO: Scraping Hôtel Le Saint Patrice at https://www.booking.com/hotel/fr/saint-patrice.fr.html\n",
      "2024-10-14 15:17:55 [root] INFO: Scraping Appart’hôtel saint patrice at https://www.booking.com/hotel/fr/appart-saint-patrice.fr.html\n",
      "2024-10-14 15:17:56 [root] INFO: Scraping Villa Lara Hotel at https://www.booking.com/hotel/fr/villa-lara-ha-tel.fr.html\n",
      "2024-10-14 15:17:57 [root] INFO: Scraping Le Mogador at https://www.booking.com/hotel/fr/le-mogador-bayeux.fr.html\n",
      "2024-10-14 15:17:58 [root] INFO: Scraping Relais des 3 Pommes at https://www.booking.com/hotel/fr/le-relais-des-3-pommes.fr.html\n",
      "2024-10-14 15:17:59 [root] INFO: Scraping Hilton Garden Inn Le Havre Centre at https://www.booking.com/hotel/fr/hilton-garden-inn-le-havre-centre.fr.html\n",
      "2024-10-14 15:18:00 [root] INFO: Scraping The Originals Boutique, Hôtel d'Angleterre, Le Havre, centre, plage at https://www.booking.com/hotel/fr/comfort-d-angleterre.fr.html\n",
      "2024-10-14 15:18:00 [root] INFO: Scraping All Suites Appart Hotel Le Havre at https://www.booking.com/hotel/fr/all-suites-appart-le-havre.fr.html\n",
      "2024-10-14 15:18:01 [root] INFO: Scraping Hotel Spa Le Pasino at https://www.booking.com/hotel/fr/pasino.fr.html\n",
      "2024-10-14 15:18:02 [root] INFO: Scraping Hôtel Carmin at https://www.booking.com/hotel/fr/carmin.fr.html\n",
      "2024-10-14 15:18:03 [root] INFO: Scraping Holiday Inn Express - Le Havre Centre at https://www.booking.com/hotel/fr/campanile-le-havre-centre.fr.html\n",
      "2024-10-14 15:18:03 [root] INFO: Scraping The Originals Boutique, Hôtel Le Marignan,Le Havre Centre Gare at https://www.booking.com/hotel/fr/la-baraka.fr.html\n",
      "2024-10-14 15:18:04 [root] INFO: Scraping Odalys City Le Havre Centre Les Docks at https://www.booking.com/hotel/fr/odalys-city-le-havre-centre-les-docks.fr.html\n",
      "2024-10-14 15:18:05 [root] INFO: Scraping Arthur Residency - Luxury Apartment - Gare Le Havre at https://www.booking.com/hotel/fr/arthur-residency-luxury-apartment-gare-le-havre.fr.html\n",
      "2024-10-14 15:18:05 [root] INFO: Scraping Hotel de Charme La Bonne Adresse - Logis de France at https://www.booking.com/hotel/fr/des-phares.fr.html\n",
      "2024-10-14 15:18:06 [root] INFO: Scraping Birgit Hôtel Le Havre Centre at https://www.booking.com/hotel/fr/kyriadlehavrecentre.fr.html\n",
      "2024-10-14 15:18:07 [root] INFO: Scraping Nomad Hotel le Havre at https://www.booking.com/hotel/fr/nomad-le-havre.fr.html\n",
      "2024-10-14 15:18:08 [root] INFO: Scraping Hôtel Spa Vent d'Ouest at https://www.booking.com/hotel/fr/vent-d-ouest-le-havre.fr.html\n",
      "2024-10-14 15:18:08 [root] INFO: Scraping Best Western ARThotel at https://www.booking.com/hotel/fr/art.fr.html\n",
      "2024-10-14 15:18:09 [root] INFO: Scraping JOST Hôtel Le Havre Centre Gare at https://www.booking.com/hotel/fr/jost-le-havre.fr.html\n",
      "2024-10-14 15:18:10 [root] INFO: Scraping Best Western Plus Le Havre Centre Gare at https://www.booking.com/hotel/fr/hotelterminuslehavre.fr.html\n",
      "2024-10-14 15:18:10 [scrapy.extensions.logstats] INFO: Crawled 77 pages (at 77 pages/min), scraped 76 items (at 76 items/min)\n",
      "2024-10-14 15:18:10 [root] INFO: Scraping Oscar Hôtel Le Havre Centre at https://www.booking.com/hotel/fr/celtic.fr.html\n",
      "2024-10-14 15:18:11 [root] INFO: Scraping Zenitude Hôtel-Résidences Le Havre at https://www.booking.com/hotel/fr/appart-city-cap-affaires-le-havre.fr.html\n",
      "2024-10-14 15:18:12 [root] INFO: Scraping Odalys City Le Havre Centre Gare at https://www.booking.com/hotel/fr/odalys-city-le-havre-centre-gare.fr.html\n",
      "2024-10-14 15:18:13 [root] INFO: Scraping ibis Le Havre Centre at https://www.booking.com/hotel/fr/hotelibislehavre.fr.html\n",
      "2024-10-14 15:18:13 [root] INFO: Scraping Le Vieux Carré at https://www.booking.com/hotel/fr/le-vieux-carre.fr.html\n",
      "2024-10-14 15:18:14 [root] INFO: Scraping Grand Hôtel De La Seine at https://www.booking.com/hotel/fr/rouencentre.fr.html\n",
      "2024-10-14 15:18:15 [root] INFO: Scraping Radisson Blu Hotel, Rouen Centre at https://www.booking.com/hotel/fr/radisson-blu-rouen-centre.fr.html\n",
      "2024-10-14 15:18:15 [root] INFO: Scraping Les Initiés at https://www.booking.com/hotel/fr/les-inities-rouen.fr.html\n",
      "2024-10-14 15:18:16 [root] INFO: Scraping B&B HOTEL Rouen Centre Rive Droite at https://www.booking.com/hotel/fr/ibis-rouen-centre-rive-droite.fr.html\n",
      "2024-10-14 15:18:17 [root] INFO: Scraping DOMITYS Les Mosaïques at https://www.booking.com/hotel/fr/domitys-les-mosaiques.fr.html\n",
      "2024-10-14 15:18:18 [root] INFO: Scraping Hôtel De La Cathédrale at https://www.booking.com/hotel/fr/de-la-cathedrale.fr.html\n",
      "2024-10-14 15:18:18 [root] INFO: Scraping Hotel De Quebec at https://www.booking.com/hotel/fr/alive-hotel-de-quebec.fr.html\n",
      "2024-10-14 15:18:19 [root] INFO: Scraping Hôtel Littéraire Gustave Flaubert, BW Signature Collection at https://www.booking.com/hotel/fr/hotellitterairegustaveflaubert.fr.html\n",
      "2024-10-14 15:18:20 [root] INFO: Scraping Hotel Morand at https://www.booking.com/hotel/fr/lemorand.fr.html\n",
      "2024-10-14 15:18:21 [root] INFO: Scraping Novotel Rouen Centre Cathédrale at https://www.booking.com/hotel/fr/novotel-rouen-centre-cathedrale.fr.html\n",
      "2024-10-14 15:18:21 [root] INFO: Scraping Hotel Dandy Rouen centre at https://www.booking.com/hotel/fr/dandy.fr.html\n",
      "2024-10-14 15:18:22 [root] INFO: Scraping Aparthotel Adagio Access Rouen Centre Cathédrale at https://www.booking.com/hotel/fr/aparthotel-adagio-access-rouen-centre-cathedrale.fr.html\n",
      "2024-10-14 15:18:23 [root] INFO: Scraping Mercure Rouen Centre Champ de Mars at https://www.booking.com/hotel/fr/mercure-rouen-champ-de-mars.fr.html\n",
      "2024-10-14 15:18:24 [root] INFO: Scraping B&B HOTEL Rouen Centre at https://www.booking.com/hotel/fr/comforthotelrouencentre.fr.html\n",
      "2024-10-14 15:18:24 [root] INFO: Scraping Brit Hotel Confort Rouen Centre at https://www.booking.com/hotel/fr/le-relais-des-2-rivieres.fr.html\n",
      "2024-10-14 15:18:25 [root] INFO: Scraping ibis Rouen Centre Champ de Mars at https://www.booking.com/hotel/fr/ibis-rouen-champ-de-mars.fr.html\n",
      "2024-10-14 15:18:26 [root] INFO: Scraping Hotel centre Rouen VT at https://www.booking.com/hotel/fr/cenntre-rouen.fr.html\n",
      "2024-10-14 15:18:26 [root] INFO: Scraping Hyatt Place Rouen at https://www.booking.com/hotel/fr/hyatt-place-rouen.fr.html\n",
      "2024-10-14 15:18:27 [root] INFO: Scraping Hôtel Paulette Rouen Centre Cathédrale at https://www.booking.com/hotel/fr/hotel-de-paris-rouen.fr.html\n",
      "2024-10-14 15:18:28 [root] INFO: Scraping GREEN PARK HOTEL PARIS at https://www.booking.com/hotel/fr/green-park-paris.fr.html\n",
      "2024-10-14 15:18:29 [root] INFO: Scraping Luxelthe at https://www.booking.com/hotel/fr/luxelthe.fr.html\n",
      "2024-10-14 15:18:29 [root] INFO: Scraping Verlain at https://www.booking.com/hotel/fr/verlain.fr.html\n",
      "2024-10-14 15:18:30 [root] INFO: Scraping Hôtel Avenir Jonquière at https://www.booking.com/hotel/fr/avenir-jonquiere.fr.html\n",
      "2024-10-14 15:18:31 [root] INFO: Scraping Secret de Paris - Hotel & Spa at https://www.booking.com/hotel/fr/secret-de-paris-design-boutique.fr.html\n",
      "2024-10-14 15:18:31 [root] INFO: Scraping Yuna Montmartre - ApartHotel at https://www.booking.com/hotel/fr/yuna-montmartre-aparthotel.fr.html\n",
      "2024-10-14 15:18:32 [root] INFO: Scraping Hotel Puy De Dôme at https://www.booking.com/hotel/fr/puy-dome.fr.html\n",
      "2024-10-14 15:18:33 [root] INFO: Scraping Timhotel Montmartre at https://www.booking.com/hotel/fr/timmontmartre.fr.html\n",
      "2024-10-14 15:18:34 [root] INFO: Scraping Hôtel Paris La Fayette at https://www.booking.com/hotel/fr/comfort-paris-la-fayette.fr.html\n",
      "2024-10-14 15:18:35 [root] INFO: Scraping Artemisia Montmartre at https://www.booking.com/hotel/fr/hotel-artemisia-montmartre.fr.html\n",
      "2024-10-14 15:18:35 [root] INFO: Scraping B&B HOTEL Paris Porte des Lilas at https://www.booking.com/hotel/fr/b-amp-b-porte-des-lilas.fr.html\n",
      "2024-10-14 15:18:36 [root] INFO: Scraping Hôtel Des Mines at https://www.booking.com/hotel/fr/hoteldesminesparis.fr.html\n",
      "2024-10-14 15:18:37 [root] INFO: Scraping Select Hotel at https://www.booking.com/hotel/fr/select-paris.fr.html\n",
      "2024-10-14 15:18:38 [root] INFO: Scraping Hôtel de France Gare de Lyon Bastille at https://www.booking.com/hotel/fr/grand-de-france.fr.html\n",
      "2024-10-14 15:18:38 [root] INFO: Scraping le paris saint ouen at https://www.booking.com/hotel/fr/le-paris-saint-ouen.fr.html\n",
      "2024-10-14 15:18:39 [root] INFO: Scraping Motel One Paris-Porte Dorée at https://www.booking.com/hotel/fr/motel-one-paris-porte-doree.fr.html\n",
      "2024-10-14 15:18:40 [root] INFO: Scraping Le Katorze Hôtel at https://www.booking.com/hotel/fr/le-katorze.fr.html\n",
      "2024-10-14 15:18:41 [root] INFO: Scraping Le Mathurin Hotel & Spa at https://www.booking.com/hotel/fr/hotel-le-mathurin.fr.html\n",
      "2024-10-14 15:18:41 [root] INFO: Scraping Hotel des Vosges at https://www.booking.com/hotel/fr/des-vosges-paris.fr.html\n",
      "2024-10-14 15:18:42 [root] INFO: Scraping Hôtel Jardin de Cluny at https://www.booking.com/hotel/fr/lejardindecluny.fr.html\n",
      "2024-10-14 15:18:43 [root] INFO: Scraping Nemea Appart Hotel Coliseum Amiens Centre at https://www.booking.com/hotel/fr/nemea-appart-coliseum.fr.html\n",
      "2024-10-14 15:18:44 [root] INFO: Scraping Odalys City Amiens Blamont at https://www.booking.com/hotel/fr/appart-39-odalys-blamont.fr.html\n",
      "2024-10-14 15:18:45 [root] INFO: Scraping ibis budget Amiens Centre Gare at https://www.booking.com/hotel/fr/ibis-budget-amiens-centre-gare.fr.html\n",
      "2024-10-14 15:18:46 [root] INFO: Scraping B&B HOTEL Amiens Centre Cathédrale at https://www.booking.com/hotel/fr/ibis-amiens-centre-cathedrale.fr.html\n",
      "2024-10-14 15:18:46 [root] INFO: Scraping Appart'City Confort Amiens Gare at https://www.booking.com/hotel/fr/appart-city-amiens.fr.html\n",
      "2024-10-14 15:18:47 [root] INFO: Scraping Holiday Inn Express Amiens, an IHG Hotel at https://www.booking.com/hotel/fr/express-by-holiday-inn.fr.html\n",
      "2024-10-14 15:18:48 [root] INFO: Scraping Hotel Central Anzac at https://www.booking.com/hotel/fr/central-anzac.fr.html\n",
      "2024-10-14 15:18:49 [root] INFO: Scraping Chez Victor H at https://www.booking.com/hotel/fr/victor-hugo-amiens2.fr.html\n",
      "2024-10-14 15:18:50 [root] INFO: Scraping Hotel Le Prieuré et La Résidence at https://www.booking.com/hotel/fr/le-prieure-amiens.fr.html\n",
      "2024-10-14 15:18:50 [root] INFO: Scraping ibis Styles Amiens Centre at https://www.booking.com/hotel/fr/ibis-styles-amiens-centre.fr.html\n",
      "2024-10-14 15:18:51 [root] INFO: Scraping Moxy Amiens at https://www.booking.com/hotel/fr/campanile-amiens-centre-gare.fr.html\n",
      "2024-10-14 15:18:51 [root] INFO: Scraping Mercure Amiens Cathédrale at https://www.booking.com/hotel/fr/mercure-amiens-cathdrale.fr.html\n",
      "2024-10-14 15:18:52 [root] INFO: Scraping Grand Hotel de L'Univers at https://www.booking.com/hotel/fr/bwlunivers.fr.html\n",
      "2024-10-14 15:18:53 [root] INFO: Scraping Première Classe Amiens at https://www.booking.com/hotel/fr/premia-re-classe-amiens.fr.html\n",
      "2024-10-14 15:18:54 [root] INFO: Scraping The Nest at https://www.booking.com/hotel/fr/the-nest-amiens.fr.html\n",
      "2024-10-14 15:18:54 [root] INFO: Scraping Comfort Hotel Amiens Nord at https://www.booking.com/hotel/fr/kyriad-amiens-nord-xml.fr.html\n",
      "2024-10-14 15:18:55 [root] INFO: Scraping La Parenthèse Envoutée at https://www.booking.com/hotel/fr/aux-caves.fr.html\n",
      "2024-10-14 15:18:56 [root] INFO: Scraping None at https://www.booking.com/hotel/fr/de-normandie-amiens.fr.html\n",
      "2024-10-14 15:18:57 [root] INFO: Scraping Logis Hôtel - La Chambre d'Amiens at https://www.booking.com/hotel/fr/la-chambre-d-39-amiens.fr.html\n",
      "2024-10-14 15:18:57 [root] INFO: Scraping The Originals Boutique Hôtel Amiens Sud at https://www.booking.com/hotel/fr/the-originals-boutique-amiens-sud-chu-amiens.fr.html\n",
      "2024-10-14 15:18:59 [root] INFO: Scraping Hotel Lille Europe at https://www.booking.com/hotel/fr/lille-europe.fr.html\n",
      "2024-10-14 15:18:59 [root] INFO: Scraping JOST Hôtel Lille Centre at https://www.booking.com/hotel/fr/jost-lille-wazemmes.fr.html\n",
      "2024-10-14 15:19:00 [root] INFO: Scraping Hôtel Saint Maurice at https://www.booking.com/hotel/fr/hotelsaintmaurice.fr.html\n",
      "2024-10-14 15:19:01 [root] INFO: Scraping Moxy Lille City at https://www.booking.com/hotel/fr/moxy-lille-city-center-france.fr.html\n",
      "2024-10-14 15:19:02 [root] INFO: Scraping Hotel Carlton at https://www.booking.com/hotel/fr/carlton.fr.html\n",
      "2024-10-14 15:19:02 [root] INFO: Scraping OKKO Hotels Lille Centre at https://www.booking.com/hotel/fr/okko-hotels-lille-centre.fr.html\n",
      "2024-10-14 15:19:03 [root] INFO: Scraping Hotel De La Treille at https://www.booking.com/hotel/fr/hoteldelatreillelille.fr.html\n",
      "2024-10-14 15:19:04 [root] INFO: Scraping Mama Shelter Lille at https://www.booking.com/hotel/fr/mama-shelter-lille.fr.html\n",
      "2024-10-14 15:19:05 [root] INFO: Scraping Twenty Business Flats Lille - Bayard at https://www.booking.com/hotel/fr/residence-intergenerationnelle-de-lille.fr.html\n",
      "2024-10-14 15:19:06 [root] INFO: Scraping Eklo Hotels Lille at https://www.booking.com/hotel/fr/eklo-hotels-lille.fr.html\n",
      "2024-10-14 15:19:07 [root] INFO: Scraping Holiday Inn Express Lille Centre, an IHG Hotel at https://www.booking.com/hotel/fr/expressbyholidayinnlille.fr.html\n",
      "2024-10-14 15:19:08 [root] INFO: Scraping Lille City Hotel at https://www.booking.com/hotel/fr/lille-city-hotel.fr.html\n",
      "2024-10-14 15:19:09 [root] INFO: Scraping Grand Hotel Bellevue - Grand Place at https://www.booking.com/hotel/fr/grandhotelbellevue.fr.html\n",
      "2024-10-14 15:19:10 [root] INFO: Scraping Grand Hôtel Lille at https://www.booking.com/hotel/fr/le-grand-hotel.fr.html\n",
      "2024-10-14 15:19:10 [scrapy.extensions.logstats] INFO: Crawled 156 pages (at 79 pages/min), scraped 154 items (at 78 items/min)\n",
      "2024-10-14 15:19:10 [root] INFO: Scraping B&B HOTEL Lille Lillenium Eurasanté at https://www.booking.com/hotel/fr/b-amp-b-lille-lillenium-eurasante-lille.fr.html\n",
      "2024-10-14 15:19:11 [root] INFO: Scraping Aparthotel Adagio Lille Centre Grand Place at https://www.booking.com/hotel/fr/aparthotel-adagio-lille-centre-grand-place.fr.html\n",
      "2024-10-14 15:19:12 [root] INFO: Scraping Brit Hotel Lille Centre at https://www.booking.com/hotel/fr/besthotel_lille.fr.html\n",
      "2024-10-14 15:19:13 [root] INFO: Scraping Brueghel at https://www.booking.com/hotel/fr/brueghel.fr.html\n",
      "2024-10-14 15:19:13 [root] INFO: Scraping Hotel Kanaï at https://www.booking.com/hotel/fr/k.fr.html\n",
      "2024-10-14 15:19:15 [root] INFO: Scraping Hotel Art Deco Euralille at https://www.booking.com/hotel/fr/hotelsrtdecoromarinlille.fr.html\n",
      "2024-10-14 15:19:15 [root] INFO: Scraping ClapClap Hôtel, Food & Bar at https://www.booking.com/hotel/fr/clapclap-strasbourg.fr.html\n",
      "2024-10-14 15:19:16 [root] INFO: Scraping Séjours & Affaires Strasbourg Kleber at https://www.booking.com/hotel/fr/residhome-strasbourg-kleber.fr.html\n",
      "2024-10-14 15:19:16 [root] INFO: Scraping Hotel Strasbourg - Montagne Verte & Restaurant Louisiane at https://www.booking.com/hotel/fr/comforthotelstras.fr.html\n",
      "2024-10-14 15:19:17 [root] INFO: Scraping Résidence La Canopée at https://www.booking.com/hotel/fr/residence-la-canopee.fr.html\n",
      "2024-10-14 15:19:18 [root] INFO: Scraping Hotel Le 21ème at https://www.booking.com/hotel/fr/alpha-le-21eme.fr.html\n",
      "2024-10-14 15:19:19 [root] INFO: Scraping Aparthotel Adagio Access Strasbourg Petite France at https://www.booking.com/hotel/fr/adagio-access-strasbourg-petite-france.fr.html\n",
      "2024-10-14 15:19:20 [root] INFO: Scraping Residence Inn by Marriott Strasbourg at https://www.booking.com/hotel/fr/residence-inn-by-marriott-strasbourg.fr.html\n",
      "2024-10-14 15:19:20 [root] INFO: Scraping Le Grand Hotel at https://www.booking.com/hotel/fr/legrandhotel.fr.html\n",
      "2024-10-14 15:19:21 [root] INFO: Scraping Résidence Hôtelière Louise at https://www.booking.com/hotel/fr/residence-hoteliere-louise.fr.html\n",
      "2024-10-14 15:19:22 [root] INFO: Scraping Hôtel De L'Ill at https://www.booking.com/hotel/fr/de-l-ill.fr.html\n",
      "2024-10-14 15:19:23 [root] INFO: Scraping City Résidence Strasbourg Centre at https://www.booking.com/hotel/fr/appart-victoria-garden-strasbourg.fr.html\n",
      "2024-10-14 15:19:23 [root] INFO: Scraping ibis Styles Strasbourg Avenue du Rhin at https://www.booking.com/hotel/fr/ibis-strasbourg-avenue-du-rhin.fr.html\n",
      "2024-10-14 15:19:24 [root] INFO: Scraping Hotel Rohan, Centre Cathédrale at https://www.booking.com/hotel/fr/hotel-de-rohan.fr.html\n",
      "2024-10-14 15:19:24 [root] INFO: Scraping Hotel des Arts - Centre Cathédrale at https://www.booking.com/hotel/fr/citotel-des-arts.fr.html\n",
      "2024-10-14 15:19:25 [root] INFO: Scraping Hôtel Restaurant Athena Spa at https://www.booking.com/hotel/fr/athena-spa.fr.html\n",
      "2024-10-14 15:19:25 [root] INFO: Scraping Hôtel Tandem - Boutique Hôtel at https://www.booking.com/hotel/fr/ha-tel-nid-de-cigognes.fr.html\n",
      "2024-10-14 15:19:26 [root] INFO: Scraping Le Kléber Hôtel at https://www.booking.com/hotel/fr/le-kleber.fr.html\n",
      "2024-10-14 15:19:27 [root] INFO: Scraping Hôtel Vendôme at https://www.booking.com/hotel/fr/ha-tel-venda-me.fr.html\n",
      "2024-10-14 15:19:28 [root] INFO: Scraping ibis Strasbourg Centre Petite France at https://www.booking.com/hotel/fr/ibis-strasbourg-centre-petite-france.fr.html\n",
      "2024-10-14 15:19:29 [root] INFO: Scraping Citadines Kléber Strasbourg at https://www.booking.com/hotel/fr/citadines-aparthotel-strasbourg.fr.html\n",
      "2024-10-14 15:19:30 [root] INFO: Scraping Hôtel Le Mittelwihr at https://www.booking.com/hotel/fr/le-mittelwihr.fr.html\n",
      "2024-10-14 15:19:31 [root] INFO: Scraping Logis Hotel Le Parc & Spa at https://www.booking.com/hotel/fr/logis-le-parc-st-hippolyte.fr.html\n",
      "2024-10-14 15:19:31 [root] INFO: Scraping Best Western Hotel & SPA Le Schoenenbourg - Riquewihr - Proche Colmar at https://www.booking.com/hotel/fr/le-schoenenbourg.fr.html\n",
      "2024-10-14 15:19:31 [root] INFO: Scraping Auberge Le Meisenberg at https://www.booking.com/hotel/fr/auberge-le-meisenberg.fr.html\n",
      "2024-10-14 15:19:34 [root] INFO: Scraping Hotel à l'Oriel at https://www.booking.com/hotel/fr/a-l-oriel.fr.html\n",
      "2024-10-14 15:19:35 [root] INFO: Scraping Hotel Le Mandelberg at https://www.booking.com/hotel/fr/le-mandelberg.fr.html\n",
      "2024-10-14 15:19:36 [root] INFO: Scraping Hôtel Le Riquewihr at https://www.booking.com/hotel/fr/le-riquewihr.fr.html\n",
      "2024-10-14 15:19:36 [root] INFO: Scraping Hôtel du Haut Koenigsbourg- entre vignes et château at https://www.booking.com/hotel/fr/le-haut-koenigsbourg.fr.html\n",
      "2024-10-14 15:19:37 [root] INFO: Scraping Hôtel Restaurant Verger des Châteaux, The Originals Relais, proche Sélestat at https://www.booking.com/hotel/fr/le-verger-des-chateaux.fr.html\n",
      "2024-10-14 15:19:37 [root] INFO: Scraping L' Hôtel & Spa Ribeauville- Haut-Koenigsbourg at https://www.booking.com/hotel/fr/l-39-amp-spa-ribeauville.fr.html\n",
      "2024-10-14 15:19:38 [root] INFO: Scraping Les Prés D'ondine at https://www.booking.com/hotel/fr/les-pres-d-ondine.fr.html\n",
      "2024-10-14 15:19:39 [root] INFO: Scraping Hotel SPA Restaurant Au Cheval Blanc at https://www.booking.com/hotel/fr/restaurant-au-cheval-blanc.fr.html\n",
      "2024-10-14 15:19:40 [root] INFO: Scraping Hotel Au Nid De Cigognes at https://www.booking.com/hotel/fr/au-nid-de-cigognes.fr.html\n",
      "2024-10-14 15:19:41 [root] INFO: Scraping Hôtel Val-Vignes Colmar Haut-Koenigsbourg, The Originals Relais at https://www.booking.com/hotel/fr/val-vignes.fr.html\n",
      "2024-10-14 15:19:41 [root] INFO: Scraping La Bonne Franquette at https://www.booking.com/hotel/fr/la-bonne-franquette.fr.html\n",
      "2024-10-14 15:19:42 [root] INFO: Scraping Pêche de Vigne & Spa at https://www.booking.com/hotel/fr/peche-de-vigne.fr.html\n",
      "2024-10-14 15:19:43 [root] INFO: Scraping LE CLOS DES SOURCES Hôtel & Spa at https://www.booking.com/hotel/fr/touringhotel.fr.html\n",
      "2024-10-14 15:19:44 [root] INFO: Scraping Hôtel Restaurant Le Schlossberg at https://www.booking.com/hotel/fr/le-schlossberg.fr.html\n",
      "2024-10-14 15:19:45 [root] INFO: Scraping Relais et Châteaux Le Chambard at https://www.booking.com/hotel/fr/le-chambard.fr.html\n",
      "2024-10-14 15:19:45 [root] INFO: Scraping Hôtel Barrière Ribeauvillé at https://www.booking.com/hotel/fr/resort-barriere-ribeauville.fr.html\n",
      "2024-10-14 15:19:46 [root] INFO: Scraping Colmar Hotel at https://www.booking.com/hotel/fr/colmar.fr.html\n",
      "2024-10-14 15:19:47 [root] INFO: Scraping Hotel Arc-En-Ciel Colmar Contact Hotel at https://www.booking.com/hotel/fr/arc-en-ciel-hexagone.fr.html\n",
      "2024-10-14 15:19:47 [root] INFO: Scraping ibis Colmar Centre at https://www.booking.com/hotel/fr/ibis-colmar-centre.fr.html\n",
      "2024-10-14 15:19:48 [root] INFO: Scraping Hôtel Turenne at https://www.booking.com/hotel/fr/turenne-colmar.fr.html\n",
      "2024-10-14 15:19:49 [root] INFO: Scraping B&B HOTEL Colmar Lumière at https://www.booking.com/hotel/fr/roi-soleil.fr.html\n",
      "2024-10-14 15:19:49 [root] INFO: Scraping ibis Budget Colmar Centre Gare at https://www.booking.com/hotel/fr/ibis-budget-colmar-centre-ville.fr.html\n",
      "2024-10-14 15:19:50 [root] INFO: Scraping PAUL & PIA - Welcome Home Hotel at https://www.booking.com/hotel/fr/kyriad-colmar-gare.fr.html\n",
      "2024-10-14 15:19:51 [root] INFO: Scraping The Originals City, Hôtel Colmar Gare at https://www.booking.com/hotel/fr/le-colbert.fr.html\n",
      "2024-10-14 15:19:52 [root] INFO: Scraping Best Western Colmar Expo at https://www.booking.com/hotel/fr/comfort-expo-colmar.fr.html\n",
      "2024-10-14 15:19:52 [root] INFO: Scraping Hôtel Gustave Colmar at https://www.booking.com/hotel/fr/kyriad-colmar-cita-c-administrative.fr.html\n",
      "2024-10-14 15:19:53 [root] INFO: Scraping Hotel Saint-Martin at https://www.booking.com/hotel/fr/hotelsaintmartin.fr.html\n",
      "2024-10-14 15:19:53 [root] INFO: Scraping Résidence Pierre & Vacances La Petite Venise at https://www.booking.com/hotel/fr/la-petite-venise.fr.html\n",
      "2024-10-14 15:19:54 [root] INFO: Scraping Hotel Le Colombier at https://www.booking.com/hotel/fr/colombiercolmar.fr.html\n",
      "2024-10-14 15:19:55 [root] INFO: Scraping Odalys City Colmar La Rose d'Argent at https://www.booking.com/hotel/fr/appart-39-odalys-la-rose-d-39-argent.fr.html\n",
      "2024-10-14 15:19:55 [root] INFO: Scraping Hôtel Quatorze at https://www.booking.com/hotel/fr/quatorze.fr.html\n",
      "2024-10-14 15:19:56 [root] INFO: Scraping Mercure Colmar Centre Unterlinden at https://www.booking.com/hotel/fr/colmar-centre-unterlinden.fr.html\n",
      "2024-10-14 15:19:56 [root] INFO: Scraping Greet Hotel Colmar at https://www.booking.com/hotel/fr/comfort-les-maraichers.fr.html\n",
      "2024-10-14 15:19:57 [root] INFO: Scraping B&B HOTEL Colmar Expo at https://www.booking.com/hotel/fr/b-amp-b-colmar-expo.fr.html\n",
      "2024-10-14 15:19:58 [root] INFO: Scraping Ibis Styles Colmar Centre at https://www.booking.com/hotel/fr/all-seasons.fr.html\n",
      "2024-10-14 15:19:58 [root] INFO: Scraping Hotel L'Europe at https://www.booking.com/hotel/fr/l-europe.fr.html\n",
      "2024-10-14 15:19:58 [root] INFO: Scraping La Grange du Pape - Annexe de l'Hôtel La Ferme du Pape at https://www.booking.com/hotel/fr/ha-tel-restaurant-a-la-ville-de-nancy.fr.html\n",
      "2024-10-14 15:19:59 [root] INFO: Scraping Hotel Colmar Vignes Eguisheim at https://www.booking.com/hotel/fr/auberge-des-comtes.fr.html\n",
      "2024-10-14 15:20:00 [root] INFO: Scraping Auberge du Rempart at https://www.booking.com/hotel/fr/auberge-du-rempart.fr.html\n",
      "2024-10-14 15:20:01 [root] INFO: Scraping Hotel SPA Husseren Collections - Proche Colmar - Eguisheim at https://www.booking.com/hotel/fr/husseren-les-chateaux.fr.html\n",
      "2024-10-14 15:20:01 [root] INFO: Scraping Résidence Pierre & Vacances Le Clos d'Eguisheim at https://www.booking.com/hotel/fr/residence-pierre-et-vacances-le-clos-d-eguisheim.fr.html\n",
      "2024-10-14 15:20:02 [root] INFO: Scraping L'Hostellerie du Château at https://www.booking.com/hotel/fr/hostellerie-du-chateau-eguisheim.fr.html\n",
      "2024-10-14 15:20:03 [root] INFO: Scraping James Vignoble Hôtel, Eguisheim at https://www.booking.com/hotel/fr/james-vignoble-eguisheim.fr.html\n",
      "2024-10-14 15:20:04 [root] INFO: Scraping Hôtel L'Auberge Alsacienne at https://www.booking.com/hotel/fr/ha-tel-restaurant-l-auberge-alsacienne.fr.html\n",
      "2024-10-14 15:20:06 [root] INFO: Scraping The Originals Boutique, Hôtel La Ferme du Pape, Eguisheim at https://www.booking.com/hotel/fr/hostellerie-du-pape.fr.html\n",
      "2024-10-14 15:20:06 [root] INFO: Scraping Auberge des Trois Châteaux at https://www.booking.com/hotel/fr/auberge-des-trois-chac-teaux.fr.html\n",
      "2024-10-14 15:20:07 [root] INFO: Scraping Colmar Hotel at https://www.booking.com/hotel/fr/colmar.fr.html\n",
      "2024-10-14 15:20:07 [root] INFO: Scraping Hotel Restaurant Cristal at https://www.booking.com/hotel/fr/restaurant-cristal.fr.html\n",
      "2024-10-14 15:20:08 [root] INFO: Scraping Greet Hotel Colmar at https://www.booking.com/hotel/fr/comfort-les-maraichers.fr.html\n",
      "2024-10-14 15:20:09 [root] INFO: Scraping B&B HOTEL Colmar Vignobles Ouest at https://www.booking.com/hotel/fr/b-amp-b-colmar-wintzenheim2.fr.html\n",
      "2024-10-14 15:20:10 [root] INFO: Scraping Résidence Pierre & Vacances La Petite Venise at https://www.booking.com/hotel/fr/la-petite-venise.fr.html\n",
      "2024-10-14 15:20:10 [scrapy.extensions.logstats] INFO: Crawled 236 pages (at 80 pages/min), scraped 235 items (at 81 items/min)\n",
      "2024-10-14 15:20:11 [root] INFO: Scraping Les Portes de la Vallee at https://www.booking.com/hotel/fr/les-portes-de-la-vallee.fr.html\n",
      "2024-10-14 15:20:11 [root] INFO: Scraping Hôtel Restaurant Logis La Palette at https://www.booking.com/hotel/fr/la-palette.fr.html\n",
      "2024-10-14 15:20:12 [root] INFO: Scraping CHATEAU R at https://www.booking.com/hotel/fr/chateau-r.fr.html\n",
      "2024-10-14 15:20:13 [root] INFO: Scraping Grand Hôtel Bristol at https://www.booking.com/hotel/fr/grandhotelbristol.fr.html\n",
      "2024-10-14 15:20:14 [root] INFO: Scraping Résidence Les Rives de la Fecht - Colmar Ouest at https://www.booking.com/hotel/fr/za-c-nitude-ha-tel-ra-c-sidence-colmar-ingersheim.fr.html\n",
      "2024-10-14 15:20:14 [root] INFO: Scraping Hôtel Restaurant Spa Le Sauvage at https://www.booking.com/hotel/fr/ho-tel-le-sauvage-besanasson.fr.html\n",
      "2024-10-14 15:20:15 [root] INFO: Scraping Comfort Aparthotel Besancon La City at https://www.booking.com/hotel/fr/citea-besancon.fr.html\n",
      "2024-10-14 15:20:16 [root] INFO: Scraping ibis Besançon Centre la City at https://www.booking.com/hotel/fr/ibis-besancon-la-city.fr.html\n",
      "2024-10-14 15:20:16 [root] INFO: Scraping Logis Hôtel Victor Hugo & Spa at https://www.booking.com/hotel/fr/logis-de-france-florel.fr.html\n",
      "2024-10-14 15:20:17 [root] INFO: Scraping Hotel Restaurant Vesontio at https://www.booking.com/hotel/fr/hotel-restaurant-oxalys.fr.html\n",
      "2024-10-14 15:20:18 [root] INFO: Scraping Hôtel de Paris at https://www.booking.com/hotel/fr/de-paris-besanasson.fr.html\n",
      "2024-10-14 15:20:19 [root] INFO: Scraping ibis Styles Besançon at https://www.booking.com/hotel/fr/besancon.fr.html\n",
      "2024-10-14 15:20:20 [root] INFO: Scraping All Suites Besançon at https://www.booking.com/hotel/fr/all-suites-besancon.fr.html\n",
      "2024-10-14 15:20:21 [root] INFO: Scraping Best Western Citadelle at https://www.booking.com/hotel/fr/bestwesterncitadelle.fr.html\n",
      "2024-10-14 15:20:22 [root] INFO: Scraping ibis Besançon Centre Ville at https://www.booking.com/hotel/fr/ibis-besancon-centre-ville.fr.html\n",
      "2024-10-14 15:20:22 [root] INFO: Scraping Hotel Du Nord at https://www.booking.com/hotel/fr/du-nord-besancon.fr.html\n",
      "2024-10-14 15:20:23 [root] INFO: Scraping Hôtel Fontaine Argent - Centre Ville at https://www.booking.com/hotel/fr/fontaine-argent.fr.html\n",
      "2024-10-14 15:20:24 [root] INFO: Scraping Zenitude Hôtel-Résidences Les Hauts Du Chazal at https://www.booking.com/hotel/fr/residence-hauts-du-chazal.fr.html\n",
      "2024-10-14 15:20:25 [root] INFO: Scraping Contact Hôtel Foch at https://www.booking.com/hotel/fr/foch-besancon.fr.html\n",
      "2024-10-14 15:20:26 [root] INFO: Scraping Hotel Régina at https://www.booking.com/hotel/fr/le-regina-besancon.fr.html\n",
      "2024-10-14 15:20:26 [root] INFO: Scraping Hotel Vauban at https://www.booking.com/hotel/fr/vauban-besancon.fr.html\n",
      "2024-10-14 15:20:27 [root] INFO: Scraping Doubs Hotel - Besançon Ecole Valentin at https://www.booking.com/hotel/fr/besanconecolevalentin.fr.html\n",
      "2024-10-14 15:20:29 [root] INFO: Scraping B&B HOTEL Besançon Chateaufarine at https://www.booking.com/hotel/fr/b-amp-b-besancon.fr.html\n",
      "2024-10-14 15:20:29 [root] INFO: Scraping Premiere Classe Besancon Ecole Valentin at https://www.booking.com/hotel/fr/premiere-classe-besancon-ecole-valentin.fr.html\n",
      "2024-10-14 15:20:30 [root] INFO: Scraping Mercure Besancon Parc Micaud - Hotel & Bar at https://www.booking.com/hotel/fr/besancon-parc-micaud.fr.html\n",
      "2024-10-14 15:20:31 [root] INFO: Scraping Aparthotel Adagio Access Dijon République at https://www.booking.com/hotel/fr/aparthotel-adagio-access-dijon-republique.fr.html\n",
      "2024-10-14 15:20:31 [root] INFO: Scraping Nomad Hotel Dijon at https://www.booking.com/hotel/fr/nomad-dijon.fr.html\n",
      "2024-10-14 15:20:32 [root] INFO: Scraping Odalys City Dijon Les Cordeliers at https://www.booking.com/hotel/fr/appart-39-odalys-les-cordeliers.fr.html\n",
      "2024-10-14 15:20:33 [root] INFO: Scraping B&B HOTEL Dijon Centre at https://www.booking.com/hotel/fr/b-amp-b-dijon-centre.fr.html\n",
      "2024-10-14 15:20:34 [root] INFO: Scraping Holiday Inn Dijon Toison D'or, an IHG Hotel at https://www.booking.com/hotel/fr/holiday-inn-dijon.fr.html\n",
      "2024-10-14 15:20:35 [root] INFO: Scraping Kyriad Hotel Dijon Gare at https://www.booking.com/hotel/fr/kyriad-gare.fr.html\n",
      "2024-10-14 15:20:35 [root] INFO: Scraping Hôtel des Halles at https://www.booking.com/hotel/fr/hotel-des-halles-dijon.fr.html\n",
      "2024-10-14 15:20:36 [root] INFO: Scraping City Loft Apparthotel at https://www.booking.com/hotel/fr/city-loft.fr.html\n",
      "2024-10-14 15:20:37 [root] INFO: Scraping Hôtel République at https://www.booking.com/hotel/fr/republique-dijon.fr.html\n",
      "2024-10-14 15:20:38 [root] INFO: Scraping Mercure Dijon Centre Clemenceau at https://www.booking.com/hotel/fr/dijon-centre-clemenceau.fr.html\n",
      "2024-10-14 15:20:39 [root] INFO: Scraping Hôtel des Ducs at https://www.booking.com/hotel/fr/des-ducs-dijon.fr.html\n",
      "2024-10-14 15:20:39 [root] INFO: Scraping Hotel Victor Hugo at https://www.booking.com/hotel/fr/victor-hugo-dijon.fr.html\n",
      "2024-10-14 15:20:40 [root] INFO: Scraping Hotel Le Jacquemart at https://www.booking.com/hotel/fr/le-jacquemart.fr.html\n",
      "2024-10-14 15:20:41 [root] INFO: Scraping Vertigo Hotel, Dijon, a Member of Design Hotels at https://www.booking.com/hotel/fr/vertigo.fr.html\n",
      "2024-10-14 15:20:42 [root] INFO: Scraping Hôtel le Thurot at https://www.booking.com/hotel/fr/le-thurot-dijon.fr.html\n",
      "2024-10-14 15:20:42 [root] INFO: Scraping Residhome Dijon Cité Des Vignes at https://www.booking.com/hotel/fr/residhome-dijon-cite-des-vignes.fr.html\n",
      "2024-10-14 15:20:43 [root] INFO: Scraping Aloft Hotel Dijon By Marriott at https://www.booking.com/hotel/fr/aloft-dijon.fr.html\n",
      "2024-10-14 15:20:43 [root] INFO: Scraping Hôtel Wilson - Teritoria at https://www.booking.com/hotel/fr/wilson-dijon.fr.html\n",
      "2024-10-14 15:20:44 [root] INFO: Scraping Kyriad Dijon Est Mirande at https://www.booking.com/hotel/fr/kyriad-dijon-est-mirande.fr.html\n",
      "2024-10-14 15:20:45 [root] INFO: Scraping Apparteo Dijon at https://www.booking.com/hotel/fr/apparteo-dijon.fr.html\n",
      "2024-10-14 15:20:46 [root] INFO: Scraping ibis Annecy Centre Vieille Ville at https://www.booking.com/hotel/fr/ibis-annecy-centre-vieille-ville.fr.html\n",
      "2024-10-14 15:20:47 [root] INFO: Scraping Le Bel Abri at https://www.booking.com/hotel/fr/le-bel-abri-annecy-le-vieux.fr.html\n",
      "2024-10-14 15:20:48 [root] INFO: Scraping Hôtel du Palais de l'Isle at https://www.booking.com/hotel/fr/du-palais-de-l-isle-annecy.fr.html\n",
      "2024-10-14 15:20:48 [root] INFO: Scraping Atipik Hôtel at https://www.booking.com/hotel/fr/hotelalexandra.fr.html\n",
      "2024-10-14 15:20:49 [root] INFO: Scraping Les Trésoms Lake and Spa Resort at https://www.booking.com/hotel/fr/lestresomsannecy.fr.html\n",
      "2024-10-14 15:20:50 [root] INFO: Scraping Hôtel des Alpes at https://www.booking.com/hotel/fr/hotel-des-alpes.fr.html\n",
      "2024-10-14 15:20:50 [root] INFO: Scraping Hotel des Marquisats at https://www.booking.com/hotel/fr/des-marquisats.fr.html\n",
      "2024-10-14 15:20:51 [root] INFO: Scraping Hotel Les Terrasses at https://www.booking.com/hotel/fr/les-terrasses-annecy.fr.html\n",
      "2024-10-14 15:20:52 [root] INFO: Scraping Hôtel du Château at https://www.booking.com/hotel/fr/du-chateau-annecy.fr.html\n",
      "2024-10-14 15:20:52 [root] INFO: Scraping Hébé Hotel at https://www.booking.com/hotel/fr/alery.fr.html\n",
      "2024-10-14 15:20:53 [root] INFO: Scraping Le Boutik Hotel at https://www.booking.com/hotel/fr/le-boutik.fr.html\n",
      "2024-10-14 15:20:54 [root] INFO: Scraping Allobroges Park Hôtel at https://www.booking.com/hotel/fr/tiallobroges.fr.html\n",
      "2024-10-14 15:20:55 [root] INFO: Scraping Best Western Plus Hotel Carlton Annecy at https://www.booking.com/hotel/fr/bestwesterncarlton.fr.html\n",
      "2024-10-14 15:20:56 [root] INFO: Scraping Hôtel Les Muses at https://www.booking.com/hotel/fr/marina-bay-hotels.fr.html\n",
      "2024-10-14 15:20:56 [root] INFO: Scraping Hôtel Catalpa at https://www.booking.com/hotel/fr/au-faisan-dora-c.fr.html\n",
      "2024-10-14 15:20:57 [root] INFO: Scraping Le Pélican at https://www.booking.com/hotel/fr/le-pelican-annecy1.fr.html\n",
      "2024-10-14 15:20:58 [root] INFO: Scraping Hôtel du Nord at https://www.booking.com/hotel/fr/hoteldunordannecy.fr.html\n",
      "2024-10-14 15:20:59 [root] INFO: Scraping ibis Styles Annecy Centre Gare at https://www.booking.com/hotel/fr/comforthotelmandallaz.fr.html\n",
      "2024-10-14 15:21:00 [root] INFO: Scraping Apparthotel Privilodges Le Royal at https://www.booking.com/hotel/fr/le-royal.fr.html\n",
      "2024-10-14 15:21:01 [root] INFO: Scraping Hôtel Le Pré Carré at https://www.booking.com/hotel/fr/leprecarre.fr.html\n",
      "2024-10-14 15:21:01 [root] INFO: Scraping The Babel Community Hôtel - Grenoble Bastille at https://www.booking.com/hotel/fr/apt-paisible-en-centre-ville-parking-salle-de-sport-bar-en-rooftop.fr.html\n",
      "2024-10-14 15:21:02 [root] INFO: Scraping Park Hôtel Grenoble - MGallery at https://www.booking.com/hotel/fr/park-grenoble.fr.html\n",
      "2024-10-14 15:21:03 [root] INFO: Scraping RockyPop Grenoble Hotel at https://www.booking.com/hotel/fr/rockypop-grenoble.fr.html\n",
      "2024-10-14 15:21:03 [root] INFO: Scraping Le Grand Hôtel Grenoble, BW Premier Collection by Best Western at https://www.booking.com/hotel/fr/le-grand-grenoble-centre.fr.html\n",
      "2024-10-14 15:21:04 [root] INFO: Scraping Maison Barbillon Grenoble at https://www.booking.com/hotel/fr/maison-barbillon-grenoble.fr.html\n",
      "2024-10-14 15:21:04 [root] INFO: Scraping 1924 Hôtel at https://www.booking.com/hotel/fr/royal-grenoble.fr.html\n",
      "2024-10-14 15:21:05 [root] INFO: Scraping Appartéa Grenoble Alpexpo at https://www.booking.com/hotel/fr/adagio-access-grenoble.fr.html\n",
      "2024-10-14 15:21:05 [root] INFO: Scraping Séjours & Affaires Grenoble Marie Curie at https://www.booking.com/hotel/fr/grenoble-marie-curie.fr.html\n",
      "2024-10-14 15:21:06 [root] INFO: Scraping Residhotel Grenette at https://www.booking.com/hotel/fr/le-royal-grenoble.fr.html\n",
      "2024-10-14 15:21:07 [root] INFO: Scraping B&B HOTEL Grenoble Centre Alpexpo at https://www.booking.com/hotel/fr/b-amp-b-grenoble-centre-alpexpo.fr.html\n",
      "2024-10-14 15:21:07 [root] INFO: Scraping Hôtel Terminus at https://www.booking.com/hotel/fr/hotelterminus.fr.html\n",
      "2024-10-14 15:21:08 [root] INFO: Scraping Hotel Mercure Grenoble Centre Président at https://www.booking.com/hotel/fr/grand-mercure-grenoble-president.fr.html\n",
      "2024-10-14 15:21:09 [root] INFO: Scraping Hôtel d’Angleterre Grenoble Hyper-Centre at https://www.booking.com/hotel/fr/tiangleterre.fr.html\n",
      "2024-10-14 15:21:10 [root] INFO: Scraping Kyriad Grenoble Centre at https://www.booking.com/hotel/fr/qualityhotelgrenoble.fr.html\n",
      "2024-10-14 15:21:10 [scrapy.extensions.logstats] INFO: Crawled 315 pages (at 79 pages/min), scraped 314 items (at 79 items/min)\n",
      "2024-10-14 15:21:11 [root] INFO: Scraping Adagio Grenoble Centre at https://www.booking.com/hotel/fr/hipark.fr.html\n",
      "2024-10-14 15:21:11 [root] INFO: Scraping Residhotel Le Central'Gare at https://www.booking.com/hotel/fr/residhotel-le-central-gare.fr.html\n",
      "2024-10-14 15:21:13 [root] INFO: Scraping Hotel Europole at https://www.booking.com/hotel/fr/europole.fr.html\n",
      "2024-10-14 15:21:14 [root] INFO: Scraping Hôtel de l'Europe Grenoble hyper-centre at https://www.booking.com/hotel/fr/de-l-europe-grenoble.fr.html\n",
      "2024-10-14 15:21:14 [root] INFO: Scraping Okko Hotels Grenoble Jardin Hoche at https://www.booking.com/hotel/fr/okko-hotels-grenoble-jardin-hoche.fr.html\n",
      "2024-10-14 15:21:15 [root] INFO: Scraping Hôtel Charlemagne by Happyculture at https://www.booking.com/hotel/fr/hotelbestwesterncharlemagne.fr.html\n",
      "2024-10-14 15:21:16 [root] INFO: Scraping Première Classe Lyon Centre Gare Part Dieu at https://www.booking.com/hotel/fr/premiere-classe-lyon-centre-gare-part-dieu.fr.html\n",
      "2024-10-14 15:21:16 [root] INFO: Scraping Lyon Marriott Hotel Cité Internationale at https://www.booking.com/hotel/fr/marriott-lyon.fr.html\n",
      "2024-10-14 15:21:17 [root] INFO: Scraping Residence Montempo Lyon Cite Internationale at https://www.booking.com/hotel/fr/residence-hoteliere-temporim-cite-internationale.fr.html\n",
      "2024-10-14 15:21:18 [root] INFO: Scraping Hotel Saint Vincent at https://www.booking.com/hotel/fr/saint-vincent-lyon.fr.html\n",
      "2024-10-14 15:21:19 [root] INFO: Scraping Hôtel du Parc at https://www.booking.com/hotel/fr/du-parc-lyon.fr.html\n",
      "2024-10-14 15:21:20 [root] INFO: Scraping Hôtel Chromatics & Restaurant Hill Club by HappyCulture at https://www.booking.com/hotel/fr/perrache.fr.html\n",
      "2024-10-14 15:21:20 [root] INFO: Scraping Fourvière Hôtel at https://www.booking.com/hotel/fr/fourviere.fr.html\n",
      "2024-10-14 15:21:21 [root] INFO: Scraping ibis Lyon Gerland Musée des Confluences at https://www.booking.com/hotel/fr/ibis-lyon-gerland-7eme.fr.html\n",
      "2024-10-14 15:21:22 [root] INFO: Scraping Republik Hotel at https://www.booking.com/hotel/fr/republik.fr.html\n",
      "2024-10-14 15:21:23 [root] INFO: Scraping Hôtel Vaubecour at https://www.booking.com/hotel/fr/vaubecour.fr.html\n",
      "2024-10-14 15:21:23 [root] INFO: Scraping MiHotel Tour Rose at https://www.booking.com/hotel/fr/mihotel-tour-rose.fr.html\n",
      "2024-10-14 15:21:24 [root] INFO: Scraping Campanile Grenoble Centre Gare at https://www.booking.com/hotel/fr/campanile-grenoble-centre-gare.fr.html?label=gen173nr-1FCAsoTUISc3Vpc3NlLWV0LWJvcmRlYXV4SA1YBGhNiAEBmAENuAEKyAEF2AEB6AEB-AECiAIBqAIDuALDtbS4BsACAdICJDJiMmM5ZTBiLWM2YjYtNGVjMS1hYmZmLTNiOTFjNWI5YmU4MNgCBeACAQ&sid=6754120a4f934f3fa8bcd14008f65ca0\n",
      "2024-10-14 15:21:24 [root] INFO: Scraping Mercure Lyon Centre Plaza République at https://www.booking.com/hotel/fr/lyon-plaza-republique.fr.html\n",
      "2024-10-14 15:21:25 [root] INFO: Scraping Appart'City Classic Lyon Part Dieu Villette at https://www.booking.com/hotel/fr/appart-city-cap-affaires-lyon-partdieu.fr.html\n",
      "2024-10-14 15:21:26 [root] INFO: Scraping Citadines Presqu'île Lyon at https://www.booking.com/hotel/fr/citadines-aparthotel-lyon-presqu-ile.fr.html\n",
      "2024-10-14 15:21:27 [root] INFO: Scraping Ibis Styles Lyon Croix Rousse at https://www.booking.com/hotel/fr/hotel-lyon-croix-rousse-henon-futur-ibis-style.fr.html\n",
      "2024-10-14 15:21:27 [root] INFO: Scraping Hôtel Tête d'or at https://www.booking.com/hotel/fr/olympique.fr.html\n",
      "2024-10-14 15:21:28 [root] INFO: Scraping Appart'City Classic Lyon Part Dieu Garibaldi at https://www.booking.com/hotel/fr/appart-city-cap-affaires-lyon.fr.html\n",
      "2024-10-14 15:21:29 [root] INFO: Scraping Hotel des Celestins at https://www.booking.com/hotel/fr/des-celestins.fr.html\n",
      "2024-10-14 15:21:30 [root] INFO: Scraping Best Western Lyon Saint-Antoine at https://www.booking.com/hotel/fr/comfortsaintantoine.fr.html\n",
      "2024-10-14 15:21:30 [root] INFO: Scraping La Ferme Rose-Hôtel de Charme at https://www.booking.com/hotel/fr/la-ferme-rose.fr.html\n",
      "2024-10-14 15:21:31 [root] INFO: Scraping Auberge des Salles at https://www.booking.com/hotel/fr/auberge-des-salles.fr.html\n",
      "2024-10-14 15:21:32 [root] INFO: Scraping La Bastide du Calalou; BW Signature Collection at https://www.booking.com/hotel/fr/bastide-du-calalou.fr.html\n",
      "2024-10-14 15:21:33 [root] INFO: Scraping Le Chemin Neuf at https://www.booking.com/hotel/fr/le-chemin-neuf-greoux-les-bains.fr.html\n",
      "2024-10-14 15:21:33 [root] INFO: Scraping Auberge de Baudinard sur Verdon at https://www.booking.com/hotel/fr/auberge-de-baudinard.fr.html\n",
      "2024-10-14 15:21:34 [root] INFO: Scraping Gabrielle hôtel at https://www.booking.com/hotel/fr/logis-altitude-823.fr.html\n",
      "2024-10-14 15:21:35 [root] INFO: Scraping Le Vieux Château at https://www.booking.com/hotel/fr/du-vieux-chateau.fr.html\n",
      "2024-10-14 15:21:36 [root] INFO: Scraping Hôtel Spa L'Ermitage at https://www.booking.com/hotel/fr/ha-tel-l-ermitage.fr.html\n",
      "2024-10-14 15:21:37 [root] INFO: Scraping Château et Golf De Taulane at https://www.booking.com/hotel/fr/chateau-et-golf-de-taulane.fr.html\n",
      "2024-10-14 15:21:38 [root] INFO: Scraping Ma Petite Auberge at https://www.booking.com/hotel/fr/ma-petite-auberge.fr.html\n",
      "2024-10-14 15:21:38 [root] INFO: Scraping Résidence Odalys La Licorne de Haute Provence at https://www.booking.com/hotel/fr/la-licorne-de-haute-provence.fr.html\n",
      "2024-10-14 15:21:39 [root] INFO: Scraping Hotel du Levant at https://www.booking.com/hotel/fr/du-levant-castellane.fr.html\n",
      "2024-10-14 15:21:39 [root] INFO: Scraping Lou Paradou at https://www.booking.com/hotel/fr/hotellouparadou.fr.html\n",
      "2024-10-14 15:21:40 [root] INFO: Scraping Hotel Les Cavalets at https://www.booking.com/hotel/fr/les-cavalets.fr.html\n",
      "2024-10-14 15:21:41 [root] INFO: Scraping Hôtel La Bonne Auberge at https://www.booking.com/hotel/fr/ha-tel-la-bonne-etape.fr.html\n",
      "2024-10-14 15:21:42 [root] INFO: Scraping Nouvel Hôtel du Commerce at https://www.booking.com/hotel/fr/nouvel-du-commerce-castellane.fr.html\n",
      "2024-10-14 15:21:42 [root] INFO: Scraping Hôtel du Roc at https://www.booking.com/hotel/fr/ha-tel-du-roc.fr.html\n",
      "2024-10-14 15:21:43 [root] INFO: Scraping Hotel le Belvédère at https://www.booking.com/hotel/fr/le-belva-c-da-re.fr.html\n",
      "2024-10-14 15:21:44 [root] INFO: Scraping La Bastide du Paradou at https://www.booking.com/hotel/fr/la-bastide-du-paradou-moustiers-sainte-marie.fr.html\n",
      "2024-10-14 15:21:45 [root] INFO: Scraping Le Verdon at https://www.booking.com/hotel/fr/le-verdon.fr.html\n",
      "2024-10-14 15:21:46 [root] INFO: Scraping Hôtel Paradis at https://www.booking.com/hotel/fr/paradis.fr.html\n",
      "2024-10-14 15:21:47 [root] INFO: Scraping Hotel La Voile at https://www.booking.com/hotel/fr/hotel-la-voile-fr.fr.html\n",
      "2024-10-14 15:21:47 [root] INFO: Scraping Hôtel de la Plage - HDLP at https://www.booking.com/hotel/fr/de-la-plage-hdlp.fr.html\n",
      "2024-10-14 15:21:48 [root] INFO: Scraping Hotel Restaurant Bellevue at https://www.booking.com/hotel/fr/restaurant-bellevue.fr.html\n",
      "2024-10-14 15:21:49 [root] INFO: Scraping Hôtel Les Palmiers at https://www.booking.com/hotel/fr/les-palmiers-bormes-les-mimosas.fr.html\n",
      "2024-10-14 15:21:49 [root] INFO: Scraping Hostellerie du Cigalou - Teritoria at https://www.booking.com/hotel/fr/hostellerie-du-cigalou.fr.html\n",
      "2024-10-14 15:21:50 [root] INFO: Scraping Eden Rose Grand Hotel BW Premier Collection at https://www.booking.com/hotel/fr/eden-rose-grand-bw-premier-collection.fr.html\n",
      "2024-10-14 15:21:50 [root] INFO: Scraping Hotel Les Jardins de Bormes, sauna & jacuzzi at https://www.booking.com/hotel/fr/new-life.fr.html\n",
      "2024-10-14 15:21:51 [root] INFO: Scraping Le Mirage at https://www.booking.com/hotel/fr/le-domaine-du-mirage.fr.html\n",
      "2024-10-14 15:21:52 [root] INFO: Scraping Hôtel California at https://www.booking.com/hotel/fr/california-le-lavandou.fr.html\n",
      "2024-10-14 15:21:53 [root] INFO: Scraping Hotel Club Oustal Del Mar at https://www.booking.com/hotel/fr/oustal-del-mar.fr.html\n",
      "2024-10-14 15:21:53 [root] INFO: Scraping Hôtel La Petite Bohème at https://www.booking.com/hotel/fr/la-petite-boheme.fr.html\n",
      "2024-10-14 15:21:54 [root] INFO: Scraping Hotel L'Orangeraie at https://www.booking.com/hotel/fr/l-orangeraie-le-lavandou.fr.html\n",
      "2024-10-14 15:21:55 [root] INFO: Scraping Hotel La Bastide at https://www.booking.com/hotel/fr/la-bastide-le-lavandou.fr.html\n",
      "2024-10-14 15:21:55 [root] INFO: Scraping Anglade Hotel at https://www.booking.com/hotel/fr/anglade.fr.html\n",
      "2024-10-14 15:21:56 [root] INFO: Scraping Hôtel Le Rabelais at https://www.booking.com/hotel/fr/le-rabelais.fr.html\n",
      "2024-10-14 15:21:57 [root] INFO: Scraping Villa TerraMera Hôtel at https://www.booking.com/hotel/fr/villa-terramera-hotel.fr.html\n",
      "2024-10-14 15:21:58 [root] INFO: Scraping Hôtel Baptistin at https://www.booking.com/hotel/fr/baptistin.fr.html\n",
      "2024-10-14 15:21:59 [root] INFO: Scraping Hôtel Beau Rivage at https://www.booking.com/hotel/fr/beau-rivage-le-lavandou.fr.html\n",
      "2024-10-14 15:21:59 [root] INFO: Scraping Hotel Le Grand Pavois at https://www.booking.com/hotel/fr/le-grand-pavois-le-lavandou.fr.html\n",
      "2024-10-14 15:22:00 [root] INFO: Scraping LE CLOS DES ARÔMES at https://www.booking.com/hotel/fr/le-clos-des-aromes-cassis.fr.html\n",
      "2024-10-14 15:22:01 [root] INFO: Scraping Best Western Hotel & SPA Coeur De Cassis at https://www.booking.com/hotel/fr/du-grand-jardin.fr.html\n",
      "2024-10-14 15:22:02 [root] INFO: Scraping Hotel Le Golfe at https://www.booking.com/hotel/fr/le-golfe-cassis.fr.html\n",
      "2024-10-14 15:22:02 [root] INFO: Scraping The Originals Boutique, Hôtel Cassitel, Cassis at https://www.booking.com/hotel/fr/interhotel-cassitel.fr.html\n",
      "2024-10-14 15:22:03 [root] INFO: Scraping HOTEL DES CALANQUES at https://www.booking.com/hotel/fr/des-calanques.fr.html\n",
      "2024-10-14 15:22:04 [root] INFO: Scraping Best Western Plus Hôtel la Rade at https://www.booking.com/hotel/fr/la-rade-cassis.fr.html\n",
      "2024-10-14 15:22:04 [root] INFO: Scraping HPC Suites - Parking Gratuit & Piscine Chauffée at https://www.booking.com/hotel/fr/hpc-suites.fr.html\n",
      "2024-10-14 15:22:05 [root] INFO: Scraping Les Jardins de Cassis at https://www.booking.com/hotel/fr/les-jardins-de-cassis.fr.html\n",
      "2024-10-14 15:22:06 [root] INFO: Scraping Royal Cottage at https://www.booking.com/hotel/fr/royal-cottage.fr.html\n",
      "2024-10-14 15:22:07 [root] INFO: Scraping Hôtel Eden Cassis at https://www.booking.com/hotel/fr/ha-tel-de-france-maguy.fr.html\n",
      "2024-10-14 15:22:07 [root] INFO: Scraping Hotel Liautaud at https://www.booking.com/hotel/fr/liautaud.fr.html\n",
      "2024-10-14 15:22:08 [root] INFO: Scraping Hotel de La Plage - Mahogany at https://www.booking.com/hotel/fr/de-la-plage-cassis.fr.html\n",
      "2024-10-14 15:22:08 [root] INFO: Scraping HôTEL LES VOLETS ROUGES - CASSIS at https://www.booking.com/hotel/fr/du-joli-bois-cassis.fr.html\n",
      "2024-10-14 15:22:09 [root] INFO: Scraping Hôtel Les Roches Blanches Cassis at https://www.booking.com/hotel/fr/des-roches-blanches.fr.html\n",
      "2024-10-14 15:22:09 [root] INFO: Scraping Le Jardin d'Emile at https://www.booking.com/hotel/fr/le-jardin-d-emile.fr.html\n",
      "2024-10-14 15:22:10 [scrapy.extensions.logstats] INFO: Crawled 397 pages (at 82 pages/min), scraped 395 items (at 81 items/min)\n",
      "2024-10-14 15:22:10 [root] INFO: Scraping Résidence Odalys Shangri-la at https://www.booking.com/hotel/fr/odalys-residence-shangri-la.fr.html\n",
      "2024-10-14 15:22:11 [root] INFO: Scraping Résidence Pierre et Vacances Cap Cassis Calanques at https://www.booking.com/hotel/fr/residence-pierre-et-vacances-cap-cassis-calanques.fr.html\n",
      "2024-10-14 15:22:12 [root] INFO: Scraping Kyriad Direct Marseille Est La Valentine at https://www.booking.com/hotel/fr/campanile-marseille-la-penne-aubagne.fr.html\n",
      "2024-10-14 15:22:12 [root] INFO: Scraping Moxy La Ciotat at https://www.booking.com/hotel/fr/moxy-la-ciotat.fr.html\n",
      "2024-10-14 15:22:13 [root] INFO: Scraping Hôtel La Croix de Malte at https://www.booking.com/hotel/fr/ha-tel-la-croix-de-malte.fr.html\n",
      "2024-10-14 15:22:14 [root] INFO: Scraping Hôtel Hermès at https://www.booking.com/hotel/fr/hermes.fr.html\n",
      "2024-10-14 15:22:14 [root] INFO: Scraping Appart'City Classic Marseille Euromed at https://www.booking.com/hotel/fr/appart-city-marseille-euromed.fr.html\n",
      "2024-10-14 15:22:15 [root] INFO: Scraping B&B HOTEL Marseille Prado Vélodrome at https://www.booking.com/hotel/fr/b-amp-b-marseille-velodrome-prado.fr.html\n",
      "2024-10-14 15:22:16 [root] INFO: Scraping PARADISE Earth & Sea at https://www.booking.com/hotel/fr/paradise-eart-amp-sea.fr.html\n",
      "2024-10-14 15:22:17 [root] INFO: Scraping B&B HOTEL Marseille Prado Parc des Expositions at https://www.booking.com/hotel/fr/ibis-marseille-prado-velodrome.fr.html\n",
      "2024-10-14 15:22:17 [root] INFO: Scraping Hôtel Carré Vieux Port at https://www.booking.com/hotel/fr/hotelkyrivieuxmarseille.fr.html\n",
      "2024-10-14 15:22:18 [root] INFO: Scraping Hôtel Life Marseille VP - Vieux Port at https://www.booking.com/hotel/fr/alize.fr.html\n",
      "2024-10-14 15:22:19 [root] INFO: Scraping Staycity Aparthotels Marseille Centre Vieux Port at https://www.booking.com/hotel/fr/staycity-aparthotels-centre-vieux-port.fr.html\n",
      "2024-10-14 15:22:20 [root] INFO: Scraping ibis budget Marseille Vieux Port at https://www.booking.com/hotel/fr/etap-marseille-vieux-port.fr.html\n",
      "2024-10-14 15:22:21 [root] INFO: Scraping LES TOITS DU VIEUX-PORT at https://www.booking.com/hotel/fr/les-toits-du-vieux-port.fr.html\n",
      "2024-10-14 15:22:22 [root] INFO: Scraping B&B HOTEL Marseille Euromed at https://www.booking.com/hotel/fr/b-amp-b-marseille-euromed.fr.html\n",
      "2024-10-14 15:22:22 [root] INFO: Scraping Résidence Provence at https://www.booking.com/hotel/fr/residence-provence.fr.html\n",
      "2024-10-14 15:22:23 [root] INFO: Scraping B&B HOTEL Marseille Centre La Timone at https://www.booking.com/hotel/fr/all-seasons-marseilletimone.fr.html\n",
      "2024-10-14 15:22:24 [root] INFO: Scraping Montempô Apparthôtel Marseille Centre Euromed at https://www.booking.com/hotel/fr/marseille-centre-euromed-marseille.fr.html\n",
      "2024-10-14 15:22:24 [root] INFO: Scraping 12 at https://www.booking.com/hotel/fr/12-marseille.fr.html\n",
      "2024-10-14 15:22:25 [root] INFO: Scraping Toyoko INN Marseille Saint Charles at https://www.booking.com/hotel/fr/toyoko-inn-marseille-saint-charles.fr.html\n",
      "2024-10-14 15:22:26 [root] INFO: Scraping Residhotel Le Grand Prado at https://www.booking.com/hotel/fr/le-grand-prado-marseille.fr.html\n",
      "2024-10-14 15:22:26 [root] INFO: Scraping Montempô Marseille Centre Dôme at https://www.booking.com/hotel/fr/montempo-marseille-centre.fr.html\n",
      "2024-10-14 15:22:27 [root] INFO: Scraping New Hotel Le Quai - Vieux Port at https://www.booking.com/hotel/fr/vieuxport.fr.html\n",
      "2024-10-14 15:22:28 [root] INFO: Scraping New Hotel of Marseille - Vieux Port at https://www.booking.com/hotel/fr/new-of-marseille-le-pharo.fr.html\n",
      "2024-10-14 15:22:29 [root] INFO: Scraping Séjours & Affaires Aix-en-Provence Mirabeau at https://www.booking.com/hotel/fr/residence-mirabeau.fr.html\n",
      "2024-10-14 15:22:29 [root] INFO: Scraping Hotel Cardinal at https://www.booking.com/hotel/fr/cardinal.fr.html\n",
      "2024-10-14 15:22:30 [root] INFO: Scraping Hôtel des Augustins at https://www.booking.com/hotel/fr/les-augustins.fr.html\n",
      "2024-10-14 15:22:30 [root] INFO: Scraping Les Quatre Dauphins at https://www.booking.com/hotel/fr/les-quatre-dauphins.fr.html\n",
      "2024-10-14 15:22:32 [root] INFO: Scraping Domaine Gaogaia at https://www.booking.com/hotel/fr/domaine-and-cie.fr.html\n",
      "2024-10-14 15:22:32 [root] INFO: Scraping The Originals Résidence Aix Schuman at https://www.booking.com/hotel/fr/the-originals-residence-aix-schuman.fr.html\n",
      "2024-10-14 15:22:33 [root] INFO: Scraping Hôtel Paul at https://www.booking.com/hotel/fr/paul.fr.html\n",
      "2024-10-14 15:22:34 [root] INFO: Scraping Hôtel Cézanne Boutique-Hôtel at https://www.booking.com/hotel/fr/cezanne-aix-en-provence.fr.html\n",
      "2024-10-14 15:22:35 [root] INFO: Scraping Aquabella Hôtel & Spa at https://www.booking.com/hotel/fr/hotel-aquabella.fr.html\n",
      "2024-10-14 15:22:35 [root] INFO: Scraping La Caravelle at https://www.booking.com/hotel/fr/la-caravelle-aix-en-provence.fr.html\n",
      "2024-10-14 15:22:36 [root] INFO: Scraping Hôtel des ARTS Aix at https://www.booking.com/hotel/fr/des-arts-aix.fr.html\n",
      "2024-10-14 15:22:37 [root] INFO: Scraping Le Concorde at https://www.booking.com/hotel/fr/le-concorde-sarl-aix-en-provence.fr.html\n",
      "2024-10-14 15:22:38 [root] INFO: Scraping Hôtel Le Mozart at https://www.booking.com/hotel/fr/le-mozart.fr.html\n",
      "2024-10-14 15:22:38 [root] INFO: Scraping thecamp Hôtel & Lodges - Aix en Provence at https://www.booking.com/hotel/fr/thecamp-amp-lodges.fr.html\n",
      "2024-10-14 15:22:39 [root] INFO: Scraping Best Western Le Galice Centre Ville at https://www.booking.com/hotel/fr/best-western-le-galice.fr.html\n",
      "2024-10-14 15:22:40 [root] INFO: Scraping Hôtel Escaletto at https://www.booking.com/hotel/fr/hotel-escaletto.fr.html\n",
      "2024-10-14 15:22:41 [root] INFO: Scraping Adonis Aix en Provence at https://www.booking.com/hotel/fr/adonis-aix.fr.html\n",
      "2024-10-14 15:22:41 [root] INFO: Scraping Odalys City Aix en Provence Les Floridianes at https://www.booking.com/hotel/fr/les-floridianes.fr.html\n",
      "2024-10-14 15:22:42 [root] INFO: Scraping Hôtel Vendôme at https://www.booking.com/hotel/fr/ha-tel-vendome.fr.html\n",
      "2024-10-14 15:22:43 [root] INFO: Scraping HOTEL RESTAURANT OLYMPE at https://www.booking.com/hotel/fr/restaurant-olympe.fr.html\n",
      "2024-10-14 15:22:44 [root] INFO: Scraping ApartHotel Sainte-Marthe at https://www.booking.com/hotel/fr/ra-c-sidence-sainte-marthe.fr.html\n",
      "2024-10-14 15:22:44 [root] INFO: Scraping Le Magnan at https://www.booking.com/hotel/fr/hotellemagnan.fr.html\n",
      "2024-10-14 15:22:45 [root] INFO: Scraping Hotel de l'île at https://www.booking.com/hotel/fr/de-l-ile-avignon.fr.html\n",
      "2024-10-14 15:22:46 [root] INFO: Scraping Kyriad Avignon - Palais des Papes at https://www.booking.com/hotel/fr/kyriad-avignon-palais-des-papes-xml.fr.html\n",
      "2024-10-14 15:22:46 [root] INFO: Scraping ibis budget Avignon Centre at https://www.booking.com/hotel/fr/ibis-budget-avignon-centre.fr.html\n",
      "2024-10-14 15:22:47 [root] INFO: Scraping Avignon Grand Hotel at https://www.booking.com/hotel/fr/avignongrandhotel.fr.html\n",
      "2024-10-14 15:22:48 [root] INFO: Scraping Hotel d'Angleterre at https://www.booking.com/hotel/fr/d-angleterre-avignon.fr.html\n",
      "2024-10-14 15:22:49 [root] INFO: Scraping Hôtel Les Corps Saints at https://www.booking.com/hotel/fr/splendid-avignon.fr.html\n",
      "2024-10-14 15:22:50 [root] INFO: Scraping Hôtel Le Médiéval Palais des Papes at https://www.booking.com/hotel/fr/le-medieval-avignon.fr.html\n",
      "2024-10-14 15:22:51 [root] INFO: Scraping Hôtel Central at https://www.booking.com/hotel/fr/central-avignon.fr.html\n",
      "2024-10-14 15:22:51 [root] INFO: Scraping Résidence Services Oh Activ Avignon at https://www.booking.com/hotel/fr/oh-activ-avignon.fr.html\n",
      "2024-10-14 15:22:53 [root] INFO: Scraping Résidence Les Cordeliers at https://www.booking.com/hotel/fr/residence-les-cordeliers.fr.html\n",
      "2024-10-14 15:22:53 [root] INFO: Scraping Régina Boutique Hotel at https://www.booking.com/hotel/fr/hotelreginaavignon.fr.html\n",
      "2024-10-14 15:22:54 [root] INFO: Scraping Garlande Hôtel Avignon Centre at https://www.booking.com/hotel/fr/de-garlande.fr.html\n",
      "2024-10-14 15:22:54 [root] INFO: Scraping City Résidence Avignon at https://www.booking.com/hotel/fr/residence-5-epi.fr.html\n",
      "2024-10-14 15:22:55 [root] INFO: Scraping Hotel Alizéa at https://www.booking.com/hotel/fr/hotel-alizea.fr.html\n",
      "2024-10-14 15:22:56 [root] INFO: Scraping Hotel Boquier at https://www.booking.com/hotel/fr/boquier.fr.html\n",
      "2024-10-14 15:22:57 [root] INFO: Scraping Au Saint Roch - Hôtel et Jardin at https://www.booking.com/hotel/fr/au-saint-roch-et-jardin.fr.html\n",
      "2024-10-14 15:22:58 [root] INFO: Scraping Hotel De Cambis at https://www.booking.com/hotel/fr/de-cambis-bw-premier-collection.fr.html\n",
      "2024-10-14 15:22:59 [root] INFO: Scraping Altera Roma Hôtel at https://www.booking.com/hotel/fr/avignon-monclar.fr.html\n",
      "2024-10-14 15:22:59 [root] INFO: Scraping La Taverne at https://www.booking.com/hotel/fr/la-taverne.fr.html\n",
      "2024-10-14 15:23:00 [root] INFO: Scraping Boutique Hôtel Entraigues at https://www.booking.com/hotel/fr/entraigues-uzes2.fr.html\n",
      "2024-10-14 15:23:01 [root] INFO: Scraping Hôtel Le Saint-Geniès at https://www.booking.com/hotel/fr/le-saint-genies.fr.html\n",
      "2024-10-14 15:23:02 [root] INFO: Scraping Domaine de Privadière at https://www.booking.com/hotel/fr/domaine-de-privadiere.fr.html\n",
      "2024-10-14 15:23:03 [root] INFO: Scraping Logis Hotel Restaurant Uzès Pont du Gard at https://www.booking.com/hotel/fr/uzes.fr.html\n",
      "2024-10-14 15:23:03 [root] INFO: Scraping Patio De Violette at https://www.booking.com/hotel/fr/patio-de-violette.fr.html\n",
      "2024-10-14 15:23:04 [root] INFO: Scraping Hostellerie Provençale at https://www.booking.com/hotel/fr/hostellerie-provencale.fr.html\n",
      "2024-10-14 15:23:05 [root] INFO: Scraping UZES APPART HOTEL Résidence Le Mas des Oliviers at https://www.booking.com/hotel/fr/le-mas-des-oliviers-ulv.fr.html\n",
      "2024-10-14 15:23:06 [root] INFO: Scraping La Maison d'Uzès Relais & Châteaux at https://www.booking.com/hotel/fr/la-maison-d-uza-s.fr.html\n",
      "2024-10-14 15:23:06 [root] INFO: Scraping Secret d'Uzès - Le Duché - Mazet avec piscine chauffée at https://www.booking.com/hotel/fr/secret-d-uzes-le-duche-uzes.fr.html\n",
      "2024-10-14 15:23:07 [root] INFO: Scraping DOMITYS REGALECIA at https://www.booking.com/hotel/fr/domitys-regalecia.fr.html\n",
      "2024-10-14 15:23:08 [root] INFO: Scraping Secret d'Uzès - Place aux Herbes - Mazet avec piscine chauffée at https://www.booking.com/hotel/fr/secret-d-uzes-place-aux-herbes-uzes.fr.html\n",
      "2024-10-14 15:23:08 [root] INFO: Scraping Secret d'Uzès - Le Loft - Avec piscine chauffée at https://www.booking.com/hotel/fr/secret-d-uzes-le-loft-uzes.fr.html\n",
      "2024-10-14 15:23:09 [root] INFO: Scraping Hotel Restaurant Le Clos De Pradines at https://www.booking.com/hotel/fr/clos-des-pradines.fr.html\n",
      "2024-10-14 15:23:10 [root] INFO: Scraping Château d'Arpaillargues - TERITORIA at https://www.booking.com/hotel/fr/chac-teau-d-arpaillargues.fr.html\n",
      "2024-10-14 15:23:10 [scrapy.extensions.logstats] INFO: Crawled 476 pages (at 79 pages/min), scraped 475 items (at 80 items/min)\n",
      "2024-10-14 15:23:11 [root] INFO: Scraping Château de Collias at https://www.booking.com/hotel/fr/chateau-de-collias.fr.html\n",
      "2024-10-14 15:23:11 [root] INFO: Scraping Hotel Restaurant Le Gardon - Pont du Gard at https://www.booking.com/hotel/fr/logis-de-france-le-gardon.fr.html\n",
      "2024-10-14 15:23:12 [root] INFO: Scraping Le Castellas Hotel & SPA - TERITORIA at https://www.booking.com/hotel/fr/castellascollias.fr.html\n",
      "2024-10-14 15:23:12 [root] INFO: Scraping Residhotel Résidence Pont du Gard at https://www.booking.com/hotel/fr/residence-club-mmv-pont-du-gard.fr.html\n",
      "2024-10-14 15:23:12 [root] INFO: Scraping La Bégude Saint-Pierre at https://www.booking.com/hotel/fr/la-ba-c-gude-lt-st-pierre.fr.html\n",
      "2024-10-14 15:23:13 [root] INFO: Scraping B&B HOTEL Nîmes Centre Arènes at https://www.booking.com/hotel/fr/b-amp-b-nimes-centre-ville.fr.html\n",
      "2024-10-14 15:23:14 [root] INFO: Scraping SQUARE HOTEL at https://www.booking.com/hotel/fr/square-nimes.fr.html\n",
      "2024-10-14 15:23:15 [root] INFO: Scraping Odalys City Nîmes Arènes at https://www.booking.com/hotel/fr/odalys-city-nimes-arenes.fr.html\n",
      "2024-10-14 15:23:16 [root] INFO: Scraping Appart'City Collection Nîmes Arènes at https://www.booking.com/hotel/fr/appart-39-city-nimes.fr.html\n",
      "2024-10-14 15:23:17 [root] INFO: Scraping Royal Hôtel at https://www.booking.com/hotel/fr/royal.fr.html\n",
      "2024-10-14 15:23:17 [root] INFO: Scraping Domitys Sophia at https://www.booking.com/hotel/fr/domitys-sophia.fr.html\n",
      "2024-10-14 15:23:18 [root] INFO: Scraping Hotel Majestic at https://www.booking.com/hotel/fr/majestic-nimes.fr.html\n",
      "2024-10-14 15:23:19 [root] INFO: Scraping Campanile Nîmes Centre Mas-Carbonnel at https://www.booking.com/hotel/fr/campanile-nimes-centre-mas-carbonnel.fr.html\n",
      "2024-10-14 15:23:20 [root] INFO: Scraping Hôtel Abalone - Centre Gare at https://www.booking.com/hotel/fr/hotelterminusaudrans.fr.html\n",
      "2024-10-14 15:23:21 [root] INFO: Scraping Maison Albar Hotels L’Imperator at https://www.booking.com/hotel/fr/imperator-nimes.fr.html\n",
      "2024-10-14 15:23:21 [root] INFO: Scraping ibis budget Nimes Centre Gare at https://www.booking.com/hotel/fr/ibis-budget-nimes-centre-gare.fr.html\n",
      "2024-10-14 15:23:22 [root] INFO: Scraping Hôtel Le Pré Galoffre at https://www.booking.com/hotel/fr/lepregaloffrenimes.fr.html\n",
      "2024-10-14 15:23:23 [root] INFO: Scraping Best Western Marquis de la Baume at https://www.booking.com/hotel/fr/ha-tel-la-baume.fr.html\n",
      "2024-10-14 15:23:24 [root] INFO: Scraping Hôtel De L'Amphithéâtre at https://www.booking.com/hotel/fr/de-l-amphitheatre-nimes.fr.html\n",
      "2024-10-14 15:23:24 [root] INFO: Scraping Central Hotel at https://www.booking.com/hotel/fr/central-nimes.fr.html\n",
      "2024-10-14 15:23:25 [root] INFO: Scraping Logis NIMOTEL Hôtel Cosy at https://www.booking.com/hotel/fr/nimotel.fr.html\n",
      "2024-10-14 15:23:26 [root] INFO: Scraping ibis Styles Nimes Gare Centre at https://www.booking.com/hotel/fr/ibis-styles-nimes-centre-gare.fr.html\n",
      "2024-10-14 15:23:27 [root] INFO: Scraping Hotel Cote Patio at https://www.booking.com/hotel/fr/hotelcotepatio.fr.html\n",
      "2024-10-14 15:23:27 [root] INFO: Scraping Appart'City Classic Nîmes at https://www.booking.com/hotel/fr/appart-city-nimes.fr.html\n",
      "2024-10-14 15:23:28 [root] INFO: Scraping hotelF1 Nîmes Ouest at https://www.booking.com/hotel/fr/hotelf1-nimes-ouest.fr.html\n",
      "2024-10-14 15:23:29 [root] INFO: Scraping Hotel Canal Aigues Mortes at https://www.booking.com/hotel/fr/canal-aigues-mortes.fr.html\n",
      "2024-10-14 15:23:30 [root] INFO: Scraping La Villa Mazarin at https://www.booking.com/hotel/fr/la-villa-mazarin.fr.html\n",
      "2024-10-14 15:23:30 [root] INFO: Scraping Noemys Aigues-Mortes - Hotel avec piscine at https://www.booking.com/hotel/fr/le-royal-hotel-aigues-mortes.fr.html\n",
      "2024-10-14 15:23:31 [root] INFO: Scraping La Maison de Lyna at https://www.booking.com/hotel/fr/la-maison-de-lyna.fr.html\n",
      "2024-10-14 15:23:32 [root] INFO: Scraping Hôtel Le Médiéval at https://www.booking.com/hotel/fr/le-medieval.fr.html\n",
      "2024-10-14 15:23:33 [root] INFO: Scraping Hôtel Saint Louis at https://www.booking.com/hotel/fr/saint-louis-aigues-mortes.fr.html\n",
      "2024-10-14 15:23:34 [root] INFO: Scraping Maison des Croisades at https://www.booking.com/hotel/fr/des-croisades.fr.html\n",
      "2024-10-14 15:23:34 [root] INFO: Scraping Résidence Odalys Le Mas des Flamants at https://www.booking.com/hotel/fr/residence-le-mas-des-flamants.fr.html\n",
      "2024-10-14 15:23:35 [root] INFO: Scraping Hôtel-Restaurant \"Chez Carrière\" at https://www.booking.com/hotel/fr/restaurant-quot-chez-carriere-quot.fr.html\n",
      "2024-10-14 15:23:36 [root] INFO: Scraping Hotel Des 4 Vents \"Esprit Camargue\" at https://www.booking.com/hotel/fr/des-4-vents.fr.html\n",
      "2024-10-14 15:23:36 [root] INFO: Scraping Boutique Hôtel des Remparts & Spa at https://www.booking.com/hotel/fr/les-remparts-aigues-mortes.fr.html\n",
      "2024-10-14 15:23:37 [root] INFO: Scraping Hotel Les Templiers at https://www.booking.com/hotel/fr/les-templiers.fr.html\n",
      "2024-10-14 15:23:37 [root] INFO: Scraping Le Mas Des Sables at https://www.booking.com/hotel/fr/le-mas-des-sables-aigues-mortes.fr.html\n",
      "2024-10-14 15:23:38 [root] INFO: Scraping Résidence Marie-Thérèse at https://www.booking.com/hotel/fr/marie-therese-le-grau-du-roi.fr.html\n",
      "2024-10-14 15:23:39 [root] INFO: Scraping Residence Residéal La Grande Motte at https://www.booking.com/hotel/fr/residence-resideal-la-grande-motte.fr.html\n",
      "2024-10-14 15:23:40 [root] INFO: Scraping MY Hôtel Résidences - La Grande-Motte at https://www.booking.com/hotel/fr/my-residences.fr.html\n",
      "2024-10-14 15:23:40 [root] INFO: Scraping GOLF HOTEL at https://www.booking.com/hotel/fr/golf-la-grande-motte.fr.html\n",
      "2024-10-14 15:23:41 [root] INFO: Scraping Hôtel Café Miramar at https://www.booking.com/hotel/fr/ha-tel-miramar.fr.html\n",
      "2024-10-14 15:23:42 [root] INFO: Scraping Le Prose Hôtel at https://www.booking.com/hotel/fr/mediterranee-la-grande-motte.fr.html\n",
      "2024-10-14 15:23:42 [root] INFO: Scraping Residence Residhotel Mayflower at https://www.booking.com/hotel/fr/residhotel-mayflower.fr.html\n",
      "2024-10-14 15:23:43 [root] INFO: Scraping Hôtel Casa Marina at https://www.booking.com/hotel/fr/casa-marina-saintes-maries-de-la-mer.fr.html\n",
      "2024-10-14 15:23:44 [root] INFO: Scraping Hotel Les Palmiers En Camargue at https://www.booking.com/hotel/fr/les-palmiers-en-camargue.fr.html\n",
      "2024-10-14 15:23:44 [root] INFO: Scraping Hotel Le Bleu Marine at https://www.booking.com/hotel/fr/le-bleu-marine.fr.html\n",
      "2024-10-14 15:23:45 [root] INFO: Scraping Abrivado at https://www.booking.com/hotel/fr/abrivado.fr.html\n",
      "2024-10-14 15:23:46 [root] INFO: Scraping Thalacap Camargue at https://www.booking.com/hotel/fr/thalacap-camargue.fr.html\n",
      "2024-10-14 15:23:46 [root] INFO: Scraping Hotel Camille at https://www.booking.com/hotel/fr/camille.fr.html\n",
      "2024-10-14 15:23:47 [root] INFO: Scraping Hôtel Le Mirage at https://www.booking.com/hotel/fr/ha-tel-le-mirage.fr.html\n",
      "2024-10-14 15:23:48 [root] INFO: Scraping Hotel Le Méditérranée at https://www.booking.com/hotel/fr/le-mediterranee-saintes-maries-de-la-mer.fr.html\n",
      "2024-10-14 15:23:49 [root] INFO: Scraping Hôtel du Pont Blanc at https://www.booking.com/hotel/fr/hotellerie-du-pont-blanc.fr.html\n",
      "2024-10-14 15:23:49 [root] INFO: Scraping Le Maset en Camargue at https://www.booking.com/hotel/fr/mazet-de-la-grenouilla-re.fr.html\n",
      "2024-10-14 15:23:50 [root] INFO: Scraping Le Fangassier at https://www.booking.com/hotel/fr/le-fangassier.fr.html\n",
      "2024-10-14 15:23:50 [root] INFO: Scraping Le Castelet at https://www.booking.com/hotel/fr/le-castelet-les-saintes-maries-de-la-mer.fr.html\n",
      "2024-10-14 15:23:51 [root] INFO: Scraping Mas Des Salicornes at https://www.booking.com/hotel/fr/mas-des-salicornes.fr.html\n",
      "2024-10-14 15:23:52 [root] INFO: Scraping Les Bains Gardians at https://www.booking.com/hotel/fr/auberge-cavaliere-saintes-maries-de-la-mer.fr.html\n",
      "2024-10-14 15:23:52 [root] INFO: Scraping Hôtel Les Arcades at https://www.booking.com/hotel/fr/ha-tel-les-arcades.fr.html\n",
      "2024-10-14 15:23:53 [root] INFO: Scraping Le Dauphin Bleu at https://www.booking.com/hotel/fr/le-dauphin-bleu.fr.html\n",
      "2024-10-14 15:23:54 [root] INFO: Scraping Les Rizières at https://www.booking.com/hotel/fr/les-rizieres.fr.html\n",
      "2024-10-14 15:23:54 [root] INFO: Scraping Hotel Lou Marquès at https://www.booking.com/hotel/fr/lou-marques.fr.html\n",
      "2024-10-14 15:23:55 [root] INFO: Scraping Hôtel La Palunette at https://www.booking.com/hotel/fr/la-palunette.fr.html\n",
      "2024-10-14 15:23:56 [root] INFO: Scraping La Tramontane at https://www.booking.com/hotel/fr/la-tramontane.fr.html\n",
      "2024-10-14 15:23:57 [root] INFO: Scraping Le Madeloc Hôtel & Spa at https://www.booking.com/hotel/fr/madeloc.fr.html\n",
      "2024-10-14 15:23:57 [root] INFO: Scraping Le Mas des Citronniers at https://www.booking.com/hotel/fr/lesmasdescitronniers.fr.html\n",
      "2024-10-14 15:23:58 [root] INFO: Scraping Residence Pierre & Vacances Les Balcons de Collioure at https://www.booking.com/hotel/fr/maevabalconsdecollioure.fr.html\n",
      "2024-10-14 15:23:59 [root] INFO: Scraping Les Roches Brunes at https://www.booking.com/hotel/fr/les-roches-brunes-collioure.fr.html\n",
      "2024-10-14 15:24:00 [root] INFO: Scraping Hotel Méditerranée at https://www.booking.com/hotel/fr/mediterranee-collioure.fr.html\n",
      "2024-10-14 15:24:01 [root] INFO: Scraping Hôtel la Bona Casa at https://www.booking.com/hotel/fr/la-bona-casa.fr.html\n",
      "2024-10-14 15:24:01 [root] INFO: Scraping Hôtel Princes de Catalogne at https://www.booking.com/hotel/fr/princes-de-catalogne.fr.html\n",
      "2024-10-14 15:24:02 [root] INFO: Scraping Hôtel La Casa Pairal at https://www.booking.com/hotel/fr/hotelcasapairal.fr.html\n",
      "2024-10-14 15:24:02 [root] INFO: Scraping Hôtel Triton at https://www.booking.com/hotel/fr/triton.fr.html\n",
      "2024-10-14 15:24:04 [root] INFO: Scraping Grand Hotel Du Golfe - Spa & Restaurant at https://www.booking.com/hotel/fr/grand-du-golfe.fr.html\n",
      "2024-10-14 15:24:04 [root] INFO: Scraping La Frégate at https://www.booking.com/hotel/fr/la-fra-c-gate-collioure.fr.html\n",
      "2024-10-14 15:24:05 [root] INFO: Scraping Hotel Le Bon Port at https://www.booking.com/hotel/fr/le-bon-port.fr.html\n",
      "2024-10-14 15:24:06 [root] INFO: Scraping Maison Nova - Boutique Hôtel & Spa at https://www.booking.com/hotel/fr/boutique-maison-nova.fr.html\n",
      "2024-10-14 15:24:07 [root] INFO: Scraping Hôtel des Templiers at https://www.booking.com/hotel/fr/ha-tel-des-templiers.fr.html\n",
      "2024-10-14 15:24:07 [root] INFO: Scraping Le Relais Des Trois Mas at https://www.booking.com/hotel/fr/le-relais-des-trois-mas.fr.html\n",
      "2024-10-14 15:24:08 [root] INFO: Scraping Chambres Rue de la République at https://www.booking.com/hotel/fr/chambres-rue-de-la-republique.fr.html\n",
      "2024-10-14 15:24:09 [root] INFO: Scraping Ibis Styles Collioure Port Vendres at https://www.booking.com/hotel/fr/ibis-styles-collioure-port-vendres.fr.html\n",
      "2024-10-14 15:24:10 [root] INFO: Scraping Hôtel Restaurant - Villa Les Sirènes at https://www.booking.com/hotel/fr/villa-les-sirenes.fr.html\n",
      "2024-10-14 15:24:10 [scrapy.extensions.logstats] INFO: Crawled 559 pages (at 83 pages/min), scraped 558 items (at 83 items/min)\n",
      "2024-10-14 15:24:10 [root] INFO: Scraping Hôtel & Spa Les Mouettes at https://www.booking.com/hotel/fr/les-mouettes.fr.html\n",
      "2024-10-14 15:24:11 [root] INFO: Scraping Les Jardins Du Cèdre at https://www.booking.com/hotel/fr/les-jardins-du-cedre.fr.html\n",
      "2024-10-14 15:24:12 [root] INFO: Scraping Tribe Carcassonne at https://www.booking.com/hotel/fr/des-trois-couronnes.fr.html\n",
      "2024-10-14 15:24:12 [root] INFO: Scraping GOOD KNIGHT at https://www.booking.com/hotel/fr/good-knight.fr.html\n",
      "2024-10-14 15:24:13 [root] INFO: Scraping Hôtel l'Aragon at https://www.booking.com/hotel/fr/l-aragon.fr.html\n",
      "2024-10-14 15:24:14 [root] INFO: Scraping Hotel Astoria at https://www.booking.com/hotel/fr/astoria-carcassonne.fr.html\n",
      "2024-10-14 15:24:15 [root] INFO: Scraping Mercure Carcassonne La Cité at https://www.booking.com/hotel/fr/carcassonne-porte-de-la-cite.fr.html\n",
      "2024-10-14 15:24:15 [root] INFO: Scraping SOWELL HOTELS Les Chevaliers at https://www.booking.com/hotel/fr/soleil-vacances-les-chevaliers.fr.html\n",
      "2024-10-14 15:24:16 [root] INFO: Scraping Hôtel Le Donjon - Cœur de La Cité Médiévale at https://www.booking.com/hotel/fr/bestwesternledonjon.fr.html\n",
      "2024-10-14 15:24:17 [root] INFO: Scraping Adonis Carcassonne at https://www.booking.com/hotel/fr/adonis-la-barbacane.fr.html\n",
      "2024-10-14 15:24:17 [root] INFO: Scraping Hotel Du Pont Vieux at https://www.booking.com/hotel/fr/du-pont-vieux.fr.html\n",
      "2024-10-14 15:24:18 [root] INFO: Scraping Hotel De La Bastide at https://www.booking.com/hotel/fr/de-la-bastide.fr.html\n",
      "2024-10-14 15:24:18 [root] INFO: Scraping Cerise Carcassonne Sud at https://www.booking.com/hotel/fr/cerise-carcassonne-sud.fr.html\n",
      "2024-10-14 15:24:19 [root] INFO: Scraping ibis Carcassonne Centre - La Cité at https://www.booking.com/hotel/fr/ibis-carcassonne-centre.fr.html\n",
      "2024-10-14 15:24:20 [root] INFO: Scraping 514 Appart Hotel at https://www.booking.com/hotel/fr/514-appart.fr.html\n",
      "2024-10-14 15:24:21 [root] INFO: Scraping Hotel du Roi & Spa by SOWELL COLLECTION at https://www.booking.com/hotel/fr/soleilvacances-du-roi.fr.html\n",
      "2024-10-14 15:24:22 [root] INFO: Scraping Hôtel De L'octroi at https://www.booking.com/hotel/fr/de-l-octroi.fr.html\n",
      "2024-10-14 15:24:22 [root] INFO: Scraping ibis budget Carcassonne La Cité at https://www.booking.com/hotel/fr/ibis-budget-carcassonne-la-cite.fr.html\n",
      "2024-10-14 15:24:23 [root] INFO: Scraping Zenitude Hôtel-Résidences Carcassonne at https://www.booking.com/hotel/fr/appart-city-cap-affaires-carcassonne.fr.html\n",
      "2024-10-14 15:24:24 [root] INFO: Scraping Hôtel du Château & Spa - Teritoria at https://www.booking.com/hotel/fr/du-chateau-carcassonne.fr.html\n",
      "2024-10-14 15:24:25 [root] INFO: Scraping Hôtel La Bastide Saint Martin at https://www.booking.com/hotel/fr/hostellerie-saint-martin-carcassonne.fr.html\n",
      "2024-10-14 15:24:26 [root] INFO: Scraping Audotel at https://www.booking.com/hotel/fr/ptit-dej-audotel.fr.html\n",
      "2024-10-14 15:24:27 [root] INFO: Scraping Brit Hotel Confort Foix at https://www.booking.com/hotel/fr/hotel-balladins-foix-confort.fr.html\n",
      "2024-10-14 15:24:28 [root] INFO: Scraping The Originals Access, Hôtel Foix at https://www.booking.com/hotel/fr/campanilefoix.fr.html\n",
      "2024-10-14 15:24:28 [root] INFO: Scraping Lagrange Vacances Les Chalets d’Ax at https://www.booking.com/hotel/fr/residence-les-chalets-d-ax.fr.html\n",
      "2024-10-14 15:24:29 [root] INFO: Scraping Studio Le Roof - Une vue splendide - Petit déjeuner inclus 1ère nuit - AUX 4 LOGIS at https://www.booking.com/hotel/fr/le-roof-studio-aux-4-logis-petit-dejeuner-inclus-1ere-nuit.fr.html\n",
      "2024-10-14 15:24:29 [root] INFO: Scraping Domaine de Garabaud at https://www.booking.com/hotel/fr/domaine-de-garabaud.fr.html\n",
      "2024-10-14 15:24:30 [root] INFO: Scraping Chambres d'hôtes Relais Mira Peis at https://www.booking.com/hotel/fr/relais-mira-peis.fr.html\n",
      "2024-10-14 15:24:31 [root] INFO: Scraping Terres de France - Domaine du Palais at https://www.booking.com/hotel/fr/terres-de-france-domaine-du-palais.fr.html\n",
      "2024-10-14 15:24:31 [root] INFO: Scraping Résidence Natura at https://www.booking.com/hotel/fr/ra-c-sidence-natura.fr.html\n",
      "2024-10-14 15:24:32 [root] INFO: Scraping Logis Hôtel Restaurant de la Poste at https://www.booking.com/hotel/fr/hostellerie-de-la-poste-tarascon-sur-ariege.fr.html\n",
      "2024-10-14 15:24:33 [root] INFO: Scraping Hostellerie de La Poste at https://www.booking.com/hotel/fr/hostellerie-de-la-poste-oust.fr.html\n",
      "2024-10-14 15:24:34 [root] INFO: Scraping Hôtel Terranostra at https://www.booking.com/hotel/fr/terranostra.fr.html\n",
      "2024-10-14 15:24:35 [root] INFO: Scraping Hôtel Restaurant Le Bellevue at https://www.booking.com/hotel/fr/restaurant-le-bellevue-ax-les-thermes.fr.html\n",
      "2024-10-14 15:24:35 [root] INFO: Scraping Hôtel Pyrène at https://www.booking.com/hotel/fr/pyrene.fr.html\n",
      "2024-10-14 15:24:36 [root] INFO: Scraping Hôtel de la Paix at https://www.booking.com/hotel/fr/de-la-paix-luzenac.fr.html\n",
      "2024-10-14 15:24:37 [root] INFO: Scraping Auberge des Deux Rivières at https://www.booking.com/hotel/fr/auberge-des-deux-rivia-res-seix.fr.html\n",
      "2024-10-14 15:24:38 [root] INFO: Scraping Auberge du Haut Salat at https://www.booking.com/hotel/fr/auberge-du-haut-salat.fr.html\n",
      "2024-10-14 15:24:39 [root] INFO: Scraping Résidence Néméa Les Balcons d'Ax at https://www.booking.com/hotel/fr/residence-les-balcons-d-ax.fr.html\n",
      "2024-10-14 15:24:39 [root] INFO: Scraping Résidence Pierre & Vacances Les Trois Domaines at https://www.booking.com/hotel/fr/pierre-vacances-les-trois-domaines.fr.html\n",
      "2024-10-14 15:24:40 [root] INFO: Scraping Hôtel Premiere Classe Pamiers at https://www.booking.com/hotel/fr/premiere-classe.fr.html\n",
      "2024-10-14 15:24:40 [root] INFO: Scraping Résidence Domaine de la Vallée d'Ax - Location à la nuit, linge inclus at https://www.booking.com/hotel/fr/mvm-le-domaine-de-la-vallee-d-ax.fr.html\n",
      "2024-10-14 15:24:41 [root] INFO: Scraping Hôtel Le Capitole at https://www.booking.com/hotel/fr/le-capitole-toulouse.fr.html\n",
      "2024-10-14 15:24:42 [root] INFO: Scraping Hotel Ours Blanc - Wilson at https://www.booking.com/hotel/fr/ours-blanc-wilson.fr.html\n",
      "2024-10-14 15:24:43 [root] INFO: Scraping Résidences Guerlin at https://www.booking.com/hotel/fr/residences-guerlin-toulouse.fr.html\n",
      "2024-10-14 15:24:43 [root] INFO: Scraping Plaza Hotel Capitole Toulouse at https://www.booking.com/hotel/fr/crowne-plaza-toulouse-toulouse.fr.html\n",
      "2024-10-14 15:24:44 [root] INFO: Scraping Arnaud Bernard Hôtel at https://www.booking.com/hotel/fr/arnaud-bernard-hotel.fr.html\n",
      "2024-10-14 15:24:45 [root] INFO: Scraping Odalys City Toulouse Centre Compans Caffarelli at https://www.booking.com/hotel/fr/odalys-city-centre-compans-caffarelli.fr.html\n",
      "2024-10-14 15:24:45 [root] INFO: Scraping B&B HOTEL Toulouse Centre Canal du Midi at https://www.booking.com/hotel/fr/b-amp-b-toulouse-centre.fr.html\n",
      "2024-10-14 15:24:46 [root] INFO: Scraping Sangha Toulouse at https://www.booking.com/hotel/fr/sangha-toulouse.fr.html\n",
      "2024-10-14 15:24:46 [root] INFO: Scraping Ibis Styles Toulouse Centre Canal du Midi at https://www.booking.com/hotel/fr/kyriad-toulouse.fr.html\n",
      "2024-10-14 15:24:47 [root] INFO: Scraping Matabi Hotel Toulouse Gare by HappyCulture at https://www.booking.com/hotel/fr/terminus-toulouse.fr.html\n",
      "2024-10-14 15:24:48 [root] INFO: Scraping Hôtel Le Cousture at https://www.booking.com/hotel/fr/cousture.fr.html\n",
      "2024-10-14 15:24:49 [root] INFO: Scraping Le Grand Balcon Hotel at https://www.booking.com/hotel/fr/le-grand-balcon-toulouse.fr.html\n",
      "2024-10-14 15:24:50 [root] INFO: Scraping ibis budget Toulouse Centre Gare at https://www.booking.com/hotel/fr/ibis-budget-toulouse-centre.fr.html\n",
      "2024-10-14 15:24:51 [root] INFO: Scraping Hôtel La Chartreuse at https://www.booking.com/hotel/fr/ha-tel-la-chartreuse.fr.html\n",
      "2024-10-14 15:24:52 [root] INFO: Scraping Hôtel Une Chambre en Ville at https://www.booking.com/hotel/fr/une-chambre-en-ville-toulouse.fr.html\n",
      "2024-10-14 15:24:52 [root] INFO: Scraping OVYO Hôtel at https://www.booking.com/hotel/fr/ovyo.fr.html\n",
      "2024-10-14 15:24:53 [root] INFO: Scraping Hôtel Le Père Léon at https://www.booking.com/hotel/fr/ha-tel-le-pa-re-la-c-on.fr.html\n",
      "2024-10-14 15:24:54 [root] INFO: Scraping Hôtel Raymond 4 Toulouse at https://www.booking.com/hotel/fr/raymondiv.fr.html\n",
      "2024-10-14 15:24:55 [root] INFO: Scraping Montempô + Apparthôtel Toulouse Cité Internationale at https://www.booking.com/hotel/fr/montempo-apparthotel-toulouse-cite-internationale.fr.html\n",
      "2024-10-14 15:24:55 [root] INFO: Scraping Citadines Wilson Toulouse at https://www.booking.com/hotel/fr/citadines-aparthotel-toulouse-wilson.fr.html\n",
      "2024-10-14 15:24:56 [root] INFO: Scraping Dali Hôtel Montauban at https://www.booking.com/hotel/fr/dali-montauban.fr.html\n",
      "2024-10-14 15:24:57 [root] INFO: Scraping Hôtel du Commerce at https://www.booking.com/hotel/fr/hotel-du-commerce-montauban.fr.html\n",
      "2024-10-14 15:24:58 [root] INFO: Scraping Abbaye des Capucins Spa & Resort at https://www.booking.com/hotel/fr/abbaye-des-capucins-spa-and-resort.fr.html\n",
      "2024-10-14 15:24:59 [root] INFO: Scraping Centre Louis Ormières at https://www.booking.com/hotel/fr/centre-louis-ormieres.fr.html\n",
      "2024-10-14 15:24:59 [root] INFO: Scraping Brit Hotel Confort Montauban at https://www.booking.com/hotel/fr/deltour-montauban-city.fr.html\n",
      "2024-10-14 15:25:00 [root] INFO: Scraping Sure Hotel by Best Western Les Portes de Montauban at https://www.booking.com/hotel/fr/sure-by-best-western-les-portes-de-montauban.fr.html\n",
      "2024-10-14 15:25:01 [root] INFO: Scraping Premiere Classe Montauban at https://www.booking.com/hotel/fr/hotelpremiereclasse.fr.html\n",
      "2024-10-14 15:25:02 [root] INFO: Scraping Kyriad Direct Montauban Centre at https://www.booking.com/hotel/fr/kyriad-direct-montauban-centre.fr.html\n",
      "2024-10-14 15:25:02 [root] INFO: Scraping B&B HOTEL Montauban at https://www.booking.com/hotel/fr/b-amp-b-montauban.fr.html\n",
      "2024-10-14 15:25:03 [root] INFO: Scraping ibis budget Montauban Les Chaumes at https://www.booking.com/hotel/fr/ibis-budget-montauban-les-chaumes.fr.html\n",
      "2024-10-14 15:25:04 [root] INFO: Scraping hotelF1 Montauban at https://www.booking.com/hotel/fr/hotelf1-montauban.fr.html\n",
      "2024-10-14 15:25:04 [root] INFO: Scraping ibis Montauban at https://www.booking.com/hotel/fr/ha-tel-ibis-montauban.fr.html\n",
      "2024-10-14 15:25:05 [root] INFO: Scraping Kyriad Montauban Sud - Albasud at https://www.booking.com/hotel/fr/hoteletrestaurantcampanilemontauban.fr.html\n",
      "2024-10-14 15:25:06 [root] INFO: Scraping Château de Loubéjac at https://www.booking.com/hotel/fr/chateau-de-loubejac.fr.html\n",
      "2024-10-14 15:25:07 [root] INFO: Scraping Les Logis du Port - Port Canal - Montauban at https://www.booking.com/hotel/fr/les-logis-du-port-gite-etape-port-canal-montauban.fr.html\n",
      "2024-10-14 15:25:07 [root] INFO: Scraping ibis Styles Montauban at https://www.booking.com/hotel/fr/ibis-styles-montauban.fr.html\n",
      "2024-10-14 15:25:08 [root] INFO: Scraping WonderBar (Auberge du Trinquet) at https://www.booking.com/hotel/fr/wonderbar-auberge-du-trinquet.fr.html\n",
      "2024-10-14 15:25:09 [root] INFO: Scraping Les bords de l'Aveyron at https://www.booking.com/hotel/fr/les-bords-de-l-aveyron.fr.html\n",
      "2024-10-14 15:25:10 [root] INFO: Scraping Moulin d'Albias aux portes de Montauban at https://www.booking.com/hotel/fr/moulin-d-39-albias-spa-et-sauna.fr.html\n",
      "2024-10-14 15:25:10 [scrapy.extensions.logstats] INFO: Crawled 640 pages (at 81 pages/min), scraped 639 items (at 81 items/min)\n",
      "2024-10-14 15:25:10 [root] INFO: Scraping Aux Lys d'Or at https://www.booking.com/hotel/fr/aux-lys-d-39-or.fr.html\n",
      "2024-10-14 15:25:11 [root] INFO: Scraping Hôtel Les Baigneuses de Biarritz at https://www.booking.com/hotel/fr/le-caritz.fr.html\n",
      "2024-10-14 15:25:12 [root] INFO: Scraping Nemea Appart Hotel Les Hauts de Milady Biarritz at https://www.booking.com/hotel/fr/nemea-appart-les-hauts-de-milady.fr.html\n",
      "2024-10-14 15:25:13 [root] INFO: Scraping Résidence Biarritz Ocean at https://www.booking.com/hotel/fr/biarritz-ocean.fr.html\n",
      "2024-10-14 15:25:13 [root] INFO: Scraping Hôtel PALMITO at https://www.booking.com/hotel/fr/palym-biarritz.fr.html\n",
      "2024-10-14 15:25:13 [root] INFO: Scraping Outsite Coliving Biarritz at https://www.booking.com/hotel/fr/outsite-coliving-biarrtiz.fr.html\n",
      "2024-10-14 15:25:14 [root] INFO: Scraping Résidence Victoria Surf at https://www.booking.com/hotel/fr/residence-victoria-surf-victoria-management.fr.html\n",
      "2024-10-14 15:25:15 [root] INFO: Scraping Hôtel Jules Verne, BW Signature Collection at https://www.booking.com/hotel/fr/karitza-biarritz.fr.html\n",
      "2024-10-14 15:25:15 [root] INFO: Scraping Hôtel de La Plage at https://www.booking.com/hotel/fr/de-la-plage-biarritz.fr.html\n",
      "2024-10-14 15:25:16 [root] INFO: Scraping Hôtel & Espace Bien-être La Maison du Lierre at https://www.booking.com/hotel/fr/la-maison-du-lierre.fr.html\n",
      "2024-10-14 15:25:17 [root] INFO: Scraping Hôtel Le Windsor Biarritz at https://www.booking.com/hotel/fr/inter-windsor.fr.html\n",
      "2024-10-14 15:25:18 [root] INFO: Scraping Carlina Lodge at https://www.booking.com/hotel/fr/carlina-lodge-biarritz.fr.html\n",
      "2024-10-14 15:25:18 [root] INFO: Scraping Hôtel Saint James at https://www.booking.com/hotel/fr/saint-james.fr.html\n",
      "2024-10-14 15:25:19 [root] INFO: Scraping Hôtel AKENA Biarritz - Grande plage at https://www.booking.com/hotel/fr/altess-hotel.fr.html\n",
      "2024-10-14 15:25:19 [root] INFO: Scraping ALFRED HOTELS Les Halles - Ex Hotel Anjou at https://www.booking.com/hotel/fr/hotelanjou.fr.html\n",
      "2024-10-14 15:25:20 [root] INFO: Scraping La Casa Cosy, Appart'Hôtel at https://www.booking.com/hotel/fr/la-casa-cosy-biarritz.fr.html\n",
      "2024-10-14 15:25:21 [root] INFO: Scraping Saint Charles Hôtel & Coliving Biarritz at https://www.booking.com/hotel/fr/le-saint-charles-biarritz.fr.html\n",
      "2024-10-14 15:25:23 [root] INFO: Scraping Hôtel Cosmopolitain at https://www.booking.com/hotel/fr/palacito.fr.html\n",
      "2024-10-14 15:25:23 [root] INFO: Scraping Hôtel Le Saphir at https://www.booking.com/hotel/fr/le-saphir.fr.html\n",
      "2024-10-14 15:25:23 [root] INFO: Scraping Résidence Mer & Golf Eugénie at https://www.booking.com/hotel/fr/residence-mer-et-golf-eugenie.fr.html\n",
      "2024-10-14 15:25:24 [root] INFO: Scraping Ama Hôtel at https://www.booking.com/hotel/fr/alcyon-biarritz.fr.html\n",
      "2024-10-14 15:25:25 [root] INFO: Scraping Okko Hotels Bayonne Centre at https://www.booking.com/hotel/fr/okko-hotels-bayonne-centre.fr.html\n",
      "2024-10-14 15:25:25 [root] INFO: Scraping Hotel Cote Basque at https://www.booking.com/hotel/fr/cote-basque.fr.html\n",
      "2024-10-14 15:25:26 [root] INFO: Scraping Appart'Hôtel Bellevue at https://www.booking.com/hotel/fr/appart-39-bellevue.fr.html\n",
      "2024-10-14 15:25:27 [root] INFO: Scraping ibis Bayonne Centre at https://www.booking.com/hotel/fr/ibis-bayonne.fr.html\n",
      "2024-10-14 15:25:28 [root] INFO: Scraping ibis Styles Bayonne at https://www.booking.com/hotel/fr/loustau.fr.html\n",
      "2024-10-14 15:25:29 [root] INFO: Scraping Temporesidence Cathedrale at https://www.booking.com/hotel/fr/temporesidence-cathedrale.fr.html\n",
      "2024-10-14 15:25:30 [root] INFO: Scraping Hôtel Le Bayonne at https://www.booking.com/hotel/fr/le-bayonne-ha-tel.fr.html\n",
      "2024-10-14 15:25:30 [root] INFO: Scraping B&B HOTEL Bayonne at https://www.booking.com/hotel/fr/b-amp-b-bayonne.fr.html\n",
      "2024-10-14 15:25:31 [root] INFO: Scraping Hôtel des Arceaux at https://www.booking.com/hotel/fr/des-arceaux.fr.html\n",
      "2024-10-14 15:25:31 [root] INFO: Scraping Hotel Loreak at https://www.booking.com/hotel/fr/comfort-bayonne-biarritz.fr.html\n",
      "2024-10-14 15:25:32 [root] INFO: Scraping ibis budget Bayonne at https://www.booking.com/hotel/fr/ibis-budget-bayonne.fr.html\n",
      "2024-10-14 15:25:33 [root] INFO: Scraping Temporesidence Chateauneuf at https://www.booking.com/hotel/fr/temporesidence-chateauneuf.fr.html\n",
      "2024-10-14 15:25:33 [root] INFO: Scraping Hôtel Villa KOEGUI Bayonne at https://www.booking.com/hotel/fr/villa-koegui-bayonne.fr.html\n",
      "2024-10-14 15:25:34 [root] INFO: Scraping Hotel Le Port Neuf at https://www.booking.com/hotel/fr/le-port-neuf.fr.html\n",
      "2024-10-14 15:25:35 [root] INFO: Scraping hotelF1 Bayonne at https://www.booking.com/hotel/fr/hotelf1-bayonne.fr.html\n",
      "2024-10-14 15:25:36 [root] INFO: Scraping Hôtel Villa la Renaissance at https://www.booking.com/hotel/fr/villa-la-renaissance-bayonne.fr.html\n",
      "2024-10-14 15:25:36 [root] INFO: Scraping Hôtel Les Genêts Bayonne at https://www.booking.com/hotel/fr/restaurant-les-genets.fr.html\n",
      "2024-10-14 15:25:37 [root] INFO: Scraping Premiere Classe Bayonne at https://www.booking.com/hotel/fr/premiere-classe-bayonne.fr.html\n",
      "2024-10-14 15:25:37 [root] INFO: Scraping Hôtel Mercure Bayonne Centre Le Grand Hotel at https://www.booking.com/hotel/fr/bwlegrandhotel.fr.html\n",
      "2024-10-14 15:25:38 [root] INFO: Scraping Campanile Bayonne at https://www.booking.com/hotel/fr/campanile-bayonne.fr.html\n",
      "2024-10-14 15:25:39 [root] INFO: Scraping Hôtel Le Transatlantique - Lycée Hôtelier La Rochelle at https://www.booking.com/hotel/fr/lycee-hotelier-la-rochelle.fr.html\n",
      "2024-10-14 15:25:40 [root] INFO: Scraping Le Saint-Nicolas Hôtel at https://www.booking.com/hotel/fr/comforthotelsaintnicolas.fr.html\n",
      "2024-10-14 15:25:41 [root] INFO: Scraping B&B HOTEL La Rochelle Centre at https://www.booking.com/hotel/fr/b-amp-b-la-rochelle-centre.fr.html\n",
      "2024-10-14 15:25:41 [root] INFO: Scraping Central Park Hôtel & Spa at https://www.booking.com/hotel/fr/central-park-amp-spa.fr.html\n",
      "2024-10-14 15:25:41 [root] INFO: Scraping Première Classe La Rochelle Centre - Les Minimes at https://www.booking.com/hotel/fr/premia-re-classe-la-rochelle-centre-les-minimes.fr.html\n",
      "2024-10-14 15:25:42 [root] INFO: Scraping Le Champlain at https://www.booking.com/hotel/fr/best-western-champlain-france-angleterre.fr.html\n",
      "2024-10-14 15:25:43 [root] INFO: Scraping Hôtel Les Gens de Mer La Rochelle by Popinns** at https://www.booking.com/hotel/fr/les-gens-de-mer-la-rochelle.fr.html\n",
      "2024-10-14 15:25:44 [root] INFO: Scraping Hôtel La Monnaie Arty & Spa at https://www.booking.com/hotel/fr/de-la-monnaie.fr.html\n",
      "2024-10-14 15:25:44 [root] INFO: Scraping Maison des Ambassadeurs at https://www.booking.com/hotel/fr/la-residence-de-france-residence-hoteliere.fr.html\n",
      "2024-10-14 15:25:45 [root] INFO: Scraping Lagrange Apart'Hotel l’Escale Marine at https://www.booking.com/hotel/fr/l-escale-marine.fr.html\n",
      "2024-10-14 15:25:45 [root] INFO: Scraping Mercure La Rochelle Vieux Port at https://www.booking.com/hotel/fr/la-rochelle-vieux-port-sud.fr.html\n",
      "2024-10-14 15:25:46 [root] INFO: Scraping Appart'City Classic La Rochelle Centre at https://www.booking.com/hotel/fr/appart-city-cap-affaires-la-rochelle.fr.html\n",
      "2024-10-14 15:25:47 [root] INFO: Scraping Maisons du Monde Hôtel & Suites - La Rochelle Vieux Port at https://www.booking.com/hotel/fr/inter-saint-jean-d-acre.fr.html\n",
      "2024-10-14 15:25:48 [root] INFO: Scraping Best Western Premier Le Masq Hôtel at https://www.booking.com/hotel/fr/masqhotel.fr.html\n",
      "2024-10-14 15:25:49 [root] INFO: Scraping Hôtel La Fabrique at https://www.booking.com/hotel/fr/la-fabrique-la-rochelle.fr.html\n",
      "2024-10-14 15:25:49 [root] INFO: Scraping Hôtel Les Brises at https://www.booking.com/hotel/fr/hotellesbrises.fr.html\n",
      "2024-10-14 15:25:50 [root] INFO: Scraping ATHOME RESIDENCE ET SPA at https://www.booking.com/hotel/fr/athome-residence-et-spa.fr.html\n",
      "2024-10-14 15:25:51 [root] INFO: Scraping Hôtel François 1er at https://www.booking.com/hotel/fr/hotelfrancoiser.fr.html\n",
      "2024-10-14 15:25:52 [root] INFO: Scraping Résidence New Rochelle at https://www.booking.com/hotel/fr/residence-du-port.fr.html\n",
      "2024-10-14 15:25:53 [root] INFO: Scraping Hotel Inn Design La Rochelle at https://www.booking.com/hotel/fr/inn-design.fr.html\n",
      "2024-10-14 15:25:53 [scrapy.core.engine] INFO: Closing spider (finished)\n",
      "2024-10-14 15:25:53 [scrapy.extensions.feedexport] INFO: Stored json feed (700 items) in: results/hotel_data.json\n",
      "2024-10-14 15:25:53 [scrapy.statscollectors] INFO: Dumping Scrapy stats:\n",
      "{'downloader/request_bytes': 686113,\n",
      " 'downloader/request_count': 702,\n",
      " 'downloader/request_method_count/GET': 702,\n",
      " 'downloader/response_bytes': 190950171,\n",
      " 'downloader/response_count': 702,\n",
      " 'downloader/response_status_count/200': 701,\n",
      " 'downloader/response_status_count/301': 1,\n",
      " 'elapsed_time_seconds': 522.483824,\n",
      " 'feedexport/success_count/FileFeedStorage': 1,\n",
      " 'finish_reason': 'finished',\n",
      " 'finish_time': datetime.datetime(2024, 10, 14, 13, 25, 53, 13706, tzinfo=datetime.timezone.utc),\n",
      " 'httpcompression/response_bytes': 914681163,\n",
      " 'httpcompression/response_count': 701,\n",
      " 'item_scraped_count': 700,\n",
      " 'log_count/INFO': 719,\n",
      " 'response_received_count': 701,\n",
      " 'robotstxt/request_count': 1,\n",
      " 'robotstxt/response_count': 1,\n",
      " 'robotstxt/response_status_count/200': 1,\n",
      " 'scheduler/dequeued': 701,\n",
      " 'scheduler/dequeued/memory': 701,\n",
      " 'scheduler/enqueued': 701,\n",
      " 'scheduler/enqueued/memory': 701,\n",
      " 'start_time': datetime.datetime(2024, 10, 14, 13, 17, 10, 529882, tzinfo=datetime.timezone.utc)}\n",
      "2024-10-14 15:25:53 [scrapy.core.engine] INFO: Spider closed (finished)\n"
     ]
    }
   ],
   "source": [
    "!scrapy crawl hotels"
   ]
  },
  {
   "cell_type": "code",
   "execution_count": 426,
   "metadata": {},
   "outputs": [],
   "source": [
    "data = json.load(open('results/hotel_data.json', 'r'))\n",
    "df = pd.DataFrame(data)"
   ]
  },
  {
   "cell_type": "code",
   "execution_count": 427,
   "metadata": {},
   "outputs": [],
   "source": [
    "df['address'] = df['address'].str.replace(\"\\n\", \"\")"
   ]
  },
  {
   "cell_type": "code",
   "execution_count": 428,
   "metadata": {},
   "outputs": [],
   "source": [
    "def clean_street(street):\n",
    "    # Start by isolating the relevant part of the street address before any \" - \"\n",
    "    formatted_street_name = street.split(\" - \")[0]\n",
    "    \n",
    "    # Check if the address does not contain the word 'angle' (case-insensitive)\n",
    "    if not re.search(r'angle', formatted_street_name, re.IGNORECASE):\n",
    "        # If there are multiple streets or numbers separated by \" et \", retain only 1\n",
    "        formatted_street_name = formatted_street_name.split(\" et \")[0] if len(formatted_street_name.split(\" et \")[0]) > 3 else formatted_street_name.split(\" et \")[1]\n",
    "        formatted_street_name = formatted_street_name.split(\" Et \")[0] if len(formatted_street_name.split(\" Et \")[0]) > 3 else formatted_street_name.split(\" Et \")[1]\n",
    "\n",
    "    # Check for a street number at the start of the cleaned text\n",
    "    match = re.match(r'(^\\d+)', formatted_street_name)\n",
    "    if match:\n",
    "        # Extract the street number and strip any surrounding whitespace\n",
    "        number = match.group(0).strip()\n",
    "        \n",
    "        # Remove the number from the cleaned text to isolate the street name\n",
    "        streetName = re.sub(r'^\\d+(-\\d+)?|(/\\d+)?(-\\d+)?', '', formatted_street_name).strip(',').strip()  # Also strip any trailing commas\n",
    "        formatted_street_name = number + \" \" + streetName  # Recombine the number and street name\n",
    "\n",
    "    # Remove any additional information after a comma, if present\n",
    "    formatted_street_name = formatted_street_name.split(\",\")[0].strip()\n",
    "\n",
    "    return formatted_street_name\n",
    "\n",
    "\n",
    "# def TryGetCoord(params) :\n",
    "#     start_time = time.time()  # Record start time\n",
    "#     r = requests.get(f'https://nominatim.openstreetmap.org/search', headers=headers, params=params)\n",
    "#     if r.status_code != 200 :\n",
    "#         print(r)\n",
    "#     elapsed_time = time.time() - start_time  # Calculate elapsed time\n",
    "#     if elapsed_time < 1.2:\n",
    "#         time.sleep(1.2 - elapsed_time)  # Sleep for the remaining time / nominatim policy : No heavy uses (an absolute maximum of 1 request per second).\n",
    "#     return r\n",
    "\n",
    "\n",
    "def GetCoord(row) : \n",
    "    address = row['address']\n",
    "    # hotel_name = row['hotel_name'].strip()\n",
    "    street, postalCode_city, country = address.rsplit(',', 2)\n",
    "    postalCode , city = postalCode_city.strip().split(' ', 1)\n",
    "    street = clean_street(street)\n",
    "    postalCode = postalCode.strip()\n",
    "    city = city.strip()\n",
    "    country = country.strip()\n",
    "\n",
    "    # params_list = []\n",
    "\n",
    "\n",
    "    # # Check if the street starts with a number\n",
    "    # match = re.match(r'^\\d', street)\n",
    "    \n",
    "    # if match:\n",
    "    #     params_list.append({'street': street, 'postalCode' : postalCode, 'country' : country, 'format': 'json'})\n",
    "    #     params_list.append({'q': f'{street} {city} {country}', 'format': 'json'})\n",
    "\n",
    "    # params_list.append({'amenity': hotel_name, 'postalCode' : postalCode, 'country' : country, 'format': 'json'})\n",
    "    # params_list.append({'q': f'{hotel_name} {city} {country}', 'format': 'json'})\n",
    "\n",
    "    # if not match:\n",
    "    #     params_list.append({'street': street, 'postalCode' : postalCode, 'country' : country, 'format': 'json'})\n",
    "    #     params_list.append({'q': f'{street} {city} {country}', 'format': 'json'})\n",
    "    \n",
    "\n",
    "    # if \" - \" in hotel_name:\n",
    "    #     hotel_name_split = hotel_name.split(\" - \", 1)[0]\n",
    "    #     params_list.append({'amenity': hotel_name_split, 'postalCode':postalCode, 'country' : country, 'format': 'json'})\n",
    "    #     params_list.append({'q': f'{hotel_name_split} {city} {country}', 'format': 'json'})\n",
    "\n",
    "    # if \", \" in hotel_name:\n",
    "    #     hotel_name_split = hotel_name.split(\", \", 1)[0]\n",
    "    #     params_list.append({'amenity': hotel_name_split, 'postalCode':postalCode, 'country' : country, 'format': 'json'})\n",
    "    #     params_list.append({'q': f'{hotel_name_split} {city} {country}', 'format': 'json'})\n",
    "\n",
    "    # if \" et \" in hotel_name.lower():\n",
    "    #     hotel_name_split = hotel_name.lower().split(\" et \", 1)[0]\n",
    "    #     params_list.append({'amenity': hotel_name_split, 'postalCode':postalCode, 'country' : country, 'format': 'json'})\n",
    "    #     params_list.append({'q': f'{hotel_name_split} {city} {country}', 'format': 'json'})\n",
    "\n",
    "    # if \"rn \" in hotel_name.lower():\n",
    "    #     street_name_modified = hotel_name.lower().replace(\"rn \", \"route nationale\")\n",
    "    #     params_list.append({'street': street_name_modified, 'postalCode':postalCode, 'country' : country, 'format': 'json'})\n",
    "    #     params_list.append({'q': f'{street_name_modified} {city} {country}', 'format': 'json'})\n",
    "    # #params_list.append({'city': city, 'country': country, 'format': 'json'})\n",
    "\n",
    "    # lon = None\n",
    "    # lat = None\n",
    "\n",
    "    # for params in params_list:\n",
    "    #     r = TryGetCoord(params)\n",
    "    #     response = json.loads(r.text) if r.status_code == 200 else None\n",
    "    #     if response:\n",
    "    #         lon = response[0]['lon']\n",
    "    #         lat = response[0]['lat']\n",
    "    #         break\n",
    "    #     print(f\"Failed to find coordinates for {params}\")\n",
    "\n",
    "    # if lon is None or lat is None:\n",
    "    #     print(f\"No coordinates found for {hotel_name}\")\n",
    "\n",
    "    return street, postalCode, city, country\n",
    "\n",
    "df[['Street', 'PostalCode', 'City', 'Country']] = pd.DataFrame(df.apply(GetCoord, axis=1).tolist(), columns=['Street', 'PostalCode', 'City', 'Country'])\n",
    "\n",
    "\n"
   ]
  },
  {
   "cell_type": "code",
   "execution_count": 429,
   "metadata": {},
   "outputs": [],
   "source": [
    "# Convert lat and lon columns to float\n",
    "df['lat'] = df['lat'].astype(float)\n",
    "df['lon'] = df['lon'].astype(float)\n"
   ]
  },
  {
   "cell_type": "code",
   "execution_count": 430,
   "metadata": {},
   "outputs": [
    {
     "data": {
      "application/vnd.plotly.v1+json": {
       "config": {
        "plotlyServerURL": "https://plot.ly"
       },
       "data": [
        {
         "customdata": [
          [
           "La Caserne, 50170 Le Mont-Saint-Michel, France"
          ],
          [
           "La Caserne, 50170 Le Mont-Saint-Michel, France"
          ],
          [
           "La Caserne, 50170 Le Mont-Saint-Michel, France"
          ],
          [
           "Grande Rue, 50170 Le Mont-Saint-Michel, France"
          ],
          [
           "Grande Rue, 50170 Le Mont-Saint-Michel, France"
          ],
          [
           "Grande Rue, 50170 Le Mont-Saint-Michel, France"
          ],
          [
           "La Caserne, 50170 Le Mont-Saint-Michel, France"
          ],
          [
           "La Caserne, 50170 Le Mont-Saint-Michel, France"
          ],
          [
           "Grande Rue , 50170 Le Mont-Saint-Michel, France"
          ],
          [
           "grande rue, 50170 Le Mont-Saint-Michel, France"
          ],
          [
           "Route du Mont Saint Michel, 50170 Le Mont-Saint-Michel, France"
          ],
          [
           "Grande Rue, 50170 Le Mont-Saint-Michel, France"
          ],
          [
           "La Rive – D275, 50170 Ardevon, France"
          ],
          [
           "14 Route du Mont Saint-Michel, 50170 Beauvoir, France"
          ],
          [
           "lieu dit l'hopital, 35610 Roz-sur-Couesnon, France"
          ],
          [
           "34 route de la La Roche Torin, 50220  Courtils, France"
          ],
          [
           "Route de la Baie, L'Hôpital, 35610 Roz-sur-Couesnon, France"
          ],
          [
           "51, rue de la Libération, 50170 Pontorson, France"
          ],
          [
           "14 Rue du Docteur Tizon, 50170 Pontorson, France"
          ],
          [
           "50 Boulevard Clémenceau, 50170 Pontorson, France"
          ],
          [
           "8 boulevard Hebert, Paramé, 35400 Saint-Malo, France"
          ],
          [
           "17 Rue Des Dunes, Sillon, 35400 Saint-Malo, France"
          ],
          [
           "1 rue Sainte Anne, Intra muros, 35400 Saint-Malo, France"
          ],
          [
           "4 Place De La Poissonnerie, Intra muros, 35400 Saint-Malo, France"
          ],
          [
           "28 avenue Pasteur, Sillon, 35400 Saint-Malo, France"
          ],
          [
           "4 rue de la Guymauviere, 35400 Saint-Malo, France"
          ],
          [
           "2 Rue Alphonse Thébault, 35400 Saint-Malo, France"
          ],
          [
           "Place Vauban, Intra muros, 35400 Saint-Malo, France"
          ],
          [
           "76 Chaussée du Sillon, Sillon, 35400 Saint-Malo, France"
          ],
          [
           "76 Avenue du Général de Gaulle, 35400 Saint-Malo, France"
          ],
          [
           "Place Chateaubriand Bp 77, Intra muros, 35400 Saint-Malo, France"
          ],
          [
           "9, rue de la corne de cerf, Intra muros, 35400 Saint-Malo, France"
          ],
          [
           "Chaussée du sillon, Sillon, 35400 Saint-Malo, France"
          ],
          [
           "8 Rue Godard, Saint-Servan, 35400 Saint-Malo, France"
          ],
          [
           "49, Chaussée du Sillon, Sillon, 35400 Saint-Malo, France"
          ],
          [
           "10 rue de la corne de cerf, Intra muros, 35400 Saint-Malo, France"
          ],
          [
           "100 bd hebert, Sillon, 35400 Saint-Malo, France"
          ],
          [
           "1, Rue de la Corne de Cerf, Intra muros, 35400 Saint-Malo, France"
          ],
          [
           "3 Rue Alphonse Thébault, 35400 Saint-Malo, France"
          ],
          [
           "11 Chaussée Du Sillon, Sillon, 35400 Saint-Malo, France"
          ],
          [
           "20 rue de Cremel, 14400 Bayeux, France"
          ],
          [
           "9 Rue Genas-Duhomme, 14400 Bayeux, France"
          ],
          [
           "Chemin De La Cambette, 14400 Bayeux, France"
          ],
          [
           "23 Rue Larcher, 14400 Bayeux, France"
          ],
          [
           "71 Rue Saint Jean, 14400 Bayeux, France"
          ],
          [
           "23 Rue Larcher, 14400 Bayeux, France"
          ],
          [
           "45 Rue Saint-Loup, 14400 Bayeux, France"
          ],
          [
           "49, Rue de Bellefontaine, 14400 Bayeux, France"
          ],
          [
           "4, Chemin Saint-Julien, 14400 Bayeux, France"
          ],
          [
           "14 Rue St Jean, 14400 Bayeux, France"
          ],
          [
           "Angle Du Bd du Marechal Leclerc et Route de Saint Lo, 14400 Bayeux, France"
          ],
          [
           "25 Rue Des Bouchers, 14400 Bayeux, France"
          ],
          [
           "9 Rue Tardif, 14400 Bayeux, France"
          ],
          [
           "117 Rue Saint Patrice, 14400 Bayeux, France"
          ],
          [
           "21 Rue Saint Patrice, 14400 Bayeux, France"
          ],
          [
           "30 Rue St Patrice, 14400 Bayeux, France"
          ],
          [
           "32 Rue Saint-Patrice, 14400 Bayeux, France"
          ],
          [
           "6, Place du Québec, 14400 Bayeux, France"
          ],
          [
           "20 rue Alain Chartier, 14400 Bayeux, France"
          ],
          [
           "9 boulevard Winston Churchill, 14400 Bayeux, France"
          ],
          [
           "128 Boulevard Clemenceau, Perret, 76600 Le Havre, France"
          ],
          [
           "1 Rue Louis Philippe, Perret, 76600 Le Havre, France"
          ],
          [
           "5-7 Place Armand Frémont, 76600 Le Havre, France"
          ],
          [
           "Place Jules Ferry, Perret, 76600 Le Havre, France"
          ],
          [
           "15, Rue Georges Braque, Perret, 76600 Le Havre, France"
          ],
          [
           "126 Cours De La Republique, 76600 Le Havre, France"
          ],
          [
           "211 Boulevard de Strasbourg, Perret, 76600 Le Havre, France"
          ],
          [
           "95 Quai Colbert, 76600 Le Havre, France"
          ],
          [
           "102 Rue Hélène, 76600 Le Havre, France"
          ],
          [
           "29 Rue Du Général De Gaulle, Sainte-Adresse, 76310 Le Havre, France"
          ],
          [
           "Quai Colbert, 76600 Le Havre, France"
          ],
          [
           "5 rue Magellan, 76600 Le Havre, France"
          ],
          [
           "4 Rue De Caligny, Perret, 76600 Le Havre, France"
          ],
          [
           "147 Rue Louis Brindeau, Perret, 76600 Le Havre, France"
          ],
          [
           "25 Rue Lesueur, 76600 Le Havre, France"
          ],
          [
           "23, Cours De La République, 76600 Le Havre, France"
          ],
          [
           "106 rue Voltaire, Perret, 76600 Le Havre, France"
          ],
          [
           "23, Rue Fénelon, 76600 Le Havre, France"
          ],
          [
           "25 Cours Commandant Fratacci, Perret, 76600 Le Havre, France"
          ],
          [
           "Rue 129ème R. I. - Parking: 120 Rue Jules Siegfried, Perret, 76600 Le Havre, France"
          ],
          [
           "34 rue Ganterie, 76000 Rouen, France"
          ],
          [
           "14, Quai Gaston Boulet, 76000 Rouen, France"
          ],
          [
           "6-8 Rue du Donjon, 76000 Rouen, France"
          ],
          [
           "45 Rue Aux Juifs, 76000 Rouen, France"
          ],
          [
           "56 Quai Gaston Boulet, 76000 Rouen, France"
          ],
          [
           "64 Rue Saint-Julien, 76100 Rouen, France"
          ],
          [
           "12 Rue Saint Romain, 76000 Rouen, France"
          ],
          [
           "18-24 Rue De Quebec, 76000 Rouen, France"
          ],
          [
           "33 rue du Vieux Palais / 15 rue de la Pie, 76000 Rouen, France"
          ],
          [
           "1 Rue Morand, 76000 Rouen, France"
          ],
          [
           "10 Quai de la Bourse, 76000 Rouen, France"
          ],
          [
           "93 A Rue Cauchoise, 76000 Rouen, France"
          ],
          [
           "2 rue du Docteur Robert Rambert, 76000 Rouen, France"
          ],
          [
           "12 bis Avenue Aristide Briand, 76000 Rouen, France"
          ],
          [
           "20 Place de L'Eglise St-Sever, 76100 Rouen, France"
          ],
          [
           "33 Boulevard Gambetta, 76000 Rouen, France"
          ],
          [
           "12 Avenue Aristide Briand, 76000 Rouen, France"
          ],
          [
           "1 Rue Petit de Julleville, 76000 Rouen, France"
          ],
          [
           "77 route de Neufchatel, 76000 Rouen, France"
          ],
          [
           "12 Rue De La Champmeslé, 76000 Rouen, France"
          ],
          [
           "4 Rue Hassard, 19e arr., 75019 Paris, France"
          ],
          [
           "13 rue Houdon, 18e arr., 75018 Paris, France"
          ],
          [
           "97 rue Saint Maur, 11e arr., 75011 Paris, France"
          ],
          [
           "23 Rue De La Jonquière, 17e arr., 75017 Paris, France"
          ],
          [
           "2 Rue De Parme, 9e arr., 75009 Paris, France"
          ],
          [
           "5 Rue du Baigneur, 18e arr., 75018 Paris, France"
          ],
          [
           "180 Rue Ordener, 18e arr., 75018 Paris, France"
          ],
          [
           "11 rue Ravignan , Place Emile Goudeau, 18e arr., 75018 Paris, France"
          ],
          [
           "23 Rue Des Messageries, 10e arr., 75010 Paris, France"
          ],
          [
           "11, rue Fromentin, 9e arr., 75009 Paris, France"
          ],
          [
           "23 Avenue René Fonck, 19e arr., 75019 Paris, France"
          ],
          [
           "125 Bd Saint Michel, 5e arr., 75005 Paris, France"
          ],
          [
           "1 Place De La Sorbonne, 5e arr., 75005 Paris, France"
          ],
          [
           "12 rue de Lyon, 12e arr., 75012 Paris, France"
          ],
          [
           "154 Avenue de Saint-Ouen, 18e arr., 75018 Paris, France"
          ],
          [
           "295 Avenue Daumesnil, 12e arr., 75012 Paris, France"
          ],
          [
           "14 Rue du Docteur Heulin, 17e arr., 75017 Paris, France"
          ],
          [
           "43 Rue des Mathurins, 8e arr., 75008 Paris, France"
          ],
          [
           "2 rue des Maronites, 20e arr., 75020 Paris, France"
          ],
          [
           "9, Rue du Sommerard, 5e arr., 75005 Paris, France"
          ],
          [
           "25 Rue Frédéric Petit, 80000 Amiens, France"
          ],
          [
           "25 rue du Blamont, 80000 Amiens, France"
          ],
          [
           "15 Rue Dejean, 80000 Amiens, France"
          ],
          [
           "4 Rue Du Marechal De Lattre De Tassigny, 80000 Amiens, France"
          ],
          [
           "80, boulevard d'Alsace-Lorraine, 80000 Amiens, France"
          ],
          [
           "10 Boulevard Alsace Lorraine, 80000 Amiens, France"
          ],
          [
           "17 rue Alexandre Fatton, 80000 Amiens, France"
          ],
          [
           "26 Rue Victor Hugo, 80000 Amiens, France"
          ],
          [
           "17 Rue Porion, 80000 Amiens, France"
          ],
          [
           "10 Rue Lamartine, 80000 Amiens, France"
          ],
          [
           "29-33 rue Paul Tellier, 80000 Amiens, France"
          ],
          [
           "21/23 Rue Flatters, 80000 Amiens, France"
          ],
          [
           "2 rue de Noyon, 80000 Amiens, France"
          ],
          [
           "Rue Raphael, 80080 Amiens, France"
          ],
          [
           "37 Boulevard Maignan Larivière, 80000 Amiens, France"
          ],
          [
           "Zac St Ladre - Rue le Greco, 80085 Amiens, France"
          ],
          [
           "54 rue Jules Barni, 80000 Amiens, France"
          ],
          [
           "1 bis rue Lamartine, 80000 Amiens, France"
          ],
          [
           "1 avenue de l'hippodrome AMIENS, 80000 Amiens, France"
          ],
          [
           "73 avenue Valery Giscard d'Estaing, 80000 Amiens, France"
          ],
          [
           "avenue Le Corbusier, Centre de Lille, 59777 Lille, France"
          ],
          [
           "10 Rue Meurein, Wazemmes, 59800 Lille, France"
          ],
          [
           "8 Parvis St Maurice, Centre de Lille, 59800 Lille, France"
          ],
          [
           "3, Rue Jean Bart, Centre de Lille, 59000 Lille, France"
          ],
          [
           " 3 rue Pierre Mauroy, Centre de Lille, 59000 Lille, France"
          ],
          [
           "13 Rue d'Amiens, Centre de Lille, 59800 Lille, France"
          ],
          [
           "7/9 Place Louise de Bettignies, Vieux-Lille, 59000 Lille, France"
          ],
          [
           "97 PLACE SAINT HUBERT, Centre de Lille, 59800 Lille, France"
          ],
          [
           "132 Rue Bayard, Moulins, 59000 Lille, France"
          ],
          [
           "6 rue professeur Langevin, Fives, 59000 Lille, France"
          ],
          [
           "75 Bis Rue Leon Gambetta, Centre de Lille, 59000 Lille, France"
          ],
          [
           "57 rue de Bethune, Centre de Lille, 59000 Lille, France"
          ],
          [
           "5, rue Jean Roisin, Centre de Lille, 59000 Lille, France"
          ],
          [
           "51 Rue Faidherbe, Centre de Lille, 59000 Lille, France"
          ],
          [
           "306 Rue Geneviève Anthonioz de Gaulle, Lille Sud, 59000 Lille, France"
          ],
          [
           "76 Rue De L Hopital Militaire, Centre de Lille, 59800 Lille, France"
          ],
          [
           "66, rue Littré, Wazemmes, 59000 Lille, France"
          ],
          [
           "3-5 Parvis St Maurice, Centre de Lille, 59000 Lille, France"
          ],
          [
           "10 Rue De Béthune (adresse postale) / Entrée rue de la Vieille Comédie, Centre de Lille, 59000 Lille, France"
          ],
          [
           "110, Avenue de la République, 59110 Lille, France"
          ],
          [
           "24 rue du Faubourg National, 67000 Strasbourg, France"
          ],
          [
           "16 Rue Hannong, 67000 Strasbourg, France"
          ],
          [
           "14, rue des Corroyeurs, 67200 Strasbourg, France"
          ],
          [
           "5 Rue Jacques Kablé, 67000 Strasbourg, France"
          ],
          [
           "21 rue du Fossé des Tanneurs, 67000 Strasbourg, France"
          ],
          [
           "27 rue de Wasselonne , 67000 Strasbourg, France"
          ],
          [
           "4- 6 Boulevard de Dresde, 67000 Strasbourg, France"
          ],
          [
           "12, Place de la Gare, 67000 Strasbourg, France"
          ],
          [
           "22 Rue de Bouxwiller, 67000 Strasbourg, France"
          ],
          [
           "8 rue des Bateliers, 67000 Strasbourg, France"
          ],
          [
           "1 Rue des Magasins, 67000 Strasbourg, France"
          ],
          [
           "29 Avenue Aristide Briand, 67100 Strasbourg, France"
          ],
          [
           "17-19, rue du Maroquin, 67000 Strasbourg, France"
          ],
          [
           "10 Place du Marché aux Cochons de Lait, 67000 Strasbourg, France"
          ],
          [
           "1 Rue Armande Béjart, 67200 Strasbourg, France"
          ],
          [
           "2 place de la Gare, 67000 Strasbourg, France"
          ],
          [
           "29 Place Kleber, 67000 Strasbourg, France"
          ],
          [
           "9, place de la Gare, 67000 Strasbourg, France"
          ],
          [
           "18 rue du Faubourg National, 67000 Strasbourg, France"
          ],
          [
           "50-54 Rue Du Jeu Des Enfants, 67000 Strasbourg, France"
          ],
          [
           "19 Route Du Vin, 68630 Mittelwihr, France"
          ],
          [
           "6, Rue Du Parc, 68590 Saint-Hippolyte, France"
          ],
          [
           "2A, rue de la piscine, 68340 Riquewihr, France"
          ],
          [
           "1, rue Clemenceau, 67730 Châtenois, France"
          ],
          [
           "3, Rue Des Écuries Seigneuriales, 68340 Riquewihr, France"
          ],
          [
           "Chemin Du Mandelberg, 68630 Mittelwihr, France"
          ],
          [
           "3, route de Ribeauvillé, 68340 Riquewihr, France"
          ],
          [
           "9 rue de Rodern, 68590 Thannenkirch, France"
          ],
          [
           "2 Route Romaine, 67650 Dieffenthal, France"
          ],
          [
           "2 Grand'Rue, 68150 Ribeauvillé, France"
          ],
          [
           "5, Route De Baldenheim - Rathsamhausen le Haut, 67600 Sélestat, France"
          ],
          [
           "122 Grand Rue, 68150 Ribeauvillé, France"
          ],
          [
           "2 Route De Colmar, 68150 Ostheim, France"
          ],
          [
           "23, chemin du Wall, 68590 Saint-Hippolyte, France"
          ],
          [
           "6 Place du Marché, 67220 Villé, France"
          ],
          [
           "31 rue du Pinot Noir, 68590 Rodern, France"
          ],
          [
           "2 rue de Rodern, 68590 THANNENKIRCH, 68590 Thannenkirch, France"
          ],
          [
           "Rue De La Fontaine, 68340 Zellenberg, France"
          ],
          [
           "9-13 Rue Du General De Gaulle, 68240 Kaysersberg, France"
          ],
          [
           "RD 106 BP 50002, 68151 Ribeauvillé, France"
          ],
          [
           "14 route de Rouffach, 68000 Colmar, France"
          ],
          [
           "38, Route De Sélestat, 68000 Colmar, France"
          ],
          [
           "10 rue Saint Eloi, 68000 Colmar, France"
          ],
          [
           "10 Route de Bâle, 68000 Colmar, France"
          ],
          [
           "1B rue des Frères Lumière, 68000 Colmar, France"
          ],
          [
           "15 Rue Stanislas, 68000 Colmar, France"
          ],
          [
           "1, Rue De La Gare, 68000 Colmar, France"
          ],
          [
           "2, rue des Trois Epis, 68000 Colmar, France"
          ],
          [
           "2C Rue Timken, 68000 Colmar, France"
          ],
          [
           "2 Rue De La Fecht, 68000 Colmar, France"
          ],
          [
           "38, Grand'Rue, 68000 Colmar, France"
          ],
          [
           "11 avenue Joffre, 68000 Colmar, France"
          ],
          [
           "7 rue Turenne, 68000 Colmar, France"
          ],
          [
           "2 RUE DU GRILLENBREIT, 68000 Colmar, France"
          ],
          [
           "14 rue des Augustins, 68000 Colmar, France"
          ],
          [
           "15 rue Golbery, 68000 Colmar, France"
          ],
          [
           "83 Route De Bâle, 68000 Colmar, France"
          ],
          [
           "2 avenue Gilbert-Meyer, 68000 Colmar, France"
          ],
          [
           "11A Boulevard du Champ de Mars, 68000 Colmar, France"
          ],
          [
           "15 route de Neuf Brisach - Horbourg Wihr, 68180 Colmar, France"
          ],
          [
           "13 Rue du Rempart Nord , 68920 Eguisheim, France"
          ],
          [
           "2 rue des Trois Châteaux, 68420 Eguisheim, France"
          ],
          [
           "1 rue du rempart sud, 68420 Eguisheim, France"
          ],
          [
           "Rue du Schlossberg, 68420 Eguisheim, France"
          ],
          [
           "Route De Wettolsheim, 68420 Eguisheim, France"
          ],
          [
           "2 rue du Château, 68420 Eguisheim, France"
          ],
          [
           "6 rue des 3 Pierres, 68420 Eguisheim, France"
          ],
          [
           "12 Grand'Rue, 68420 Eguisheim, France"
          ],
          [
           "10 Grand Rue, 68420 Eguisheim, France"
          ],
          [
           "26 Grand Rue, 68420 Eguisheim, France"
          ],
          [
           "14 route de Rouffach, 68000 Colmar, France"
          ],
          [
           "91 Rue Clemenceau, 68920 Wintzenheim, France"
          ],
          [
           "83 Route De Bâle, 68000 Colmar, France"
          ],
          [
           "27 Rue Herzog, 68124 Wintzenheim, France"
          ],
          [
           "11 avenue Joffre, 68000 Colmar, France"
          ],
          [
           "29 rue Romaine, 68230 Turckheim, France"
          ],
          [
           "9. Rue Herzog, 68920 Wettolsheim, France"
          ],
          [
           "57 Route d'Eguisheim, 68920 Wettolsheim, France"
          ],
          [
           "7 place de La Gare, 68000 Colmar, France"
          ],
          [
           "18 quai de la Fecht, 68040 Ingersheim, France"
          ],
          [
           "6, rue du Chapitre, 25000 Besançon, France"
          ],
          [
           "11 Avenue Louise Michel, 25000 Besançon, France"
          ],
          [
           "1 avenue Louise Michel, 25000 Besançon, France"
          ],
          [
           "6, Rue de La Viotte, 25000 Besançon, France"
          ],
          [
           "3 Chemin des Founottes, 25000 Besançon, France"
          ],
          [
           "33 rue des Granges, 25000 Besançon, France"
          ],
          [
           "22 bis Rue de Trey, 25000 Besançon, France"
          ],
          [
           "17 Avenue des Montboucons, 25000 Besançon, France"
          ],
          [
           "13 rue du Général Lecourbe, 25000 Besançon, France"
          ],
          [
           "21 rue Gambetta, 25000 Besançon, France"
          ],
          [
           "8, rue Moncey, 25000 Besançon, France"
          ],
          [
           "23 Avenue Fontaine-Argent, 25000 Besançon, France"
          ],
          [
           "26, rue Paul Milleret, 25000 Besançon, France"
          ],
          [
           "7 Bis Avenue Foch, 25000 Besançon, France"
          ],
          [
           "91 Grande Rue, 25000 Besançon, France"
          ],
          [
           "9 Quai Vauban, 25000 Besançon, France"
          ],
          [
           "58, Rue des Maisonnettes - RD 75, 25480 Besançon, France"
          ],
          [
           "159 Rue de Dole, 25000 Besançon, France"
          ],
          [
           "7 Route d'Epinal, 25480 Besançon, France"
          ],
          [
           "3 avenue Edouard Droz, 25000 Besançon, France"
          ],
          [
           "33 rue de Mulhouse, 21000 Dijon, France"
          ],
          [
           "30 Rue des Perrières, 21000 Dijon, France"
          ],
          [
           "3/5, rue Turgot, Centre-ville de Dijon, 21000 Dijon, France"
          ],
          [
           "5 rue du Château - Place Grangier, Centre-ville de Dijon, 21000 Dijon, France"
          ],
          [
           "1 Place Marie de Bourgogne, 21000 Dijon, France"
          ],
          [
           "7-9 Rue Docteur Albert Remy, 21000 Dijon, France"
          ],
          [
           "8 rue Montigny, 21000 Dijon, France"
          ],
          [
           "96 rue des Godrans, Centre-ville de Dijon, 21000 Dijon, France"
          ],
          [
           "3 rue du Nord, Centre-ville de Dijon, 21000 Dijon, France"
          ],
          [
           "22 Boulevard De La Marne, 21071 Dijon, France"
          ],
          [
           "5, rue Lamonnoye, Centre-ville de Dijon, 21000 Dijon, France"
          ],
          [
           "23 Rue des Fleurs, 21000 Dijon, France"
          ],
          [
           "32 Rue Verrerie, Centre-ville de Dijon, 21000 Dijon, France"
          ],
          [
           "3 rue Devosge, 21000 Dijon, France"
          ],
          [
           "4 et 6 passage Thurot, 21000 Dijon, France"
          ],
          [
           "1 Avenue de l'Ouche, 21000 Dijon, France"
          ],
          [
           "8 Place Grangier, Centre-ville de Dijon, 21000 Dijon, France"
          ],
          [
           "1 rue de Longvic, 21000 Dijon, France"
          ],
          [
           "12-14,Rue Pierre De Coubertin, 21000 Dijon, France"
          ],
          [
           "Boulevard de la Fontaine des Suisses, 21000 Dijon, France"
          ],
          [
           "12 rue de la Gare, 74000 Annecy, France"
          ],
          [
           "5 Avenue de Chavoires, 74940 Annecy, France"
          ],
          [
           "13 Rue Perriere, 74000 Annecy, France"
          ],
          [
           "19, Rue Vaugelas, 74000 Annecy, France"
          ],
          [
           "15 Boulevard de la Corniche, 74000 Annecy, France"
          ],
          [
           "12 Rue De La Poste, 74000 Annecy, France"
          ],
          [
           "6 Chemin de Colmyr, 74000 Annecy, France"
          ],
          [
           "15 rue Louis Chaumontel, 74000 Annecy, France"
          ],
          [
           "16, rampe du Château, 74000 Annecy, France"
          ],
          [
           "5 avenue d'Aléry, 74000 Annecy, France"
          ],
          [
           "entrée par la rue de la providence 2 Rue des Marquisats, 74000 Annecy, France"
          ],
          [
           "11 rue Sommeiller, 74000 Annecy, France"
          ],
          [
           "5 Rue des Glières, 74000 Annecy, France"
          ],
          [
           "61 Rue Centrale, 74940 Annecy, France"
          ],
          [
           "34, Avenue d'Albigny, 74000 Annecy, France"
          ],
          [
           "20 Rue des Marquisats, 74000 Annecy, France"
          ],
          [
           "24, rue Sommeiller, 74000 Annecy, France"
          ],
          [
           "1 Place de la Mandallaz, 74000 Annecy, France"
          ],
          [
           "9 rue Royale, 74000 Annecy, France"
          ],
          [
           "27 Rue Sommeiller, 74000 Annecy, France"
          ],
          [
           "15 Rue Maurice Gignoux, 38000 Grenoble, France"
          ],
          [
           "10 Place Paul Mistral, 38000 Grenoble, France"
          ],
          [
           "9 Rue de Strasbourg, 38000 Grenoble, France"
          ],
          [
           "5 rue de la Republique, 38000 Grenoble, France"
          ],
          [
           "10, Rue Barbillon, 38000 Grenoble, France"
          ],
          [
           "2 Rue Gabriel Peri, 38000 Grenoble, France"
          ],
          [
           "41, rue Maurice Dodéro, 38100 Grenoble, France"
          ],
          [
           "58 Rue Félix Escanglon, 38000 Grenoble, France"
          ],
          [
           "12 Rue De Palanka, 38000 Grenoble, France"
          ],
          [
           "31, Avenue de l'Europe, 38100 Grenoble, France"
          ],
          [
           "10 Place de la Gare, 38000 Grenoble, France"
          ],
          [
           "11, Rue Général Mangin, 38100 Grenoble, France"
          ],
          [
           "5, place Victor Hugo, 38000 Grenoble, France"
          ],
          [
           "116 Cours de la Libération, 38100 Grenoble, France"
          ],
          [
           "6 rue Auguste Genin, 38000 Grenoble, France"
          ],
          [
           "8 Place de la Gare, 38000 Grenoble, France"
          ],
          [
           "29 Rue Pierre Sémard, 38000 Grenoble, France"
          ],
          [
           "22 Place Grenette, 38000 Grenoble, France"
          ],
          [
           "23 rue Hoche, 38000 Grenoble, France"
          ],
          [
           "23 Cours Charlemagne, 2e arr., 69002 Lyon, France"
          ],
          [
           "75 Boulevard Marius Vivier Merle, 3e arr., 69003 Lyon, France"
          ],
          [
           "70 Quai Charles de Gaulle, 6e arr., 69006 Lyon, France"
          ],
          [
           "35 Quai Charles de Gaulle, 6e arr., 69006 Lyon, France"
          ],
          [
           "9 rue Pareille, 1er arr., 69001 Lyon, France"
          ],
          [
           "16 Boulevard des Brotteaux, 6e arr., 69006 Lyon, France"
          ],
          [
           "12 rue Marc Antoine Petit, 2e arr., 69002 Lyon, France"
          ],
          [
           "23 rue Roger Radisson, 5e arr., 69005 Lyon, France"
          ],
          [
           "68 Avenue Leclerc, 7e arr., 69007 Lyon, France"
          ],
          [
           "18 rue Bellecordière, 2e arr., 69002 Lyon, France"
          ],
          [
           "28 rue Vaubecour, 2ème étage,, 2e arr., 69002 Lyon, France"
          ],
          [
           "22 Rue du Bœuf, 5e arr., 69005 Lyon, France"
          ],
          [
           "6 Place De La Gare, 38000 Grenoble, France"
          ],
          [
           "5 Rue Stella, 2e arr., 69002 Lyon, France"
          ],
          [
           "6 Avenue Lacassagne, 3e arr., 69003 Lyon, France"
          ],
          [
           "2 Rue Thomassin, 2e arr., 69002 Lyon, France"
          ],
          [
           "48 Rue Henon, 4e arr., 69004 Lyon, France"
          ],
          [
           "62, rue Garibaldi, 6e arr., 69006 Lyon, France"
          ],
          [
           "40 Rue de l'Abondance, 3e arr., 69003 Lyon, France"
          ],
          [
           "4 Rue des Archers, 2e arr., 69002 Lyon, France"
          ],
          [
           "4 rue de l'ancienne préfecture, 2e arr., 69002 Lyon, France"
          ],
          [
           "La Ferme Rose, Chemin de Peyrengue, 04360 Moustiers-Sainte-Marie, France"
          ],
          [
           "18 Rue St Catherine, 83630 Les Salles-sur-Verdon, France"
          ],
          [
           "893 Route de Baudinard, 83630 Moissac-Bellevue, France"
          ],
          [
           "4 rue du chemin neuf, 04800 Gréoux-les-Bains, France"
          ],
          [
           "37 Grand rue, 83630 Baudinard, France"
          ],
          [
           "Grande Rue, 83630 Aiguines, France"
          ],
          [
           "Place de la Fontaine, 83630 Aiguines, France"
          ],
          [
           "Carrefour Départemental 957, 83630 Les Salles-sur-Verdon, France"
          ],
          [
           "Le Logis Du Pin D6085, 83840 La Martre, France"
          ],
          [
           "8 bd de la République, 04120 Castellane, France"
          ],
          [
           "Les Riayes, 04800 Gréoux-les-Bains, France"
          ],
          [
           "5 Place Marcel Sauvaire, 04120 Castellane, France"
          ],
          [
           "Route de Valensole, 04800 Gréoux-les-Bains, France"
          ],
          [
           "3100, départementale 71 - Quartier Le Cavalet, 83630 Bauduen, France"
          ],
          [
           "Quartier Saint Michel, 04360 Moustiers-Sainte-Marie, France"
          ],
          [
           "Place Marcel Sauvaire, 04120 Castellane, France"
          ],
          [
           "3 place de l'Eglise, 04120 Castellane, France"
          ],
          [
           "Avenue de Lerins , 04360 Moustiers-Sainte-Marie, France"
          ],
          [
           "Le Paradou, 04360 Moustiers-Sainte-Marie, France"
          ],
          [
           "43, avenue du Colombier, 04800 Gréoux-les-Bains, France"
          ],
          [
           "62 Impasse du Castellan, 83230 Bormes-les-Mimosas, France"
          ],
          [
           "165 Avenue Des Girelles - La Favière, 83230 Bormes-les-Mimosas, France"
          ],
          [
           "La Favière 352 Boulevard de la Plage, 83230 Bormes-les-Mimosas, France"
          ],
          [
           "14 place Gambetta, 83230 Bormes-les-Mimosas, France"
          ],
          [
           "240 Chemin du Petit Fort, 83230 Bormes-les-Mimosas, France"
          ],
          [
           "Place Gambetta, 83230 Bormes-les-Mimosas, France"
          ],
          [
           "167 Route Du Baguier, 83230 Bormes-les-Mimosas, France"
          ],
          [
           "5478 Avenue Lou Mistraou, 83230 Bormes-les-Mimosas, France"
          ],
          [
           "38, Rue De La Vue Des Iles, 83230 Bormes-les-Mimosas, France"
          ],
          [
           "Chemin du Perussier, 83980 Le Lavandou, France"
          ],
          [
           "Avenue Vincent Auriol, 83980 Le Lavandou, France"
          ],
          [
           "5, Avenue Franklin Roosevelt, 83980 Le Lavandou, France"
          ],
          [
           "1246 Avenue André Gide, 83980 Le Lavandou, France"
          ],
          [
           "Place Des Pins Penchés Saint-Clair Le Lavandou, 83980 Le Lavandou, France"
          ],
          [
           "10 avenue du General de Gaulle, 83980 Le Lavandou, France"
          ],
          [
           "2 Rue Rabelais, 83980 Le Lavandou, France"
          ],
          [
           "17 Avenue des Martyrs de la Resistance, 83980 Le Lavandou, France"
          ],
          [
           "Quai Baptistin Pins, 83980 Le Lavandou, France"
          ],
          [
           "Avenue du Général Bouvet-Le Front de Mer, 83980 Le Lavandou, France"
          ],
          [
           "avenue des 3 Dauphins, 83980 Le Lavandou, France"
          ],
          [
           "10 Rue Abbé Paul Mouton, 13260 Cassis, France"
          ],
          [
           "2, rue Pierre Eydin, 13260 Cassis, France"
          ],
          [
           "3, Place Grand Carnot, 13260 Cassis, France"
          ],
          [
           "Place Clémenceau, 13260 Cassis, France"
          ],
          [
           "8 Rue de l'Arène, 13260 Cassis, France"
          ],
          [
           "1, avenue des Dardanelles, 13260 Cassis, France"
          ],
          [
           "10 Avenue Augustin Isnard, 13260 Cassis, France"
          ],
          [
           "Avenue Auguste Favier, 13260 Cassis, France"
          ],
          [
           "6 Avenue Du 11 Novembre, 13260 Cassis, France"
          ],
          [
           "1, Avenue du Revestel - Impasse du Coulet, 13260 Cassis, France"
          ],
          [
           "2 avenue victor hugo, 13260 Cassis, France"
          ],
          [
           "19 Avenue De L'amiral Ganteaume, 13260 Cassis, France"
          ],
          [
           "S/N Route De La Gineste, 13260 Cassis, France"
          ],
          [
           "9 Avenue des Calanques, 13260 Cassis, France"
          ],
          [
           "23 Ave Amiral Ganteaume, 13260 Cassis, France"
          ],
          [
           "Avenue Jean Auguste Ingres, 13470 Carnoux-en-Provence, France"
          ],
          [
           "1461 Route de Cassis, 13830 Roquefort-la-Bédoule, France"
          ],
          [
           "'Actiparc Ii' Chemin De Saint Lambert, Lieu-Dit 'La Bastidonne', 13821 La Penne-sur-Huveaune, France"
          ],
          [
           "756 Avenue Emile Bodin, 13600 La Ciotat, France"
          ],
          [
           "54 Boulevard Jean Jaurès, 13600 La Ciotat, France"
          ],
          [
           "2 rue Bonneterie, 13002 Marseille, France"
          ],
          [
           "118-120 rue de Ruffi, 13002 Marseille, France"
          ],
          [
           "6 Allée Marcel Leclerc, 13008 Marseille, France"
          ],
          [
           "32 Rue Paradis, 13001 Marseille, France"
          ],
          [
           "6 Rue de Cassis, 13008 Marseille, France"
          ],
          [
           "6, Rue Beauvau, 13001 Marseille, France"
          ],
          [
           "35 Quai Des Belges, 13001 Marseille, France"
          ],
          [
           "4 Place Pierre Bertas, 13001 Marseille, France"
          ],
          [
           "46 Rue Sainte, 13001 Marseille, France"
          ],
          [
           "25 Rue Coutellerie, 13002 Marseille, France"
          ],
          [
           "44 rue de Ruffi, 13003 Marseille, France"
          ],
          [
           "119/121, Boulevard National, Belle de Mai - Saint-Lazare, 13003 Marseille, France"
          ],
          [
           "1-3 Chemin De l'Armée d'Afrique, Saint-Pierre, 13005 Marseille, France"
          ],
          [
           "17 Rue René Cassin, 13003 Marseille, France"
          ],
          [
           "12 Rue Breteuil, 13001 Marseille, France"
          ],
          [
           "25 Avenue du General Leclerc, Belle de Mai - Saint-Lazare, 13003 Marseille, France"
          ],
          [
           "7 Square des Frères Ambrogiani - Allées Turcat Mery, 13008 Marseille, France"
          ],
          [
           "5 impasse Madeleine Simon, Les Chartreux, 13004 Marseille, France"
          ],
          [
           "2 place Gabriel Péri, 13001 Marseille, France"
          ],
          [
           "71 Boulevard Charles Livon, 13007 Marseille, France"
          ],
          [
           "615 Avenue Wolfgang Amadeus Mozart, 13100 Aix-en-Provence, France"
          ],
          [
           "24 Rue Cardinale, 13100 Aix-en-Provence, France"
          ],
          [
           "3 Rue De La Masse, 13100 Aix-en-Provence, France"
          ],
          [
           "54, Rue Roux Alphéran, 13100 Aix-en-Provence, France"
          ],
          [
           "1075, Chemin du Mont Robert, 13290 Aix-en-Provence, France"
          ],
          [
           "1 Avenue Robert Schuman, 13090 Aix-en-Provence, France"
          ],
          [
           "10 avenue Pasteur, 13100 Aix-en-Provence, France"
          ],
          [
           "40 Avenue Victor Hugo, 13100 Aix-en-Provence, France"
          ],
          [
           "2, Rue des Etuves, 13100 Aix-en-Provence, France"
          ],
          [
           "29, boulevard du Roi René, 13100 Aix-en-Provence, France"
          ],
          [
           "69 Boulevard Carnot, 13100 Aix-en-Provence, France"
          ],
          [
           "66-68 Boulevard Du Roi René, 13100 Aix-en-Provence, France"
          ],
          [
           "49 Cours Gambetta, 13100 Aix-en-Provence, France"
          ],
          [
           "550 rue Denis Papin, 13100 Aix-en-Provence, France"
          ],
          [
           "5 Route de Galice, 13090 Aix-en-Provence, France"
          ],
          [
           "74, cours Sextius, 13100 Aix-en-Provence, France"
          ],
          [
           "CD10 route de Berre, 13510 Aix-en-Provence, France"
          ],
          [
           "24 Boulevard Albert Charrier, 13090 Aix-en-Provence, France"
          ],
          [
           "10, Cours des Minimes, 13100 Aix-en-Provence, France"
          ],
          [
           "Pont de l'Arc 2, Chemin des Granges, 13090 Aix-en-Provence, France"
          ],
          [
           "6 Route de Lyon , 84000 Avignon, France"
          ],
          [
           "63 Rue du Portail Magnanen, 84000 Avignon, France"
          ],
          [
           "12 chemin de la Barthelasse, 84000 Avignon, France"
          ],
          [
           "26, Place de l'horloge, 84000 Avignon, France"
          ],
          [
           "8, boulevard Saint Dominique, 84000 Avignon, France"
          ],
          [
           "34, bd Saint-Roch, 84000 Avignon, France"
          ],
          [
           "29 boulevard Raspail, 84000 Avignon, France"
          ],
          [
           "17, Rue Agricol Perdiguier, 84000 Avignon, France"
          ],
          [
           "15 rue Petite Saunerie, 84000 Avignon, France"
          ],
          [
           "31/33 Rue De La République, 84000 Avignon, France"
          ],
          [
           "2 Avenue Eisenhower, 84000 Avignon, France"
          ],
          [
           "49 rue du Portail Magnanen, 84000 Avignon, France"
          ],
          [
           "6, Rue de la République, 84000 Avignon, France"
          ],
          [
           "20 Rue Galante, 84000 Avignon, France"
          ],
          [
           "5 Impasse de l'Epi, 84000 Avignon, France"
          ],
          [
           "38 Cours Jean Jaurès, 84000 Avignon, France"
          ],
          [
           "6 Rue Du Portail Boquier, 84000 Avignon, France"
          ],
          [
           "9 Rue Paul Merindol, 84000 Avignon, France"
          ],
          [
           "89 Rue Joseph Vernet, 84000 Avignon, France"
          ],
          [
           "13-15 Avenue Monclar, 84000 Avignon, France"
          ],
          [
           "Rue Xavier Sigalon, 30700 Uzès, France"
          ],
          [
           "4 place de l'Evêché, Rue de la Calade, 30700 Uzès, France"
          ],
          [
           "Chemin de Saint-Geniès, 30700 Uzès, France"
          ],
          [
           "Domaine de Privadière, 30190 Uzès, France"
          ],
          [
           "2 Bis rue de l'Emmeraude, 30700 Uzès, France"
          ],
          [
           "8 Chemin de Trinquelaigues, 30700 Uzès, France"
          ],
          [
           "1-3 Grande Bourgade, 30700 Uzès, France"
          ],
          [
           "1 rue des Cèdres, 30700 Uzès, France"
          ],
          [
           "18 rue du Docteur Blanchard, 30700 Uzès, France"
          ],
          [
           "Chemin de la Carrierasse, 30190 Uzès, France"
          ],
          [
           "Impasse Baptiste Marcet, 30700 Uzès, France"
          ],
          [
           "Chemin de la Carrierasse, 30190 Uzès, France"
          ],
          [
           "Chemin de la Carrierasse, 30190 Uzès, France"
          ],
          [
           "Place Du Pigeonnier, 30700 Saint-Quentin-la-Poterie, France"
          ],
          [
           "Rue du Chateau, 30700 Arpaillargues-et-Aureillac, France"
          ],
          [
           "8 Bis chemin du Barry, PL DU CHATEAU 30210 COLLIAS, 30210 Collias, France"
          ],
          [
           "9 Rue Campchestève, 30210 Collias, France"
          ],
          [
           "30 Grand Rue, 30210 Collias, France"
          ],
          [
           "47 avenue du pont du gard , 30210 Remoulins, France"
          ],
          [
           "295 Chemin des Begudes, 30210 Vers-Pont-du-Gard, France"
          ],
          [
           "83, rue de la République, 30900 Nîmes, France"
          ],
          [
           "7 Square de la Couronne, 30000 Nîmes, France"
          ],
          [
           "4 Rue Alexandre Ducros, 30000 Nîmes, France"
          ],
          [
           "1 Boulevard De Bruxelles, 30000 Nîmes, France"
          ],
          [
           "1 place d'Assas, 30000 Nîmes, France"
          ],
          [
           "210 rue Philippe SEGUIN, 30000 Nîmes, France"
          ],
          [
           "9 Rue de la Servie, 30000 Nîmes, France"
          ],
          [
           "45 Rue San-Lucar, Zac Du Mas-Carbonnel, 30900 Nîmes, France"
          ],
          [
           "23, avenue Feuchères, 30000 Nîmes, France"
          ],
          [
           "15 Rue Gaston Boissier, 30900 Nîmes, France"
          ],
          [
           "2 Avenue de la Mediterranée  - Accès parking : 2 avenue du Général Leclerc - , 30900 Nîmes, France"
          ],
          [
           "3115 Route De Générac, 30900 Nîmes, France"
          ],
          [
           "21, rue Nationale, 30000 Nîmes, France"
          ],
          [
           "4 Rue Des Arènes, 30000 Nîmes, France"
          ],
          [
           "2 Place Du Château, 30000 Nîmes, France"
          ],
          [
           "152 Rue Claude Nicolas Ledoux, 30900 Nîmes, France"
          ],
          [
           "19 Allée Boissy d'Anglas - accès parking : 2 avenue du Général Leclerc , 30000 Nîmes, France"
          ],
          [
           "31 Rue De Beaucaire, 30000 Nîmes, France"
          ],
          [
           "364, allée de l’Amérique Latine, 30900 Nîmes, France"
          ],
          [
           "Chemin de l'Hostellerie Ville active, centre hôtelier, 30900 Nîmes, France"
          ],
          [
           "440 Route De Nimes, 30220 Aigues-Mortes, France"
          ],
          [
           "35 boulevard Gambetta, 30220 Aigues-Mortes, France"
          ],
          [
           "939, Route De Nîmes, 30220 Aigues-Mortes, France"
          ],
          [
           "22 Boulevard Gambetta, 30220 Aigues-Mortes, France"
          ],
          [
           "221 Avenue Du Pont De Provence, 30220 Aigues-Mortes, France"
          ],
          [
           "10, Rue Amiral Courbet, 30220 Aigues-Mortes, France"
          ],
          [
           "2 RUE DU PORT, 30220 Aigues-Mortes, France"
          ],
          [
           "60 Chemin de Trouche, 30220 Aigues-Mortes, France"
          ],
          [
           "18 rue Pasteur, 30220 Aigues-Mortes, France"
          ],
          [
           "939 Route De Nimes, 30220 Aigues-Mortes, France"
          ],
          [
           "6, Place Anatole France, 30220 Aigues-Mortes, France"
          ],
          [
           "21 Et 23 Rue De La Republique, 30220 Aigues-Mortes, France"
          ],
          [
           "CD 979 Route de Nîmes, 30220 Aigues-Mortes, France"
          ],
          [
           "4 Rue du Commandant l'Herminier, 30240 Le Grau-du-Roi, France"
          ],
          [
           "312 Allée de La Plage, 34280 La Grande Motte, France"
          ],
          [
           "Allée d'Athènes, 34280 La Grande Motte, France"
          ],
          [
           "1920 Avenue du Golf, 34280 La Grande Motte, France"
          ],
          [
           "25 avenue Frédéric Mistral, 30240 Le Grau-du-Roi, France"
          ],
          [
           "277 Allée du Vaccares, 34280 La Grande Motte, France"
          ],
          [
           "350, Avenue Georges Pompidou, 30240 Le Grau-du-Roi, France"
          ],
          [
           "1 Avenue Gilbert Leroy, 13460 Les Saintes-Maries-de-la-Mer, France"
          ],
          [
           "16 Rue Alphonse Daudet, 13460 Les Saintes-Maries-de-la-Mer, France"
          ],
          [
           "15, Avenue du Docteur Cambon, 13460 Les Saintes-Maries-de-la-Mer, France"
          ],
          [
           "2, Avenue Theodore Aubanel, 13460 Les Saintes-Maries-de-la-Mer, France"
          ],
          [
           " Avenue du Dr Cambon, 13460 Les Saintes-Maries-de-la-Mer, France"
          ],
          [
           "13, Avenue de la plage, 13460 Les Saintes-Maries-de-la-Mer, France"
          ],
          [
           "BP 29 - 14 Rue Camille Pelletan, 13460 Les Saintes-Maries-de-la-Mer, France"
          ],
          [
           "4 Rue Frédéric Mistral, 13460 Les Saintes-Maries-de-la-Mer, France"
          ],
          [
           "Chemin du Pont Blanc, 13460 Les Saintes-Maries-de-la-Mer, France"
          ],
          [
           "13 chemin du Pont Blanc, 13460 Les Saintes-Maries-de-la-Mer, France"
          ],
          [
           "12, Route de Cacharel, 13460 Les Saintes-Maries-de-la-Mer, France"
          ],
          [
           "10 Rue Des Launes, 13460 Les Saintes-Maries-de-la-Mer, France"
          ],
          [
           "38 Chemin du Pont Blanc, 13460 Les Saintes-Maries-de-la-Mer, France"
          ],
          [
           "D 570 Route D'Arles, 13460 Les Saintes-Maries-de-la-Mer, France"
          ],
          [
           "5, rue Paul Hermann, 13460 Les Saintes-Maries-de-la-Mer, France"
          ],
          [
           "31 Avenue Gilbert Leroy, 13460 Les Saintes-Maries-de-la-Mer, France"
          ],
          [
           "Route D'Arles, 13460 Les Saintes-Maries-de-la-Mer, France"
          ],
          [
           "6 Rue du Vibre, 13460 Les Saintes-Maries-de-la-Mer, France"
          ],
          [
           "Route d' Arles, 13460 Les Saintes-Maries-de-la-Mer, France"
          ],
          [
           "94 Chemin Bas de Dromar, 13460 Les Saintes-Maries-de-la-Mer, France"
          ],
          [
           "24 Rue Romain Rolland, 66190 Collioure, France"
          ],
          [
           "22 Avenue de La Republique, 66190 Collioure, France"
          ],
          [
           "28, route de Port Vendres, 66190 Collioure, France"
          ],
          [
           "Route de Port-Vendres, 66190 Collioure, France"
          ],
          [
           "Avenue Aristide Maillol, 66190 Collioure, France"
          ],
          [
           "20 Rue de la Republique, 66190 Collioure, France"
          ],
          [
           "Rue Des Palmiers, 66190 Collioure, France"
          ],
          [
           "Impasse Des Palmiers, 66190 Collioure, France"
          ],
          [
           "Rue Jean Bart, 66190 Collioure, France"
          ],
          [
           "3638 Route De Collioure, 66008 Collioure, France"
          ],
          [
           "24 Boulevard Camille Pelletan, 66190 Collioure, France"
          ],
          [
           "12 Route De Port-Vendres, 66190 Collioure, France"
          ],
          [
           "33 Route du Pla de las Fourques, 66190 Collioure, France"
          ],
          [
           "5 rue Colbert, 66190 Collioure, France"
          ],
          [
           "Route De Port Vendres, 66190 Collioure, France"
          ],
          [
           "16 Rue de la République, 66190 Collioure, France"
          ],
          [
           "9004 Route De collioure, 66660 Port-Vendres, France"
          ],
          [
           "9, Avenue Du Vallespir, 66700 Argelès-sur-Mer, France"
          ],
          [
           "Route de Collioure, 66700 Argelès-sur-Mer, France"
          ],
          [
           "29 Route de Banyuls, 66660 Port-Vendres, France"
          ],
          [
           "2 Rue Des Trois Couronnes, 11000 Carcassonne, France"
          ],
          [
           "17 montée gaston combelean, 11000 Carcassonne, France"
          ],
          [
           "15 montée Combeleran, 11000 Carcassonne, France"
          ],
          [
           "18 Rue Tourtel, 11000 Carcassonne, France"
          ],
          [
           "18 Rue Camille Saint-Saens, 11000 Carcassonne, France"
          ],
          [
           "2 bis Rue des Calquières, 11000 Carcassonne, France"
          ],
          [
           "2 Rue Du Comte Roger, La Cité, 11000 Carcassonne, France"
          ],
          [
           "15, rue de la Barbacane, 11000 Carcassonne, France"
          ],
          [
           "32 Rue Trivalle, 11000 Carcassonne, France"
          ],
          [
           "81 Rue De La Liberte, 11000 Carcassonne, France"
          ],
          [
           "1 rue Darius Milhaud, 11000 Carcassonne, France"
          ],
          [
           "5, square Gambetta, 11000 Carcassonne, France"
          ],
          [
           "7 Chemin De Montlegun, 11000 Carcassonne, France"
          ],
          [
           "3 Rue des Calquières, 11000 Carcassonne, France"
          ],
          [
           "143 rue Trivalle, 11000 Carcassonne, France"
          ],
          [
           "211 Avenue Du General Leclerc, 11000 Carcassonne, France"
          ],
          [
           "14 Route de Villemoustaussou, 11000 Carcassonne, France"
          ],
          [
           "2 Rue Camille Saint Saens, 11000 Carcassonne, France"
          ],
          [
           "Avenue Saint Martin, 11000 Carcassonne, France"
          ],
          [
           "Rn 113, 11000 Carcassonne, France"
          ],
          [
           "Z.A. Nord, 09000 Foix, France"
          ],
          [
           "Ancienne Rn 20 Lieu dit Le Couloumié - Départementale 919, 09000 Foix, France"
          ],
          [
           "Quartier De Castel Maou - Chemin d'Aouredou -, Route d'Andorre RN 20, 09110 Ax-les-Thermes, France"
          ],
          [
           "4 Rue Sainte-Rapine, deuxième étage, 09000 Foix, France"
          ],
          [
           "913 Garabaud, 09270 Mazères, France"
          ],
          [
           "8 Rue Maréchal Clauzel, 09500 Mirepoix, France"
          ],
          [
           "Chemin du Parc Le Palais des Evêques, 09190 Saint-Lizier, France"
          ],
          [
           "8 rue Constant Alibert, 09110 Ax-les-Thermes, France"
          ],
          [
           "16 avenue Victor Pilhes, 09400 Tarascon-sur-Ariège, France"
          ],
          [
           "Grand Rue, 09140 Oust, France"
          ],
          [
           "7, Place Jean Jaurès, 09400 Tarascon-sur-Ariège, France"
          ],
          [
           "10 Avenue Adolphe AUTHIE, 09110 Ax-les-Thermes, France"
          ],
          [
           "Lieu-dit \"Le Terrefort\" Rue Serge Denis, 09000 Foix, France"
          ],
          [
           "Route Nationale 20, 09250 Luzenac, France"
          ],
          [
           "Pont De La Taule, 09140 Seix, France"
          ],
          [
           "16, Place De L'allée, 09140 Seix, France"
          ],
          [
           "Station De Bonascre, 09110 Ax-les-Thermes, France"
          ],
          [
           "Camp de Granou, 09110 Ax-les-Thermes, France"
          ],
          [
           "Lieu Dit La Bouriette, 09100 Pamiers, France"
          ],
          [
           "RN20 (Sortie d'Ax), 09110 Ax-les-Thermes, France"
          ],
          [
           "10 rue Rivals, 31000 Toulouse, France"
          ],
          [
           "2 Rue Victor Hugo, 31000 Toulouse, France"
          ],
          [
           "46 Allée Jean Jaurès, 31000 Toulouse, France"
          ],
          [
           "7 Place du Capitole, 31000 Toulouse, France"
          ],
          [
           "33 place des Tiercerettes, 31000 Toulouse, France"
          ],
          [
           "39 Rue du Béarnais, 31000 Toulouse, France"
          ],
          [
           "77 boulevard de l'Embouchure, 31200 Toulouse, France"
          ],
          [
           "8 Place de la Charte des Libertés Communales, 31300 Toulouse, France"
          ],
          [
           "5 boulevard de la gare, 31500 Toulouse, France"
          ],
          [
           "13 Boulevard Bonrepos, 31000 Toulouse, France"
          ],
          [
           "40 Boulevard Lazare Carnot, 31000 Toulouse, France"
          ],
          [
           "8-10 Rue Romiguieres, 31000 Toulouse, France"
          ],
          [
           "27, boulevard des Minimes, 31200 Toulouse, France"
          ],
          [
           "4 bis Boulevard Bonrepos, 31000 Toulouse, France"
          ],
          [
           "67 bis rue des Chalets, 31000 Toulouse, France"
          ],
          [
           "22 Descente de la Halle aux Poissons, 31000 Toulouse, France"
          ],
          [
           "2 Place Esquirol, 31000 Toulouse, France"
          ],
          [
           "16 rue Raymond IV, 31000 Toulouse, France"
          ],
          [
           "17 Rue Sainte-Catherine, 31400 Toulouse, France"
          ],
          [
           "8 Boulevard de Strasbourg, 31000 Toulouse, France"
          ],
          [
           "6 Quai de Verdun, 82000 Montauban, France"
          ],
          [
           "9 Place Franklin Roosevelt, 82000 Montauban, France"
          ],
          [
           "6-8 Quai De Verdun, 82000 Montauban, France"
          ],
          [
           "365 Impasse Maurice Bayrou, 82000 Montauban, France"
          ],
          [
           "Za Albasud- 16 Impasse JacquesDaguerre , 82000 Montauban, France"
          ],
          [
           "175-225 Impasse De Fontanilles, 82710 Montauban, France"
          ],
          [
           "60 rue Louis Lepine Albasud Secteur 3, 82000 Montauban, France"
          ],
          [
           "30 rue Léon Cladel, 82000 Montauban, France"
          ],
          [
           "600 Route du Nord, 82000 Montauban, France"
          ],
          [
           "50 route de Saint Martial, 82000 Montauban, France"
          ],
          [
           "35 Chemin de Mallet, 82000 Montauban, France"
          ],
          [
           "50 route de Saint Martial, 82000 Montauban, France"
          ],
          [
           "Zone Albasud Secteur 3 Impasse Louis Lepine, 82000 Montauban, France"
          ],
          [
           "14 chemin Jambau, 82130 Montauban, France"
          ],
          [
           "325 Rue des Oules, 82000 Montauban, France"
          ],
          [
           "50, Route de saint martial, 82000 Montauban, France"
          ],
          [
           "1134 Chemin du Moulin, 82370 Corbarieu, France"
          ],
          [
           "6 rue Pierre Perret Residence les Bords de l'Aveyron, 82800 Nègrepelisse, France"
          ],
          [
           "Moulin du Bias 118 Chemin des Rives de l'Aveyron, 82350 Albias, France"
          ],
          [
           "6 place de la Réunion, Route Nationale 20, 82440 Réalville, France"
          ],
          [
           "14 rue du Port Vieux, 64200 Biarritz, France"
          ],
          [
           "24 Avenue de la Milady, 64200 Biarritz, France"
          ],
          [
           "10, Rue Etienne Ardoin, 64200 Biarritz, France"
          ],
          [
           "7 rue du Port Vieux , 64200 Biarritz, France"
          ],
          [
           "19 Avenue Carnot, 64200 Biarritz, France"
          ],
          [
           "21 Ter Avenue Edouard 7, 64200 Biarritz, France"
          ],
          [
           "2, rue Guy Petit, 64200 Biarritz, France"
          ],
          [
           "3, esplanade du Port Vieux, 64200 Biarritz, France"
          ],
          [
           "3 avenue du Jardin Public, 64200 Biarritz, France"
          ],
          [
           "11 Avenue Edouard VII, 64200 Biarritz, France"
          ],
          [
           "Boulevard Prince de Galles, 64200 Biarritz, France"
          ],
          [
           "1 Rue des Halles, 64200 Biarritz, France"
          ],
          [
           "19 Avenue De La Reine Victoria, 64200 Biarritz, France"
          ],
          [
           "18, Rue Gambetta, 64200 Biarritz, France"
          ],
          [
           "11 rue Champ Lacombe, 64200 Biarritz, France"
          ],
          [
           "47 avenue Reine Victoria, 64200 Biarritz, France"
          ],
          [
           "1, Rue Gambetta, 64200 Biarritz, France"
          ],
          [
           "3 Rue Gaston Larre, 64200 Biarritz, France"
          ],
          [
           "54-56 Rue de Madrid, 64200 Biarritz, France"
          ],
          [
           "8 rue Maison Suisse, 64200 Biarritz, France"
          ],
          [
           "22, boulevard du BAB, 64100 Bayonne, France"
          ],
          [
           "2 rue Maubec, 64100 Bayonne, France"
          ],
          [
           "40 Chemin du Moulin de Habas, 64100 Bayonne, France"
          ],
          [
           "46 Boulevard Alsace Lorraine, 64100 Bayonne, France"
          ],
          [
           "1 place de la République, 64100 Bayonne, France"
          ],
          [
           "9 rue Sabaterie, 64100 Bayonne, France"
          ],
          [
           "1 Avenue Jean Rostand , 64100 Bayonne, France"
          ],
          [
           "29 Rue Du Colonel Melville Lynch, 64100 Bayonne, France"
          ],
          [
           "26, rue Port Neuf, 64100 Bayonne, France"
          ],
          [
           "1 chemin de Hayet, 64100 Bayonne, France"
          ],
          [
           "6 avenue du Grand Basque, 64100 Bayonne, France"
          ],
          [
           "2/4 rue Pontrique, 64100 Bayonne, France"
          ],
          [
           "7 Rue Frédéric Bastiat, 64100 Bayonne, France"
          ],
          [
           "44 Rue Port Neuf, 64100 Bayonne, France"
          ],
          [
           "Za St Frederic II - 9 rue Chalibardon, 64100 Bayonne, France"
          ],
          [
           "12 Chemin de Jacquette, 64100 Bayonne, France"
          ],
          [
           "Rond Point de Maignon, 86 avenue du 8 Mai 1945, 64100 Bayonne, France"
          ],
          [
           "3, rue Chalibardon, 64100 Bayonne, France"
          ],
          [
           "21 Rue Thiers, 64100 Bayonne, France"
          ],
          [
           "Avenue Du Grand Basque, 64100 Bayonne, France"
          ],
          [
           "1 Avenue des Minimes, 17000 La Rochelle, France"
          ],
          [
           "13 rue Sardinerie, 17000 La Rochelle, France"
          ],
          [
           "140 Boulevard Joffre, 17000 La Rochelle, France"
          ],
          [
           "4, avenue Jean Guiton, 17000 La Rochelle, France"
          ],
          [
           "Rue de la Scierie, 17000 La Rochelle, France"
          ],
          [
           "30, Rue Rambaud , 17000 La Rochelle, France"
          ],
          [
           "20, Avenue du Général de Gaulle, 17000 La Rochelle, France"
          ],
          [
           "3 Rue De La Monnaie, 17000 La Rochelle, France"
          ],
          [
           "43 rue du Minage, 17000 La Rochelle, France"
          ],
          [
           "36 Avenue Amerigo Vespucci, 17000 La Rochelle, France"
          ],
          [
           "Quai Louis Prunier, 17044 La Rochelle, France"
          ],
          [
           "8 Rue Franc Lapeyre, 17000 La Rochelle, France"
          ],
          [
           "4, Place de La Chaîne et 3 rue Saint-Jean du Perot, 17000 La Rochelle, France"
          ],
          [
           "17 Rue de L'ouvrage à Cornes, 17000 La Rochelle, France"
          ],
          [
           "7-9-11 rue de la Fabrique, 17000 La Rochelle, France"
          ],
          [
           "Chemin de la digue Richelieu, 17000 La Rochelle, France"
          ],
          [
           "33 avenue du docteur planet, 17000 La Rochelle, France"
          ],
          [
           "13-15 Rue Bazoges, 17000 La Rochelle, France"
          ],
          [
           "17 Avenue du Lazaret, 17000 La Rochelle, France"
          ],
          [
           "2 rue Yvonne Salomon, 17000 La Rochelle, France"
          ]
         ],
         "hovertemplate": "<b>%{hovertext}</b><br><br>lat=%{lat}<br>lon=%{lon}<br>address=%{customdata[0]}<extra></extra>",
         "hovertext": [
          "Le Saint Aubert",
          "Mercure Mont Saint Michel",
          "Le Relais Saint Michel",
          "La Mère Poulard",
          "Les Terrasses Poulard",
          "La Vieille Auberge",
          "Le Relais Du Roy",
          "Hôtel Vert",
          "Le Mouton Blanc",
          "Hôtel la Croix Blanche",
          "Hotel Gabriel",
          "Auberge Saint Pierre",
          "Auberge de la Baie",
          "Ermitage - Mont-Saint-Michel",
          "Vacancéole - Les Chambres de la Baie",
          "Manoir de la Roche Torin, The Originals Relais",
          "Vacancéole - Le Domaine du Mont - Mont St Michel",
          "Hôtel Le Lithana",
          "Hotel Le XIV",
          "Hôtel Ariane & SPA",
          "Hôtel Ar Iniz",
          "Alba hotel",
          "Hôtel San Pedro",
          "Hôtel Bristol Union Intra Muros",
          "Hotel De La Mer",
          "Kyriad Prestige Saint-Malo",
          "Hôtel de la Gare",
          "Hôtel de la Cité",
          "Escale Oceania Saint Malo",
          "B&B HOTEL Saint-Malo Centre",
          "Hôtel France et Chateaubriand",
          "Hôtel Le Nautilus",
          "Oceania Saint Malo",
          "Hotel Ar Terra Nova",
          "Hotel Kyriad Saint Malo Centre Plage",
          "Hotel des Abers",
          "Grand Hôtel Des Thermes",
          "Hôtel Cartier",
          "Ker Annick",
          "Ambassadeurs Logis Hotel",
          "Domaine de Bayeux",
          "Hôtel De Brunville & Spa",
          "Premiere Classe Bayeux",
          "La Maison de Mathilde",
          "Hotel Le Lion D'Or et Restaurant La Table Du Lion",
          "Hotel Reine Mathilde",
          "Au Loup Historic Apartments",
          "Château de Bellefontaine - Teritoria",
          "Domitys Les Falaises Blanches",
          "Churchill Hotel Bayeux Centre",
          "Campanile Bayeux",
          "Grand Hôtel du Luxembourg & Spa",
          "Hôtel Le Bayeux",
          "Novotel Bayeux",
          "Hôtel d'Argouges",
          "Hôtel Le Saint Patrice",
          "Appart’hôtel saint patrice",
          "Villa Lara Hotel",
          "Le Mogador",
          "Relais des 3 Pommes",
          "Hilton Garden Inn Le Havre Centre",
          "The Originals Boutique, Hôtel d'Angleterre, Le Havre, centre, plage",
          "All Suites Appart Hotel Le Havre",
          "Hotel Spa Le Pasino",
          "Hôtel Carmin",
          "Holiday Inn Express - Le Havre Centre",
          "The Originals Boutique, Hôtel Le Marignan,Le Havre Centre Gare",
          "Odalys City Le Havre Centre Les Docks",
          "Arthur Residency - Luxury Apartment - Gare Le Havre",
          "Hotel de Charme La Bonne Adresse - Logis de France",
          "Birgit Hôtel Le Havre Centre",
          "Nomad Hotel le Havre",
          "Hôtel Spa Vent d'Ouest",
          "Best Western ARThotel",
          "JOST Hôtel Le Havre Centre Gare",
          "Best Western Plus Le Havre Centre Gare",
          "Oscar Hôtel Le Havre Centre",
          "Zenitude Hôtel-Résidences Le Havre",
          "Odalys City Le Havre Centre Gare",
          "ibis Le Havre Centre",
          "Le Vieux Carré",
          "Grand Hôtel De La Seine",
          "Radisson Blu Hotel, Rouen Centre",
          "Les Initiés",
          "B&B HOTEL Rouen Centre Rive Droite",
          "DOMITYS Les Mosaïques",
          "Hôtel De La Cathédrale",
          "Hotel De Quebec",
          "Hôtel Littéraire Gustave Flaubert, BW Signature Collection",
          "Hotel Morand",
          "Novotel Rouen Centre Cathédrale",
          "Hotel Dandy Rouen centre",
          "Aparthotel Adagio Access Rouen Centre Cathédrale",
          "Mercure Rouen Centre Champ de Mars",
          "B&B HOTEL Rouen Centre",
          "Brit Hotel Confort Rouen Centre",
          "ibis Rouen Centre Champ de Mars",
          "Hotel centre Rouen VT",
          "Hyatt Place Rouen",
          "Hôtel Paulette Rouen Centre Cathédrale",
          "GREEN PARK HOTEL PARIS",
          "Luxelthe",
          "Verlain",
          "Hôtel Avenir Jonquière",
          "Secret de Paris - Hotel & Spa",
          "Yuna Montmartre - ApartHotel",
          "Hotel Puy De Dôme",
          "Timhotel Montmartre",
          "Hôtel Paris La Fayette",
          "Artemisia Montmartre",
          "B&B HOTEL Paris Porte des Lilas",
          "Hôtel Des Mines",
          "Select Hotel",
          "Hôtel de France Gare de Lyon Bastille",
          "le paris saint ouen",
          "Motel One Paris-Porte Dorée",
          "Le Katorze Hôtel",
          "Le Mathurin Hotel & Spa",
          "Hotel des Vosges",
          "Hôtel Jardin de Cluny",
          "Nemea Appart Hotel Coliseum Amiens Centre",
          "Odalys City Amiens Blamont",
          "ibis budget Amiens Centre Gare",
          "B&B HOTEL Amiens Centre Cathédrale",
          "Appart'City Confort Amiens Gare",
          "Holiday Inn Express Amiens, an IHG Hotel",
          "Hotel Central Anzac",
          "Chez Victor H",
          "Hotel Le Prieuré et La Résidence",
          "ibis Styles Amiens Centre",
          "Moxy Amiens",
          "Mercure Amiens Cathédrale",
          "Grand Hotel de L'Univers",
          "Première Classe Amiens",
          "The Nest",
          "Comfort Hotel Amiens Nord",
          "La Parenthèse Envoutée",
          "Hôtel De Normandie",
          "Logis Hôtel - La Chambre d'Amiens",
          "The Originals Boutique Hôtel Amiens Sud",
          "Hotel Lille Europe",
          "JOST Hôtel Lille Centre",
          "Hôtel Saint Maurice",
          "Moxy Lille City",
          "Hotel Carlton",
          "OKKO Hotels Lille Centre",
          "Hotel De La Treille",
          "Mama Shelter Lille",
          "Twenty Business Flats Lille - Bayard",
          "Eklo Hotels Lille",
          "Holiday Inn Express Lille Centre, an IHG Hotel",
          "Lille City Hotel",
          "Grand Hotel Bellevue - Grand Place",
          "Grand Hôtel Lille",
          "B&B HOTEL Lille Lillenium Eurasanté",
          "Aparthotel Adagio Lille Centre Grand Place",
          "Brit Hotel Lille Centre",
          "Brueghel",
          "Hotel Kanaï",
          "Hotel Art Deco Euralille",
          "ClapClap Hôtel, Food & Bar",
          "Séjours & Affaires Strasbourg Kleber",
          "Hotel Strasbourg - Montagne Verte & Restaurant Louisiane",
          "Résidence La Canopée",
          "Hotel Le 21ème",
          "Aparthotel Adagio Access Strasbourg Petite France",
          "Residence Inn by Marriott Strasbourg",
          "Le Grand Hotel",
          "Résidence Hôtelière Louise",
          "Hôtel De L'Ill",
          "City Résidence Strasbourg Centre",
          "ibis Styles Strasbourg Avenue du Rhin",
          "Hotel Rohan, Centre Cathédrale",
          "Hotel des Arts - Centre Cathédrale",
          "Hôtel Restaurant Athena Spa",
          "Hôtel Tandem - Boutique Hôtel",
          "Le Kléber Hôtel",
          "Hôtel Vendôme",
          "ibis Strasbourg Centre Petite France",
          "Citadines Kléber Strasbourg",
          "Hôtel Le Mittelwihr",
          "Logis Hotel Le Parc & Spa",
          "Best Western Hotel & SPA Le Schoenenbourg - Riquewihr - Proche Colmar",
          "Auberge Le Meisenberg",
          "Hotel à l'Oriel",
          "Hotel Le Mandelberg",
          "Hôtel Le Riquewihr",
          "Hôtel du Haut Koenigsbourg- entre vignes et château",
          "Hôtel Restaurant Verger des Châteaux, The Originals Relais, proche Sélestat",
          "L' Hôtel & Spa Ribeauville- Haut-Koenigsbourg",
          "Les Prés D'ondine",
          "Hotel SPA Restaurant Au Cheval Blanc",
          "Hotel Au Nid De Cigognes",
          "Hôtel Val-Vignes Colmar Haut-Koenigsbourg, The Originals Relais",
          "La Bonne Franquette",
          "Pêche de Vigne & Spa",
          "LE CLOS DES SOURCES Hôtel & Spa",
          "Hôtel Restaurant Le Schlossberg",
          "Relais et Châteaux Le Chambard",
          "Hôtel Barrière Ribeauvillé",
          "Colmar Hotel",
          "Hotel Arc-En-Ciel Colmar Contact Hotel",
          "ibis Colmar Centre",
          "Hôtel Turenne",
          "B&B HOTEL Colmar Lumière",
          "ibis Budget Colmar Centre Gare",
          "PAUL & PIA - Welcome Home Hotel",
          "The Originals City, Hôtel Colmar Gare",
          "Best Western Colmar Expo",
          "Hôtel Gustave Colmar",
          "Hotel Saint-Martin",
          "Résidence Pierre & Vacances La Petite Venise",
          "Hotel Le Colombier",
          "Odalys City Colmar La Rose d'Argent",
          "Hôtel Quatorze",
          "Mercure Colmar Centre Unterlinden",
          "Greet Hotel Colmar",
          "B&B HOTEL Colmar Expo",
          "Ibis Styles Colmar Centre",
          "Hotel L'Europe",
          "La Grange du Pape - Annexe de l'Hôtel La Ferme du Pape",
          "Hotel Colmar Vignes Eguisheim",
          "Auberge du Rempart",
          "Hotel SPA Husseren Collections - Proche Colmar - Eguisheim",
          "Résidence Pierre & Vacances Le Clos d'Eguisheim",
          "L'Hostellerie du Château",
          "James Vignoble Hôtel, Eguisheim",
          "Hôtel L'Auberge Alsacienne",
          "The Originals Boutique, Hôtel La Ferme du Pape, Eguisheim",
          "Auberge des Trois Châteaux",
          "Colmar Hotel",
          "Hotel Restaurant Cristal",
          "Greet Hotel Colmar",
          "B&B HOTEL Colmar Vignobles Ouest",
          "Résidence Pierre & Vacances La Petite Venise",
          "Les Portes de la Vallee",
          "Hôtel Restaurant Logis La Palette",
          "CHATEAU R",
          "Grand Hôtel Bristol",
          "Résidence Les Rives de la Fecht - Colmar Ouest",
          "Hôtel Restaurant Spa Le Sauvage",
          "Comfort Aparthotel Besancon La City",
          "ibis Besançon Centre la City",
          "Logis Hôtel Victor Hugo & Spa",
          "Hotel Restaurant Vesontio",
          "Hôtel de Paris",
          "ibis Styles Besançon",
          "All Suites Besançon",
          "Best Western Citadelle",
          "ibis Besançon Centre Ville",
          "Hotel Du Nord",
          "Hôtel Fontaine Argent - Centre Ville",
          "Zenitude Hôtel-Résidences Les Hauts Du Chazal",
          "Contact Hôtel Foch",
          "Hotel Régina",
          "Hotel Vauban",
          "Doubs Hotel - Besançon Ecole Valentin",
          "B&B HOTEL Besançon Chateaufarine",
          "Premiere Classe Besancon Ecole Valentin",
          "Mercure Besancon Parc Micaud - Hotel & Bar",
          "Aparthotel Adagio Access Dijon République",
          "Nomad Hotel Dijon",
          "Odalys City Dijon Les Cordeliers",
          "B&B HOTEL Dijon Centre",
          "Holiday Inn Dijon Toison D'or, an IHG Hotel",
          "Kyriad Hotel Dijon Gare",
          "Hôtel des Halles",
          "City Loft Apparthotel",
          "Hôtel République",
          "Mercure Dijon Centre Clemenceau",
          "Hôtel des Ducs",
          "Hotel Victor Hugo",
          "Hotel Le Jacquemart",
          "Vertigo Hotel, Dijon, a Member of Design Hotels",
          "Hôtel le Thurot",
          "Residhome Dijon Cité Des Vignes",
          "Aloft Hotel Dijon By Marriott",
          "Hôtel Wilson - Teritoria",
          "Kyriad Dijon Est Mirande",
          "Apparteo Dijon",
          "ibis Annecy Centre Vieille Ville",
          "Le Bel Abri",
          "Hôtel du Palais de l'Isle",
          "Atipik Hôtel",
          "Les Trésoms Lake and Spa Resort",
          "Hôtel des Alpes",
          "Hotel des Marquisats",
          "Hotel Les Terrasses",
          "Hôtel du Château",
          "Hébé Hotel",
          "Le Boutik Hotel",
          "Allobroges Park Hôtel",
          "Best Western Plus Hotel Carlton Annecy",
          "Hôtel Les Muses",
          "Hôtel Catalpa",
          "Le Pélican",
          "Hôtel du Nord",
          "ibis Styles Annecy Centre Gare",
          "Apparthotel Privilodges Le Royal",
          "Hôtel Le Pré Carré",
          "The Babel Community Hôtel - Grenoble Bastille",
          "Park Hôtel Grenoble - MGallery",
          "RockyPop Grenoble Hotel",
          "Le Grand Hôtel Grenoble, BW Premier Collection by Best Western",
          "Maison Barbillon Grenoble",
          "1924 Hôtel",
          "Appartéa Grenoble Alpexpo",
          "Séjours & Affaires Grenoble Marie Curie",
          "Residhotel Grenette",
          "B&B HOTEL Grenoble Centre Alpexpo",
          "Hôtel Terminus",
          "Hotel Mercure Grenoble Centre Président",
          "Hôtel d’Angleterre Grenoble Hyper-Centre",
          "Kyriad Grenoble Centre",
          "Adagio Grenoble Centre",
          "Residhotel Le Central'Gare",
          "Hotel Europole",
          "Hôtel de l'Europe Grenoble hyper-centre",
          "Okko Hotels Grenoble Jardin Hoche",
          "Hôtel Charlemagne by Happyculture",
          "Première Classe Lyon Centre Gare Part Dieu",
          "Lyon Marriott Hotel Cité Internationale",
          "Residence Montempo Lyon Cite Internationale",
          "Hotel Saint Vincent",
          "Hôtel du Parc",
          "Hôtel Chromatics & Restaurant Hill Club by HappyCulture",
          "Fourvière Hôtel",
          "ibis Lyon Gerland Musée des Confluences",
          "Republik Hotel",
          "Hôtel Vaubecour",
          "MiHotel Tour Rose",
          "Campanile Grenoble Centre Gare",
          "Mercure Lyon Centre Plaza République",
          "Appart'City Classic Lyon Part Dieu Villette",
          "Citadines Presqu'île Lyon",
          "Ibis Styles Lyon Croix Rousse",
          "Hôtel Tête d'or",
          "Appart'City Classic Lyon Part Dieu Garibaldi",
          "Hotel des Celestins",
          "Best Western Lyon Saint-Antoine",
          "La Ferme Rose-Hôtel de Charme",
          "Auberge des Salles",
          "La Bastide du Calalou; BW Signature Collection",
          "Le Chemin Neuf",
          "Auberge de Baudinard sur Verdon",
          "Gabrielle hôtel",
          "Le Vieux Château",
          "Hôtel Spa L'Ermitage",
          "Château et Golf De Taulane",
          "Ma Petite Auberge",
          "Résidence Odalys La Licorne de Haute Provence",
          "Hotel du Levant",
          "Lou Paradou",
          "Hotel Les Cavalets",
          "Hôtel La Bonne Auberge",
          "Nouvel Hôtel du Commerce",
          "Hôtel du Roc",
          "Hotel le Belvédère",
          "La Bastide du Paradou",
          "Le Verdon",
          "Hôtel Paradis",
          "Hotel La Voile",
          "Hôtel de la Plage - HDLP",
          "Hotel Restaurant Bellevue",
          "Hôtel Les Palmiers",
          "Hostellerie du Cigalou - Teritoria",
          "Eden Rose Grand Hotel BW Premier Collection",
          "Hotel Les Jardins de Bormes, sauna & jacuzzi",
          "Le Mirage",
          "Hôtel California",
          "Hotel Club Oustal Del Mar",
          "Hôtel La Petite Bohème",
          "Hotel L'Orangeraie",
          "Hotel La Bastide",
          "Anglade Hotel",
          "Hôtel Le Rabelais",
          "Villa TerraMera Hôtel",
          "Hôtel Baptistin",
          "Hôtel Beau Rivage",
          "Hotel Le Grand Pavois",
          "LE CLOS DES ARÔMES",
          "Best Western Hotel & SPA Coeur De Cassis",
          "Hotel Le Golfe",
          "The Originals Boutique, Hôtel Cassitel, Cassis",
          "HOTEL DES CALANQUES",
          "Best Western Plus Hôtel la Rade",
          "HPC Suites - Parking Gratuit & Piscine Chauffée",
          "Les Jardins de Cassis",
          "Royal Cottage",
          "Hôtel Eden Cassis",
          "Hotel Liautaud",
          "Hotel de La Plage - Mahogany",
          "HôTEL LES VOLETS ROUGES - CASSIS",
          "Hôtel Les Roches Blanches Cassis",
          "Le Jardin d'Emile",
          "Résidence Odalys Shangri-la",
          "Résidence Pierre et Vacances Cap Cassis Calanques",
          "Kyriad Direct Marseille Est La Valentine",
          "Moxy La Ciotat",
          "Hôtel La Croix de Malte",
          "Hôtel Hermès",
          "Appart'City Classic Marseille Euromed",
          "B&B HOTEL Marseille Prado Vélodrome",
          "PARADISE Earth & Sea",
          "B&B HOTEL Marseille Prado Parc des Expositions",
          "Hôtel Carré Vieux Port",
          "Hôtel Life Marseille VP - Vieux Port",
          "Staycity Aparthotels Marseille Centre Vieux Port",
          "ibis budget Marseille Vieux Port",
          "LES TOITS DU VIEUX-PORT",
          "B&B HOTEL Marseille Euromed",
          "Résidence Provence",
          "B&B HOTEL Marseille Centre La Timone",
          "Montempô Apparthôtel Marseille Centre Euromed",
          "12",
          "Toyoko INN Marseille Saint Charles",
          "Residhotel Le Grand Prado",
          "Montempô Marseille Centre Dôme",
          "New Hotel Le Quai - Vieux Port",
          "New Hotel of Marseille - Vieux Port",
          "Séjours & Affaires Aix-en-Provence Mirabeau",
          "Hotel Cardinal",
          "Hôtel des Augustins",
          "Les Quatre Dauphins",
          "Domaine Gaogaia",
          "The Originals Résidence Aix Schuman",
          "Hôtel Paul",
          "Hôtel Cézanne Boutique-Hôtel",
          "Aquabella Hôtel & Spa",
          "La Caravelle",
          "Hôtel des ARTS Aix",
          "Le Concorde",
          "Hôtel Le Mozart",
          "thecamp Hôtel & Lodges - Aix en Provence",
          "Best Western Le Galice Centre Ville",
          "Hôtel Escaletto",
          "Adonis Aix en Provence",
          "Odalys City Aix en Provence Les Floridianes",
          "Hôtel Vendôme",
          "HOTEL RESTAURANT OLYMPE",
          "ApartHotel Sainte-Marthe",
          "Le Magnan",
          "Hotel de l'île",
          "Kyriad Avignon - Palais des Papes",
          "ibis budget Avignon Centre",
          "Avignon Grand Hotel",
          "Hotel d'Angleterre",
          "Hôtel Les Corps Saints",
          "Hôtel Le Médiéval Palais des Papes",
          "Hôtel Central",
          "Résidence Services Oh Activ Avignon",
          "Résidence Les Cordeliers",
          "Régina Boutique Hotel",
          "Garlande Hôtel Avignon Centre",
          "City Résidence Avignon",
          "Hotel Alizéa",
          "Hotel Boquier",
          "Au Saint Roch - Hôtel et Jardin",
          "Hotel De Cambis",
          "Altera Roma Hôtel",
          "La Taverne",
          "Boutique Hôtel Entraigues",
          "Hôtel Le Saint-Geniès",
          "Domaine de Privadière",
          "Logis Hotel Restaurant Uzès Pont du Gard",
          "Patio De Violette",
          "Hostellerie Provençale",
          "UZES APPART HOTEL Résidence Le Mas des Oliviers",
          "La Maison d'Uzès Relais & Châteaux",
          "Secret d'Uzès - Le Duché - Mazet avec piscine chauffée",
          "DOMITYS REGALECIA",
          "Secret d'Uzès - Place aux Herbes - Mazet avec piscine chauffée",
          "Secret d'Uzès - Le Loft - Avec piscine chauffée",
          "Hotel Restaurant Le Clos De Pradines",
          "Château d'Arpaillargues - TERITORIA",
          "Château de Collias",
          "Hotel Restaurant Le Gardon - Pont du Gard",
          "Le Castellas Hotel & SPA - TERITORIA",
          "Residhotel Résidence Pont du Gard",
          "La Bégude Saint-Pierre",
          "B&B HOTEL Nîmes Centre Arènes",
          "SQUARE HOTEL",
          "Odalys City Nîmes Arènes",
          "Appart'City Collection Nîmes Arènes",
          "Royal Hôtel",
          "Domitys Sophia",
          "Hotel Majestic",
          "Campanile Nîmes Centre Mas-Carbonnel",
          "Hôtel Abalone - Centre Gare",
          "Maison Albar Hotels L’Imperator",
          "ibis budget Nimes Centre Gare",
          "Hôtel Le Pré Galoffre",
          "Best Western Marquis de la Baume",
          "Hôtel De L'Amphithéâtre",
          "Central Hotel",
          "Logis NIMOTEL Hôtel Cosy",
          "ibis Styles Nimes Gare Centre",
          "Hotel Cote Patio",
          "Appart'City Classic Nîmes",
          "hotelF1 Nîmes Ouest",
          "Hotel Canal Aigues Mortes",
          "La Villa Mazarin",
          "Noemys Aigues-Mortes - Hotel avec piscine",
          "La Maison de Lyna",
          "Hôtel Le Médiéval",
          "Hôtel Saint Louis",
          "Maison des Croisades",
          "Résidence Odalys Le Mas des Flamants",
          "Hôtel-Restaurant \"Chez Carrière\"",
          "Hotel Des 4 Vents \"Esprit Camargue\"",
          "Boutique Hôtel des Remparts & Spa",
          "Hotel Les Templiers",
          "Le Mas Des Sables",
          "Résidence Marie-Thérèse",
          "Residence Residéal La Grande Motte",
          "MY Hôtel Résidences - La Grande-Motte",
          "GOLF HOTEL",
          "Hôtel Café Miramar",
          "Le Prose Hôtel",
          "Residence Residhotel Mayflower",
          "Hôtel Casa Marina",
          "Hotel Les Palmiers En Camargue",
          "Hotel Le Bleu Marine",
          "Abrivado",
          "Thalacap Camargue",
          "Hotel Camille",
          "Hôtel Le Mirage",
          "Hotel Le Méditérranée",
          "Hôtel du Pont Blanc",
          "Le Maset en Camargue",
          "Le Fangassier",
          "Le Castelet",
          "Mas Des Salicornes",
          "Les Bains Gardians",
          "Hôtel Les Arcades",
          "Le Dauphin Bleu",
          "Les Rizières",
          "Hotel Lou Marquès",
          "Hôtel La Palunette",
          "La Tramontane",
          "Le Madeloc Hôtel & Spa",
          "Le Mas des Citronniers",
          "Residence Pierre & Vacances Les Balcons de Collioure",
          "Les Roches Brunes",
          "Hotel Méditerranée",
          "Hôtel la Bona Casa",
          "Hôtel Princes de Catalogne",
          "Hôtel La Casa Pairal",
          "Hôtel Triton",
          "Grand Hotel Du Golfe - Spa & Restaurant",
          "La Frégate",
          "Hotel Le Bon Port",
          "Maison Nova - Boutique Hôtel & Spa",
          "Hôtel des Templiers",
          "Le Relais Des Trois Mas",
          "Chambres Rue de la République",
          "Ibis Styles Collioure Port Vendres",
          "Hôtel Restaurant - Villa Les Sirènes",
          "Hôtel & Spa Les Mouettes",
          "Les Jardins Du Cèdre",
          "Tribe Carcassonne",
          "GOOD KNIGHT",
          "Hôtel l'Aragon",
          "Hotel Astoria",
          "Mercure Carcassonne La Cité",
          "SOWELL HOTELS Les Chevaliers",
          "Hôtel Le Donjon - Cœur de La Cité Médiévale",
          "Adonis Carcassonne",
          "Hotel Du Pont Vieux",
          "Hotel De La Bastide",
          "Cerise Carcassonne Sud",
          "ibis Carcassonne Centre - La Cité",
          "514 Appart Hotel",
          "Hotel du Roi & Spa by SOWELL COLLECTION",
          "Hôtel De L'octroi",
          "ibis budget Carcassonne La Cité",
          "Zenitude Hôtel-Résidences Carcassonne",
          "Hôtel du Château & Spa - Teritoria",
          "Hôtel La Bastide Saint Martin",
          "Audotel",
          "Brit Hotel Confort Foix",
          "The Originals Access, Hôtel Foix",
          "Lagrange Vacances Les Chalets d’Ax",
          "Studio Le Roof - Une vue splendide - Petit déjeuner inclus 1ère nuit - AUX 4 LOGIS",
          "Domaine de Garabaud",
          "Chambres d'hôtes Relais Mira Peis",
          "Terres de France - Domaine du Palais",
          "Résidence Natura",
          "Logis Hôtel Restaurant de la Poste",
          "Hostellerie de La Poste",
          "Hôtel Terranostra",
          "Hôtel Restaurant Le Bellevue",
          "Hôtel Pyrène",
          "Hôtel de la Paix",
          "Auberge des Deux Rivières",
          "Auberge du Haut Salat",
          "Résidence Néméa Les Balcons d'Ax",
          "Résidence Pierre & Vacances Les Trois Domaines",
          "Hôtel Premiere Classe Pamiers",
          "Résidence Domaine de la Vallée d'Ax - Location à la nuit, linge inclus",
          "Hôtel Le Capitole",
          "Hotel Ours Blanc - Wilson",
          "Résidences Guerlin",
          "Plaza Hotel Capitole Toulouse",
          "Arnaud Bernard Hôtel",
          "Odalys City Toulouse Centre Compans Caffarelli",
          "B&B HOTEL Toulouse Centre Canal du Midi",
          "Sangha Toulouse",
          "Ibis Styles Toulouse Centre Canal du Midi",
          "Matabi Hotel Toulouse Gare by HappyCulture",
          "Hôtel Le Cousture",
          "Le Grand Balcon Hotel",
          "ibis budget Toulouse Centre Gare",
          "Hôtel La Chartreuse",
          "Hôtel Une Chambre en Ville",
          "OVYO Hôtel",
          "Hôtel Le Père Léon",
          "Hôtel Raymond 4 Toulouse",
          "Montempô + Apparthôtel Toulouse Cité Internationale",
          "Citadines Wilson Toulouse",
          "Dali Hôtel Montauban",
          "Hôtel du Commerce",
          "Abbaye des Capucins Spa & Resort",
          "Centre Louis Ormières",
          "Brit Hotel Confort Montauban",
          "Sure Hotel by Best Western Les Portes de Montauban",
          "Premiere Classe Montauban",
          "Kyriad Direct Montauban Centre",
          "B&B HOTEL Montauban",
          "ibis budget Montauban Les Chaumes",
          "hotelF1 Montauban",
          "ibis Montauban",
          "Kyriad Montauban Sud - Albasud",
          "Château de Loubéjac",
          "Les Logis du Port - Port Canal - Montauban",
          "ibis Styles Montauban",
          "WonderBar (Auberge du Trinquet)",
          "Les bords de l'Aveyron",
          "Moulin d'Albias aux portes de Montauban",
          "Aux Lys d'Or",
          "Hôtel Les Baigneuses de Biarritz",
          "Nemea Appart Hotel Les Hauts de Milady Biarritz",
          "Résidence Biarritz Ocean",
          "Hôtel PALMITO",
          "Outsite Coliving Biarritz",
          "Résidence Victoria Surf",
          "Hôtel Jules Verne, BW Signature Collection",
          "Hôtel de La Plage",
          "Hôtel & Espace Bien-être La Maison du Lierre",
          "Hôtel Le Windsor Biarritz",
          "Carlina Lodge",
          "Hôtel Saint James",
          "Hôtel AKENA Biarritz - Grande plage",
          "ALFRED HOTELS Les Halles - Ex Hotel Anjou",
          "La Casa Cosy, Appart'Hôtel",
          "Saint Charles Hôtel & Coliving Biarritz",
          "Hôtel Cosmopolitain",
          "Hôtel Le Saphir",
          "Résidence Mer & Golf Eugénie",
          "Ama Hôtel",
          "Okko Hotels Bayonne Centre",
          "Hotel Cote Basque",
          "Appart'Hôtel Bellevue",
          "ibis Bayonne Centre",
          "ibis Styles Bayonne",
          "Temporesidence Cathedrale",
          "Hôtel Le Bayonne",
          "B&B HOTEL Bayonne",
          "Hôtel des Arceaux",
          "Hotel Loreak",
          "ibis budget Bayonne",
          "Temporesidence Chateauneuf",
          "Hôtel Villa KOEGUI Bayonne",
          "Hotel Le Port Neuf",
          "hotelF1 Bayonne",
          "Hôtel Villa la Renaissance",
          "Hôtel Les Genêts Bayonne",
          "Premiere Classe Bayonne",
          "Hôtel Mercure Bayonne Centre Le Grand Hotel",
          "Campanile Bayonne",
          "Hôtel Le Transatlantique - Lycée Hôtelier La Rochelle",
          "Le Saint-Nicolas Hôtel",
          "B&B HOTEL La Rochelle Centre",
          "Central Park Hôtel & Spa",
          "Première Classe La Rochelle Centre - Les Minimes",
          "Le Champlain",
          "Hôtel Les Gens de Mer La Rochelle by Popinns**",
          "Hôtel La Monnaie Arty & Spa",
          "Maison des Ambassadeurs",
          "Lagrange Apart'Hotel l’Escale Marine",
          "Mercure La Rochelle Vieux Port",
          "Appart'City Classic La Rochelle Centre",
          "Maisons du Monde Hôtel & Suites - La Rochelle Vieux Port",
          "Best Western Premier Le Masq Hôtel",
          "Hôtel La Fabrique",
          "Hôtel Les Brises",
          "ATHOME RESIDENCE ET SPA",
          "Hôtel François 1er",
          "Résidence New Rochelle",
          "Hotel Inn Design La Rochelle"
         ],
         "lat": [
          48.61293783,
          48.61424653,
          48.61758727,
          48.63508532,
          48.63534943,
          48.636063,
          48.6162627,
          48.61470049,
          48.63602298,
          48.63573406,
          48.61538141,
          48.63568798,
          48.61599318,
          48.59449,
          48.593575,
          48.63727298,
          48.59352509,
          48.55409667,
          48.55292138,
          48.55240292,
          48.66167888,
          48.65649842,
          48.64908143,
          48.649611,
          48.65609235,
          48.6360992,
          48.646646,
          48.65130149,
          48.65428009,
          48.63682324,
          48.6511934,
          48.65072706,
          48.65175689,
          48.6364051,
          48.65538573,
          48.65048892,
          48.65783788,
          48.65001325,
          48.647138,
          48.65473054,
          49.2723256,
          49.27815769,
          49.26942872,
          49.27647468,
          49.27627832,
          49.27603159,
          49.272798,
          49.26974024,
          49.27913671,
          49.2766073,
          49.26999926,
          49.27842191,
          49.27415914,
          49.28176922,
          49.2789941,
          49.27981023,
          49.280242,
          49.27551886,
          49.27933593,
          49.28407529,
          49.49008699,
          49.49404915,
          49.488691,
          49.49117449,
          49.49493852,
          49.498238,
          49.49227908,
          49.4925039,
          49.4983625,
          49.50318945,
          49.49308921,
          49.4933176,
          49.49141928,
          49.49119366,
          49.493988,
          49.49334357,
          49.48981028,
          49.50008887,
          49.49190808,
          49.49164142,
          49.44332714,
          49.44158357,
          49.446441,
          49.44197641,
          49.44318544,
          49.4290146,
          49.44011681,
          49.43783419,
          49.44263508,
          49.44569975,
          49.4388505,
          49.44527729,
          49.439067,
          49.43555756,
          49.43032628,
          49.43869536,
          49.43572312,
          49.438876,
          49.45328564,
          49.43872283,
          48.87833476,
          48.88311163,
          48.86501296,
          48.89349841,
          48.8813544,
          48.8902248,
          48.894088,
          48.88580975,
          48.87645147,
          48.88279018,
          48.8781877,
          48.84268237,
          48.84846716,
          48.847473,
          48.8973319,
          48.834942,
          48.889975,
          48.87326462,
          48.86777797,
          48.84984078,
          49.8921749,
          49.88714842,
          49.891591,
          49.891999,
          49.8943163,
          49.8916762,
          49.89183258,
          49.8922894,
          49.89444519,
          49.891422,
          49.891249,
          49.89571084,
          49.89125423,
          49.91856793,
          49.889307,
          49.92513403,
          49.8883391,
          49.89148612,
          49.89448371,
          49.87961282,
          50.63788756,
          50.6288419,
          50.63557145,
          50.627831,
          50.63671804,
          50.634074,
          50.64053101,
          50.639065,
          50.6183812,
          50.62003296,
          50.63075938,
          50.63359887,
          50.63654707,
          50.63685668,
          50.615354,
          50.635281,
          50.62603955,
          50.63603842,
          50.6347957,
          50.64602156,
          48.58249845,
          48.58319667,
          48.57269177,
          48.59274972,
          48.58315586,
          48.57924766,
          48.59899457,
          48.58469688,
          48.59022795,
          48.58068766,
          48.58906194,
          48.569366,
          48.58094495,
          48.58031945,
          48.59173665,
          48.58383633,
          48.58373253,
          48.5841699,
          48.58253971,
          48.58384564,
          48.15064882,
          48.23240406,
          48.16697453,
          48.27175703,
          48.16663999,
          48.15237298,
          48.16602996,
          48.23164092,
          48.30655512,
          48.193067,
          48.26213418,
          48.19661034,
          48.1604785,
          48.23481955,
          48.34259285,
          48.22489193,
          48.23085948,
          48.16800494,
          48.13857095,
          48.18754395,
          48.07080074,
          48.08745399,
          48.079198,
          48.07192026,
          48.112478,
          48.07969759,
          48.07654046,
          48.07705927,
          48.09922,
          48.08601523,
          48.07641681,
          48.07093986,
          48.07376803,
          48.07891558,
          48.0762385,
          48.0810608,
          48.06517112,
          48.09630283,
          48.076817,
          48.07720622,
          48.04349458,
          48.04327133,
          48.04215781,
          48.03498767,
          48.04502734,
          48.04242043,
          48.04496277,
          48.04223841,
          48.04228862,
          48.0430391,
          48.07080074,
          48.07390014,
          48.06517112,
          48.08389871,
          48.07093986,
          48.08241099,
          48.06059651,
          48.0575458,
          48.07245883,
          48.09957165,
          47.23171767,
          47.23568252,
          47.2354914,
          47.24741871,
          47.25904854,
          47.23856537,
          47.25425346,
          47.25435723,
          47.231541,
          47.24045605,
          47.23727603,
          47.246146,
          47.22448656,
          47.24619696,
          47.23664,
          47.23986296,
          47.27069957,
          47.22018011,
          47.27044104,
          47.24228752,
          47.325526,
          47.3245398,
          47.31827001,
          47.32281707,
          47.3557,
          47.32279604,
          47.32558142,
          47.32268695,
          47.32570141,
          47.32814395,
          47.32170512,
          47.32651409,
          47.32345831,
          47.32428953,
          47.32660499,
          47.318251,
          47.32359832,
          47.31585013,
          47.31154757,
          47.32075509,
          45.8982388,
          45.90542866,
          45.89819586,
          45.90122721,
          45.88969452,
          45.90163038,
          45.88972625,
          45.90393736,
          45.89789347,
          45.90041837,
          45.89771607,
          45.90218661,
          45.90034806,
          45.9061192,
          45.90551449,
          45.897015,
          45.90205968,
          45.89912171,
          45.90010167,
          45.90249645,
          45.19581084,
          45.18410131,
          45.186911,
          45.19081504,
          45.1907933,
          45.18928483,
          45.15999038,
          45.19439642,
          45.19056363,
          45.15883667,
          45.19107826,
          45.17849379,
          45.18920402,
          45.16819994,
          45.18960902,
          45.19085898,
          45.19023755,
          45.19035711,
          45.18495018,
          45.74602253,
          45.75603458,
          45.78492085,
          45.78501661,
          45.76854482,
          45.76894586,
          45.74468421,
          45.75964111,
          45.73332499,
          45.7584012,
          45.7536869,
          45.762725,
          45.19051921,
          45.7606886,
          45.75644535,
          45.76158736,
          45.77968335,
          45.76970922,
          45.75376918,
          45.75959929,
          45.76109341,
          43.83838463,
          43.77239232,
          43.65436638,
          43.75885772,
          43.71600388,
          43.77633074,
          43.77567318,
          43.77414234,
          43.77393376,
          43.84593903,
          43.761854,
          43.84662575,
          43.760622,
          43.7327862,
          43.84343777,
          43.84644198,
          43.84653793,
          43.84601448,
          43.84680371,
          43.75820852,
          43.144686,
          43.12549,
          43.124617,
          43.15187759,
          43.10286293,
          43.1519579,
          43.152872,
          43.14893354,
          43.14456855,
          43.13896828,
          43.13273694,
          43.13971299,
          43.1436693,
          43.14134525,
          43.13766477,
          43.13812276,
          43.13755908,
          43.13783309,
          43.13594159,
          43.14988849,
          43.21621735,
          43.21457326,
          43.21443438,
          43.21370621,
          43.213611,
          43.21522997,
          43.21644024,
          43.22184049,
          43.21622493,
          43.2133045,
          43.21403,
          43.21334946,
          43.2348293,
          43.211337,
          43.2145598,
          43.25658448,
          43.24507644,
          43.28529999,
          43.1963472,
          43.17733205,
          43.29655283,
          43.3148132,
          43.26842246,
          43.2933693,
          43.27951389,
          43.29502467,
          43.29443608,
          43.30046625,
          43.29220856,
          43.296695,
          43.3113494,
          43.30715002,
          43.29152194,
          43.31580003,
          43.2921343,
          43.304229,
          43.28080124,
          43.31371049,
          43.29603122,
          43.29204847,
          43.52524078,
          43.5255987,
          43.52688664,
          43.5249088,
          43.4964012,
          43.5205148,
          43.53336324,
          43.52356201,
          43.5312636,
          43.52485921,
          43.5292347,
          43.52461222,
          43.52191762,
          43.496316,
          43.5280311,
          43.53004967,
          43.54124585,
          43.52133318,
          43.52891205,
          43.508036,
          43.94989514,
          43.94362946,
          43.9569418,
          43.94963777,
          43.94375631,
          43.94254506,
          43.94461632,
          43.94423309,
          43.94930611,
          43.94552496,
          43.94313042,
          43.94409296,
          43.9481658,
          43.94761833,
          43.94350683,
          43.9449147,
          43.9446966,
          43.94290138,
          43.947113,
          43.94104636,
          44.014659,
          44.01246437,
          44.02339471,
          43.986524,
          44.00284485,
          44.02843142,
          44.00924515,
          44.01263259,
          44.01274447,
          44.0085782,
          44.00972373,
          44.00804203,
          44.00807289,
          44.04619757,
          43.99945021,
          43.9529415,
          43.96063267,
          43.95418958,
          43.94498,
          43.95970786,
          43.8281614,
          43.837032,
          43.83406187,
          43.83387353,
          43.8388151,
          43.845396,
          43.83436329,
          43.82273112,
          43.8330273,
          43.83866613,
          43.8320559,
          43.78858215,
          43.83959476,
          43.83581534,
          43.83899502,
          43.81557635,
          43.83175755,
          43.83887217,
          43.82158549,
          43.815334,
          43.57298752,
          43.56498662,
          43.57639589,
          43.5660175,
          43.57186625,
          43.56721967,
          43.5689974,
          43.57379435,
          43.56651351,
          43.57702546,
          43.56803552,
          43.56694565,
          43.58606025,
          43.5393444,
          43.5579264,
          43.5593909,
          43.568057,
          43.53185232,
          43.55935184,
          43.53277434,
          43.451133,
          43.45106618,
          43.45463818,
          43.45033695,
          43.45349134,
          43.45039148,
          43.45310192,
          43.45122281,
          43.45705076,
          43.45656073,
          43.45449604,
          43.45134949,
          43.45687142,
          43.46542981,
          43.4526278,
          43.45233086,
          43.47103999,
          43.45512494,
          43.46230329,
          43.47260109,
          42.52876467,
          42.52538159,
          42.52510633,
          42.52534777,
          42.52708254,
          42.52547153,
          42.52591431,
          42.52616733,
          42.52371617,
          42.53378311,
          42.52638625,
          42.52411449,
          42.5288828,
          42.52666546,
          42.52417281,
          42.5255637,
          42.523056,
          42.55784981,
          42.53411713,
          42.51312071,
          43.21030573,
          43.207746,
          43.20779948,
          43.21755413,
          43.2071641,
          43.21103244,
          43.2064642,
          43.20478378,
          43.20905066,
          43.2156776,
          43.20754846,
          43.21157055,
          43.205485,
          43.21085,
          43.20895683,
          43.20765481,
          43.22829222,
          43.20734201,
          43.22714696,
          43.20528921,
          43.0052395,
          42.9921119,
          42.71383156,
          42.9681599,
          43.25701228,
          43.088176,
          43.003051,
          42.71931396,
          42.84806398,
          42.874712,
          42.84718593,
          42.71983699,
          42.95401186,
          42.76020383,
          42.83202716,
          42.8631,
          42.70237131,
          42.71865184,
          43.10322201,
          42.71456073,
          43.60605939,
          43.6057195,
          43.606603,
          43.60373649,
          43.60924934,
          43.6090789,
          43.6126317,
          43.60163542,
          43.6014709,
          43.61112245,
          43.6042508,
          43.60487367,
          43.61560862,
          43.6100905,
          43.615198,
          43.59936528,
          43.60043699,
          43.61001646,
          43.5908572,
          43.60653376,
          44.02099556,
          44.01542573,
          44.02054293,
          43.990284,
          43.98081084,
          43.93628721,
          43.98291262,
          44.02246008,
          44.04011965,
          44.00649224,
          44.007347,
          44.0053675,
          43.98204027,
          44.08944141,
          44.0084597,
          44.00526,
          43.9328946,
          44.0723609,
          44.09414145,
          44.1144146,
          43.48230843,
          43.4702245,
          43.48040601,
          43.48205056,
          43.479357,
          43.48474402,
          43.47853954,
          43.48213327,
          43.48013354,
          43.48437426,
          43.47747717,
          43.48131684,
          43.48534146,
          43.4816944,
          43.480333,
          43.48538136,
          43.482179,
          43.48177906,
          43.46963652,
          43.48131295,
          43.4953443,
          43.49618306,
          43.50579423,
          43.492713,
          43.49540574,
          43.48954193,
          43.4850262,
          43.4645147,
          43.4922497,
          43.49349109,
          43.48908262,
          43.48991068,
          43.492371,
          43.49166881,
          43.48962331,
          43.482321,
          43.46494896,
          43.49048959,
          43.49231191,
          43.49112493,
          46.143734,
          46.15813457,
          46.15450177,
          46.15891333,
          46.14702834,
          46.16357605,
          46.15412696,
          46.1563008,
          46.16282553,
          46.15107012,
          46.15365316,
          46.15844669,
          46.15619304,
          46.15483672,
          46.156155,
          46.15345807,
          46.145995,
          46.16091143,
          46.14068996,
          46.16975862
         ],
         "legendgroup": "",
         "lon": [
          -1.51010513,
          -1.51054502,
          -1.51039615,
          -1.51053965,
          -1.51037872,
          -1.511457,
          -1.51090577,
          -1.50961697,
          -1.50989592,
          -1.50986105,
          -1.51070997,
          -1.50988251,
          -1.48825318,
          -1.511429,
          -1.596291,
          -1.42506182,
          -1.59637034,
          -1.50062889,
          -1.50651406,
          -1.50712252,
          -1.99165016,
          -2.00342774,
          -2.02793335,
          -2.02430338,
          -2.0023968,
          -1.98920667,
          -2.009096,
          -2.02511072,
          -2.00883776,
          -1.99040147,
          -2.02379644,
          -2.02494547,
          -2.01843202,
          -2.0141844,
          -2.00562447,
          -2.02486358,
          -1.99934542,
          -2.02483177,
          -2.008805,
          -2.00773448,
          -0.6985101,
          -0.70351392,
          -0.70668697,
          -0.70247008,
          -0.69836944,
          -0.70172489,
          -0.707556,
          -0.68883955,
          -0.72042494,
          -0.70057154,
          -0.70694983,
          -0.70329666,
          -0.70450634,
          -0.71848869,
          -0.708417,
          -0.71067492,
          -0.71046,
          -0.70096448,
          -0.7070561,
          -0.68937063,
          0.09774696,
          0.09936646,
          0.125929,
          0.11193663,
          0.10553956,
          0.128837,
          0.12310803,
          0.129779,
          0.1301614,
          0.08882135,
          0.13096154,
          0.12530688,
          0.10070756,
          0.1064609,
          0.1227326,
          0.12431771,
          0.10710865,
          0.14129341,
          0.12316179,
          0.11876017,
          1.09457396,
          1.08144455,
          1.09412,
          1.09243892,
          1.07911371,
          1.0832807,
          1.09693363,
          1.09725282,
          1.08685791,
          1.094523,
          1.0899553,
          1.0867627,
          1.089627,
          1.10374242,
          1.08483285,
          1.1092034,
          1.10273123,
          1.09563268,
          1.0982853,
          1.09135196,
          2.38422876,
          2.33837195,
          2.37768777,
          2.32500155,
          2.32828349,
          2.3451377,
          2.333771,
          2.33778656,
          2.3489479,
          2.33466446,
          2.4093032,
          2.33853757,
          2.34255686,
          2.37190157,
          2.3290595,
          2.410246,
          2.323317,
          2.32403152,
          2.38290846,
          2.34685577,
          2.2889352,
          2.3116109,
          2.313573,
          2.29197,
          2.3097612,
          2.30775386,
          2.30599433,
          2.30258571,
          2.30094239,
          2.304996,
          2.30953,
          2.29956239,
          2.30433606,
          2.29331338,
          2.294634,
          2.30457276,
          2.31217084,
          2.3043555,
          2.27680253,
          2.26665102,
          3.072685,
          3.0519791,
          3.06783289,
          3.063592,
          3.06532234,
          3.064229,
          3.06424141,
          3.070951,
          3.0539968,
          3.08456697,
          3.05808842,
          3.06328118,
          3.06234241,
          3.06794286,
          3.043125,
          3.060162,
          3.05190325,
          3.06693703,
          3.06413278,
          3.07587147,
          7.7372396,
          7.74285212,
          7.72871353,
          7.74505986,
          7.7439934,
          7.73222588,
          7.76217318,
          7.736561,
          7.73982861,
          7.7550716,
          7.73879863,
          7.777569,
          7.7504307,
          7.75127023,
          7.71170497,
          7.73494899,
          7.74504483,
          7.73643762,
          7.73732672,
          7.74342477,
          7.32050344,
          7.36546665,
          7.30060011,
          7.39950542,
          7.2989291,
          7.32169032,
          7.30618447,
          7.30222034,
          7.41947293,
          7.324492,
          7.49853909,
          7.31340766,
          7.37237871,
          7.36778677,
          7.30247229,
          7.3539548,
          7.30213568,
          7.31888339,
          7.26551414,
          7.34917787,
          7.34638973,
          7.36068696,
          7.363507,
          7.36053944,
          7.36766875,
          7.35236159,
          7.34987363,
          7.34933853,
          7.362784,
          7.35729933,
          7.35935189,
          7.35386556,
          7.35829376,
          7.36514839,
          7.35644773,
          7.35717729,
          7.36302316,
          7.36164164,
          7.355199,
          7.40387186,
          7.30439007,
          7.30412185,
          7.30737026,
          7.27613837,
          7.31185466,
          7.30631925,
          7.30157845,
          7.30916776,
          7.3094514,
          7.30580762,
          7.34638973,
          7.28547303,
          7.36302316,
          7.31371522,
          7.35386556,
          7.28146993,
          7.3035264,
          7.3070346,
          7.34755754,
          7.31126994,
          6.02759153,
          6.0140115,
          6.01498839,
          6.02364331,
          6.00806236,
          6.02532506,
          6.0216397,
          5.99548012,
          6.02658033,
          6.02599533,
          6.02586955,
          6.033186,
          5.95612407,
          6.02335095,
          6.025664,
          6.02139884,
          5.99509656,
          5.95533135,
          5.9982723,
          6.03179455,
          5.0494804,
          5.0276148,
          5.04011462,
          5.03688532,
          5.052,
          5.02989829,
          5.0369183,
          5.03817558,
          5.04478052,
          5.05142838,
          5.04365332,
          5.03357962,
          5.04345149,
          5.03427227,
          5.02834596,
          5.028123,
          5.03726116,
          5.04426688,
          5.08031309,
          5.05810049,
          6.12250954,
          6.15925983,
          6.12748235,
          6.12507373,
          6.13690495,
          6.12292528,
          6.13854915,
          6.11999363,
          6.12520516,
          6.1203445,
          6.13013095,
          6.12380505,
          6.1223942,
          6.15546584,
          6.14412814,
          6.131543,
          6.12464726,
          6.11464262,
          6.12442464,
          6.12611979,
          5.72544678,
          5.73294818,
          5.731293,
          5.72854802,
          5.71669668,
          5.71861982,
          5.73111087,
          5.71059331,
          5.72448447,
          5.73443547,
          5.71559832,
          5.72029755,
          5.72537228,
          5.71199477,
          5.7121785,
          5.71572438,
          5.71266398,
          5.72733097,
          5.72598981,
          4.8238939,
          4.85909857,
          4.85289931,
          4.85641569,
          4.82789543,
          4.85686898,
          4.825809,
          4.81612913,
          4.82288003,
          4.8357082,
          4.8258452,
          4.82682,
          5.71601942,
          4.8368369,
          4.8632741,
          4.83262651,
          4.82668072,
          4.85025465,
          4.85481441,
          4.83246356,
          4.83197138,
          6.21520936,
          6.20848164,
          6.16950452,
          5.8853766,
          6.13406986,
          6.2425231,
          6.24338436,
          6.21725589,
          6.61947986,
          6.51284605,
          5.888967,
          6.51355416,
          5.888974,
          6.16152227,
          6.22167349,
          6.51247859,
          6.51394978,
          6.22133017,
          6.21976241,
          5.8968915,
          6.335125,
          6.3573,
          6.357572,
          6.34313598,
          6.32735252,
          6.3432835,
          6.342654,
          6.30326629,
          6.35168418,
          6.37227952,
          6.36377156,
          6.36992052,
          6.37933373,
          6.37999959,
          6.36799872,
          6.3719523,
          6.36546403,
          6.37392104,
          6.36702374,
          6.4028728,
          5.53802689,
          5.54014698,
          5.53529486,
          5.53895809,
          5.539561,
          5.53369693,
          5.54174572,
          5.5433849,
          5.54290026,
          5.54191589,
          5.53859,
          5.53126283,
          5.51191052,
          5.529502,
          5.5336574,
          5.55267692,
          5.56838094,
          5.52009143,
          5.59757027,
          5.61000645,
          5.37188329,
          5.3694651,
          5.39409652,
          5.376677,
          5.38918138,
          5.37505701,
          5.37478209,
          5.37444157,
          5.37355497,
          5.372832,
          5.3717303,
          5.38220636,
          5.40403225,
          5.37297461,
          5.3749188,
          5.376624,
          5.38825348,
          5.40388192,
          5.37489071,
          5.35977781,
          5.441266,
          5.4517208,
          5.44727147,
          5.45042306,
          5.3943974,
          5.4471929,
          5.44605643,
          5.44593707,
          5.44507004,
          5.45370072,
          5.4536394,
          5.45375437,
          5.45787156,
          5.342152,
          5.43435931,
          5.44414669,
          5.37295818,
          5.44477701,
          5.43827534,
          5.439455,
          4.81986389,
          4.81217131,
          4.8029451,
          4.80635896,
          4.79815236,
          4.80436206,
          4.80061233,
          4.80666876,
          4.8093456,
          4.80576083,
          4.7990917,
          4.81142029,
          4.80576485,
          4.80680354,
          4.82236505,
          4.80548322,
          4.80499312,
          4.79804277,
          4.80333,
          4.80665267,
          4.4200515,
          4.42180011,
          4.41929072,
          4.302525,
          4.41645205,
          4.42002386,
          4.41617399,
          4.41414893,
          4.42113072,
          4.3252278,
          4.41112954,
          4.32490737,
          4.32498461,
          4.44319778,
          4.37276781,
          4.47557424,
          4.46756244,
          4.47615892,
          4.549344,
          4.51932907,
          4.3547902,
          4.363037,
          4.35899065,
          4.36143396,
          4.35481846,
          4.368959,
          4.36533675,
          4.36412573,
          4.36618969,
          4.35276791,
          4.3673645,
          4.35380258,
          4.3610841,
          4.35914017,
          4.36281145,
          4.34660353,
          4.36697356,
          4.36974764,
          4.3645978,
          4.344052,
          4.1948247,
          4.19175196,
          4.19781804,
          4.1923532,
          4.19366169,
          4.1893436,
          4.1882982,
          4.18062186,
          4.19115815,
          4.19753909,
          4.1903438,
          4.19187346,
          4.19745116,
          4.1340846,
          4.09765363,
          4.0696384,
          4.102608,
          4.14007276,
          4.0925344,
          4.14406251,
          4.430953,
          4.42509368,
          4.433202,
          4.42622423,
          4.43545103,
          4.42991227,
          4.4305855,
          4.42666832,
          4.42464903,
          4.42670293,
          4.43070754,
          4.42507625,
          4.42617595,
          4.41963136,
          4.43076655,
          4.43364993,
          4.41058695,
          4.42874014,
          4.42051917,
          4.41012025,
          3.07865426,
          3.08256391,
          3.0904362,
          3.09032446,
          3.08026291,
          3.0826987,
          3.0826816,
          3.08235571,
          3.08713473,
          3.06433797,
          3.08325659,
          3.08936566,
          3.0793938,
          3.08394089,
          3.08931068,
          3.08279672,
          3.101111,
          3.04388613,
          3.06205675,
          3.10967669,
          2.3577556,
          2.366914,
          2.36734718,
          2.35417351,
          2.36981213,
          2.35819995,
          2.36363366,
          2.36022029,
          2.36179769,
          2.34974384,
          2.3726145,
          2.35732913,
          2.3722062,
          2.357769,
          2.36843884,
          2.37880826,
          2.36018702,
          2.36651301,
          2.39639953,
          2.40765542,
          1.61475956,
          1.61583245,
          1.83920681,
          1.6083351,
          1.666435,
          1.875399,
          1.13713,
          1.83852285,
          1.60542548,
          1.21583998,
          1.6056028,
          1.84186692,
          1.62389517,
          1.76470846,
          1.19836539,
          1.2017,
          1.81530745,
          1.8366158,
          1.63057027,
          1.8390888,
          1.44516751,
          1.4473287,
          1.450683,
          1.44275352,
          1.43886566,
          1.4274835,
          1.4268526,
          1.40701316,
          1.45706829,
          1.45225525,
          1.45049907,
          1.44249469,
          1.44477457,
          1.4530466,
          1.43922,
          1.44105014,
          1.4439974,
          1.4477203,
          1.4468588,
          1.44812532,
          1.34924001,
          1.35407299,
          1.34956688,
          1.338824,
          1.33039445,
          1.32209783,
          1.33401543,
          1.35816604,
          1.3860239,
          1.38643178,
          1.385129,
          1.3837342,
          1.33269846,
          1.34851889,
          1.3405966,
          1.383153,
          1.3661783,
          1.5140099,
          1.44704023,
          1.478318,
          -1.56681105,
          -1.5678466,
          -1.55796111,
          -1.56574488,
          -1.562543,
          -1.55708939,
          -1.5553996,
          -1.56753056,
          -1.56076133,
          -1.55863568,
          -1.56685475,
          -1.56286418,
          -1.55238748,
          -1.56308413,
          -1.5625479,
          -1.54920369,
          -1.56183958,
          -1.56539351,
          -1.56949058,
          -1.55749306,
          -1.4825118,
          -1.46960109,
          -1.45608832,
          -1.465659,
          -1.47082418,
          -1.47812448,
          -1.47537053,
          -1.4959653,
          -1.4757726,
          -1.45263344,
          -1.45717809,
          -1.47314027,
          -1.472588,
          -1.47638239,
          -1.45107529,
          -1.468164,
          -1.49584383,
          -1.45203531,
          -1.47660971,
          -1.4548409,
          -1.160263,
          -1.14891277,
          -1.14467164,
          -1.16082335,
          -1.15308466,
          -1.1541599,
          -1.14749925,
          -1.15810812,
          -1.15110219,
          -1.15486329,
          -1.14965111,
          -1.14101171,
          -1.15443483,
          -1.14505649,
          -1.148583,
          -1.17438644,
          -1.152398,
          -1.15203694,
          -1.16616011,
          -1.12158448
         ],
         "marker": {
          "color": "fuchsia"
         },
         "mode": "markers",
         "name": "",
         "showlegend": false,
         "subplot": "mapbox",
         "type": "scattermapbox"
        }
       ],
       "layout": {
        "height": 800,
        "legend": {
         "tracegroupgap": 0
        },
        "mapbox": {
         "center": {
          "lat": 45.83850782477143,
          "lon": 3.4004027130714283
         },
         "domain": {
          "x": [
           0,
           1
          ],
          "y": [
           0,
           1
          ]
         },
         "style": "open-street-map",
         "zoom": 5
        },
        "margin": {
         "b": 0,
         "l": 0,
         "r": 0,
         "t": 0
        },
        "template": {
         "data": {
          "bar": [
           {
            "error_x": {
             "color": "#2a3f5f"
            },
            "error_y": {
             "color": "#2a3f5f"
            },
            "marker": {
             "line": {
              "color": "#E5ECF6",
              "width": 0.5
             },
             "pattern": {
              "fillmode": "overlay",
              "size": 10,
              "solidity": 0.2
             }
            },
            "type": "bar"
           }
          ],
          "barpolar": [
           {
            "marker": {
             "line": {
              "color": "#E5ECF6",
              "width": 0.5
             },
             "pattern": {
              "fillmode": "overlay",
              "size": 10,
              "solidity": 0.2
             }
            },
            "type": "barpolar"
           }
          ],
          "carpet": [
           {
            "aaxis": {
             "endlinecolor": "#2a3f5f",
             "gridcolor": "white",
             "linecolor": "white",
             "minorgridcolor": "white",
             "startlinecolor": "#2a3f5f"
            },
            "baxis": {
             "endlinecolor": "#2a3f5f",
             "gridcolor": "white",
             "linecolor": "white",
             "minorgridcolor": "white",
             "startlinecolor": "#2a3f5f"
            },
            "type": "carpet"
           }
          ],
          "choropleth": [
           {
            "colorbar": {
             "outlinewidth": 0,
             "ticks": ""
            },
            "type": "choropleth"
           }
          ],
          "contour": [
           {
            "colorbar": {
             "outlinewidth": 0,
             "ticks": ""
            },
            "colorscale": [
             [
              0,
              "#0d0887"
             ],
             [
              0.1111111111111111,
              "#46039f"
             ],
             [
              0.2222222222222222,
              "#7201a8"
             ],
             [
              0.3333333333333333,
              "#9c179e"
             ],
             [
              0.4444444444444444,
              "#bd3786"
             ],
             [
              0.5555555555555556,
              "#d8576b"
             ],
             [
              0.6666666666666666,
              "#ed7953"
             ],
             [
              0.7777777777777778,
              "#fb9f3a"
             ],
             [
              0.8888888888888888,
              "#fdca26"
             ],
             [
              1,
              "#f0f921"
             ]
            ],
            "type": "contour"
           }
          ],
          "contourcarpet": [
           {
            "colorbar": {
             "outlinewidth": 0,
             "ticks": ""
            },
            "type": "contourcarpet"
           }
          ],
          "heatmap": [
           {
            "colorbar": {
             "outlinewidth": 0,
             "ticks": ""
            },
            "colorscale": [
             [
              0,
              "#0d0887"
             ],
             [
              0.1111111111111111,
              "#46039f"
             ],
             [
              0.2222222222222222,
              "#7201a8"
             ],
             [
              0.3333333333333333,
              "#9c179e"
             ],
             [
              0.4444444444444444,
              "#bd3786"
             ],
             [
              0.5555555555555556,
              "#d8576b"
             ],
             [
              0.6666666666666666,
              "#ed7953"
             ],
             [
              0.7777777777777778,
              "#fb9f3a"
             ],
             [
              0.8888888888888888,
              "#fdca26"
             ],
             [
              1,
              "#f0f921"
             ]
            ],
            "type": "heatmap"
           }
          ],
          "heatmapgl": [
           {
            "colorbar": {
             "outlinewidth": 0,
             "ticks": ""
            },
            "colorscale": [
             [
              0,
              "#0d0887"
             ],
             [
              0.1111111111111111,
              "#46039f"
             ],
             [
              0.2222222222222222,
              "#7201a8"
             ],
             [
              0.3333333333333333,
              "#9c179e"
             ],
             [
              0.4444444444444444,
              "#bd3786"
             ],
             [
              0.5555555555555556,
              "#d8576b"
             ],
             [
              0.6666666666666666,
              "#ed7953"
             ],
             [
              0.7777777777777778,
              "#fb9f3a"
             ],
             [
              0.8888888888888888,
              "#fdca26"
             ],
             [
              1,
              "#f0f921"
             ]
            ],
            "type": "heatmapgl"
           }
          ],
          "histogram": [
           {
            "marker": {
             "pattern": {
              "fillmode": "overlay",
              "size": 10,
              "solidity": 0.2
             }
            },
            "type": "histogram"
           }
          ],
          "histogram2d": [
           {
            "colorbar": {
             "outlinewidth": 0,
             "ticks": ""
            },
            "colorscale": [
             [
              0,
              "#0d0887"
             ],
             [
              0.1111111111111111,
              "#46039f"
             ],
             [
              0.2222222222222222,
              "#7201a8"
             ],
             [
              0.3333333333333333,
              "#9c179e"
             ],
             [
              0.4444444444444444,
              "#bd3786"
             ],
             [
              0.5555555555555556,
              "#d8576b"
             ],
             [
              0.6666666666666666,
              "#ed7953"
             ],
             [
              0.7777777777777778,
              "#fb9f3a"
             ],
             [
              0.8888888888888888,
              "#fdca26"
             ],
             [
              1,
              "#f0f921"
             ]
            ],
            "type": "histogram2d"
           }
          ],
          "histogram2dcontour": [
           {
            "colorbar": {
             "outlinewidth": 0,
             "ticks": ""
            },
            "colorscale": [
             [
              0,
              "#0d0887"
             ],
             [
              0.1111111111111111,
              "#46039f"
             ],
             [
              0.2222222222222222,
              "#7201a8"
             ],
             [
              0.3333333333333333,
              "#9c179e"
             ],
             [
              0.4444444444444444,
              "#bd3786"
             ],
             [
              0.5555555555555556,
              "#d8576b"
             ],
             [
              0.6666666666666666,
              "#ed7953"
             ],
             [
              0.7777777777777778,
              "#fb9f3a"
             ],
             [
              0.8888888888888888,
              "#fdca26"
             ],
             [
              1,
              "#f0f921"
             ]
            ],
            "type": "histogram2dcontour"
           }
          ],
          "mesh3d": [
           {
            "colorbar": {
             "outlinewidth": 0,
             "ticks": ""
            },
            "type": "mesh3d"
           }
          ],
          "parcoords": [
           {
            "line": {
             "colorbar": {
              "outlinewidth": 0,
              "ticks": ""
             }
            },
            "type": "parcoords"
           }
          ],
          "pie": [
           {
            "automargin": true,
            "type": "pie"
           }
          ],
          "scatter": [
           {
            "fillpattern": {
             "fillmode": "overlay",
             "size": 10,
             "solidity": 0.2
            },
            "type": "scatter"
           }
          ],
          "scatter3d": [
           {
            "line": {
             "colorbar": {
              "outlinewidth": 0,
              "ticks": ""
             }
            },
            "marker": {
             "colorbar": {
              "outlinewidth": 0,
              "ticks": ""
             }
            },
            "type": "scatter3d"
           }
          ],
          "scattercarpet": [
           {
            "marker": {
             "colorbar": {
              "outlinewidth": 0,
              "ticks": ""
             }
            },
            "type": "scattercarpet"
           }
          ],
          "scattergeo": [
           {
            "marker": {
             "colorbar": {
              "outlinewidth": 0,
              "ticks": ""
             }
            },
            "type": "scattergeo"
           }
          ],
          "scattergl": [
           {
            "marker": {
             "colorbar": {
              "outlinewidth": 0,
              "ticks": ""
             }
            },
            "type": "scattergl"
           }
          ],
          "scattermapbox": [
           {
            "marker": {
             "colorbar": {
              "outlinewidth": 0,
              "ticks": ""
             }
            },
            "type": "scattermapbox"
           }
          ],
          "scatterpolar": [
           {
            "marker": {
             "colorbar": {
              "outlinewidth": 0,
              "ticks": ""
             }
            },
            "type": "scatterpolar"
           }
          ],
          "scatterpolargl": [
           {
            "marker": {
             "colorbar": {
              "outlinewidth": 0,
              "ticks": ""
             }
            },
            "type": "scatterpolargl"
           }
          ],
          "scatterternary": [
           {
            "marker": {
             "colorbar": {
              "outlinewidth": 0,
              "ticks": ""
             }
            },
            "type": "scatterternary"
           }
          ],
          "surface": [
           {
            "colorbar": {
             "outlinewidth": 0,
             "ticks": ""
            },
            "colorscale": [
             [
              0,
              "#0d0887"
             ],
             [
              0.1111111111111111,
              "#46039f"
             ],
             [
              0.2222222222222222,
              "#7201a8"
             ],
             [
              0.3333333333333333,
              "#9c179e"
             ],
             [
              0.4444444444444444,
              "#bd3786"
             ],
             [
              0.5555555555555556,
              "#d8576b"
             ],
             [
              0.6666666666666666,
              "#ed7953"
             ],
             [
              0.7777777777777778,
              "#fb9f3a"
             ],
             [
              0.8888888888888888,
              "#fdca26"
             ],
             [
              1,
              "#f0f921"
             ]
            ],
            "type": "surface"
           }
          ],
          "table": [
           {
            "cells": {
             "fill": {
              "color": "#EBF0F8"
             },
             "line": {
              "color": "white"
             }
            },
            "header": {
             "fill": {
              "color": "#C8D4E3"
             },
             "line": {
              "color": "white"
             }
            },
            "type": "table"
           }
          ]
         },
         "layout": {
          "annotationdefaults": {
           "arrowcolor": "#2a3f5f",
           "arrowhead": 0,
           "arrowwidth": 1
          },
          "autotypenumbers": "strict",
          "coloraxis": {
           "colorbar": {
            "outlinewidth": 0,
            "ticks": ""
           }
          },
          "colorscale": {
           "diverging": [
            [
             0,
             "#8e0152"
            ],
            [
             0.1,
             "#c51b7d"
            ],
            [
             0.2,
             "#de77ae"
            ],
            [
             0.3,
             "#f1b6da"
            ],
            [
             0.4,
             "#fde0ef"
            ],
            [
             0.5,
             "#f7f7f7"
            ],
            [
             0.6,
             "#e6f5d0"
            ],
            [
             0.7,
             "#b8e186"
            ],
            [
             0.8,
             "#7fbc41"
            ],
            [
             0.9,
             "#4d9221"
            ],
            [
             1,
             "#276419"
            ]
           ],
           "sequential": [
            [
             0,
             "#0d0887"
            ],
            [
             0.1111111111111111,
             "#46039f"
            ],
            [
             0.2222222222222222,
             "#7201a8"
            ],
            [
             0.3333333333333333,
             "#9c179e"
            ],
            [
             0.4444444444444444,
             "#bd3786"
            ],
            [
             0.5555555555555556,
             "#d8576b"
            ],
            [
             0.6666666666666666,
             "#ed7953"
            ],
            [
             0.7777777777777778,
             "#fb9f3a"
            ],
            [
             0.8888888888888888,
             "#fdca26"
            ],
            [
             1,
             "#f0f921"
            ]
           ],
           "sequentialminus": [
            [
             0,
             "#0d0887"
            ],
            [
             0.1111111111111111,
             "#46039f"
            ],
            [
             0.2222222222222222,
             "#7201a8"
            ],
            [
             0.3333333333333333,
             "#9c179e"
            ],
            [
             0.4444444444444444,
             "#bd3786"
            ],
            [
             0.5555555555555556,
             "#d8576b"
            ],
            [
             0.6666666666666666,
             "#ed7953"
            ],
            [
             0.7777777777777778,
             "#fb9f3a"
            ],
            [
             0.8888888888888888,
             "#fdca26"
            ],
            [
             1,
             "#f0f921"
            ]
           ]
          },
          "colorway": [
           "#636efa",
           "#EF553B",
           "#00cc96",
           "#ab63fa",
           "#FFA15A",
           "#19d3f3",
           "#FF6692",
           "#B6E880",
           "#FF97FF",
           "#FECB52"
          ],
          "font": {
           "color": "#2a3f5f"
          },
          "geo": {
           "bgcolor": "white",
           "lakecolor": "white",
           "landcolor": "#E5ECF6",
           "showlakes": true,
           "showland": true,
           "subunitcolor": "white"
          },
          "hoverlabel": {
           "align": "left"
          },
          "hovermode": "closest",
          "mapbox": {
           "style": "light"
          },
          "paper_bgcolor": "white",
          "plot_bgcolor": "#E5ECF6",
          "polar": {
           "angularaxis": {
            "gridcolor": "white",
            "linecolor": "white",
            "ticks": ""
           },
           "bgcolor": "#E5ECF6",
           "radialaxis": {
            "gridcolor": "white",
            "linecolor": "white",
            "ticks": ""
           }
          },
          "scene": {
           "xaxis": {
            "backgroundcolor": "#E5ECF6",
            "gridcolor": "white",
            "gridwidth": 2,
            "linecolor": "white",
            "showbackground": true,
            "ticks": "",
            "zerolinecolor": "white"
           },
           "yaxis": {
            "backgroundcolor": "#E5ECF6",
            "gridcolor": "white",
            "gridwidth": 2,
            "linecolor": "white",
            "showbackground": true,
            "ticks": "",
            "zerolinecolor": "white"
           },
           "zaxis": {
            "backgroundcolor": "#E5ECF6",
            "gridcolor": "white",
            "gridwidth": 2,
            "linecolor": "white",
            "showbackground": true,
            "ticks": "",
            "zerolinecolor": "white"
           }
          },
          "shapedefaults": {
           "line": {
            "color": "#2a3f5f"
           }
          },
          "ternary": {
           "aaxis": {
            "gridcolor": "white",
            "linecolor": "white",
            "ticks": ""
           },
           "baxis": {
            "gridcolor": "white",
            "linecolor": "white",
            "ticks": ""
           },
           "bgcolor": "#E5ECF6",
           "caxis": {
            "gridcolor": "white",
            "linecolor": "white",
            "ticks": ""
           }
          },
          "title": {
           "x": 0.05
          },
          "xaxis": {
           "automargin": true,
           "gridcolor": "white",
           "linecolor": "white",
           "ticks": "",
           "title": {
            "standoff": 15
           },
           "zerolinecolor": "white",
           "zerolinewidth": 2
          },
          "yaxis": {
           "automargin": true,
           "gridcolor": "white",
           "linecolor": "white",
           "ticks": "",
           "title": {
            "standoff": 15
           },
           "zerolinecolor": "white",
           "zerolinewidth": 2
          }
         }
        }
       }
      }
     },
     "metadata": {},
     "output_type": "display_data"
    }
   ],
   "source": [
    "\n",
    "# Create a scatter mapbox plot\n",
    "fig = px.scatter_mapbox(df, lat=\"lat\", lon=\"lon\", hover_name=\"hotel_name\",hover_data=[\"address\"], color_discrete_sequence=[\"fuchsia\"], zoom=5, height=800)\n",
    "fig.update_layout(mapbox_style=\"open-street-map\")\n",
    "fig.update_layout(margin={\"r\":0,\"t\":0,\"l\":0,\"b\":0})\n",
    "fig.show()\n"
   ]
  },
  {
   "cell_type": "code",
   "execution_count": null,
   "metadata": {},
   "outputs": [],
   "source": [
    "os.chdir(\"..\")"
   ]
  },
  {
   "cell_type": "code",
   "execution_count": 461,
   "metadata": {},
   "outputs": [],
   "source": [
    "df_urls = pd.read_json('BookingInfo.json')"
   ]
  },
  {
   "cell_type": "code",
   "execution_count": 462,
   "metadata": {},
   "outputs": [],
   "source": [
    "df_weather = weatherdf.groupby('city').median(numeric_only=True).reset_index()"
   ]
  },
  {
   "cell_type": "code",
   "execution_count": 463,
   "metadata": {},
   "outputs": [],
   "source": [
    "df_hotels = df"
   ]
  },
  {
   "cell_type": "code",
   "execution_count": 464,
   "metadata": {},
   "outputs": [],
   "source": [
    "df_hotels = df_hotels.rename(columns={'City': 'hotel_city'})\n",
    "df_hotels = df_hotels.rename(columns={'lat': 'hotel_lat'})\n",
    "df_hotels = df_hotels.rename(columns={'lon': 'hotel_lon'})"
   ]
  },
  {
   "cell_type": "code",
   "execution_count": 465,
   "metadata": {},
   "outputs": [],
   "source": [
    "df_hotels_urls = pd.merge(df_hotels, df_urls, on='url', how='left')\n",
    "df_final = pd.merge(df_hotels_urls, df_weather, on='city', how='left').copy()\n",
    "df_final = df_final.drop(columns=['Result name'])"
   ]
  },
  {
   "cell_type": "code",
   "execution_count": 466,
   "metadata": {},
   "outputs": [
    {
     "data": {
      "application/vnd.plotly.v1+json": {
       "config": {
        "plotlyServerURL": "https://plot.ly"
       },
       "data": [
        {
         "customdata": [
          [
           "10 Rue Abbé Paul Mouton, 13260 Cassis, France"
          ],
          [
           "2, rue Pierre Eydin, 13260 Cassis, France"
          ],
          [
           "3, Place Grand Carnot, 13260 Cassis, France"
          ],
          [
           "Place Clémenceau, 13260 Cassis, France"
          ],
          [
           "8 Rue de l'Arène, 13260 Cassis, France"
          ],
          [
           "1, avenue des Dardanelles, 13260 Cassis, France"
          ],
          [
           "10 Avenue Augustin Isnard, 13260 Cassis, France"
          ],
          [
           "Avenue Auguste Favier, 13260 Cassis, France"
          ],
          [
           "6 Avenue Du 11 Novembre, 13260 Cassis, France"
          ],
          [
           "1, Avenue du Revestel - Impasse du Coulet, 13260 Cassis, France"
          ],
          [
           "2 avenue victor hugo, 13260 Cassis, France"
          ],
          [
           "19 Avenue De L'amiral Ganteaume, 13260 Cassis, France"
          ],
          [
           "S/N Route De La Gineste, 13260 Cassis, France"
          ],
          [
           "9 Avenue des Calanques, 13260 Cassis, France"
          ],
          [
           "23 Ave Amiral Ganteaume, 13260 Cassis, France"
          ],
          [
           "Avenue Jean Auguste Ingres, 13470 Carnoux-en-Provence, France"
          ],
          [
           "1461 Route de Cassis, 13830 Roquefort-la-Bédoule, France"
          ],
          [
           "'Actiparc Ii' Chemin De Saint Lambert, Lieu-Dit 'La Bastidonne', 13821 La Penne-sur-Huveaune, France"
          ],
          [
           "756 Avenue Emile Bodin, 13600 La Ciotat, France"
          ],
          [
           "54 Boulevard Jean Jaurès, 13600 La Ciotat, France"
          ],
          [
           "2 rue Bonneterie, 13002 Marseille, France"
          ],
          [
           "118-120 rue de Ruffi, 13002 Marseille, France"
          ],
          [
           "6 Allée Marcel Leclerc, 13008 Marseille, France"
          ],
          [
           "6 Allée Marcel Leclerc, 13008 Marseille, France"
          ],
          [
           "32 Rue Paradis, 13001 Marseille, France"
          ],
          [
           "6 Rue de Cassis, 13008 Marseille, France"
          ],
          [
           "6 Rue de Cassis, 13008 Marseille, France"
          ],
          [
           "6, Rue Beauvau, 13001 Marseille, France"
          ],
          [
           "35 Quai Des Belges, 13001 Marseille, France"
          ],
          [
           "4 Place Pierre Bertas, 13001 Marseille, France"
          ],
          [
           "46 Rue Sainte, 13001 Marseille, France"
          ],
          [
           "25 Rue Coutellerie, 13002 Marseille, France"
          ],
          [
           "44 rue de Ruffi, 13003 Marseille, France"
          ],
          [
           "119/121, Boulevard National, Belle de Mai - Saint-Lazare, 13003 Marseille, France"
          ],
          [
           "1-3 Chemin De l'Armée d'Afrique, Saint-Pierre, 13005 Marseille, France"
          ],
          [
           "17 Rue René Cassin, 13003 Marseille, France"
          ],
          [
           "12 Rue Breteuil, 13001 Marseille, France"
          ],
          [
           "25 Avenue du General Leclerc, Belle de Mai - Saint-Lazare, 13003 Marseille, France"
          ],
          [
           "7 Square des Frères Ambrogiani - Allées Turcat Mery, 13008 Marseille, France"
          ],
          [
           "7 Square des Frères Ambrogiani - Allées Turcat Mery, 13008 Marseille, France"
          ],
          [
           "5 impasse Madeleine Simon, Les Chartreux, 13004 Marseille, France"
          ],
          [
           "2 place Gabriel Péri, 13001 Marseille, France"
          ],
          [
           "71 Boulevard Charles Livon, 13007 Marseille, France"
          ],
          [
           "615 Avenue Wolfgang Amadeus Mozart, 13100 Aix-en-Provence, France"
          ],
          [
           "24 Rue Cardinale, 13100 Aix-en-Provence, France"
          ],
          [
           "3 Rue De La Masse, 13100 Aix-en-Provence, France"
          ],
          [
           "54, Rue Roux Alphéran, 13100 Aix-en-Provence, France"
          ],
          [
           "1075, Chemin du Mont Robert, 13290 Aix-en-Provence, France"
          ],
          [
           "1 Avenue Robert Schuman, 13090 Aix-en-Provence, France"
          ],
          [
           "10 avenue Pasteur, 13100 Aix-en-Provence, France"
          ],
          [
           "40 Avenue Victor Hugo, 13100 Aix-en-Provence, France"
          ],
          [
           "2, Rue des Etuves, 13100 Aix-en-Provence, France"
          ],
          [
           "29, boulevard du Roi René, 13100 Aix-en-Provence, France"
          ],
          [
           "69 Boulevard Carnot, 13100 Aix-en-Provence, France"
          ],
          [
           "66-68 Boulevard Du Roi René, 13100 Aix-en-Provence, France"
          ],
          [
           "49 Cours Gambetta, 13100 Aix-en-Provence, France"
          ],
          [
           "550 rue Denis Papin, 13100 Aix-en-Provence, France"
          ],
          [
           "5 Route de Galice, 13090 Aix-en-Provence, France"
          ],
          [
           "74, cours Sextius, 13100 Aix-en-Provence, France"
          ],
          [
           "CD10 route de Berre, 13510 Aix-en-Provence, France"
          ],
          [
           "24 Boulevard Albert Charrier, 13090 Aix-en-Provence, France"
          ],
          [
           "10, Cours des Minimes, 13100 Aix-en-Provence, France"
          ],
          [
           "Pont de l'Arc 2, Chemin des Granges, 13090 Aix-en-Provence, France"
          ],
          [
           "83, rue de la République, 30900 Nîmes, France"
          ],
          [
           "7 Square de la Couronne, 30000 Nîmes, France"
          ],
          [
           "4 Rue Alexandre Ducros, 30000 Nîmes, France"
          ],
          [
           "1 Boulevard De Bruxelles, 30000 Nîmes, France"
          ],
          [
           "1 place d'Assas, 30000 Nîmes, France"
          ],
          [
           "210 rue Philippe SEGUIN, 30000 Nîmes, France"
          ],
          [
           "9 Rue de la Servie, 30000 Nîmes, France"
          ],
          [
           "45 Rue San-Lucar, Zac Du Mas-Carbonnel, 30900 Nîmes, France"
          ],
          [
           "23, avenue Feuchères, 30000 Nîmes, France"
          ],
          [
           "15 Rue Gaston Boissier, 30900 Nîmes, France"
          ],
          [
           "2 Avenue de la Mediterranée  - Accès parking : 2 avenue du Général Leclerc - , 30900 Nîmes, France"
          ],
          [
           "3115 Route De Générac, 30900 Nîmes, France"
          ],
          [
           "21, rue Nationale, 30000 Nîmes, France"
          ],
          [
           "4 Rue Des Arènes, 30000 Nîmes, France"
          ],
          [
           "2 Place Du Château, 30000 Nîmes, France"
          ],
          [
           "152 Rue Claude Nicolas Ledoux, 30900 Nîmes, France"
          ],
          [
           "19 Allée Boissy d'Anglas - accès parking : 2 avenue du Général Leclerc , 30000 Nîmes, France"
          ],
          [
           "31 Rue De Beaucaire, 30000 Nîmes, France"
          ],
          [
           "364, allée de l’Amérique Latine, 30900 Nîmes, France"
          ],
          [
           "Chemin de l'Hostellerie Ville active, centre hôtelier, 30900 Nîmes, France"
          ],
          [
           "1 Avenue Gilbert Leroy, 13460 Les Saintes-Maries-de-la-Mer, France"
          ],
          [
           "16 Rue Alphonse Daudet, 13460 Les Saintes-Maries-de-la-Mer, France"
          ],
          [
           "15, Avenue du Docteur Cambon, 13460 Les Saintes-Maries-de-la-Mer, France"
          ],
          [
           "2, Avenue Theodore Aubanel, 13460 Les Saintes-Maries-de-la-Mer, France"
          ],
          [
           " Avenue du Dr Cambon, 13460 Les Saintes-Maries-de-la-Mer, France"
          ],
          [
           "13, Avenue de la plage, 13460 Les Saintes-Maries-de-la-Mer, France"
          ],
          [
           "BP 29 - 14 Rue Camille Pelletan, 13460 Les Saintes-Maries-de-la-Mer, France"
          ],
          [
           "4 Rue Frédéric Mistral, 13460 Les Saintes-Maries-de-la-Mer, France"
          ],
          [
           "Chemin du Pont Blanc, 13460 Les Saintes-Maries-de-la-Mer, France"
          ],
          [
           "13 chemin du Pont Blanc, 13460 Les Saintes-Maries-de-la-Mer, France"
          ],
          [
           "12, Route de Cacharel, 13460 Les Saintes-Maries-de-la-Mer, France"
          ],
          [
           "10 Rue Des Launes, 13460 Les Saintes-Maries-de-la-Mer, France"
          ],
          [
           "38 Chemin du Pont Blanc, 13460 Les Saintes-Maries-de-la-Mer, France"
          ],
          [
           "D 570 Route D'Arles, 13460 Les Saintes-Maries-de-la-Mer, France"
          ],
          [
           "5, rue Paul Hermann, 13460 Les Saintes-Maries-de-la-Mer, France"
          ],
          [
           "31 Avenue Gilbert Leroy, 13460 Les Saintes-Maries-de-la-Mer, France"
          ],
          [
           "Route D'Arles, 13460 Les Saintes-Maries-de-la-Mer, France"
          ],
          [
           "6 Rue du Vibre, 13460 Les Saintes-Maries-de-la-Mer, France"
          ],
          [
           "Route d' Arles, 13460 Les Saintes-Maries-de-la-Mer, France"
          ],
          [
           "94 Chemin Bas de Dromar, 13460 Les Saintes-Maries-de-la-Mer, France"
          ]
         ],
         "hovertemplate": "<b>%{hovertext}</b><br><br>hotel_lat=%{lat}<br>hotel_lon=%{lon}<br>address=%{customdata[0]}<extra></extra>",
         "hovertext": [
          "LE CLOS DES ARÔMES",
          "Best Western Hotel & SPA Coeur De Cassis",
          "Hotel Le Golfe",
          "The Originals Boutique, Hôtel Cassitel, Cassis",
          "HOTEL DES CALANQUES",
          "Best Western Plus Hôtel la Rade",
          "HPC Suites - Parking Gratuit & Piscine Chauffée",
          "Les Jardins de Cassis",
          "Royal Cottage",
          "Hôtel Eden Cassis",
          "Hotel Liautaud",
          "Hotel de La Plage - Mahogany",
          "HôTEL LES VOLETS ROUGES - CASSIS",
          "Hôtel Les Roches Blanches Cassis",
          "Le Jardin d'Emile",
          "Résidence Odalys Shangri-la",
          "Résidence Pierre et Vacances Cap Cassis Calanques",
          "Kyriad Direct Marseille Est La Valentine",
          "Moxy La Ciotat",
          "Hôtel La Croix de Malte",
          "Hôtel Hermès",
          "Appart'City Classic Marseille Euromed",
          "B&B HOTEL Marseille Prado Vélodrome",
          "B&B HOTEL Marseille Prado Vélodrome",
          "PARADISE Earth & Sea",
          "B&B HOTEL Marseille Prado Parc des Expositions",
          "B&B HOTEL Marseille Prado Parc des Expositions",
          "Hôtel Carré Vieux Port",
          "Hôtel Life Marseille VP - Vieux Port",
          "Staycity Aparthotels Marseille Centre Vieux Port",
          "ibis budget Marseille Vieux Port",
          "LES TOITS DU VIEUX-PORT",
          "B&B HOTEL Marseille Euromed",
          "Résidence Provence",
          "B&B HOTEL Marseille Centre La Timone",
          "Montempô Apparthôtel Marseille Centre Euromed",
          "12",
          "Toyoko INN Marseille Saint Charles",
          "Residhotel Le Grand Prado",
          "Residhotel Le Grand Prado",
          "Montempô Marseille Centre Dôme",
          "New Hotel Le Quai - Vieux Port",
          "New Hotel of Marseille - Vieux Port",
          "Séjours & Affaires Aix-en-Provence Mirabeau",
          "Hotel Cardinal",
          "Hôtel des Augustins",
          "Les Quatre Dauphins",
          "Domaine Gaogaia",
          "The Originals Résidence Aix Schuman",
          "Hôtel Paul",
          "Hôtel Cézanne Boutique-Hôtel",
          "Aquabella Hôtel & Spa",
          "La Caravelle",
          "Hôtel des ARTS Aix",
          "Le Concorde",
          "Hôtel Le Mozart",
          "thecamp Hôtel & Lodges - Aix en Provence",
          "Best Western Le Galice Centre Ville",
          "Hôtel Escaletto",
          "Adonis Aix en Provence",
          "Odalys City Aix en Provence Les Floridianes",
          "Hôtel Vendôme",
          "HOTEL RESTAURANT OLYMPE",
          "B&B HOTEL Nîmes Centre Arènes",
          "SQUARE HOTEL",
          "Odalys City Nîmes Arènes",
          "Appart'City Collection Nîmes Arènes",
          "Royal Hôtel",
          "Domitys Sophia",
          "Hotel Majestic",
          "Campanile Nîmes Centre Mas-Carbonnel",
          "Hôtel Abalone - Centre Gare",
          "Maison Albar Hotels L’Imperator",
          "ibis budget Nimes Centre Gare",
          "Hôtel Le Pré Galoffre",
          "Best Western Marquis de la Baume",
          "Hôtel De L'Amphithéâtre",
          "Central Hotel",
          "Logis NIMOTEL Hôtel Cosy",
          "ibis Styles Nimes Gare Centre",
          "Hotel Cote Patio",
          "Appart'City Classic Nîmes",
          "hotelF1 Nîmes Ouest",
          "Hôtel Casa Marina",
          "Hotel Les Palmiers En Camargue",
          "Hotel Le Bleu Marine",
          "Abrivado",
          "Thalacap Camargue",
          "Hotel Camille",
          "Hôtel Le Mirage",
          "Hotel Le Méditérranée",
          "Hôtel du Pont Blanc",
          "Le Maset en Camargue",
          "Le Fangassier",
          "Le Castelet",
          "Mas Des Salicornes",
          "Les Bains Gardians",
          "Hôtel Les Arcades",
          "Le Dauphin Bleu",
          "Les Rizières",
          "Hotel Lou Marquès",
          "Hôtel La Palunette",
          "La Tramontane"
         ],
         "lat": [
          43.21621735,
          43.21457326,
          43.21443438,
          43.21370621,
          43.213611,
          43.21522997,
          43.21644024,
          43.22184049,
          43.21622493,
          43.2133045,
          43.21403,
          43.21334946,
          43.2348293,
          43.211337,
          43.2145598,
          43.25658448,
          43.24507644,
          43.28529999,
          43.1963472,
          43.17733205,
          43.29655283,
          43.3148132,
          43.26842246,
          43.26842246,
          43.2933693,
          43.27951389,
          43.27951389,
          43.29502467,
          43.29443608,
          43.30046625,
          43.29220856,
          43.296695,
          43.3113494,
          43.30715002,
          43.29152194,
          43.31580003,
          43.2921343,
          43.304229,
          43.28080124,
          43.28080124,
          43.31371049,
          43.29603122,
          43.29204847,
          43.52524078,
          43.5255987,
          43.52688664,
          43.5249088,
          43.4964012,
          43.5205148,
          43.53336324,
          43.52356201,
          43.5312636,
          43.52485921,
          43.5292347,
          43.52461222,
          43.52191762,
          43.496316,
          43.5280311,
          43.53004967,
          43.54124585,
          43.52133318,
          43.52891205,
          43.508036,
          43.8281614,
          43.837032,
          43.83406187,
          43.83387353,
          43.8388151,
          43.845396,
          43.83436329,
          43.82273112,
          43.8330273,
          43.83866613,
          43.8320559,
          43.78858215,
          43.83959476,
          43.83581534,
          43.83899502,
          43.81557635,
          43.83175755,
          43.83887217,
          43.82158549,
          43.815334,
          43.451133,
          43.45106618,
          43.45463818,
          43.45033695,
          43.45349134,
          43.45039148,
          43.45310192,
          43.45122281,
          43.45705076,
          43.45656073,
          43.45449604,
          43.45134949,
          43.45687142,
          43.46542981,
          43.4526278,
          43.45233086,
          43.47103999,
          43.45512494,
          43.46230329,
          43.47260109
         ],
         "legendgroup": "",
         "lon": [
          5.53802689,
          5.54014698,
          5.53529486,
          5.53895809,
          5.539561,
          5.53369693,
          5.54174572,
          5.5433849,
          5.54290026,
          5.54191589,
          5.53859,
          5.53126283,
          5.51191052,
          5.529502,
          5.5336574,
          5.55267692,
          5.56838094,
          5.52009143,
          5.59757027,
          5.61000645,
          5.37188329,
          5.3694651,
          5.39409652,
          5.39409652,
          5.376677,
          5.38918138,
          5.38918138,
          5.37505701,
          5.37478209,
          5.37444157,
          5.37355497,
          5.372832,
          5.3717303,
          5.38220636,
          5.40403225,
          5.37297461,
          5.3749188,
          5.376624,
          5.38825348,
          5.38825348,
          5.40388192,
          5.37489071,
          5.35977781,
          5.441266,
          5.4517208,
          5.44727147,
          5.45042306,
          5.3943974,
          5.4471929,
          5.44605643,
          5.44593707,
          5.44507004,
          5.45370072,
          5.4536394,
          5.45375437,
          5.45787156,
          5.342152,
          5.43435931,
          5.44414669,
          5.37295818,
          5.44477701,
          5.43827534,
          5.439455,
          4.3547902,
          4.363037,
          4.35899065,
          4.36143396,
          4.35481846,
          4.368959,
          4.36533675,
          4.36412573,
          4.36618969,
          4.35276791,
          4.3673645,
          4.35380258,
          4.3610841,
          4.35914017,
          4.36281145,
          4.34660353,
          4.36697356,
          4.36974764,
          4.3645978,
          4.344052,
          4.430953,
          4.42509368,
          4.433202,
          4.42622423,
          4.43545103,
          4.42991227,
          4.4305855,
          4.42666832,
          4.42464903,
          4.42670293,
          4.43070754,
          4.42507625,
          4.42617595,
          4.41963136,
          4.43076655,
          4.43364993,
          4.41058695,
          4.42874014,
          4.42051917,
          4.41012025
         ],
         "marker": {
          "color": "fuchsia"
         },
         "mode": "markers",
         "name": "",
         "showlegend": false,
         "subplot": "mapbox",
         "type": "scattermapbox"
        }
       ],
       "layout": {
        "height": 800,
        "legend": {
         "tracegroupgap": 0
        },
        "mapbox": {
         "center": {
          "lat": 43.4597970476699,
          "lon": 5.039597479029125
         },
         "domain": {
          "x": [
           0,
           1
          ],
          "y": [
           0,
           1
          ]
         },
         "style": "open-street-map",
         "zoom": 5
        },
        "margin": {
         "b": 0,
         "l": 0,
         "r": 0,
         "t": 0
        },
        "template": {
         "data": {
          "bar": [
           {
            "error_x": {
             "color": "#2a3f5f"
            },
            "error_y": {
             "color": "#2a3f5f"
            },
            "marker": {
             "line": {
              "color": "#E5ECF6",
              "width": 0.5
             },
             "pattern": {
              "fillmode": "overlay",
              "size": 10,
              "solidity": 0.2
             }
            },
            "type": "bar"
           }
          ],
          "barpolar": [
           {
            "marker": {
             "line": {
              "color": "#E5ECF6",
              "width": 0.5
             },
             "pattern": {
              "fillmode": "overlay",
              "size": 10,
              "solidity": 0.2
             }
            },
            "type": "barpolar"
           }
          ],
          "carpet": [
           {
            "aaxis": {
             "endlinecolor": "#2a3f5f",
             "gridcolor": "white",
             "linecolor": "white",
             "minorgridcolor": "white",
             "startlinecolor": "#2a3f5f"
            },
            "baxis": {
             "endlinecolor": "#2a3f5f",
             "gridcolor": "white",
             "linecolor": "white",
             "minorgridcolor": "white",
             "startlinecolor": "#2a3f5f"
            },
            "type": "carpet"
           }
          ],
          "choropleth": [
           {
            "colorbar": {
             "outlinewidth": 0,
             "ticks": ""
            },
            "type": "choropleth"
           }
          ],
          "contour": [
           {
            "colorbar": {
             "outlinewidth": 0,
             "ticks": ""
            },
            "colorscale": [
             [
              0,
              "#0d0887"
             ],
             [
              0.1111111111111111,
              "#46039f"
             ],
             [
              0.2222222222222222,
              "#7201a8"
             ],
             [
              0.3333333333333333,
              "#9c179e"
             ],
             [
              0.4444444444444444,
              "#bd3786"
             ],
             [
              0.5555555555555556,
              "#d8576b"
             ],
             [
              0.6666666666666666,
              "#ed7953"
             ],
             [
              0.7777777777777778,
              "#fb9f3a"
             ],
             [
              0.8888888888888888,
              "#fdca26"
             ],
             [
              1,
              "#f0f921"
             ]
            ],
            "type": "contour"
           }
          ],
          "contourcarpet": [
           {
            "colorbar": {
             "outlinewidth": 0,
             "ticks": ""
            },
            "type": "contourcarpet"
           }
          ],
          "heatmap": [
           {
            "colorbar": {
             "outlinewidth": 0,
             "ticks": ""
            },
            "colorscale": [
             [
              0,
              "#0d0887"
             ],
             [
              0.1111111111111111,
              "#46039f"
             ],
             [
              0.2222222222222222,
              "#7201a8"
             ],
             [
              0.3333333333333333,
              "#9c179e"
             ],
             [
              0.4444444444444444,
              "#bd3786"
             ],
             [
              0.5555555555555556,
              "#d8576b"
             ],
             [
              0.6666666666666666,
              "#ed7953"
             ],
             [
              0.7777777777777778,
              "#fb9f3a"
             ],
             [
              0.8888888888888888,
              "#fdca26"
             ],
             [
              1,
              "#f0f921"
             ]
            ],
            "type": "heatmap"
           }
          ],
          "heatmapgl": [
           {
            "colorbar": {
             "outlinewidth": 0,
             "ticks": ""
            },
            "colorscale": [
             [
              0,
              "#0d0887"
             ],
             [
              0.1111111111111111,
              "#46039f"
             ],
             [
              0.2222222222222222,
              "#7201a8"
             ],
             [
              0.3333333333333333,
              "#9c179e"
             ],
             [
              0.4444444444444444,
              "#bd3786"
             ],
             [
              0.5555555555555556,
              "#d8576b"
             ],
             [
              0.6666666666666666,
              "#ed7953"
             ],
             [
              0.7777777777777778,
              "#fb9f3a"
             ],
             [
              0.8888888888888888,
              "#fdca26"
             ],
             [
              1,
              "#f0f921"
             ]
            ],
            "type": "heatmapgl"
           }
          ],
          "histogram": [
           {
            "marker": {
             "pattern": {
              "fillmode": "overlay",
              "size": 10,
              "solidity": 0.2
             }
            },
            "type": "histogram"
           }
          ],
          "histogram2d": [
           {
            "colorbar": {
             "outlinewidth": 0,
             "ticks": ""
            },
            "colorscale": [
             [
              0,
              "#0d0887"
             ],
             [
              0.1111111111111111,
              "#46039f"
             ],
             [
              0.2222222222222222,
              "#7201a8"
             ],
             [
              0.3333333333333333,
              "#9c179e"
             ],
             [
              0.4444444444444444,
              "#bd3786"
             ],
             [
              0.5555555555555556,
              "#d8576b"
             ],
             [
              0.6666666666666666,
              "#ed7953"
             ],
             [
              0.7777777777777778,
              "#fb9f3a"
             ],
             [
              0.8888888888888888,
              "#fdca26"
             ],
             [
              1,
              "#f0f921"
             ]
            ],
            "type": "histogram2d"
           }
          ],
          "histogram2dcontour": [
           {
            "colorbar": {
             "outlinewidth": 0,
             "ticks": ""
            },
            "colorscale": [
             [
              0,
              "#0d0887"
             ],
             [
              0.1111111111111111,
              "#46039f"
             ],
             [
              0.2222222222222222,
              "#7201a8"
             ],
             [
              0.3333333333333333,
              "#9c179e"
             ],
             [
              0.4444444444444444,
              "#bd3786"
             ],
             [
              0.5555555555555556,
              "#d8576b"
             ],
             [
              0.6666666666666666,
              "#ed7953"
             ],
             [
              0.7777777777777778,
              "#fb9f3a"
             ],
             [
              0.8888888888888888,
              "#fdca26"
             ],
             [
              1,
              "#f0f921"
             ]
            ],
            "type": "histogram2dcontour"
           }
          ],
          "mesh3d": [
           {
            "colorbar": {
             "outlinewidth": 0,
             "ticks": ""
            },
            "type": "mesh3d"
           }
          ],
          "parcoords": [
           {
            "line": {
             "colorbar": {
              "outlinewidth": 0,
              "ticks": ""
             }
            },
            "type": "parcoords"
           }
          ],
          "pie": [
           {
            "automargin": true,
            "type": "pie"
           }
          ],
          "scatter": [
           {
            "fillpattern": {
             "fillmode": "overlay",
             "size": 10,
             "solidity": 0.2
            },
            "type": "scatter"
           }
          ],
          "scatter3d": [
           {
            "line": {
             "colorbar": {
              "outlinewidth": 0,
              "ticks": ""
             }
            },
            "marker": {
             "colorbar": {
              "outlinewidth": 0,
              "ticks": ""
             }
            },
            "type": "scatter3d"
           }
          ],
          "scattercarpet": [
           {
            "marker": {
             "colorbar": {
              "outlinewidth": 0,
              "ticks": ""
             }
            },
            "type": "scattercarpet"
           }
          ],
          "scattergeo": [
           {
            "marker": {
             "colorbar": {
              "outlinewidth": 0,
              "ticks": ""
             }
            },
            "type": "scattergeo"
           }
          ],
          "scattergl": [
           {
            "marker": {
             "colorbar": {
              "outlinewidth": 0,
              "ticks": ""
             }
            },
            "type": "scattergl"
           }
          ],
          "scattermapbox": [
           {
            "marker": {
             "colorbar": {
              "outlinewidth": 0,
              "ticks": ""
             }
            },
            "type": "scattermapbox"
           }
          ],
          "scatterpolar": [
           {
            "marker": {
             "colorbar": {
              "outlinewidth": 0,
              "ticks": ""
             }
            },
            "type": "scatterpolar"
           }
          ],
          "scatterpolargl": [
           {
            "marker": {
             "colorbar": {
              "outlinewidth": 0,
              "ticks": ""
             }
            },
            "type": "scatterpolargl"
           }
          ],
          "scatterternary": [
           {
            "marker": {
             "colorbar": {
              "outlinewidth": 0,
              "ticks": ""
             }
            },
            "type": "scatterternary"
           }
          ],
          "surface": [
           {
            "colorbar": {
             "outlinewidth": 0,
             "ticks": ""
            },
            "colorscale": [
             [
              0,
              "#0d0887"
             ],
             [
              0.1111111111111111,
              "#46039f"
             ],
             [
              0.2222222222222222,
              "#7201a8"
             ],
             [
              0.3333333333333333,
              "#9c179e"
             ],
             [
              0.4444444444444444,
              "#bd3786"
             ],
             [
              0.5555555555555556,
              "#d8576b"
             ],
             [
              0.6666666666666666,
              "#ed7953"
             ],
             [
              0.7777777777777778,
              "#fb9f3a"
             ],
             [
              0.8888888888888888,
              "#fdca26"
             ],
             [
              1,
              "#f0f921"
             ]
            ],
            "type": "surface"
           }
          ],
          "table": [
           {
            "cells": {
             "fill": {
              "color": "#EBF0F8"
             },
             "line": {
              "color": "white"
             }
            },
            "header": {
             "fill": {
              "color": "#C8D4E3"
             },
             "line": {
              "color": "white"
             }
            },
            "type": "table"
           }
          ]
         },
         "layout": {
          "annotationdefaults": {
           "arrowcolor": "#2a3f5f",
           "arrowhead": 0,
           "arrowwidth": 1
          },
          "autotypenumbers": "strict",
          "coloraxis": {
           "colorbar": {
            "outlinewidth": 0,
            "ticks": ""
           }
          },
          "colorscale": {
           "diverging": [
            [
             0,
             "#8e0152"
            ],
            [
             0.1,
             "#c51b7d"
            ],
            [
             0.2,
             "#de77ae"
            ],
            [
             0.3,
             "#f1b6da"
            ],
            [
             0.4,
             "#fde0ef"
            ],
            [
             0.5,
             "#f7f7f7"
            ],
            [
             0.6,
             "#e6f5d0"
            ],
            [
             0.7,
             "#b8e186"
            ],
            [
             0.8,
             "#7fbc41"
            ],
            [
             0.9,
             "#4d9221"
            ],
            [
             1,
             "#276419"
            ]
           ],
           "sequential": [
            [
             0,
             "#0d0887"
            ],
            [
             0.1111111111111111,
             "#46039f"
            ],
            [
             0.2222222222222222,
             "#7201a8"
            ],
            [
             0.3333333333333333,
             "#9c179e"
            ],
            [
             0.4444444444444444,
             "#bd3786"
            ],
            [
             0.5555555555555556,
             "#d8576b"
            ],
            [
             0.6666666666666666,
             "#ed7953"
            ],
            [
             0.7777777777777778,
             "#fb9f3a"
            ],
            [
             0.8888888888888888,
             "#fdca26"
            ],
            [
             1,
             "#f0f921"
            ]
           ],
           "sequentialminus": [
            [
             0,
             "#0d0887"
            ],
            [
             0.1111111111111111,
             "#46039f"
            ],
            [
             0.2222222222222222,
             "#7201a8"
            ],
            [
             0.3333333333333333,
             "#9c179e"
            ],
            [
             0.4444444444444444,
             "#bd3786"
            ],
            [
             0.5555555555555556,
             "#d8576b"
            ],
            [
             0.6666666666666666,
             "#ed7953"
            ],
            [
             0.7777777777777778,
             "#fb9f3a"
            ],
            [
             0.8888888888888888,
             "#fdca26"
            ],
            [
             1,
             "#f0f921"
            ]
           ]
          },
          "colorway": [
           "#636efa",
           "#EF553B",
           "#00cc96",
           "#ab63fa",
           "#FFA15A",
           "#19d3f3",
           "#FF6692",
           "#B6E880",
           "#FF97FF",
           "#FECB52"
          ],
          "font": {
           "color": "#2a3f5f"
          },
          "geo": {
           "bgcolor": "white",
           "lakecolor": "white",
           "landcolor": "#E5ECF6",
           "showlakes": true,
           "showland": true,
           "subunitcolor": "white"
          },
          "hoverlabel": {
           "align": "left"
          },
          "hovermode": "closest",
          "mapbox": {
           "style": "light"
          },
          "paper_bgcolor": "white",
          "plot_bgcolor": "#E5ECF6",
          "polar": {
           "angularaxis": {
            "gridcolor": "white",
            "linecolor": "white",
            "ticks": ""
           },
           "bgcolor": "#E5ECF6",
           "radialaxis": {
            "gridcolor": "white",
            "linecolor": "white",
            "ticks": ""
           }
          },
          "scene": {
           "xaxis": {
            "backgroundcolor": "#E5ECF6",
            "gridcolor": "white",
            "gridwidth": 2,
            "linecolor": "white",
            "showbackground": true,
            "ticks": "",
            "zerolinecolor": "white"
           },
           "yaxis": {
            "backgroundcolor": "#E5ECF6",
            "gridcolor": "white",
            "gridwidth": 2,
            "linecolor": "white",
            "showbackground": true,
            "ticks": "",
            "zerolinecolor": "white"
           },
           "zaxis": {
            "backgroundcolor": "#E5ECF6",
            "gridcolor": "white",
            "gridwidth": 2,
            "linecolor": "white",
            "showbackground": true,
            "ticks": "",
            "zerolinecolor": "white"
           }
          },
          "shapedefaults": {
           "line": {
            "color": "#2a3f5f"
           }
          },
          "ternary": {
           "aaxis": {
            "gridcolor": "white",
            "linecolor": "white",
            "ticks": ""
           },
           "baxis": {
            "gridcolor": "white",
            "linecolor": "white",
            "ticks": ""
           },
           "bgcolor": "#E5ECF6",
           "caxis": {
            "gridcolor": "white",
            "linecolor": "white",
            "ticks": ""
           }
          },
          "title": {
           "x": 0.05
          },
          "xaxis": {
           "automargin": true,
           "gridcolor": "white",
           "linecolor": "white",
           "ticks": "",
           "title": {
            "standoff": 15
           },
           "zerolinecolor": "white",
           "zerolinewidth": 2
          },
          "yaxis": {
           "automargin": true,
           "gridcolor": "white",
           "linecolor": "white",
           "ticks": "",
           "title": {
            "standoff": 15
           },
           "zerolinecolor": "white",
           "zerolinewidth": 2
          }
         }
        }
       }
      }
     },
     "metadata": {},
     "output_type": "display_data"
    }
   ],
   "source": [
    "# Create a scatter mapbox plot\n",
    "fig = px.scatter_mapbox(df_final[df_final['city'].isin(top_5_cities['city'])], lat=\"hotel_lat\", lon=\"hotel_lon\", hover_name=\"hotel_name\",hover_data=[\"address\"], color_discrete_sequence=[\"fuchsia\"], zoom=5, height=800)\n",
    "fig.update_layout(mapbox_style=\"open-street-map\")\n",
    "fig.update_layout(margin={\"r\":0,\"t\":0,\"l\":0,\"b\":0})\n",
    "fig.show()\n",
    "fig.write_html(\"hotels_in_best_weather_cities.html\")"
   ]
  },
  {
   "cell_type": "code",
   "execution_count": 467,
   "metadata": {},
   "outputs": [],
   "source": [
    "df_final.to_csv('france_top_cities_weather_hotels.csv')"
   ]
  },
  {
   "cell_type": "code",
   "execution_count": 292,
   "metadata": {},
   "outputs": [],
   "source": [
    "session = boto3.Session(aws_access_key_id=aws_access_key_id, \n",
    "                        aws_secret_access_key=aws_secret_access_key)"
   ]
  },
  {
   "cell_type": "code",
   "execution_count": 293,
   "metadata": {},
   "outputs": [],
   "source": [
    "s3 = session.resource(\"s3\")"
   ]
  },
  {
   "cell_type": "code",
   "execution_count": 296,
   "metadata": {},
   "outputs": [],
   "source": [
    "bucket =  s3.create_bucket(Bucket=\"bucket-kayak-project-56484212\", CreateBucketConfiguration={'LocationConstraint': \"eu-west-3\"})"
   ]
  },
  {
   "cell_type": "code",
   "execution_count": 468,
   "metadata": {},
   "outputs": [],
   "source": [
    "put_object = bucket.put_object(Key=\"france_top_cities_weather_hotels.csv\", Body=df_final.to_csv())"
   ]
  },
  {
   "cell_type": "code",
   "execution_count": 469,
   "metadata": {},
   "outputs": [],
   "source": [
    "df_final = df_final.dropna(subset=['city']) # drop hotels if couldn't link to a city"
   ]
  },
  {
   "cell_type": "code",
   "execution_count": 470,
   "metadata": {},
   "outputs": [
    {
     "data": {
      "application/vnd.plotly.v1+json": {
       "config": {
        "plotlyServerURL": "https://plot.ly"
       },
       "data": [
        {
         "alignmentgroup": "True",
         "hovertemplate": "variable=0<br>index=%{x}<br>value=%{y}<extra></extra>",
         "legendgroup": "0",
         "marker": {
          "color": "#636efa",
          "pattern": {
           "shape": ""
          }
         },
         "name": "0",
         "offsetgroup": "0",
         "orientation": "v",
         "showlegend": true,
         "textposition": "auto",
         "type": "bar",
         "x": [
          "users_global_rating",
          "snow_norm"
         ],
         "xaxis": "x",
         "y": [
          3,
          769
         ],
         "yaxis": "y"
        }
       ],
       "layout": {
        "barmode": "relative",
        "legend": {
         "title": {
          "text": "variable"
         },
         "tracegroupgap": 0
        },
        "margin": {
         "t": 60
        },
        "template": {
         "data": {
          "bar": [
           {
            "error_x": {
             "color": "#2a3f5f"
            },
            "error_y": {
             "color": "#2a3f5f"
            },
            "marker": {
             "line": {
              "color": "#E5ECF6",
              "width": 0.5
             },
             "pattern": {
              "fillmode": "overlay",
              "size": 10,
              "solidity": 0.2
             }
            },
            "type": "bar"
           }
          ],
          "barpolar": [
           {
            "marker": {
             "line": {
              "color": "#E5ECF6",
              "width": 0.5
             },
             "pattern": {
              "fillmode": "overlay",
              "size": 10,
              "solidity": 0.2
             }
            },
            "type": "barpolar"
           }
          ],
          "carpet": [
           {
            "aaxis": {
             "endlinecolor": "#2a3f5f",
             "gridcolor": "white",
             "linecolor": "white",
             "minorgridcolor": "white",
             "startlinecolor": "#2a3f5f"
            },
            "baxis": {
             "endlinecolor": "#2a3f5f",
             "gridcolor": "white",
             "linecolor": "white",
             "minorgridcolor": "white",
             "startlinecolor": "#2a3f5f"
            },
            "type": "carpet"
           }
          ],
          "choropleth": [
           {
            "colorbar": {
             "outlinewidth": 0,
             "ticks": ""
            },
            "type": "choropleth"
           }
          ],
          "contour": [
           {
            "colorbar": {
             "outlinewidth": 0,
             "ticks": ""
            },
            "colorscale": [
             [
              0,
              "#0d0887"
             ],
             [
              0.1111111111111111,
              "#46039f"
             ],
             [
              0.2222222222222222,
              "#7201a8"
             ],
             [
              0.3333333333333333,
              "#9c179e"
             ],
             [
              0.4444444444444444,
              "#bd3786"
             ],
             [
              0.5555555555555556,
              "#d8576b"
             ],
             [
              0.6666666666666666,
              "#ed7953"
             ],
             [
              0.7777777777777778,
              "#fb9f3a"
             ],
             [
              0.8888888888888888,
              "#fdca26"
             ],
             [
              1,
              "#f0f921"
             ]
            ],
            "type": "contour"
           }
          ],
          "contourcarpet": [
           {
            "colorbar": {
             "outlinewidth": 0,
             "ticks": ""
            },
            "type": "contourcarpet"
           }
          ],
          "heatmap": [
           {
            "colorbar": {
             "outlinewidth": 0,
             "ticks": ""
            },
            "colorscale": [
             [
              0,
              "#0d0887"
             ],
             [
              0.1111111111111111,
              "#46039f"
             ],
             [
              0.2222222222222222,
              "#7201a8"
             ],
             [
              0.3333333333333333,
              "#9c179e"
             ],
             [
              0.4444444444444444,
              "#bd3786"
             ],
             [
              0.5555555555555556,
              "#d8576b"
             ],
             [
              0.6666666666666666,
              "#ed7953"
             ],
             [
              0.7777777777777778,
              "#fb9f3a"
             ],
             [
              0.8888888888888888,
              "#fdca26"
             ],
             [
              1,
              "#f0f921"
             ]
            ],
            "type": "heatmap"
           }
          ],
          "heatmapgl": [
           {
            "colorbar": {
             "outlinewidth": 0,
             "ticks": ""
            },
            "colorscale": [
             [
              0,
              "#0d0887"
             ],
             [
              0.1111111111111111,
              "#46039f"
             ],
             [
              0.2222222222222222,
              "#7201a8"
             ],
             [
              0.3333333333333333,
              "#9c179e"
             ],
             [
              0.4444444444444444,
              "#bd3786"
             ],
             [
              0.5555555555555556,
              "#d8576b"
             ],
             [
              0.6666666666666666,
              "#ed7953"
             ],
             [
              0.7777777777777778,
              "#fb9f3a"
             ],
             [
              0.8888888888888888,
              "#fdca26"
             ],
             [
              1,
              "#f0f921"
             ]
            ],
            "type": "heatmapgl"
           }
          ],
          "histogram": [
           {
            "marker": {
             "pattern": {
              "fillmode": "overlay",
              "size": 10,
              "solidity": 0.2
             }
            },
            "type": "histogram"
           }
          ],
          "histogram2d": [
           {
            "colorbar": {
             "outlinewidth": 0,
             "ticks": ""
            },
            "colorscale": [
             [
              0,
              "#0d0887"
             ],
             [
              0.1111111111111111,
              "#46039f"
             ],
             [
              0.2222222222222222,
              "#7201a8"
             ],
             [
              0.3333333333333333,
              "#9c179e"
             ],
             [
              0.4444444444444444,
              "#bd3786"
             ],
             [
              0.5555555555555556,
              "#d8576b"
             ],
             [
              0.6666666666666666,
              "#ed7953"
             ],
             [
              0.7777777777777778,
              "#fb9f3a"
             ],
             [
              0.8888888888888888,
              "#fdca26"
             ],
             [
              1,
              "#f0f921"
             ]
            ],
            "type": "histogram2d"
           }
          ],
          "histogram2dcontour": [
           {
            "colorbar": {
             "outlinewidth": 0,
             "ticks": ""
            },
            "colorscale": [
             [
              0,
              "#0d0887"
             ],
             [
              0.1111111111111111,
              "#46039f"
             ],
             [
              0.2222222222222222,
              "#7201a8"
             ],
             [
              0.3333333333333333,
              "#9c179e"
             ],
             [
              0.4444444444444444,
              "#bd3786"
             ],
             [
              0.5555555555555556,
              "#d8576b"
             ],
             [
              0.6666666666666666,
              "#ed7953"
             ],
             [
              0.7777777777777778,
              "#fb9f3a"
             ],
             [
              0.8888888888888888,
              "#fdca26"
             ],
             [
              1,
              "#f0f921"
             ]
            ],
            "type": "histogram2dcontour"
           }
          ],
          "mesh3d": [
           {
            "colorbar": {
             "outlinewidth": 0,
             "ticks": ""
            },
            "type": "mesh3d"
           }
          ],
          "parcoords": [
           {
            "line": {
             "colorbar": {
              "outlinewidth": 0,
              "ticks": ""
             }
            },
            "type": "parcoords"
           }
          ],
          "pie": [
           {
            "automargin": true,
            "type": "pie"
           }
          ],
          "scatter": [
           {
            "fillpattern": {
             "fillmode": "overlay",
             "size": 10,
             "solidity": 0.2
            },
            "type": "scatter"
           }
          ],
          "scatter3d": [
           {
            "line": {
             "colorbar": {
              "outlinewidth": 0,
              "ticks": ""
             }
            },
            "marker": {
             "colorbar": {
              "outlinewidth": 0,
              "ticks": ""
             }
            },
            "type": "scatter3d"
           }
          ],
          "scattercarpet": [
           {
            "marker": {
             "colorbar": {
              "outlinewidth": 0,
              "ticks": ""
             }
            },
            "type": "scattercarpet"
           }
          ],
          "scattergeo": [
           {
            "marker": {
             "colorbar": {
              "outlinewidth": 0,
              "ticks": ""
             }
            },
            "type": "scattergeo"
           }
          ],
          "scattergl": [
           {
            "marker": {
             "colorbar": {
              "outlinewidth": 0,
              "ticks": ""
             }
            },
            "type": "scattergl"
           }
          ],
          "scattermapbox": [
           {
            "marker": {
             "colorbar": {
              "outlinewidth": 0,
              "ticks": ""
             }
            },
            "type": "scattermapbox"
           }
          ],
          "scatterpolar": [
           {
            "marker": {
             "colorbar": {
              "outlinewidth": 0,
              "ticks": ""
             }
            },
            "type": "scatterpolar"
           }
          ],
          "scatterpolargl": [
           {
            "marker": {
             "colorbar": {
              "outlinewidth": 0,
              "ticks": ""
             }
            },
            "type": "scatterpolargl"
           }
          ],
          "scatterternary": [
           {
            "marker": {
             "colorbar": {
              "outlinewidth": 0,
              "ticks": ""
             }
            },
            "type": "scatterternary"
           }
          ],
          "surface": [
           {
            "colorbar": {
             "outlinewidth": 0,
             "ticks": ""
            },
            "colorscale": [
             [
              0,
              "#0d0887"
             ],
             [
              0.1111111111111111,
              "#46039f"
             ],
             [
              0.2222222222222222,
              "#7201a8"
             ],
             [
              0.3333333333333333,
              "#9c179e"
             ],
             [
              0.4444444444444444,
              "#bd3786"
             ],
             [
              0.5555555555555556,
              "#d8576b"
             ],
             [
              0.6666666666666666,
              "#ed7953"
             ],
             [
              0.7777777777777778,
              "#fb9f3a"
             ],
             [
              0.8888888888888888,
              "#fdca26"
             ],
             [
              1,
              "#f0f921"
             ]
            ],
            "type": "surface"
           }
          ],
          "table": [
           {
            "cells": {
             "fill": {
              "color": "#EBF0F8"
             },
             "line": {
              "color": "white"
             }
            },
            "header": {
             "fill": {
              "color": "#C8D4E3"
             },
             "line": {
              "color": "white"
             }
            },
            "type": "table"
           }
          ]
         },
         "layout": {
          "annotationdefaults": {
           "arrowcolor": "#2a3f5f",
           "arrowhead": 0,
           "arrowwidth": 1
          },
          "autotypenumbers": "strict",
          "coloraxis": {
           "colorbar": {
            "outlinewidth": 0,
            "ticks": ""
           }
          },
          "colorscale": {
           "diverging": [
            [
             0,
             "#8e0152"
            ],
            [
             0.1,
             "#c51b7d"
            ],
            [
             0.2,
             "#de77ae"
            ],
            [
             0.3,
             "#f1b6da"
            ],
            [
             0.4,
             "#fde0ef"
            ],
            [
             0.5,
             "#f7f7f7"
            ],
            [
             0.6,
             "#e6f5d0"
            ],
            [
             0.7,
             "#b8e186"
            ],
            [
             0.8,
             "#7fbc41"
            ],
            [
             0.9,
             "#4d9221"
            ],
            [
             1,
             "#276419"
            ]
           ],
           "sequential": [
            [
             0,
             "#0d0887"
            ],
            [
             0.1111111111111111,
             "#46039f"
            ],
            [
             0.2222222222222222,
             "#7201a8"
            ],
            [
             0.3333333333333333,
             "#9c179e"
            ],
            [
             0.4444444444444444,
             "#bd3786"
            ],
            [
             0.5555555555555556,
             "#d8576b"
            ],
            [
             0.6666666666666666,
             "#ed7953"
            ],
            [
             0.7777777777777778,
             "#fb9f3a"
            ],
            [
             0.8888888888888888,
             "#fdca26"
            ],
            [
             1,
             "#f0f921"
            ]
           ],
           "sequentialminus": [
            [
             0,
             "#0d0887"
            ],
            [
             0.1111111111111111,
             "#46039f"
            ],
            [
             0.2222222222222222,
             "#7201a8"
            ],
            [
             0.3333333333333333,
             "#9c179e"
            ],
            [
             0.4444444444444444,
             "#bd3786"
            ],
            [
             0.5555555555555556,
             "#d8576b"
            ],
            [
             0.6666666666666666,
             "#ed7953"
            ],
            [
             0.7777777777777778,
             "#fb9f3a"
            ],
            [
             0.8888888888888888,
             "#fdca26"
            ],
            [
             1,
             "#f0f921"
            ]
           ]
          },
          "colorway": [
           "#636efa",
           "#EF553B",
           "#00cc96",
           "#ab63fa",
           "#FFA15A",
           "#19d3f3",
           "#FF6692",
           "#B6E880",
           "#FF97FF",
           "#FECB52"
          ],
          "font": {
           "color": "#2a3f5f"
          },
          "geo": {
           "bgcolor": "white",
           "lakecolor": "white",
           "landcolor": "#E5ECF6",
           "showlakes": true,
           "showland": true,
           "subunitcolor": "white"
          },
          "hoverlabel": {
           "align": "left"
          },
          "hovermode": "closest",
          "mapbox": {
           "style": "light"
          },
          "paper_bgcolor": "white",
          "plot_bgcolor": "#E5ECF6",
          "polar": {
           "angularaxis": {
            "gridcolor": "white",
            "linecolor": "white",
            "ticks": ""
           },
           "bgcolor": "#E5ECF6",
           "radialaxis": {
            "gridcolor": "white",
            "linecolor": "white",
            "ticks": ""
           }
          },
          "scene": {
           "xaxis": {
            "backgroundcolor": "#E5ECF6",
            "gridcolor": "white",
            "gridwidth": 2,
            "linecolor": "white",
            "showbackground": true,
            "ticks": "",
            "zerolinecolor": "white"
           },
           "yaxis": {
            "backgroundcolor": "#E5ECF6",
            "gridcolor": "white",
            "gridwidth": 2,
            "linecolor": "white",
            "showbackground": true,
            "ticks": "",
            "zerolinecolor": "white"
           },
           "zaxis": {
            "backgroundcolor": "#E5ECF6",
            "gridcolor": "white",
            "gridwidth": 2,
            "linecolor": "white",
            "showbackground": true,
            "ticks": "",
            "zerolinecolor": "white"
           }
          },
          "shapedefaults": {
           "line": {
            "color": "#2a3f5f"
           }
          },
          "ternary": {
           "aaxis": {
            "gridcolor": "white",
            "linecolor": "white",
            "ticks": ""
           },
           "baxis": {
            "gridcolor": "white",
            "linecolor": "white",
            "ticks": ""
           },
           "bgcolor": "#E5ECF6",
           "caxis": {
            "gridcolor": "white",
            "linecolor": "white",
            "ticks": ""
           }
          },
          "title": {
           "x": 0.05
          },
          "xaxis": {
           "automargin": true,
           "gridcolor": "white",
           "linecolor": "white",
           "ticks": "",
           "title": {
            "standoff": 15
           },
           "zerolinecolor": "white",
           "zerolinewidth": 2
          },
          "yaxis": {
           "automargin": true,
           "gridcolor": "white",
           "linecolor": "white",
           "ticks": "",
           "title": {
            "standoff": 15
           },
           "zerolinecolor": "white",
           "zerolinewidth": 2
          }
         }
        },
        "xaxis": {
         "anchor": "y",
         "domain": [
          0,
          1
         ],
         "title": {
          "text": "index"
         }
        },
        "yaxis": {
         "anchor": "x",
         "domain": [
          0,
          1
         ],
         "title": {
          "text": "value"
         }
        }
       }
      }
     },
     "metadata": {},
     "output_type": "display_data"
    }
   ],
   "source": [
    "missing_values = df_final.isnull().sum()\n",
    "\n",
    "fig = px.bar(missing_values[missing_values > 0])\n",
    "fig.show()"
   ]
  },
  {
   "cell_type": "code",
   "execution_count": 471,
   "metadata": {},
   "outputs": [],
   "source": [
    "df_final.fillna({'users_global_rating': '0.0', 'snow_norm': 0}, inplace=True)"
   ]
  },
  {
   "cell_type": "code",
   "execution_count": 472,
   "metadata": {},
   "outputs": [
    {
     "data": {
      "text/plain": [
       "0"
      ]
     },
     "execution_count": 472,
     "metadata": {},
     "output_type": "execute_result"
    }
   ],
   "source": [
    "df_final.isnull().sum().max()"
   ]
  },
  {
   "cell_type": "code",
   "execution_count": null,
   "metadata": {},
   "outputs": [
    {
     "name": "stdout",
     "output_type": "stream",
     "text": [
      "Expected data types for each column:\n",
      "{'hotel_name': <class 'str'>, 'url': <class 'str'>, 'hotel_lat': <class 'float'>, 'hotel_lon': <class 'float'>, 'address': <class 'str'>, 'users_global_rating': <class 'str'>, 'hotel_desc': <class 'str'>, 'key_features': <class 'list'>, 'users_category_rating': <class 'dict'>, 'stars': <class 'int'>, 'amenities': <class 'dict'>, 'Street': <class 'str'>, 'PostalCode': <class 'str'>, 'hotel_city': <class 'str'>, 'Country': <class 'str'>, 'city': <class 'str'>, 'lat': <class 'float'>, 'lon': <class 'float'>, 'temp': <class 'float'>, 'feels_like': <class 'float'>, 'temp_min': <class 'float'>, 'temp_max': <class 'float'>, 'pressure': <class 'float'>, 'sea_level': <class 'float'>, 'grnd_level': <class 'float'>, 'humidity': <class 'float'>, 'clouds': <class 'float'>, 'wind_speed': <class 'float'>, 'wind_deg': <class 'float'>, 'wind_gust': <class 'float'>, 'visibility': <class 'float'>, 'pop': <class 'float'>, 'rain': <class 'float'>, 'snow': <class 'float'>, 'feels_like_norm': <class 'float'>, 'humidity_norm': <class 'float'>, 'clouds_norm': <class 'float'>, 'wind_speed_norm': <class 'float'>, 'visibility_norm': <class 'float'>, 'rain_norm': <class 'float'>, 'snow_norm': <class 'float'>, 'weather_rating': <class 'float'>, 'city_id': <class 'float'>}\n"
     ]
    }
   ],
   "source": [
    "# Function to get the most common type in a column\n",
    "def most_common_dtype(series):\n",
    "    return series.apply(type).mode()[0]\n",
    "\n",
    "# Determine the expected data types for each column\n",
    "expected_dtypes = {column: most_common_dtype(df_final[column]) for column in df_final.columns}\n",
    "\n",
    "# Apply the check for incorrect types\n",
    "for column, expected_type in expected_dtypes.items():\n",
    "    actual_types = df_final[column].apply(type)\n",
    "    wrong_type_indices = actual_types[actual_types != expected_type].index\n",
    "    if not wrong_type_indices.empty:\n",
    "        print(f\"Column '{column}' has wrong data types at indices: {list(wrong_type_indices)}\")\n",
    "\n",
    "print(\"Expected data types for each column:\")\n",
    "print(expected_dtypes)\n",
    "\n"
   ]
  },
  {
   "cell_type": "code",
   "execution_count": 480,
   "metadata": {},
   "outputs": [],
   "source": [
    "df_final['city_id'] = df_final['city_id'].astype(int)\n",
    "df_final['users_global_rating'] = df_final['users_global_rating'].astype(float)"
   ]
  },
  {
   "cell_type": "code",
   "execution_count": 474,
   "metadata": {},
   "outputs": [],
   "source": [
    "# Drop unnecessary columns\n",
    "df_final.drop(columns=['feels_like_norm', 'humidity_norm', 'clouds_norm', 'wind_speed_norm', 'visibility_norm', 'rain_norm', 'snow_norm'], inplace=True)"
   ]
  },
  {
   "cell_type": "code",
   "execution_count": 475,
   "metadata": {},
   "outputs": [
    {
     "data": {
      "text/plain": [
       "Index(['hotel_name', 'url', 'hotel_lat', 'hotel_lon', 'address',\n",
       "       'users_global_rating', 'hotel_desc', 'key_features',\n",
       "       'users_category_rating', 'stars', 'amenities', 'Street', 'PostalCode',\n",
       "       'hotel_city', 'Country', 'city', 'lat', 'lon', 'temp', 'feels_like',\n",
       "       'temp_min', 'temp_max', 'pressure', 'sea_level', 'grnd_level',\n",
       "       'humidity', 'clouds', 'wind_speed', 'wind_deg', 'wind_gust',\n",
       "       'visibility', 'pop', 'rain', 'snow', 'weather_rating', 'city_id'],\n",
       "      dtype='object')"
      ]
     },
     "execution_count": 475,
     "metadata": {},
     "output_type": "execute_result"
    }
   ],
   "source": [
    "df_final.columns"
   ]
  },
  {
   "cell_type": "code",
   "execution_count": 513,
   "metadata": {},
   "outputs": [],
   "source": [
    "engine = create_engine(db_url, echo=True)"
   ]
  },
  {
   "cell_type": "code",
   "execution_count": 544,
   "metadata": {},
   "outputs": [
    {
     "name": "stdout",
     "output_type": "stream",
     "text": [
      "2024-10-15 01:21:07,433 INFO sqlalchemy.engine.Engine BEGIN (implicit)\n",
      "2024-10-15 01:21:07,434 INFO sqlalchemy.engine.Engine SELECT pg_catalog.pg_class.relname \n",
      "FROM pg_catalog.pg_class JOIN pg_catalog.pg_namespace ON pg_catalog.pg_namespace.oid = pg_catalog.pg_class.relnamespace \n",
      "WHERE pg_catalog.pg_class.relname = %(table_name)s AND pg_catalog.pg_class.relkind = ANY (ARRAY[%(param_1)s, %(param_2)s, %(param_3)s, %(param_4)s, %(param_5)s]) AND pg_catalog.pg_table_is_visible(pg_catalog.pg_class.oid) AND pg_catalog.pg_namespace.nspname != %(nspname_1)s\n",
      "2024-10-15 01:21:07,434 INFO sqlalchemy.engine.Engine [cached since 2834s ago] {'table_name': 'cities', 'param_1': 'r', 'param_2': 'p', 'param_3': 'f', 'param_4': 'v', 'param_5': 'm', 'nspname_1': 'pg_catalog'}\n",
      "2024-10-15 01:21:07,461 INFO sqlalchemy.engine.Engine SELECT pg_catalog.pg_class.relname \n",
      "FROM pg_catalog.pg_class JOIN pg_catalog.pg_namespace ON pg_catalog.pg_namespace.oid = pg_catalog.pg_class.relnamespace \n",
      "WHERE pg_catalog.pg_class.relname = %(table_name)s AND pg_catalog.pg_class.relkind = ANY (ARRAY[%(param_1)s, %(param_2)s, %(param_3)s, %(param_4)s, %(param_5)s]) AND pg_catalog.pg_table_is_visible(pg_catalog.pg_class.oid) AND pg_catalog.pg_namespace.nspname != %(nspname_1)s\n",
      "2024-10-15 01:21:07,462 INFO sqlalchemy.engine.Engine [cached since 2834s ago] {'table_name': 'hotels', 'param_1': 'r', 'param_2': 'p', 'param_3': 'f', 'param_4': 'v', 'param_5': 'm', 'nspname_1': 'pg_catalog'}\n",
      "2024-10-15 01:21:07,478 INFO sqlalchemy.engine.Engine \n",
      "CREATE TABLE cities (\n",
      "\tcity_id SERIAL NOT NULL, \n",
      "\tcity VARCHAR, \n",
      "\tlat FLOAT, \n",
      "\tlon FLOAT, \n",
      "\tweather_rating FLOAT, \n",
      "\ttemp FLOAT, \n",
      "\tfeels_like FLOAT, \n",
      "\thumidity FLOAT, \n",
      "\tclouds FLOAT, \n",
      "\twind_speed FLOAT, \n",
      "\twind_deg FLOAT, \n",
      "\twind_gust FLOAT, \n",
      "\tvisibility FLOAT, \n",
      "\tPRIMARY KEY (city_id)\n",
      ")\n",
      "\n",
      "\n",
      "2024-10-15 01:21:07,479 INFO sqlalchemy.engine.Engine [no key 0.00083s] {}\n",
      "2024-10-15 01:21:07,505 INFO sqlalchemy.engine.Engine \n",
      "CREATE TABLE hotels (\n",
      "\thotel_id SERIAL NOT NULL, \n",
      "\thotel_name VARCHAR, \n",
      "\tcity_id INTEGER, \n",
      "\taddress VARCHAR, \n",
      "\tusers_global_rating FLOAT, \n",
      "\thotel_desc VARCHAR, \n",
      "\tkey_features JSON, \n",
      "\tusers_category_rating JSON, \n",
      "\tstars FLOAT, \n",
      "\tamenities JSON, \n",
      "\t\"Street\" VARCHAR, \n",
      "\t\"PostalCode\" VARCHAR, \n",
      "\t\"Country\" VARCHAR, \n",
      "\thotel_lat FLOAT, \n",
      "\thotel_lon FLOAT, \n",
      "\turl VARCHAR, \n",
      "\tPRIMARY KEY (hotel_id), \n",
      "\tFOREIGN KEY(city_id) REFERENCES cities (city_id)\n",
      ")\n",
      "\n",
      "\n",
      "2024-10-15 01:21:07,505 INFO sqlalchemy.engine.Engine [no key 0.00071s] {}\n",
      "2024-10-15 01:21:07,527 INFO sqlalchemy.engine.Engine COMMIT\n"
     ]
    }
   ],
   "source": [
    "\n",
    "metadata = MetaData()\n",
    "\n",
    "# Define the cities table\n",
    "cities = Table('cities', metadata,\n",
    "    Column('city_id', Integer, primary_key=True, autoincrement=True),\n",
    "    Column('city', String),\n",
    "    Column('lat', Float),\n",
    "    Column('lon', Float),\n",
    "    Column('weather_rating', Float),\n",
    "    Column('temp', Float),\n",
    "    Column('feels_like', Float),\n",
    "    Column('humidity', Float),\n",
    "    Column('clouds', Float),\n",
    "    Column('wind_speed', Float),\n",
    "    Column('wind_deg', Float),\n",
    "    Column('wind_gust', Float),\n",
    "    Column('visibility', Float)\n",
    ")\n",
    "\n",
    "# Define the hotels table\n",
    "hotels = Table('hotels', metadata,\n",
    "    Column('hotel_id', Integer, primary_key=True, autoincrement=True),\n",
    "    Column('hotel_name', String),\n",
    "    Column('city_id', Integer, ForeignKey('cities.city_id')),\n",
    "    Column('address', String),\n",
    "    Column('users_global_rating', Float),\n",
    "    Column('hotel_desc', String),\n",
    "    Column('key_features', JSON),\n",
    "    Column('users_category_rating', JSON),\n",
    "    Column('stars', Float),\n",
    "    Column('amenities', JSON),\n",
    "    Column('Street', String),\n",
    "    Column('PostalCode', String),\n",
    "    Column('Country', String),\n",
    "    Column('hotel_lat', Float),\n",
    "    Column('hotel_lon', Float),\n",
    "    Column('url', String)\n",
    ")\n",
    "\n",
    "# Create all tables in the database\n",
    "metadata.create_all(engine)\n",
    "\n"
   ]
  },
  {
   "cell_type": "code",
   "execution_count": 545,
   "metadata": {},
   "outputs": [],
   "source": [
    "# Create a DataFrame for the cities table\n",
    "cities_df = df_final[['city_id','city', 'lat', 'lon', 'weather_rating', 'temp', 'feels_like', 'humidity', 'clouds', 'wind_speed','wind_deg','wind_gust','visibility']].drop_duplicates()\n"
   ]
  },
  {
   "cell_type": "code",
   "execution_count": 546,
   "metadata": {},
   "outputs": [
    {
     "name": "stdout",
     "output_type": "stream",
     "text": [
      "2024-10-15 01:21:23,167 INFO sqlalchemy.engine.Engine BEGIN (implicit)\n",
      "2024-10-15 01:21:23,168 INFO sqlalchemy.engine.Engine SELECT pg_catalog.pg_class.relname \n",
      "FROM pg_catalog.pg_class JOIN pg_catalog.pg_namespace ON pg_catalog.pg_namespace.oid = pg_catalog.pg_class.relnamespace \n",
      "WHERE pg_catalog.pg_class.relname = %(table_name)s AND pg_catalog.pg_class.relkind = ANY (ARRAY[%(param_1)s, %(param_2)s, %(param_3)s, %(param_4)s, %(param_5)s]) AND pg_catalog.pg_table_is_visible(pg_catalog.pg_class.oid) AND pg_catalog.pg_namespace.nspname != %(nspname_1)s\n",
      "2024-10-15 01:21:23,168 INFO sqlalchemy.engine.Engine [cached since 2850s ago] {'table_name': 'cities', 'param_1': 'r', 'param_2': 'p', 'param_3': 'f', 'param_4': 'v', 'param_5': 'm', 'nspname_1': 'pg_catalog'}\n",
      "2024-10-15 01:21:23,195 INFO sqlalchemy.engine.Engine INSERT INTO cities (city_id, city, lat, lon, weather_rating, temp, feels_like, humidity, clouds, wind_speed, wind_deg, wind_gust, visibility) VALUES (%(city_id__0)s, %(city__0)s, %(lat__0)s, %(lon__0)s, %(weather_rating__0)s, %(temp__0)s, %(feels_lik ... 7647 characters truncated ... __34)s, %(clouds__34)s, %(wind_speed__34)s, %(wind_deg__34)s, %(wind_gust__34)s, %(visibility__34)s)\n",
      "2024-10-15 01:21:23,197 INFO sqlalchemy.engine.Engine [generated in 0.00025s (insertmanyvalues)] {'feels_like__0': 13.295, 'wind_deg__0': 130.0, 'visibility__0': 10000.0, 'wind_gust__0': 5.23, 'city_id__0': 0, 'clouds__0': 99.0, 'weather_rating__0': 7.390001717726925, 'wind_speed__0': 3.705, 'lat__0': 48.6359541, 'lon__0': -1.511459955, 'city__0': 'Mont Saint Michel', 'humidity__0': 85.5, 'temp__0': 13.665, 'feels_like__1': 14.495000000000001, 'wind_deg__1': 140.5, 'visibility__1': 10000.0, 'wind_gust__1': 5.41, 'city_id__1': 1, 'clouds__1': 100.0, 'weather_rating__1': 7.346130133255308, 'wind_speed__1': 4.02, 'lat__1': 48.649518, 'lon__1': -2.0260409, 'city__1': 'St Malo', 'humidity__1': 80.5, 'temp__1': 14.825, 'feels_like__2': 12.79, 'wind_deg__2': 145.0, 'visibility__2': 10000.0, 'wind_gust__2': 5.0600000000000005, 'city_id__2': 2, 'clouds__2': 100.0, 'weather_rating__2': 7.473986849928006, 'wind_speed__2': 3.3200000000000003, 'lat__2': 49.2764624, 'lon__2': -0.7024737999999999, 'city__2': 'Bayeux', 'humidity__2': 83.0, 'temp__2': 13.455, 'feels_like__3': 13.795000000000002, 'wind_deg__3': 130.0, 'visibility__3': 10000.0, 'wind_gust__3': 6.425000000000001, 'city_id__3': 3, 'clouds__3': 100.0, 'weather_rating__3': 7.204043032308721, 'wind_speed__3': 4.305, 'lat__3': 49.4938975, 'lon__3': 0.10797319999999999, 'city__3': 'Le Havre' ... 355 parameters truncated ... 'visibility__31': 10000.0, 'wind_gust__31': 4.655, 'city_id__31': 31, 'clouds__31': 94.5, 'weather_rating__31': 5.430784295110237, 'wind_speed__31': 3.13, 'lat__31': 44.0175835, 'lon__31': 1.3549991, 'city__31': 'Montauban', 'humidity__31': 70.0, 'temp__31': 18.165, 'feels_like__32': 18.96, 'wind_deg__32': 135.5, 'visibility__32': 10000.0, 'wind_gust__32': 4.300000000000001, 'city_id__32': 32, 'clouds__32': 96.0, 'weather_rating__32': 5.6290691582908705, 'wind_speed__32': 2.855, 'lat__32': 43.4832523, 'lon__32': -1.5592776, 'city__32': 'Biarritz', 'humidity__32': 77.0, 'temp__32': 18.855, 'feels_like__33': 18.91, 'wind_deg__33': 136.0, 'visibility__33': 10000.0, 'wind_gust__33': 4.11, 'city_id__33': 33, 'clouds__33': 97.0, 'weather_rating__33': 5.648524153108201, 'wind_speed__33': 2.54, 'lat__33': 43.4945144, 'lon__33': -1.4736657, 'city__33': 'Bayonne', 'humidity__33': 77.0, 'temp__33': 18.705, 'feels_like__34': 17.225, 'wind_deg__34': 130.5, 'visibility__34': 10000.0, 'wind_gust__34': 5.109999999999999, 'city_id__34': 34, 'clouds__34': 67.0, 'weather_rating__34': 5.979860052355859, 'wind_speed__34': 4.220000000000001, 'lat__34': 46.1591126, 'lon__34': -1.1520434, 'city__34': 'La Rochelle', 'humidity__34': 79.5, 'temp__34': 17.235}\n",
      "2024-10-15 01:21:23,224 INFO sqlalchemy.engine.Engine COMMIT\n"
     ]
    },
    {
     "data": {
      "text/plain": [
       "35"
      ]
     },
     "execution_count": 546,
     "metadata": {},
     "output_type": "execute_result"
    }
   ],
   "source": [
    "# Append the DataFrame to the existing table\n",
    "cities_df.to_sql('cities', con=engine, index=False, if_exists='append')"
   ]
  },
  {
   "cell_type": "code",
   "execution_count": 547,
   "metadata": {},
   "outputs": [],
   "source": [
    "hotels_df = df_final[['hotel_name','city_id', 'address', 'users_global_rating', 'hotel_desc', 'key_features', 'users_category_rating', 'stars', 'amenities', 'PostalCode','Country','hotel_lat','hotel_lon','url']].copy()\n",
    "hotels_df['hotel_id'] = range(1, len(hotels_df) + 1)"
   ]
  },
  {
   "cell_type": "code",
   "execution_count": 548,
   "metadata": {},
   "outputs": [],
   "source": [
    "hotels_df['key_features'] = hotels_df['key_features'].apply(json.dumps)\n",
    "hotels_df['users_category_rating'] = hotels_df['users_category_rating'].apply(json.dumps)\n",
    "hotels_df['amenities'] = hotels_df['amenities'].apply(json.dumps)\n",
    "\n",
    "hotels_df['users_global_rating'] = hotels_df['users_global_rating'].str.replace(',', '.').astype(float)\n",
    "#hotels_df['hotel_desc'] = hotels_df['hotel_desc'].apply(lambda x: x.encode('utf-8').decode('utf-8'))"
   ]
  },
  {
   "cell_type": "code",
   "execution_count": 549,
   "metadata": {},
   "outputs": [
    {
     "name": "stdout",
     "output_type": "stream",
     "text": [
      "2024-10-15 01:21:36,246 INFO sqlalchemy.engine.Engine BEGIN (implicit)\n",
      "2024-10-15 01:21:36,247 INFO sqlalchemy.engine.Engine SELECT pg_catalog.pg_class.relname \n",
      "FROM pg_catalog.pg_class JOIN pg_catalog.pg_namespace ON pg_catalog.pg_namespace.oid = pg_catalog.pg_class.relnamespace \n",
      "WHERE pg_catalog.pg_class.relname = %(table_name)s AND pg_catalog.pg_class.relkind = ANY (ARRAY[%(param_1)s, %(param_2)s, %(param_3)s, %(param_4)s, %(param_5)s]) AND pg_catalog.pg_table_is_visible(pg_catalog.pg_class.oid) AND pg_catalog.pg_namespace.nspname != %(nspname_1)s\n",
      "2024-10-15 01:21:36,248 INFO sqlalchemy.engine.Engine [cached since 2863s ago] {'table_name': 'hotels', 'param_1': 'r', 'param_2': 'p', 'param_3': 'f', 'param_4': 'v', 'param_5': 'm', 'nspname_1': 'pg_catalog'}\n",
      "2024-10-15 01:21:36,281 INFO sqlalchemy.engine.Engine INSERT INTO hotels (hotel_name, city_id, address, users_global_rating, hotel_desc, key_features, users_category_rating, stars, amenities, \"PostalCode\", \"Country\", hotel_lat, hotel_lon, url, hotel_id) VALUES (%(hotel_name__0)s, %(city_id__0)s, %(addre ... 238902 characters truncated ... e__768)s, %(Country__768)s, %(hotel_lat__768)s, %(hotel_lon__768)s, %(url__768)s, %(hotel_id__768)s)\n",
      "2024-10-15 01:21:36,282 INFO sqlalchemy.engine.Engine [generated in 0.00290s (insertmanyvalues)] {'key_features__0': '[\"Parking priv\\\\u00e9\", \"Chambres familiales\", \"Connexion Wi-Fi gratuite\", \"\\\\u00c9quipements pour les personnes handicap\\\\u00e9es\", \"Chambres non-fumeurs\", \"Petit-d\\\\u00e9jeuner\"]', 'users_category_rating__0': '{\"Personnel\": \"8,5\", \"\\\\u00c9quipements\": \"7,3\", \"Propret\\\\u00e9\": \"7,7\", \"Confort\": \"7,8\", \"Rapport qualit\\\\u00e9/prix\": \"7,4\", \"Situation g\\\\u00e9ographique\": \"9,0\", \"Connexion Wi-Fi gratuite\": \"7,8\"}', 'hotel_lon__0': -1.51010513, 'amenities__0': '{\"Salle de bains\": [\"Papier toilette\", \"Serviettes\", \"Salle de bains privative\", \"Toilettes\", \"Articles de toilette gratuits\", \"S\\\\u00e8che-cheveux\", ... (1289 characters truncated) ...  \"Accessibilit\\\\u00e9\": [\"Toilettes avec barres d\\'appui\", \"Accessible en fauteuil roulant\"], \"Langues parl\\\\u00e9es\": [\"Anglais\", \"Fran\\\\u00e7ais\"]}', 'hotel_desc__0': \"Niché dans un écrin de verdure, à seulement 2 km du Mont-Saint-Michel, Le Saint Aubert vous accueille dans un cadre chaleureux et convivial.\\n\\nCet é ... (475 characters truncated) ... donnent la note de  \\n  pour un séjour à deux. \\n Les distances indiquées dans la description de l'établissement sont calculées avec © OpenStreetMap.\", 'address__0': 'La Caserne, 50170 Le Mont-Saint-Michel, France', 'city_id__0': 0, 'hotel_name__0': 'Le Saint Aubert', 'users_global_rating__0': 7.4, 'stars__0': 3, 'PostalCode__0': '50170', 'hotel_lat__0': 48.61293783, 'url__0': 'https://www.booking.com/hotel/fr/hotel-saint-aubert.fr.html', 'Country__0': 'France', 'hotel_id__0': 1, 'key_features__1': '[\"Parking priv\\\\u00e9\", \"Chambres familiales\", \"Restaurant\", \"\\\\u00c9quipements pour les personnes handicap\\\\u00e9es\", \"Chambres non-fumeurs\", \"R\\\\u00e9ception ouverte 24h/24\", \"Plateau/bouilloire dans tous les h\\\\u00e9bergements\", \"Bar\"]', 'users_category_rating__1': '{\"Personnel\": \"8,6\", \"\\\\u00c9quipements\": \"8,1\", \"Propret\\\\u00e9\": \"8,6\", \"Confort\": \"8,6\", \"Rapport qualit\\\\u00e9/prix\": \"7,7\", \"Situation g\\\\u00e9ographique\": \"9,4\"}', 'hotel_lon__1': -1.51054502, 'amenities__1': '{\"Salle de bains\": [\"Papier toilette\", \"Serviettes\", \"Toilettes suppl\\\\u00e9mentaires\", \"Baignoire ou douche\", \"Salle de bains privative\", \"Toilettes ... (2266 characters truncated) ...  avec barres d\\'appui\", \"Accessible en fauteuil roulant\"], \"Langues parl\\\\u00e9es\": [\"Allemand\", \"Anglais\", \"Espagnol\", \"Fran\\\\u00e7ais\", \"Italien\"]}', 'hotel_desc__1': \"Installé dans des espaces verts à seulement 2 km de l'abbaye du Mont-Saint-Michel, le Mercure Mont Saint Michel propose des chambres spacieuses avec  ... (632 characters truncated) ... donnent la note de  \\n  pour un séjour à deux. \\n Les distances indiquées dans la description de l'établissement sont calculées avec © OpenStreetMap.\", 'address__1': 'La Caserne, 50170 Le Mont-Saint-Michel, France', 'city_id__1': 0, 'hotel_name__1': 'Mercure Mont Saint Michel', 'users_global_rating__1': 8.2, 'stars__1': 4, 'PostalCode__1': '50170', 'hotel_lat__1': 48.61424653, 'url__1': 'https://www.booking.com/hotel/fr/mont-saint-michel.fr.html', 'Country__1': 'France', 'hotel_id__1': 2, 'key_features__2': '[\"Parking priv\\\\u00e9\", \"Chambres familiales\", \"Connexion Wi-Fi gratuite\", \"Restaurant\", \"Chambres non-fumeurs\", \"R\\\\u00e9ception ouverte 24h/24\", \"Plateau/bouilloire dans tous les h\\\\u00e9bergements\", \"Bar\", \"Petit-d\\\\u00e9jeuner\"]', 'users_category_rating__2': '{\"Personnel\": \"8,4\", \"\\\\u00c9quipements\": \"7,9\", \"Propret\\\\u00e9\": \"8,2\", \"Confort\": \"8,4\", \"Rapport qualit\\\\u00e9/prix\": \"7,7\", \"Situation g\\\\u00e9ographique\": \"9,7\", \"Connexion Wi-Fi gratuite\": \"8,2\"}', 'hotel_lon__2': -1.51039615, 'amenities__2': '{\"Salle de bains\": [\"Papier toilette\", \"Serviettes\", \"Salle de bains privative\", \"Toilettes\", \"Articles de toilette gratuits\", \"Peignoir\", \"S\\\\u00e8c ... (2138 characters truncated) ... t par les escaliers\", \"\\\\u00c9tages sup\\\\u00e9rieurs accessibles par ascenseur\"], \"Langues parl\\\\u00e9es\": [\"Anglais\", \"Espagnol\", \"Fran\\\\u00e7ais\"]}', 'hotel_desc__2': \"Le Relais Saint Michel vous accueille face à la baie du Mont-Saint-Michel. Les chambres de cet hôtel (à l'exception de la chambre lits jumeaux Saint- ... (962 characters truncated) ... donnent la note de  \\n  pour un séjour à deux. \\n Les distances indiquées dans la description de l'établissement sont calculées avec © OpenStreetMap.\", 'address__2': 'La Caserne, 50170 Le Mont-Saint-Michel, France', 'city_id__2': 0, 'hotel_name__2': 'Le Relais Saint Michel', 'users_global_rating__2': 8.0, 'stars__2': 4, 'PostalCode__2': '50170', 'hotel_lat__2': 48.61758727, 'url__2': 'https://www.booking.com/hotel/fr/le-relais-saint-michel.fr.html', 'Country__2': 'France', 'hotel_id__2': 3, 'key_features__3': '[\"Parking\", \"Chambres familiales\", \"Connexion Wi-Fi gratuite\", \"Restaurant\", \"Chambres non-fumeurs\", \"R\\\\u00e9ception ouverte 24h/24\", \"Petit-d\\\\u00e9jeuner\"]', 'users_category_rating__3': '{\"Personnel\": \"8,0\", \"\\\\u00c9quipements\": \"6,9\", \"Propret\\\\u00e9\": \"7,3\", \"Confort\": \"7,4\", \"Rapport qualit\\\\u00e9/prix\": \"6,4\", \"Situation g\\\\u00e9ographique\": \"9,2\", \"Connexion Wi-Fi gratuite\": \"7,3\"}', 'hotel_lon__3': -1.51053965, 'amenities__3': '{\"Salle de bains\": [\"Papier toilette\", \"Serviettes\", \"Baignoire ou douche\", \"Salle de bains privative\", \"Toilettes\", \"Articles de toilette gratuits\", ... (1051 characters truncated) ... rement non-fumeurs\", \"Chauffage\", \"Chambres familiales\", \"Chambres non-fumeurs\"], \"Langues parl\\\\u00e9es\": [\"Anglais\", \"Espagnol\", \"Fran\\\\u00e7ais\"]}', 'hotel_desc__3': \"Installé dans un bâtiment historique, cet hôtel est idéalement situé au cœur du Mont Saint-Michel. Les chambres de style classique donnent sur la bai ... (802 characters truncated) ... donnent la note de  \\n  pour un séjour à deux. \\n Les distances indiquées dans la description de l'établissement sont calculées avec © OpenStreetMap.\" ... 11435 parameters truncated ... 'PostalCode__765': '17000', 'hotel_lat__765': 46.145995, 'url__765': 'https://www.booking.com/hotel/fr/athome-residence-et-spa.fr.html', 'Country__765': 'France', 'hotel_id__765': 766, 'key_features__766': '[\"Parking priv\\\\u00e9\", \"Chambres familiales\", \"Connexion Wi-Fi gratuite\", \"Chambres non-fumeurs\", \"\\\\u00c9quipements pour les personnes handicap\\\\u00e9es\", \"Service d\\'\\\\u00e9tage\", \"R\\\\u00e9ception ouverte 24h/24\", \"Plateau/bouilloire dans tous les h\\\\u00e9bergements\", \"Bar\"]', 'users_category_rating__766': '{\"Personnel\": \"9,2\", \"\\\\u00c9quipements\": \"7,9\", \"Propret\\\\u00e9\": \"8,5\", \"Confort\": \"8,5\", \"Rapport qualit\\\\u00e9/prix\": \"8,0\", \"Situation g\\\\u00e9ographique\": \"9,4\", \"Connexion Wi-Fi gratuite\": \"8,5\"}', 'hotel_lon__766': -1.15203694, 'amenities__766': '{\"Salle de bains\": [\"Papier toilette\", \"Baignoire ou douche\", \"Salle de bains privative\", \"Toilettes\", \"Articles de toilette gratuits\", \"S\\\\u00e8che- ... (1989 characters truncated) ...  : braille\", \"Toilettes avec barres d\\'appui\", \"Accessible en fauteuil roulant\"], \"Langues parl\\\\u00e9es\": [\"Anglais\", \"Espagnol\", \"Fran\\\\u00e7ais\"]}', 'hotel_desc__766': \"Situé dans le cœur historique de La Rochelle, l’Hôtel François 1er vous accueille dans un bâtiment datant du XVIe siècle, à seulement 5 minutes à pie ... (994 characters truncated) ... donnent la note de  \\n  pour un séjour à deux. \\n Les distances indiquées dans la description de l'établissement sont calculées avec © OpenStreetMap.\", 'address__766': '13-15 Rue Bazoges, 17000 La Rochelle, France', 'city_id__766': 34, 'hotel_name__766': 'Hôtel François 1er', 'users_global_rating__766': 8.1, 'stars__766': 3, 'PostalCode__766': '17000', 'hotel_lat__766': 46.16091143, 'url__766': 'https://www.booking.com/hotel/fr/hotelfrancoiser.fr.html', 'Country__766': 'France', 'hotel_id__766': 767, 'key_features__767': '[\"Piscine ext\\\\u00e9rieure\", \"Parking priv\\\\u00e9\", \"Connexion Wi-Fi gratuite\", \"En bord de plage\", \"Terrasse\", \"Jardin\"]', 'users_category_rating__767': '{\"Personnel\": \"8,4\", \"\\\\u00c9quipements\": \"7,5\", \"Propret\\\\u00e9\": \"8,1\", \"Confort\": \"7,9\", \"Rapport qualit\\\\u00e9/prix\": \"7,8\", \"Situation g\\\\u00e9ographique\": \"8,7\", \"Connexion Wi-Fi gratuite\": \"8,2\"}', 'hotel_lon__767': -1.16616011, 'amenities__767': '{\"Parking\": [\"Un parking priv\\\\u00e9 est disponible sur place (uniquement sur r\\\\u00e9servation) au tarif de \\\\u20ac\\\\u00a07 par jour.\", \"Parking int ... (1259 characters truncated) ... u00e9\", \"Cartes d\\'acc\\\\u00e8s\", \"Cl\\\\u00e9s d\\'acc\\\\u00e8s\", \"S\\\\u00e9curit\\\\u00e9 24h/24\"], \"Langues parl\\\\u00e9es\": [\"Anglais\", \"Fran\\\\u00e7ais\"]}', 'hotel_desc__767': \"La Résidence New Rochelle est située près du port de plaisance de La Rochelle. Une piscine extérieure et un jardin sont disponibles. La plage se trou ... (852 characters truncated) ... donnent la note de  \\n  pour un séjour à deux. \\n Les distances indiquées dans la description de l'établissement sont calculées avec © OpenStreetMap.\", 'address__767': '17 Avenue du Lazaret, 17000 La Rochelle, France', 'city_id__767': 34, 'hotel_name__767': 'Résidence New Rochelle', 'users_global_rating__767': 7.7, 'stars__767': 3, 'PostalCode__767': '17000', 'hotel_lat__767': 46.14068996, 'url__767': 'https://www.booking.com/hotel/fr/residence-du-port.fr.html', 'Country__767': 'France', 'hotel_id__767': 768, 'key_features__768': '[\"Parking gratuit\", \"Chambres familiales\", \"Connexion Wi-Fi gratuite\", \"Chambres non-fumeurs\", \"\\\\u00c9quipements pour les personnes handicap\\\\u00e9es\", \"Terrasse\", \"Jardin\", \"Plateau/bouilloire dans tous les h\\\\u00e9bergements\"]', 'users_category_rating__768': '{\"Personnel\": \"8,8\", \"\\\\u00c9quipements\": \"7,9\", \"Propret\\\\u00e9\": \"8,4\", \"Confort\": \"8,2\", \"Rapport qualit\\\\u00e9/prix\": \"8,0\", \"Situation g\\\\u00e9ographique\": \"7,4\", \"Connexion Wi-Fi gratuite\": \"7,6\"}', 'hotel_lon__768': -1.12158448, 'amenities__768': '{\"Salle de bains\": [\"Papier toilette\", \"Serviettes\", \"Baignoire ou douche\", \"Salle de bains privative\", \"Toilettes\", \"S\\\\u00e8che-cheveux\"], \"Chambre ... (1706 characters truncated) ... fauteuil roulant\", \"\\\\u00c9tages sup\\\\u00e9rieurs accessibles uniquement par les escaliers\"], \"Langues parl\\\\u00e9es\": [\"Anglais\", \"Fran\\\\u00e7ais\"]}', 'hotel_desc__768': \"Situé à La Rochelle, à 2,5\\xa0km du centre ville et à 15\\xa0minutes en voiture du Vieux-Port, l’Hotel Inn Design propose une réception ouverte 24h/24 ... (746 characters truncated) ... 0minutes en voiture. L’aéroport est à 7\\xa0km. \\n Les distances indiquées dans la description de l'établissement sont calculées avec © OpenStreetMap.\", 'address__768': '2 rue Yvonne Salomon, 17000 La Rochelle, France', 'city_id__768': 34, 'hotel_name__768': 'Hotel Inn Design La Rochelle', 'users_global_rating__768': 7.8, 'stars__768': 3, 'PostalCode__768': '17000', 'hotel_lat__768': 46.16975862, 'url__768': 'https://www.booking.com/hotel/fr/inn-design.fr.html', 'Country__768': 'France', 'hotel_id__768': 769}\n",
      "2024-10-15 01:21:36,546 INFO sqlalchemy.engine.Engine COMMIT\n"
     ]
    },
    {
     "data": {
      "text/plain": [
       "769"
      ]
     },
     "execution_count": 549,
     "metadata": {},
     "output_type": "execute_result"
    }
   ],
   "source": [
    "hotels_df.to_sql('hotels', con=engine, index=False, if_exists='append')"
   ]
  }
 ],
 "metadata": {
  "kernelspec": {
   "display_name": "base",
   "language": "python",
   "name": "python3"
  },
  "language_info": {
   "codemirror_mode": {
    "name": "ipython",
    "version": 3
   },
   "file_extension": ".py",
   "mimetype": "text/x-python",
   "name": "python",
   "nbconvert_exporter": "python",
   "pygments_lexer": "ipython3",
   "version": "3.12.4"
  }
 },
 "nbformat": 4,
 "nbformat_minor": 4
}
